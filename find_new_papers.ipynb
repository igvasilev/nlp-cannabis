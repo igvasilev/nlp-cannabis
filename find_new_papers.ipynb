{
 "cells": [
  {
   "cell_type": "code",
   "execution_count": 1,
   "metadata": {},
   "outputs": [],
   "source": [
    "from Bio import Entrez\n",
    "from Bio.Entrez import efetch, esearch \n",
    "import json\n",
    "import yaml"
   ]
  },
  {
   "cell_type": "markdown",
   "metadata": {},
   "source": [
    "# Compile the vocabulary of drug names"
   ]
  },
  {
   "cell_type": "code",
   "execution_count": 2,
   "metadata": {},
   "outputs": [],
   "source": [
    "drug_names_dict = {\n",
    "        'phytocannabinoids': 'phytocannabinoid',\n",
    "        'phytocannabinoid': 'phytocannabinoid',\n",
    "        'cannabis': 'cannabis',\n",
    "        'nabilone': 'nabilone',\n",
    "        'dronabinol': 'dronabinol',\n",
    "\n",
    "        # multi-word names should be fed as early as possible\n",
    "        'cannabidiolic acid': 'CBDA',\n",
    "        'tetrahydrocannabinolic acid': 'THCA',\n",
    "        'cannabinolic acid': 'THCA',\n",
    "        'tetrahydrocannabinnol': 'THCA',\n",
    "\n",
    "        'cannabidiol': 'CBD',\n",
    "        'cannabinoid': 'CBD',\n",
    "        'cannabinoids': 'cannabinoid',\n",
    "\n",
    "        'cannabinol': 'CBN',\n",
    "        'tetrahydrocannabinol': 'THC',\n",
    "        'deltatetrahydrocannabinol': 'THC',\n",
    "        'carboxytetrahydrocannabinol': 'THC',\n",
    "\n",
    "        'cannabivarin': 'CBV',\n",
    "        'tetrahydrocannabivarin': 'THCV',\n",
    "        'cannabidivarin': 'CBDV',\n",
    "\n",
    "        'cannabigerol monomethyl ether': 'CBGM',\n",
    "        'cannabigerol': 'CBG',\n",
    "\n",
    "        'cannabigerovarin': 'CBGV',\n",
    "        'cannabichromevarin': 'CBCV',\n",
    "        'cannabielsoin': 'CBE',\n",
    "        'cannabicitran': 'CBT',\n",
    "        'tetrahydrocannabiphorol': 'THCP',\n",
    "        'tetrahydrocannabiorcol': 'THCC',\n",
    "        'cannabicyclol': 'CBL',\n",
    "        'cannabichromene': 'CBC',\n",
    "        'epoxyhexahydrocannabinol': 'EHHC',\n",
    "        'cannabimovone': 'CBM',\n",
    "        'cannabidiphorol': 'CBDP',\n",
    "        'cannabicyclohexanol': 'cannabicyclohexanol'\n",
    "}"
   ]
  },
  {
   "cell_type": "code",
   "execution_count": 3,
   "metadata": {},
   "outputs": [],
   "source": [
    "with open('../world/drugs.yaml', 'r', encoding='utf-8') as f:\n",
    "    drugs_full_dict = yaml.safe_load(f)"
   ]
  },
  {
   "cell_type": "code",
   "execution_count": 171,
   "metadata": {},
   "outputs": [],
   "source": [
    "drugs_full_confident_list = set(drugs_full_dict.keys()).union({vv for v in drugs_full_dict.values() for vv in v})\n",
    "drugs_full_confident_list = {v.lower() for v in drugs_full_confident_list}\n",
    "len(drugs_full_confident_list)\n",
    "assert 'cannabis' not in drugs_full_confident_list"
   ]
  },
  {
   "cell_type": "code",
   "execution_count": 4,
   "metadata": {},
   "outputs": [
    {
     "name": "stdout",
     "output_type": "stream",
     "text": [
      "169\n"
     ]
    }
   ],
   "source": [
    "all_keywords = set(drug_names_dict.keys()).union(set(drug_names_dict.values())).union(set(drugs_full_dict.keys()))\n",
    "for v in drugs_full_dict.values():\n",
    "    assert (isinstance(v, list)), v\n",
    "    all_keywords.update(v)\n",
    "    \n",
    "print(len(all_keywords))"
   ]
  },
  {
   "cell_type": "markdown",
   "metadata": {},
   "source": [
    "## Is the coverage wide enough?"
   ]
  },
  {
   "cell_type": "markdown",
   "metadata": {},
   "source": [
    "### Do we at least cover the original \"golden\" training set?"
   ]
  },
  {
   "cell_type": "markdown",
   "metadata": {},
   "source": [
    "Look at the original labelled data"
   ]
  },
  {
   "cell_type": "code",
   "execution_count": 5,
   "metadata": {},
   "outputs": [],
   "source": [
    "import pandas as pd\n",
    "df600 = pd.read_excel('../../data/export-26-10-20.xlsx', engine='openpyxl')"
   ]
  },
  {
   "cell_type": "code",
   "execution_count": 6,
   "metadata": {},
   "outputs": [],
   "source": [
    "from collections import Counter\n",
    "kw_count = Counter()\n",
    "\n",
    "for i, row in df600.iterrows():\n",
    "    haystack = ' {} \\n {} '.format(row['Abstract'], df600['Article Name']).lower()\n",
    "    matched = [kw for kw in all_keywords if f' {kw.lower()} ' in haystack]\n",
    "    kw_count.update(matched)\n",
    "    if not matched:\n",
    "        print(row.PMID)"
   ]
  },
  {
   "cell_type": "code",
   "execution_count": 7,
   "metadata": {},
   "outputs": [
    {
     "data": {
      "text/plain": [
       "[('cannabis', 614),\n",
       " ('THC', 614),\n",
       " ('cannabidiol', 614),\n",
       " ('CBD', 292),\n",
       " ('cannabinoid', 220),\n",
       " ('cannabinoids', 160),\n",
       " ('phytocannabinoid', 49),\n",
       " ('tetrahydrocannabinol', 34),\n",
       " ('Tetrahydrocannabinol', 34),\n",
       " ('phytocannabinoids', 29)]"
      ]
     },
     "execution_count": 7,
     "metadata": {},
     "output_type": "execute_result"
    }
   ],
   "source": [
    "kw_count.most_common(10)"
   ]
  },
  {
   "cell_type": "markdown",
   "metadata": {},
   "source": [
    "### How well do we cover the current database?"
   ]
  },
  {
   "cell_type": "code",
   "execution_count": 8,
   "metadata": {},
   "outputs": [],
   "source": [
    "pd.options.display.max_rows = 200\n",
    "pd.options.display.max_columns = 50"
   ]
  },
  {
   "cell_type": "markdown",
   "metadata": {},
   "source": [
    "Look at the lastly exported data before the system was frozen"
   ]
  },
  {
   "cell_type": "code",
   "execution_count": 9,
   "metadata": {},
   "outputs": [
    {
     "name": "stdout",
     "output_type": "stream",
     "text": [
      "(6773, 26)\n",
      "3004\n"
     ]
    }
   ],
   "source": [
    "df_export = pd.read_csv('../../data/export-2.csv')\n",
    "print(df_export.shape)\n",
    "print(df_export.PMID.nunique())"
   ]
  },
  {
   "cell_type": "code",
   "execution_count": 10,
   "metadata": {},
   "outputs": [
    {
     "data": {
      "text/html": [
       "<div>\n",
       "<style scoped>\n",
       "    .dataframe tbody tr th:only-of-type {\n",
       "        vertical-align: middle;\n",
       "    }\n",
       "\n",
       "    .dataframe tbody tr th {\n",
       "        vertical-align: top;\n",
       "    }\n",
       "\n",
       "    .dataframe thead th {\n",
       "        text-align: right;\n",
       "    }\n",
       "</style>\n",
       "<table border=\"1\" class=\"dataframe\">\n",
       "  <thead>\n",
       "    <tr style=\"text-align: right;\">\n",
       "      <th></th>\n",
       "      <th>Article Name</th>\n",
       "      <th>PMID</th>\n",
       "      <th>Keywords</th>\n",
       "      <th>Date of Publication</th>\n",
       "      <th>Abstract</th>\n",
       "      <th>Journal</th>\n",
       "      <th>Research Model</th>\n",
       "      <th>Indication</th>\n",
       "      <th>MESH</th>\n",
       "      <th>Compound</th>\n",
       "      <th>Drug</th>\n",
       "      <th>Effect</th>\n",
       "      <th>Route of Administration</th>\n",
       "      <th>Dose</th>\n",
       "      <th>Regimen</th>\n",
       "      <th>Side Effects</th>\n",
       "      <th>Minimum Age</th>\n",
       "      <th>Maximum Age</th>\n",
       "      <th>Gender</th>\n",
       "      <th>Ethnicity</th>\n",
       "      <th>Number of Patients</th>\n",
       "      <th>Type of Clinical Trial</th>\n",
       "      <th>Comorbidity</th>\n",
       "      <th>Drug Given in Combination</th>\n",
       "      <th>Cell Line</th>\n",
       "      <th>Animal</th>\n",
       "    </tr>\n",
       "  </thead>\n",
       "  <tbody>\n",
       "    <tr>\n",
       "      <th>2316</th>\n",
       "      <td>[!] Vaping Synthetic Cannabinoids: A Novel Pre...</td>\n",
       "      <td>28469427</td>\n",
       "      <td>Animal models; e-cigarettes; synthetic cannabi...</td>\n",
       "      <td>2017</td>\n",
       "      <td>Smoking is the most common route of administra...</td>\n",
       "      <td>Substance abuse : research and treatment</td>\n",
       "      <td>NaN</td>\n",
       "      <td>hypothermia</td>\n",
       "      <td>NaN</td>\n",
       "      <td>cannabis</td>\n",
       "      <td>NaN</td>\n",
       "      <td>NONE</td>\n",
       "      <td>NaN</td>\n",
       "      <td>NaN</td>\n",
       "      <td>NaN</td>\n",
       "      <td>NaN</td>\n",
       "      <td>NaN</td>\n",
       "      <td>NaN</td>\n",
       "      <td>NaN</td>\n",
       "      <td>NaN</td>\n",
       "      <td>NaN</td>\n",
       "      <td>NaN</td>\n",
       "      <td>NaN</td>\n",
       "      <td>NaN</td>\n",
       "      <td>NaN</td>\n",
       "      <td>NaN</td>\n",
       "    </tr>\n",
       "    <tr>\n",
       "      <th>4789</th>\n",
       "      <td>[!] Effect of delta9-tetrahydrocannabinol, a c...</td>\n",
       "      <td>19068079</td>\n",
       "      <td>NaN</td>\n",
       "      <td>2009</td>\n",
       "      <td>OBJECTIVE. Transient lower oesophageal sphinct...</td>\n",
       "      <td>British journal of pharmacology</td>\n",
       "      <td>NaN</td>\n",
       "      <td>hypotension  tachycardia</td>\n",
       "      <td>NaN</td>\n",
       "      <td>THC</td>\n",
       "      <td>NaN</td>\n",
       "      <td>positive</td>\n",
       "      <td>NaN</td>\n",
       "      <td>NaN</td>\n",
       "      <td>NaN</td>\n",
       "      <td>NaN</td>\n",
       "      <td>NaN</td>\n",
       "      <td>NaN</td>\n",
       "      <td>NaN</td>\n",
       "      <td>NaN</td>\n",
       "      <td>NaN</td>\n",
       "      <td>NaN</td>\n",
       "      <td>NaN</td>\n",
       "      <td>NaN</td>\n",
       "      <td>NaN</td>\n",
       "      <td>NaN</td>\n",
       "    </tr>\n",
       "    <tr>\n",
       "      <th>3910</th>\n",
       "      <td>[!] Respiratory depression following an accide...</td>\n",
       "      <td>31767538</td>\n",
       "      <td>NaN</td>\n",
       "      <td>2020</td>\n",
       "      <td>To report a case of accidental cannabidiol (CB...</td>\n",
       "      <td>Journal of the American Pharmacists Associatio...</td>\n",
       "      <td>NaN</td>\n",
       "      <td>Respiratory depression</td>\n",
       "      <td>NaN</td>\n",
       "      <td>THC</td>\n",
       "      <td>NaN</td>\n",
       "      <td>negative</td>\n",
       "      <td>NaN</td>\n",
       "      <td>NaN</td>\n",
       "      <td>NaN</td>\n",
       "      <td>NaN</td>\n",
       "      <td>NaN</td>\n",
       "      <td>NaN</td>\n",
       "      <td>NaN</td>\n",
       "      <td>NaN</td>\n",
       "      <td>NaN</td>\n",
       "      <td>NaN</td>\n",
       "      <td>NaN</td>\n",
       "      <td>NaN</td>\n",
       "      <td>NaN</td>\n",
       "      <td>NaN</td>\n",
       "    </tr>\n",
       "  </tbody>\n",
       "</table>\n",
       "</div>"
      ],
      "text/plain": [
       "                                           Article Name      PMID  \\\n",
       "2316  [!] Vaping Synthetic Cannabinoids: A Novel Pre...  28469427   \n",
       "4789  [!] Effect of delta9-tetrahydrocannabinol, a c...  19068079   \n",
       "3910  [!] Respiratory depression following an accide...  31767538   \n",
       "\n",
       "                                               Keywords  Date of Publication  \\\n",
       "2316  Animal models; e-cigarettes; synthetic cannabi...                 2017   \n",
       "4789                                                NaN                 2009   \n",
       "3910                                                NaN                 2020   \n",
       "\n",
       "                                               Abstract  \\\n",
       "2316  Smoking is the most common route of administra...   \n",
       "4789  OBJECTIVE. Transient lower oesophageal sphinct...   \n",
       "3910  To report a case of accidental cannabidiol (CB...   \n",
       "\n",
       "                                                Journal Research Model  \\\n",
       "2316           Substance abuse : research and treatment            NaN   \n",
       "4789                    British journal of pharmacology            NaN   \n",
       "3910  Journal of the American Pharmacists Associatio...            NaN   \n",
       "\n",
       "                    Indication  MESH  Compound Drug    Effect  \\\n",
       "2316               hypothermia   NaN  cannabis  NaN      NONE   \n",
       "4789  hypotension  tachycardia   NaN       THC  NaN  positive   \n",
       "3910    Respiratory depression   NaN       THC  NaN  negative   \n",
       "\n",
       "     Route of Administration Dose Regimen Side Effects  Minimum Age  \\\n",
       "2316                     NaN  NaN     NaN          NaN          NaN   \n",
       "4789                     NaN  NaN     NaN          NaN          NaN   \n",
       "3910                     NaN  NaN     NaN          NaN          NaN   \n",
       "\n",
       "      Maximum Age Gender Ethnicity  Number of Patients Type of Clinical Trial  \\\n",
       "2316          NaN    NaN       NaN                 NaN                    NaN   \n",
       "4789          NaN    NaN       NaN                 NaN                    NaN   \n",
       "3910          NaN    NaN       NaN                 NaN                    NaN   \n",
       "\n",
       "     Comorbidity Drug Given in Combination Cell Line Animal  \n",
       "2316         NaN                       NaN       NaN    NaN  \n",
       "4789         NaN                       NaN       NaN    NaN  \n",
       "3910         NaN                       NaN       NaN    NaN  "
      ]
     },
     "execution_count": 10,
     "metadata": {},
     "output_type": "execute_result"
    }
   ],
   "source": [
    "df_export.sample(3)"
   ]
  },
  {
   "cell_type": "code",
   "execution_count": 11,
   "metadata": {},
   "outputs": [
    {
     "data": {
      "text/plain": [
       "True     6145\n",
       "False     628\n",
       "Name: Article Name, dtype: int64"
      ]
     },
     "execution_count": 11,
     "metadata": {},
     "output_type": "execute_result"
    }
   ],
   "source": [
    "df_export['Article Name'].str.contains('\\[!\\]').value_counts()"
   ]
  },
  {
   "cell_type": "code",
   "execution_count": 12,
   "metadata": {},
   "outputs": [],
   "source": [
    "kw_count = Counter()\n",
    "\n",
    "for i, row in df_export.iterrows():\n",
    "    haystack = ' {} \\n {} '.format(row['Abstract'], df600['Article Name']).lower()\n",
    "    matched = [kw for kw in all_keywords if f' {kw.lower()} ' in haystack]\n",
    "    kw_count.update(matched)\n",
    "    if not matched:\n",
    "        print(row.PMID)"
   ]
  },
  {
   "cell_type": "code",
   "execution_count": 13,
   "metadata": {},
   "outputs": [
    {
     "data": {
      "text/plain": [
       "[('cannabis', 6773),\n",
       " ('THC', 6773),\n",
       " ('cannabidiol', 6773),\n",
       " ('cannabinoid', 2338),\n",
       " ('cannabinoids', 1691),\n",
       " ('CBD', 1448),\n",
       " ('tetrahydrocannabinol', 702),\n",
       " ('Tetrahydrocannabinol', 702),\n",
       " ('phytocannabinoids', 250),\n",
       " ('phytocannabinoid', 232)]"
      ]
     },
     "execution_count": 13,
     "metadata": {},
     "output_type": "execute_result"
    }
   ],
   "source": [
    "kw_count.most_common(10)"
   ]
  },
  {
   "cell_type": "markdown",
   "metadata": {},
   "source": [
    "# Getting new papers"
   ]
  },
  {
   "cell_type": "markdown",
   "metadata": {},
   "source": [
    "http://www.ncbi.nlm.nih.gov/books/NBK25499/#chapter4.ESearch"
   ]
  },
  {
   "cell_type": "code",
   "execution_count": 14,
   "metadata": {},
   "outputs": [],
   "source": [
    "BUFFER_SIZE = 100_000\n",
    "Entrez.email = 'dale.david@mail.ru'"
   ]
  },
  {
   "cell_type": "code",
   "execution_count": 15,
   "metadata": {},
   "outputs": [],
   "source": [
    "def get_abstracts(start, term, buffer_size=BUFFER_SIZE):\n",
    "    handle_one = Entrez.esearch(db=\"pubmed\", term=term, retmode=\"xml\", retstart=start, retmax=buffer_size)\n",
    "    record = Entrez.read(handle_one) \n",
    "    if 'WarningList' in record and 'QuotedPhraseNotFound' in record['WarningList']:\n",
    "        idlist = []\n",
    "        query_length = 0\n",
    "    else:\n",
    "        idlist = record[\"IdList\"]\n",
    "        query_length = record['Count']\n",
    "        \n",
    "    return idlist, query_length"
   ]
  },
  {
   "cell_type": "code",
   "execution_count": 16,
   "metadata": {},
   "outputs": [],
   "source": [
    "keywords = all_keywords\n",
    "search_filter = '[Title/Abstract]'\n",
    "# filter out reviews, as Dmitry suggested\n",
    "search_filter = '[Title/Abstract] AND (Journal Article[pt] OR Randomized Controlled Trial[pt] OR Pragmatic Clinical Trial[pt] OR Controlled Clinical Trial[pt] OR Clinical Trial, Phase IV[pt] OR Clinical Trial, Phase III[pt] OR Clinical Trial, Phase II[pt] OR Clinical Trial, Phase I[pt] OR Clinical Trial[pt] OR Clinical Study[pt] OR Case Reports[pt] OR Adaptive Clinical Trial[pt]) NOT (Review[pt] OR Systematic Review[pt] OR Meta-Analysis[pt])'"
   ]
  },
  {
   "cell_type": "code",
   "execution_count": 17,
   "metadata": {},
   "outputs": [],
   "source": [
    "from tqdm.auto import tqdm, trange"
   ]
  },
  {
   "cell_type": "code",
   "execution_count": 18,
   "metadata": {},
   "outputs": [],
   "source": [
    "#keyword = 'cannabinoid'\n",
    "#search_filter = '[Title/Abstract]'"
   ]
  },
  {
   "cell_type": "markdown",
   "metadata": {},
   "source": [
    "The loop takes about 4 minutes"
   ]
  },
  {
   "cell_type": "code",
   "execution_count": 19,
   "metadata": {
    "scrolled": true
   },
   "outputs": [
    {
     "data": {
      "application/vnd.jupyter.widget-view+json": {
       "model_id": "7891ebd6bb8b405782b14b89e463ba7c",
       "version_major": 2,
       "version_minor": 0
      },
      "text/plain": [
       "HBox(children=(FloatProgress(value=0.0, max=169.0), HTML(value='')))"
      ]
     },
     "metadata": {},
     "output_type": "display_data"
    },
    {
     "name": "stdout",
     "output_type": "stream",
     "text": [
      "THC-C4\t0\n",
      "cannabicyclol\t23\n",
      "Cannabichromevarin\t1\n",
      "tetrahydrocannabinol\t6614\n",
      "CBND-C3\t0\n",
      "CBN-C2\t0\n",
      "Tetrahydrocannabinolic Acid\t188\n",
      "cannabinoid\t13730\n",
      "Delta-9-tetrahydrocannabivarin\t26\n",
      "10-Ethoxy-9-hydroxy-delta-6a-tetrahydrocannabinol\t0\n",
      "8,9-Dihydroxy-delta-6a-tetrahydrocannabinol\t0\n",
      "cannabichromene\t112\n",
      "CBLA\t125\n",
      "Cannabivarin\t7\n",
      "Cannabicyclolic acid\t4\n",
      "Cannabitriolvarin\t0\n",
      "Cannabiglendol\t0\n",
      "CBNM\t4\n",
      "CBG\t1561\n",
      "cannabinol\t606\n",
      "THCA-C1\t0\n",
      "cannabidivarin\t61\n",
      "CBDVA\t6\n",
      "Cannabidiorcol\t1\n",
      "CBN-C4\t0\n",
      "Cannabidiol monomethyl\t0\n",
      "Delta-8-tetrahydrocannabinolic acid\t0\n",
      "dronabinol\t226\n",
      "CBNA-C5 A\t0\n",
      "cannabicitran\t2\n",
      "CBDV\t52\n",
      "cis-THC\t3\n",
      "cannabivarin\t7\n",
      "triOH-THC\t0\n",
      "CBD-C4\t0\n",
      "phytocannabinoid\t284\n",
      "cannabigerol monomethyl ether\t0\n",
      "tetrahydrocannabivarin\t83\n",
      "THCVA\t3\n",
      "CBN-C3\t0\n",
      "Tetrahydrocannabivarin\t83\n",
      "Dehydrocannabifuran\t1\n",
      "Cannabinol-C4\t0\n",
      "Cannabidiol-C4\t1\n",
      "tetrahydrocannabiorcol\t4\n",
      "CBGA\t52\n",
      "CBDM\t33\n",
      "cannabielsoin\t9\n",
      "Cannabichromene\t112\n",
      "Cannabinovarin\t0\n",
      "CBEA-B\t0\n",
      "cannabis\t16031\n",
      "Cannabinodivarin\t0\n",
      "carboxytetrahydrocannabinol\t8\n",
      "THCC\t16\n",
      "CBR\t1588\n",
      "Cannabifuran\t0\n",
      "THC-V\t1\n",
      "Cannabidivarinic acid\t13\n",
      "Cannabinodiol-C3\t0\n",
      "CBEA-A\t0\n",
      "CBN\t582\n",
      "CBCVA\t1\n",
      "Δ8-THCA\t1\n",
      "Cannabinolic acid\t10\n",
      "Cannabiorcool\t0\n",
      "Cannabiripsol\t2\n",
      "CBE\t1212\n",
      "D9-THCV\t0\n",
      "cannabigerol\t178\n",
      "THCA-B\t3\n",
      "Cannabichromenic acid\t16\n",
      "tetrahydrocannabinolic acid\t188\n",
      "Cannabigerovarin\t4\n",
      "Cannabinol methylether\t0\n",
      "Cannabidiol-C5\t0\n",
      "CBM\t2492\n",
      "CBT\t9916\n",
      "CBGVA\t3\n",
      "cannabidiphorol\t0\n",
      "D9-THCVA\t0\n",
      "THCP\t14\n",
      "CBL\t3720\n",
      "Delta-9-tetrahydrocannabivarinic acid\t0\n",
      "Cannabigerovarinic acid\t3\n",
      "CBD-C5\t0\n",
      "Delta-8-tetrahydrocannabinol\t178\n",
      "THC\t6959\n",
      "cannabichromevarin\t1\n",
      "Cannabidivarin\t61\n",
      "Delta-9-tetrahydrocannabiorcol\t2\n",
      "Delta-9-cis-tetrahydrocannabinol\t1\n",
      "CBCA\t95\n",
      "Cannabicyclol\t23\n",
      "Delta-9-tetrahydrocannabiorcolic acid\t0\n",
      "tetrahydrocannabiphorol\t2\n",
      "Cannabicyclovarin\t1\n",
      "Cannabigerol\t178\n",
      "tetrahydrocannabinnol\t3\n",
      "Delta-9-tetrahydrocannabinolic acid B\t0\n",
      "CBV\t2499\n",
      "THC-A\t11\n",
      "10-Oxo-delta-6a-tetrahydrocannabinol\t0\n",
      "Cannabielsoin acid A\t0\n",
      "THCV\t71\n",
      "cannabigerovarin\t4\n",
      "Delta-9-tetrahydrocannabinolic acid-C4\t0\n",
      "Cannabigerolic acid\t69\n",
      "Cannabinol-C2\t0\n",
      "CBD\t7072\n",
      "epoxyhexahydrocannabinol\t16\n",
      "THCA-C4\t0\n",
      "Cannabielsoin\t9\n",
      "Cannabielsoin monomethylether\t0\n",
      "CBTV\t7\n",
      "Tryhydroxy-delta-9-tetrahydrocannabinol\t0\n",
      "CBC\t3944\n",
      "DCBF\t10\n",
      "Delta-9-tetrahydrocannabinol-C4\t0\n",
      "CBNA\t17\n",
      "deltatetrahydrocannabinol\t4\n",
      "Cannabinol methylether-C5\t0\n",
      "CBND\t4\n",
      "CBDP\t65\n",
      "CBNM-C5\t0\n",
      "THCA\t349\n",
      "Tetrahydrocannabinol\t6614\n",
      "Cannabichromevarinic acid\t0\n",
      "cannabimovone\t2\n",
      "EHHC\t11\n",
      "Δ8-THC\t69\n",
      "Cannabigerol monomethylether\t0\n",
      "CBLV\t3\n",
      "CBD-V\t0\n",
      "nabilone\t190\n",
      "phytocannabinoids\t279\n",
      "cannabidiol\t2777\n",
      "Cannabielsoic acid B\t0\n",
      "Delta-9-tetrahydrocannabinolic acid A\t24\n",
      "Cannabitriol\t4\n",
      "CBD-C1\t1\n",
      "Cannabinol\t606\n",
      "OH-iso-HHCV\t0\n",
      "Cannabinolic acid-C5 A\t0\n",
      "Cannabichromanon\t0\n",
      "cannabinolic acid\t10\n",
      "Cannabinol-C3\t0\n",
      "CBF\t13764\n",
      "CBVD\t67\n",
      "CBC-V\t0\n",
      "cannabidiolic acid\t147\n",
      "CBGM\t22\n",
      "CBGAM\t0\n",
      "CBNV\t1\n",
      "THC-C1\t0\n",
      "CBCV\t3\n",
      "Cannabinodiol i\t0\n",
      "cannabinoids\t6968\n",
      "CBG-V\t0\n",
      "CBDA\t155\n",
      "CBCF\t7\n",
      "THCA-A\t36\n",
      "OTHC\t2\n",
      "CBGV\t7\n",
      "Cannabidiolic acid\t147\n",
      "Cannabigerolic acid monomethylether\t0\n",
      "CBN-C1\t0\n",
      "CBEM\t7\n",
      "cannabicyclohexanol\t11\n",
      "\n",
      "Wall time: 2min 22s\n"
     ]
    }
   ],
   "source": [
    "%%time\n",
    "\n",
    "key2results = {}\n",
    "\n",
    "for keyword in tqdm(keywords):\n",
    "    list_of_ids = []\n",
    "    start_at = 0\n",
    "    # Iterate the search returning 100000\n",
    "    while True:\n",
    "        ids, length = get_abstracts(start_at, keyword.lower().replace(' ', '+') + search_filter)\n",
    "        list_of_ids.extend(ids)\n",
    "\n",
    "        # Break if less than 100K results were returned \n",
    "        if len(ids) < BUFFER_SIZE:\n",
    "            break\n",
    "        start_at += BUFFER_SIZE\n",
    "    print (keyword + '\\t' + str(len(list_of_ids)))\n",
    "    if len(list_of_ids) != 0: \n",
    "        key2results[keyword] = list_of_ids"
   ]
  },
  {
   "cell_type": "code",
   "execution_count": 20,
   "metadata": {},
   "outputs": [
    {
     "name": "stdout",
     "output_type": "stream",
     "text": [
      "79784\n"
     ]
    }
   ],
   "source": [
    "all_found = {idx for lst in key2results.values() for idx in lst}\n",
    "print(len(all_found))"
   ]
  },
  {
   "cell_type": "markdown",
   "metadata": {},
   "source": [
    "### There were a few papers that we were not able to locate. Why?"
   ]
  },
  {
   "cell_type": "code",
   "execution_count": 21,
   "metadata": {},
   "outputs": [
    {
     "name": "stdout",
     "output_type": "stream",
     "text": [
      "{'7668140', '25537576', '26901342', '32605447', '22716148', '20874519', '21845389', '12412834'}\n"
     ]
    }
   ],
   "source": [
    "print({str(idx) for idx in df600.PMID}.difference(all_found))"
   ]
  },
  {
   "cell_type": "code",
   "execution_count": 22,
   "metadata": {},
   "outputs": [
    {
     "name": "stdout",
     "output_type": "stream",
     "text": [
      "{'31511618', '7668140', '33024079', '31857855', '11208344', '32969022', '32073423', '32906770', '31120281', '17112679', '21845389', '32654974', '25253990', '27302118', '24854631', '32780909', '30071983', '29152433', '30753761', '29557759', '32605447', '23544909', '33217668', '26569549', '20874519', '31634567', '30136546', '12412834', '25537576', '29022873', '18332890', '26901342', '32562120', '32699671', '31934840', '30543310', '31613959', '31168642', '32086163', '22352284', '22716150', '29406477', '32701785', '32341064', '32051101', '24663230', '26856781', '14640935', '32974048', '31196620', '32339005', '6321091', '28102593', '32592183', '32628766', '22716148', '31526646'}\n"
     ]
    }
   ],
   "source": [
    "print({str(idx) for idx in df_export.PMID}.difference(all_found))"
   ]
  },
  {
   "cell_type": "markdown",
   "metadata": {},
   "source": [
    "* 32605447 -> correction to 31109198\n",
    "* 11208344 -> delta-9-etrahydrocannabinol - a typo (it was \"tetra\")\n",
    "* 29022873 -> duplicate of 29481316\n",
    "* 33024079 -> duplicate of 31632740\n",
    "* 33217668 -> Eucannabinolide (Euc) - a novel substance"
   ]
  },
  {
   "cell_type": "code",
   "execution_count": 23,
   "metadata": {},
   "outputs": [],
   "source": [
    "assert '31109198' in all_found  # to this 32605447 was an erratum\n",
    "assert '29481316' in all_found \n",
    "assert '31632740' in all_found "
   ]
  },
  {
   "cell_type": "code",
   "execution_count": 24,
   "metadata": {},
   "outputs": [
    {
     "name": "stdout",
     "output_type": "stream",
     "text": [
      "\n",
      "1. Am J Psychiatry. 2020 Jul 1;177(7):641. doi:\n",
      "10.1176/appi.ajp.2020.18101191correction.\n",
      "\n",
      "Correction to Hurd et al.\n",
      "\n",
      "[No authors listed]\n",
      "\n",
      "Erratum for\n",
      "    Am J Psychiatry. 2019 Nov 1;176(11):911-922.\n",
      "\n",
      "DOI: 10.1176/appi.ajp.2020.18101191correction \n",
      "PMID: 32605447 \n",
      "\n",
      "\n"
     ]
    }
   ],
   "source": [
    "print(efetch(db='pubmed', id=['32605447'], retmode='json', rettype='abstract').read().decode('utf-8'))"
   ]
  },
  {
   "cell_type": "markdown",
   "metadata": {},
   "source": [
    "# Download the abstracts"
   ]
  },
  {
   "cell_type": "code",
   "execution_count": 25,
   "metadata": {},
   "outputs": [
    {
     "name": "stdout",
     "output_type": "stream",
     "text": [
      "\n",
      "1. Med Sci Monit. 2000 Mar-Apr;6(2):386-9.\n",
      "\n",
      "Paroxysmal atrial fibrillation in a young female patient following marijuana\n",
      "intoxication--a case report of possible association.\n",
      "\n",
      "Kosior DA(1), Filipiak KJ, Stolarz P, Opolski G.\n",
      "\n",
      "Author information: \n",
      "(1)Department and Division of Internal Medicine and Cardiology, Medical\n",
      "University, ul. Banacha 1a, 02-097 Warsaw, Poland.\n",
      "\n",
      "Marijuana is one of the most popular drugs legally admitted for general sale in\n",
      "many countries. To consider it safe and unlikely to develop drug dependence is\n",
      "abusive. The use of marijuana as a herbal medication is being widely discussed in\n",
      "literature. The most promising effect of delta-9-etrahydrocannabinol seems to be \n",
      "observed in the case of nausea, following cancer chemotherapy. Despite its\n",
      "positive action on the human organism, marijuana smoking has been shown to exert \n",
      "adverse effects on the cardiovascular system causing well-tolerated tachycardia\n",
      "and/or hypotension. We also observed that marijuana abuse was associated with an \n",
      "increased risk of paroxysmal atrial fibrillation. The report presents a case of\n",
      "young healthy white subject suffering from paroxysmal atrial fibrillation\n",
      "following marijuana intoxication. The abuse of this substance was the most\n",
      "possible and identifiable risk factor for observed paroxysmal atrial\n",
      "fibrillation.\n",
      "\n",
      "\n",
      "PMID: 11208344  [Indexed for MEDLINE]\n",
      "\n",
      "\n"
     ]
    }
   ],
   "source": [
    "print(efetch(db='pubmed', id=['11208344'], retmode='json', rettype='abstract').read().decode('utf-8'))"
   ]
  },
  {
   "cell_type": "code",
   "execution_count": 26,
   "metadata": {},
   "outputs": [
    {
     "name": "stdout",
     "output_type": "stream",
     "text": [
      "C:\\Users\\david\\YandexDisk\\mlwork\\cannabis\\cannabis_system\n"
     ]
    }
   ],
   "source": [
    "import os \n",
    "import sys\n",
    "\n",
    "def add_sys_path(p): \n",
    "    p = os.path.abspath(p)\n",
    "    print(p)\n",
    "    if p not in sys.path:\n",
    "        sys.path.append(p)\n",
    "        \n",
    "add_sys_path('..')"
   ]
  },
  {
   "cell_type": "code",
   "execution_count": 92,
   "metadata": {},
   "outputs": [],
   "source": [
    "import loaders.parsers\n",
    "from importlib import reload\n",
    "reload(loaders.parsers)\n",
    "from loaders.parsers import PubMedXMLParser"
   ]
  },
  {
   "cell_type": "markdown",
   "metadata": {},
   "source": [
    "fetched = efetch(db='pubmed', id=pm_ids[0:10], retmode='xml', rettype='abstract').read() #.decode('utf-8')\n",
    "aa = list(PubMedXMLParser.parse_file(fetched))\n",
    "import xmltodict\n",
    "fff = xmltodict.parse(fetched)\n",
    "a = fff['PubmedArticleSet']['PubmedArticle'][0]\n",
    "a.keys()"
   ]
  },
  {
   "cell_type": "code",
   "execution_count": 45,
   "metadata": {},
   "outputs": [],
   "source": [
    "abstracts = {}"
   ]
  },
  {
   "cell_type": "code",
   "execution_count": 46,
   "metadata": {},
   "outputs": [],
   "source": [
    "pm_ids = sorted(all_found)\n",
    "batch_size = 300"
   ]
  },
  {
   "cell_type": "markdown",
   "metadata": {},
   "source": [
    "And this loop takes about ~~2 hours~~ 20 minutes, shit!"
   ]
  },
  {
   "cell_type": "code",
   "execution_count": 94,
   "metadata": {
    "scrolled": true
   },
   "outputs": [
    {
     "data": {
      "application/vnd.jupyter.widget-view+json": {
       "model_id": "eb5ca8346df34d02a3315e2533f27223",
       "version_major": 2,
       "version_minor": 0
      },
      "text/plain": [
       "HBox(children=(FloatProgress(value=0.0, max=266.0), HTML(value='')))"
      ]
     },
     "metadata": {},
     "output_type": "display_data"
    },
    {
     "name": "stdout",
     "output_type": "stream",
     "text": [
      "284 79066\n"
     ]
    }
   ],
   "source": [
    "for i in trange(0, len(pm_ids), batch_size):\n",
    "    fetched = efetch(db='pubmed', id=pm_ids[i:(i+batch_size)], retmode='xml', rettype='abstract').read() #.decode('utf-8')\n",
    "    aa = list(PubMedXMLParser.parse_file(fetched))\n",
    "    for abstract in aa:\n",
    "        abstracts[abstract['pmid']] = abstract\n",
    "    print(len(aa), len(abstracts), end='\\r')"
   ]
  },
  {
   "cell_type": "markdown",
   "metadata": {},
   "source": [
    "text = efetch(db='pubmed', id=['32387338'], retmode='xml', rettype='abstract').read()\n",
    "list(PubMedXMLParser.parse_file(text))\n",
    "parsed = xmltodict.parse(text)\n",
    "parsed\n",
    "parsed['PubmedArticleSet']['PubmedArticle']['MedlineCitation']['Article']['ArticleDate']"
   ]
  },
  {
   "cell_type": "code",
   "execution_count": 95,
   "metadata": {},
   "outputs": [
    {
     "data": {
      "text/plain": [
       "Counter({dict: 79066})"
      ]
     },
     "execution_count": 95,
     "metadata": {},
     "output_type": "execute_result"
    }
   ],
   "source": [
    "Counter(type(v) for v in abstracts.values())"
   ]
  },
  {
   "cell_type": "code",
   "execution_count": 96,
   "metadata": {},
   "outputs": [],
   "source": [
    "for k, v in abstracts.items():\n",
    "    if isinstance(v, list):\n",
    "        print(k)"
   ]
  },
  {
   "cell_type": "code",
   "execution_count": 97,
   "metadata": {},
   "outputs": [],
   "source": [
    "long_df = pd.DataFrame.from_dict(abstracts).T"
   ]
  },
  {
   "cell_type": "code",
   "execution_count": 98,
   "metadata": {},
   "outputs": [
    {
     "data": {
      "text/plain": [
       "(79066, 11)"
      ]
     },
     "execution_count": 98,
     "metadata": {},
     "output_type": "execute_result"
    }
   ],
   "source": [
    "long_df.shape"
   ]
  },
  {
   "cell_type": "code",
   "execution_count": 99,
   "metadata": {},
   "outputs": [],
   "source": [
    "long_df.to_pickle('../../data/long_df_july.pkl')"
   ]
  },
  {
   "cell_type": "code",
   "execution_count": 100,
   "metadata": {},
   "outputs": [
    {
     "data": {
      "text/plain": [
       "(79066, 11)"
      ]
     },
     "execution_count": 100,
     "metadata": {},
     "output_type": "execute_result"
    }
   ],
   "source": [
    "long_df = pd.read_pickle('../../data/long_df_july.pkl')\n",
    "long_df.shape"
   ]
  },
  {
   "cell_type": "code",
   "execution_count": 101,
   "metadata": {},
   "outputs": [
    {
     "data": {
      "text/html": [
       "<div>\n",
       "<style scoped>\n",
       "    .dataframe tbody tr th:only-of-type {\n",
       "        vertical-align: middle;\n",
       "    }\n",
       "\n",
       "    .dataframe tbody tr th {\n",
       "        vertical-align: top;\n",
       "    }\n",
       "\n",
       "    .dataframe thead th {\n",
       "        text-align: right;\n",
       "    }\n",
       "</style>\n",
       "<table border=\"1\" class=\"dataframe\">\n",
       "  <thead>\n",
       "    <tr style=\"text-align: right;\">\n",
       "      <th></th>\n",
       "      <th>pmid</th>\n",
       "      <th>id</th>\n",
       "      <th>abstract_texts</th>\n",
       "      <th>date</th>\n",
       "      <th>journal_title</th>\n",
       "      <th>title</th>\n",
       "      <th>authors</th>\n",
       "      <th>date_completed</th>\n",
       "      <th>date_revised</th>\n",
       "      <th>date_article</th>\n",
       "      <th>collective_name</th>\n",
       "    </tr>\n",
       "  </thead>\n",
       "  <tbody>\n",
       "    <tr>\n",
       "      <th>29123790</th>\n",
       "      <td>29123790</td>\n",
       "      <td>pubmed_29123790</td>\n",
       "      <td>[{'text': 'Reporting of the analytical and cli...</td>\n",
       "      <td>2016</td>\n",
       "      <td>Acute medicine &amp; surgery</td>\n",
       "      <td>Clinical and toxicological findings of acute i...</td>\n",
       "      <td>[{'last_name': 'Fujita', 'first_name': 'Yuji',...</td>\n",
       "      <td>NaT</td>\n",
       "      <td>2020-09-30</td>\n",
       "      <td>2015-12-28</td>\n",
       "      <td>NaN</td>\n",
       "    </tr>\n",
       "    <tr>\n",
       "      <th>26378734</th>\n",
       "      <td>26378734</td>\n",
       "      <td>pubmed_26378734</td>\n",
       "      <td>[{'text': 'Cognitive behavioural therapy (CBT)...</td>\n",
       "      <td>2015</td>\n",
       "      <td>Journal of affective disorders</td>\n",
       "      <td>Regional homogeneity of spontaneous brain acti...</td>\n",
       "      <td>[{'last_name': 'Yang', 'first_name': 'Xiang-Yu...</td>\n",
       "      <td>2016-06-10</td>\n",
       "      <td>2018-12-02</td>\n",
       "      <td>2015-08-28</td>\n",
       "      <td>NaN</td>\n",
       "    </tr>\n",
       "    <tr>\n",
       "      <th>8886945</th>\n",
       "      <td>8886945</td>\n",
       "      <td>pubmed_8886945</td>\n",
       "      <td>[{'text': 'The associations between early onse...</td>\n",
       "      <td>1996</td>\n",
       "      <td>Journal of abnormal child psychology</td>\n",
       "      <td>The short-term consequences of early onset can...</td>\n",
       "      <td>[{'last_name': 'Fergusson', 'first_name': 'D M...</td>\n",
       "      <td>1997-02-27</td>\n",
       "      <td>2019-12-10</td>\n",
       "      <td>NaT</td>\n",
       "      <td>NaN</td>\n",
       "    </tr>\n",
       "    <tr>\n",
       "      <th>22294831</th>\n",
       "      <td>22294831</td>\n",
       "      <td>pubmed_22294831</td>\n",
       "      <td>[{'text': 'To evaluate the efficacy of intradu...</td>\n",
       "      <td>2012</td>\n",
       "      <td>World journal of gastroenterology</td>\n",
       "      <td>Efficacy of intraductal ultrasonography in the...</td>\n",
       "      <td>[{'last_name': 'Lu', 'first_name': 'Jie', 'ini...</td>\n",
       "      <td>2012-03-09</td>\n",
       "      <td>2019-12-10</td>\n",
       "      <td>NaT</td>\n",
       "      <td>NaN</td>\n",
       "    </tr>\n",
       "    <tr>\n",
       "      <th>26372461</th>\n",
       "      <td>26372461</td>\n",
       "      <td>pubmed_26372461</td>\n",
       "      <td>[{'text': 'The regulation of cerebral blood fl...</td>\n",
       "      <td>2015</td>\n",
       "      <td>PloS one</td>\n",
       "      <td>Primary Somatosensory Cortices Contain Altered...</td>\n",
       "      <td>[{'last_name': 'Hodkinson', 'first_name': 'Dun...</td>\n",
       "      <td>2016-05-31</td>\n",
       "      <td>2018-11-13</td>\n",
       "      <td>2015-09-15</td>\n",
       "      <td>NaN</td>\n",
       "    </tr>\n",
       "    <tr>\n",
       "      <th>22046151</th>\n",
       "      <td>22046151</td>\n",
       "      <td>pubmed_22046151</td>\n",
       "      <td>[{'text': 'The error-related negativity (ERN) ...</td>\n",
       "      <td>2011</td>\n",
       "      <td>Frontiers in behavioral neuroscience</td>\n",
       "      <td>Acute effects of delta-9-tetrahydrocannabinol ...</td>\n",
       "      <td>[{'last_name': 'Spronk', 'first_name': 'Desiré...</td>\n",
       "      <td>2011-11-10</td>\n",
       "      <td>2020-09-29</td>\n",
       "      <td>2011-09-21</td>\n",
       "      <td>NaN</td>\n",
       "    </tr>\n",
       "    <tr>\n",
       "      <th>31099373</th>\n",
       "      <td>31099373</td>\n",
       "      <td>pubmed_31099373</td>\n",
       "      <td>[{'text': 'Antisense oligonucleotides (ASOs) a...</td>\n",
       "      <td>2019</td>\n",
       "      <td>Organic &amp; biomolecular chemistry</td>\n",
       "      <td>Synthesis and biophysical properties of carbam...</td>\n",
       "      <td>[{'last_name': 'Thorpe', 'first_name': 'Camero...</td>\n",
       "      <td>2019-12-20</td>\n",
       "      <td>2019-12-20</td>\n",
       "      <td>NaT</td>\n",
       "      <td>NaN</td>\n",
       "    </tr>\n",
       "    <tr>\n",
       "      <th>6650124</th>\n",
       "      <td>6650124</td>\n",
       "      <td>pubmed_6650124</td>\n",
       "      <td>[{'text': 'The present study addresses the pro...</td>\n",
       "      <td>1983</td>\n",
       "      <td>Acta neurologica Scandinavica</td>\n",
       "      <td>Local blood flow and glucose consumption in th...</td>\n",
       "      <td>[{'last_name': 'Ingvar', 'first_name': 'M', 'i...</td>\n",
       "      <td>1984-01-27</td>\n",
       "      <td>2019-08-14</td>\n",
       "      <td>NaT</td>\n",
       "      <td>NaN</td>\n",
       "    </tr>\n",
       "    <tr>\n",
       "      <th>22445897</th>\n",
       "      <td>22445897</td>\n",
       "      <td>pubmed_22445897</td>\n",
       "      <td>[{'text': 'The enhancement of emotional memory...</td>\n",
       "      <td>2012</td>\n",
       "      <td>Neurobiology of learning and memory</td>\n",
       "      <td>Cannabinoid receptors activation and glucocort...</td>\n",
       "      <td>[{'last_name': 'Ramot', 'first_name': 'Assaf',...</td>\n",
       "      <td>2012-09-17</td>\n",
       "      <td>2021-02-23</td>\n",
       "      <td>2012-03-16</td>\n",
       "      <td>NaN</td>\n",
       "    </tr>\n",
       "    <tr>\n",
       "      <th>29425160</th>\n",
       "      <td>29425160</td>\n",
       "      <td>pubmed_29425160</td>\n",
       "      <td>[{'text': 'Grinding is one of the essential ma...</td>\n",
       "      <td>2018</td>\n",
       "      <td>Materials (Basel, Switzerland)</td>\n",
       "      <td>Elucidating Grinding Mechanism by Theoretical ...</td>\n",
       "      <td>[{'last_name': 'Ullah', 'first_name': 'Amm Sha...</td>\n",
       "      <td>NaT</td>\n",
       "      <td>2020-10-01</td>\n",
       "      <td>2018-02-09</td>\n",
       "      <td>NaN</td>\n",
       "    </tr>\n",
       "  </tbody>\n",
       "</table>\n",
       "</div>"
      ],
      "text/plain": [
       "              pmid               id  \\\n",
       "29123790  29123790  pubmed_29123790   \n",
       "26378734  26378734  pubmed_26378734   \n",
       "8886945    8886945   pubmed_8886945   \n",
       "22294831  22294831  pubmed_22294831   \n",
       "26372461  26372461  pubmed_26372461   \n",
       "22046151  22046151  pubmed_22046151   \n",
       "31099373  31099373  pubmed_31099373   \n",
       "6650124    6650124   pubmed_6650124   \n",
       "22445897  22445897  pubmed_22445897   \n",
       "29425160  29425160  pubmed_29425160   \n",
       "\n",
       "                                             abstract_texts  date  \\\n",
       "29123790  [{'text': 'Reporting of the analytical and cli...  2016   \n",
       "26378734  [{'text': 'Cognitive behavioural therapy (CBT)...  2015   \n",
       "8886945   [{'text': 'The associations between early onse...  1996   \n",
       "22294831  [{'text': 'To evaluate the efficacy of intradu...  2012   \n",
       "26372461  [{'text': 'The regulation of cerebral blood fl...  2015   \n",
       "22046151  [{'text': 'The error-related negativity (ERN) ...  2011   \n",
       "31099373  [{'text': 'Antisense oligonucleotides (ASOs) a...  2019   \n",
       "6650124   [{'text': 'The present study addresses the pro...  1983   \n",
       "22445897  [{'text': 'The enhancement of emotional memory...  2012   \n",
       "29425160  [{'text': 'Grinding is one of the essential ma...  2018   \n",
       "\n",
       "                                 journal_title  \\\n",
       "29123790              Acute medicine & surgery   \n",
       "26378734        Journal of affective disorders   \n",
       "8886945   Journal of abnormal child psychology   \n",
       "22294831     World journal of gastroenterology   \n",
       "26372461                              PloS one   \n",
       "22046151  Frontiers in behavioral neuroscience   \n",
       "31099373      Organic & biomolecular chemistry   \n",
       "6650124          Acta neurologica Scandinavica   \n",
       "22445897   Neurobiology of learning and memory   \n",
       "29425160        Materials (Basel, Switzerland)   \n",
       "\n",
       "                                                      title  \\\n",
       "29123790  Clinical and toxicological findings of acute i...   \n",
       "26378734  Regional homogeneity of spontaneous brain acti...   \n",
       "8886945   The short-term consequences of early onset can...   \n",
       "22294831  Efficacy of intraductal ultrasonography in the...   \n",
       "26372461  Primary Somatosensory Cortices Contain Altered...   \n",
       "22046151  Acute effects of delta-9-tetrahydrocannabinol ...   \n",
       "31099373  Synthesis and biophysical properties of carbam...   \n",
       "6650124   Local blood flow and glucose consumption in th...   \n",
       "22445897  Cannabinoid receptors activation and glucocort...   \n",
       "29425160  Elucidating Grinding Mechanism by Theoretical ...   \n",
       "\n",
       "                                                    authors date_completed  \\\n",
       "29123790  [{'last_name': 'Fujita', 'first_name': 'Yuji',...            NaT   \n",
       "26378734  [{'last_name': 'Yang', 'first_name': 'Xiang-Yu...     2016-06-10   \n",
       "8886945   [{'last_name': 'Fergusson', 'first_name': 'D M...     1997-02-27   \n",
       "22294831  [{'last_name': 'Lu', 'first_name': 'Jie', 'ini...     2012-03-09   \n",
       "26372461  [{'last_name': 'Hodkinson', 'first_name': 'Dun...     2016-05-31   \n",
       "22046151  [{'last_name': 'Spronk', 'first_name': 'Desiré...     2011-11-10   \n",
       "31099373  [{'last_name': 'Thorpe', 'first_name': 'Camero...     2019-12-20   \n",
       "6650124   [{'last_name': 'Ingvar', 'first_name': 'M', 'i...     1984-01-27   \n",
       "22445897  [{'last_name': 'Ramot', 'first_name': 'Assaf',...     2012-09-17   \n",
       "29425160  [{'last_name': 'Ullah', 'first_name': 'Amm Sha...            NaT   \n",
       "\n",
       "         date_revised date_article collective_name  \n",
       "29123790   2020-09-30   2015-12-28             NaN  \n",
       "26378734   2018-12-02   2015-08-28             NaN  \n",
       "8886945    2019-12-10          NaT             NaN  \n",
       "22294831   2019-12-10          NaT             NaN  \n",
       "26372461   2018-11-13   2015-09-15             NaN  \n",
       "22046151   2020-09-29   2011-09-21             NaN  \n",
       "31099373   2019-12-20          NaT             NaN  \n",
       "6650124    2019-08-14          NaT             NaN  \n",
       "22445897   2021-02-23   2012-03-16             NaN  \n",
       "29425160   2020-10-01   2018-02-09             NaN  "
      ]
     },
     "execution_count": 101,
     "metadata": {},
     "output_type": "execute_result"
    }
   ],
   "source": [
    "long_df.sample(10)"
   ]
  },
  {
   "cell_type": "code",
   "execution_count": 102,
   "metadata": {},
   "outputs": [
    {
     "data": {
      "text/plain": [
       "pmid                                                         4401981\n",
       "id                                                    pubmed_4401981\n",
       "abstract_texts                                                   NaN\n",
       "date                                                            1972\n",
       "journal_title               The Journal of pharmacy and pharmacology\n",
       "title              A simple method for the preparation of injecta...\n",
       "authors            [{'last_name': 'Moreton', 'first_name': 'J E',...\n",
       "date_completed                                   1972-07-14 00:00:00\n",
       "date_revised                                     2019-07-10 00:00:00\n",
       "date_article                                                     NaT\n",
       "collective_name                                                  NaN\n",
       "Name: 4401981, dtype: object"
      ]
     },
     "execution_count": 102,
     "metadata": {},
     "output_type": "execute_result"
    }
   ],
   "source": [
    "long_df.loc['4401981']"
   ]
  },
  {
   "cell_type": "code",
   "execution_count": 103,
   "metadata": {},
   "outputs": [
    {
     "name": "stdout",
     "output_type": "stream",
     "text": [
      "3004\n",
      "526\n"
     ]
    }
   ],
   "source": [
    "silver_ids = set(df_export.PMID.astype(str)).union(set(df600.PMID.astype(str)))\n",
    "print(len(silver_ids))\n",
    "golden_ids = set(df_export[~df_export['Article Name'].str.contains('\\[!\\]')].PMID.astype(str)).union(set(df600.PMID.astype(str)))\n",
    "print(len(golden_ids))"
   ]
  },
  {
   "cell_type": "code",
   "execution_count": 113,
   "metadata": {},
   "outputs": [],
   "source": [
    "long_df['abstract'] = long_df.abstract_texts.apply(lambda x: '\\n\\n'.join([a['text'] for a in x]) if isinstance(x, list) else x)"
   ]
  },
  {
   "cell_type": "code",
   "execution_count": 104,
   "metadata": {},
   "outputs": [
    {
     "data": {
      "text/plain": [
       "none      76119\n",
       "silver     2429\n",
       "golden      518\n",
       "Name: is_golden, dtype: int64"
      ]
     },
     "execution_count": 104,
     "metadata": {},
     "output_type": "execute_result"
    }
   ],
   "source": [
    "long_df['is_golden'] = long_df.pmid.apply(lambda x: 'golden' if x in golden_ids else 'silver' if x in silver_ids else 'none')\n",
    "long_df['is_golden'].value_counts()"
   ]
  },
  {
   "cell_type": "code",
   "execution_count": 105,
   "metadata": {},
   "outputs": [
    {
     "data": {
      "text/plain": [
       "is_golden\n",
       "golden   2020-07-24\n",
       "none     2021-12-23\n",
       "silver   2020-12-02\n",
       "Name: date_article, dtype: datetime64[ns]"
      ]
     },
     "execution_count": 105,
     "metadata": {},
     "output_type": "execute_result"
    }
   ],
   "source": [
    "long_df.groupby('is_golden').date_article.max()"
   ]
  },
  {
   "cell_type": "code",
   "execution_count": 106,
   "metadata": {},
   "outputs": [
    {
     "data": {
      "text/plain": [
       "is_golden\n",
       "golden   2016-10-02 21:24:28.800\n",
       "none     2010-08-12 20:26:52.800\n",
       "silver   2012-07-05 21:36:00.000\n",
       "Name: date_article, dtype: datetime64[ns]"
      ]
     },
     "execution_count": 106,
     "metadata": {},
     "output_type": "execute_result"
    }
   ],
   "source": [
    "long_df.groupby('is_golden').date_article.quantile(0.9999)"
   ]
  },
  {
   "cell_type": "code",
   "execution_count": 197,
   "metadata": {},
   "outputs": [
    {
     "name": "stdout",
     "output_type": "stream",
     "text": [
      "(3513, 13)\n",
      "(3433, 13)\n",
      "(1704, 13)\n",
      "(572, 13)\n"
     ]
    }
   ],
   "source": [
    "since_december = long_df[long_df.date_article >= '2020-12-02']\n",
    "print(since_december.shape)\n",
    "since_december = since_december[since_december.abstract.notnull()]\n",
    "print(since_december.shape)\n",
    "since_december = since_december[since_december.abstract.str.lower().str.contains('canna')]\n",
    "print(since_december.shape)\n",
    "# since_december.to_csv('../../data/papers_since_december_2.tsv', sep='\\t')\n",
    "since_december = since_december[since_december.abstract.apply(\n",
    "    lambda x: any(drug in x.lower() for drug in drugs_full_confident_list)\n",
    ")]\n",
    "print(since_december.shape)"
   ]
  },
  {
   "cell_type": "code",
   "execution_count": 198,
   "metadata": {},
   "outputs": [
    {
     "data": {
      "image/png": "[encoded data removed]",
      "text/plain": [
       "<Figure size 432x288 with 1 Axes>"
      ]
     },
     "metadata": {
      "needs_background": "light"
     },
     "output_type": "display_data"
    }
   ],
   "source": [
    "since_december.date_article.hist();"
   ]
  },
  {
   "cell_type": "code",
   "execution_count": 199,
   "metadata": {},
   "outputs": [],
   "source": [
    "since_december.to_csv('../../data/papers_since_december_3.tsv', sep='\\t')"
   ]
  },
  {
   "cell_type": "code",
   "execution_count": 133,
   "metadata": {},
   "outputs": [],
   "source": [
    "witha = long_df[long_df.abstract.notnull()]"
   ]
  },
  {
   "cell_type": "markdown",
   "metadata": {},
   "source": [
    "Быстрый способ обрезать нерелевантное"
   ]
  },
  {
   "cell_type": "code",
   "execution_count": 194,
   "metadata": {},
   "outputs": [
    {
     "data": {
      "text/plain": [
       "is_golden\n",
       "golden    1.000000\n",
       "none      0.360551\n",
       "silver    0.982971\n",
       "Name: abstract, dtype: float64"
      ]
     },
     "execution_count": 194,
     "metadata": {},
     "output_type": "execute_result"
    }
   ],
   "source": [
    "witha.groupby('is_golden').abstract.aggregate(lambda x: x.str.lower().str.contains('canna').mean())"
   ]
  },
  {
   "cell_type": "code",
   "execution_count": 193,
   "metadata": {},
   "outputs": [
    {
     "data": {
      "text/plain": [
       "is_golden\n",
       "golden    0.994208\n",
       "none      0.083912\n",
       "silver    0.812261\n",
       "Name: abstract, dtype: float64"
      ]
     },
     "execution_count": 193,
     "metadata": {},
     "output_type": "execute_result"
    }
   ],
   "source": [
    "witha.groupby('is_golden').abstract.aggregate(lambda x: x.apply(\n",
    "    lambda x: 'canna' in x.lower() and any(drug in x.lower() for drug in drugs_full_confident_list)\n",
    ").mean())"
   ]
  },
  {
   "cell_type": "code",
   "execution_count": 192,
   "metadata": {},
   "outputs": [
    {
     "name": "stdout",
     "output_type": "stream",
     "text": [
      "518 3\n"
     ]
    }
   ],
   "source": [
    "gg = witha[witha.is_golden=='golden']\n",
    "bg = gg[~gg.abstract.apply(lambda x: 'canna' in x.lower() and any(drug in x.lower() for drug in drugs_full_confident_list))]\n",
    "print(gg.shape[0], bg.shape[0])"
   ]
  },
  {
   "cell_type": "code",
   "execution_count": 202,
   "metadata": {},
   "outputs": [
    {
     "data": {
      "text/plain": [
       "24525548    Nabiximols (THC/CBD oromucosal spray, Sativex®...\n",
       "29528549    Clinical response to Nabiximols correlates wit...\n",
       "29550881    The effect of nabilone on appetite, nutritiona...\n",
       "Name: title, dtype: object"
      ]
     },
     "execution_count": 202,
     "metadata": {},
     "output_type": "execute_result"
    }
   ],
   "source": [
    "bg.title"
   ]
  },
  {
   "cell_type": "code",
   "execution_count": 204,
   "metadata": {},
   "outputs": [
    {
     "data": {
      "text/plain": [
       "24525548    24525548\n",
       "29528549    29528549\n",
       "29550881    29550881\n",
       "Name: pmid, dtype: object"
      ]
     },
     "execution_count": 204,
     "metadata": {},
     "output_type": "execute_result"
    }
   ],
   "source": [
    "bg.pmid"
   ]
  },
  {
   "cell_type": "code",
   "execution_count": 201,
   "metadata": {},
   "outputs": [
    {
     "name": "stdout",
     "output_type": "stream",
     "text": [
      "Nabiximols (Sativex®), a cannabinoid-based oromucosal spray, is an add-on therapy for patients with moderate to severe multiple sclerosis spasticity (MSS) resistant to other medications. The primary objective was to provide real-life observational data of clinical experience of nabiximols in contrast to formal clinical trials of effectiveness.\n",
      "\n",
      "This was an observational, prospective, multicenter, non-interventional study with a follow-up period of 3-4 months, conducted in routine care setting in Germany. Patients with moderate to severe MSS were included at nabiximols' initiation. Structured documentation forms, questionnaires and validated instruments were used for data collection at inclusion, 1 and 3 months after inclusion.\n",
      "\n",
      "Overall, 335 patients were assessed of whom 276 fitted the criteria and were included in the effectiveness analysis. After 1 month, nabiximols provided relief of resistant MSS in 74.6% of patients according to specialist assessment; mean spasticity 0-10 numerical rating scale (NRS) score decreased from 6.1 ± 1.8 to 5.2 ± 2.0 points; in patients with NRS improvement ≥20% mean NRS score decreased by 40%. After 3 months, 55.3% of patients had continued to use nabiximols and the mean NRS score had decreased by 25% from baseline. 17% of patients reported adverse events.\n",
      "\n",
      "Real-life data confirm nabiximols as an effective and well-tolerated treatment option for resistant MSS in clinical practice.\n",
      "\n",
      "\n",
      "---\n",
      "\n",
      "\n",
      "Nabiximols (Sativex-® ) is a cannabinoid-based compound used for the treatment of moderate to severe spasticity in multiple sclerosis (MS). The aim of the study was to investigate the effect of the administration of Nabiximols on blood transcriptome profile of patients with MS and to interpret it in the context of pathways and networks.\n",
      "\n",
      "Whole-genome expression profiling was performed in whole blood of 33 subjects with MS at baseline and after 4 weeks of drug treatment. Patients were classified as responders (n = 19) and non-responders (n = 14). Pathway and network analyses on genes modulated by the drug were performed, followed by in vitro stimulation of peripheral blood mononuclear cells with pro-inflammatory agents to support the immunomodulatory properties of the drug.\n",
      "\n",
      "Individual effect size was modest; however, we observed a downregulation of several immune-related pathways after 4 weeks of treatment, which was more pronounced when restricting analyses to responders. Interesting hub molecules functionally related to the immune system emerged from network analysis, including NFKB1, FYN, MAP14 and TP53. The immunomodulatory properties of the drug were confirmed through in vitro assays in peripheral blood mononuclear cells collected from patients with MS.\n",
      "\n",
      "Our findings support the immunomodulatory activity of cannabinoids in patients with MS. Further studies in more specific cell types are needed to refine these results.\n",
      "\n",
      "\n",
      "---\n",
      "\n",
      "\n",
      "Over one half of the patients diagnosed with advanced lung cancer experience anorexia. In addition to its high incidence, cancer-induced anorexia promotes the development of the anorexia-cachexia syndrome, which is related to poor clinical outcomes. Recently, drugs derived from cannabinoids, such as Nabilone, have been recognized for their appetite improvement properties; however, clinical trials to support their use in cancer patients are necessary.\n",
      "\n",
      "This is a randomized, double-blind, placebo-controlled clinical trial to assess the effect of Nabilone vs. placebo on the appetite, nutritional status, and quality of life in patients diagnosed with advanced Non-small cell lung cancer (NSCLC) (NCT02802540).\n",
      "\n",
      "A total of 65 patients from the outpatient clinic at the National Institute of Cancer (INCan) were assessed for eligibility and 47 were randomized to receive Nabilone (0.5 mg/2 weeks followed by 1.0 mg/6 weeks) or placebo. After 8 weeks of treatment, patients who received Nabilone increased their caloric intake (342-kcal) and had a significantly higher intake of carbohydrates (64 g) compared to patients receiving placebo (p = 0.040). Quality of life also showed significant improvements in patients in the experimental arm of the trial, particularly in role functioning (p = 0.030), emotional functioning (p = 0.018), social functioning (p = 0.036), pain (p = 0.06), and insomnia (p = 0.020). No significant change in these scales was seen in the control group.\n",
      "\n",
      "Nabilone is an adequate and safe therapeutic option to aid in the treatment of patients diagnosed with anorexia. Larger trials are necessary in order to draw robust conclusions in regard to its efficacy in lung cancer patients.\n",
      "\n",
      "\n",
      "---\n",
      "\n",
      "\n"
     ]
    }
   ],
   "source": [
    "for a in bg.abstract:\n",
    "    print(a)\n",
    "    print('\\n\\n---\\n\\n')"
   ]
  },
  {
   "cell_type": "code",
   "execution_count": 62,
   "metadata": {},
   "outputs": [
    {
     "data": {
      "text/plain": [
       "Timestamp('2021-07-14 00:00:00')"
      ]
     },
     "execution_count": 62,
     "metadata": {},
     "output_type": "execute_result"
    }
   ],
   "source": [
    "long_df[long_df.is_golden != 'none'].date_completed.max()"
   ]
  },
  {
   "cell_type": "code",
   "execution_count": 75,
   "metadata": {},
   "outputs": [
    {
     "data": {
      "text/html": [
       "<div>\n",
       "<style scoped>\n",
       "    .dataframe tbody tr th:only-of-type {\n",
       "        vertical-align: middle;\n",
       "    }\n",
       "\n",
       "    .dataframe tbody tr th {\n",
       "        vertical-align: top;\n",
       "    }\n",
       "\n",
       "    .dataframe thead th {\n",
       "        text-align: right;\n",
       "    }\n",
       "</style>\n",
       "<table border=\"1\" class=\"dataframe\">\n",
       "  <thead>\n",
       "    <tr style=\"text-align: right;\">\n",
       "      <th></th>\n",
       "      <th>pmid</th>\n",
       "      <th>id</th>\n",
       "      <th>abstract_texts</th>\n",
       "      <th>date</th>\n",
       "      <th>journal_title</th>\n",
       "      <th>title</th>\n",
       "      <th>authors</th>\n",
       "      <th>date_completed</th>\n",
       "      <th>date_revised</th>\n",
       "      <th>collective_name</th>\n",
       "      <th>is_golden</th>\n",
       "    </tr>\n",
       "  </thead>\n",
       "  <tbody>\n",
       "    <tr>\n",
       "      <th>32387338</th>\n",
       "      <td>32387338</td>\n",
       "      <td>pubmed_32387338</td>\n",
       "      <td>[{'text': 'The antioxidant and CB-2 receptor a...</td>\n",
       "      <td>2020</td>\n",
       "      <td>Neurobiology of disease</td>\n",
       "      <td>Beneficial effects of the phytocannabinoid Δ-9...</td>\n",
       "      <td>[{'last_name': 'Espadas', 'first_name': 'Isabe...</td>\n",
       "      <td>2021-07-14</td>\n",
       "      <td>2021-07-14</td>\n",
       "      <td>NaN</td>\n",
       "      <td>silver</td>\n",
       "    </tr>\n",
       "    <tr>\n",
       "      <th>32513180</th>\n",
       "      <td>32513180</td>\n",
       "      <td>pubmed_32513180</td>\n",
       "      <td>[{'text': 'In 2016, the Australian federal gov...</td>\n",
       "      <td>2020</td>\n",
       "      <td>Harm reduction journal</td>\n",
       "      <td>Medical cannabis use in the Australian communi...</td>\n",
       "      <td>[{'last_name': 'Lintzeris', 'first_name': 'Nic...</td>\n",
       "      <td>2021-07-12</td>\n",
       "      <td>2021-07-12</td>\n",
       "      <td>NaN</td>\n",
       "      <td>silver</td>\n",
       "    </tr>\n",
       "    <tr>\n",
       "      <th>33220620</th>\n",
       "      <td>33220620</td>\n",
       "      <td>pubmed_33220620</td>\n",
       "      <td>[{'text': 'Evidence suggests that cannabinoids...</td>\n",
       "      <td>2020</td>\n",
       "      <td>Complementary therapies in medicine</td>\n",
       "      <td>Perceptions and recommendation behaviors of de...</td>\n",
       "      <td>[{'last_name': 'Yeroushalmi', 'first_name': 'S...</td>\n",
       "      <td>2021-07-09</td>\n",
       "      <td>2021-07-09</td>\n",
       "      <td>NaN</td>\n",
       "      <td>silver</td>\n",
       "    </tr>\n",
       "    <tr>\n",
       "      <th>32267192</th>\n",
       "      <td>32267192</td>\n",
       "      <td>pubmed_32267192</td>\n",
       "      <td>[{'text': 'Cannabinoids may potentiate opioid ...</td>\n",
       "      <td>2020</td>\n",
       "      <td>Journal of psychopharmacology (Oxford, England)</td>\n",
       "      <td>Evaluating the co-use of opioids and cannabis ...</td>\n",
       "      <td>[{'last_name': 'Bergeria', 'first_name': 'Ceci...</td>\n",
       "      <td>2021-07-08</td>\n",
       "      <td>2021-07-08</td>\n",
       "      <td>NaN</td>\n",
       "      <td>silver</td>\n",
       "    </tr>\n",
       "    <tr>\n",
       "      <th>32108548</th>\n",
       "      <td>32108548</td>\n",
       "      <td>pubmed_32108548</td>\n",
       "      <td>[{'text': 'Cannabis use has been associated wi...</td>\n",
       "      <td>2020</td>\n",
       "      <td>Journal of psychopharmacology (Oxford, England)</td>\n",
       "      <td>Synthetic cannabinoid use in psychiatric patie...</td>\n",
       "      <td>[{'last_name': 'Hobbs', 'first_name': 'Melissa...</td>\n",
       "      <td>2021-07-08</td>\n",
       "      <td>2021-07-08</td>\n",
       "      <td>NaN</td>\n",
       "      <td>silver</td>\n",
       "    </tr>\n",
       "    <tr>\n",
       "      <th>33127240</th>\n",
       "      <td>33127240</td>\n",
       "      <td>pubmed_33127240</td>\n",
       "      <td>[{'text': 'Cannabis hyperemesis (CH) is an und...</td>\n",
       "      <td>2021</td>\n",
       "      <td>The Journal of adolescent health : official pu...</td>\n",
       "      <td>Pediatric Cannabinoid Hyperemesis: A Single In...</td>\n",
       "      <td>[{'last_name': 'Lonsdale', 'first_name': 'Hann...</td>\n",
       "      <td>2021-07-05</td>\n",
       "      <td>2021-07-05</td>\n",
       "      <td>NaN</td>\n",
       "      <td>silver</td>\n",
       "    </tr>\n",
       "    <tr>\n",
       "      <th>32732454</th>\n",
       "      <td>32732454</td>\n",
       "      <td>pubmed_32732454</td>\n",
       "      <td>[{'text': 'Rugby is characterized by frequent ...</td>\n",
       "      <td>2020</td>\n",
       "      <td>International journal of sport nutrition and e...</td>\n",
       "      <td>High Prevalence of Cannabidiol Use Within Male...</td>\n",
       "      <td>[{'last_name': 'Kasper', 'first_name': 'Andrea...</td>\n",
       "      <td>2021-06-30</td>\n",
       "      <td>2021-06-30</td>\n",
       "      <td>NaN</td>\n",
       "      <td>silver</td>\n",
       "    </tr>\n",
       "    <tr>\n",
       "      <th>31162770</th>\n",
       "      <td>31162770</td>\n",
       "      <td>pubmed_31162770</td>\n",
       "      <td>[{'text': 'The administration of cannabidiol h...</td>\n",
       "      <td>2020</td>\n",
       "      <td>Addiction biology</td>\n",
       "      <td>The pharmacological reduction of hippocampal n...</td>\n",
       "      <td>[{'last_name': 'Luján', 'first_name': 'Miguel ...</td>\n",
       "      <td>2021-06-28</td>\n",
       "      <td>2021-06-28</td>\n",
       "      <td>NaN</td>\n",
       "      <td>silver</td>\n",
       "    </tr>\n",
       "    <tr>\n",
       "      <th>31215752</th>\n",
       "      <td>31215752</td>\n",
       "      <td>pubmed_31215752</td>\n",
       "      <td>[{'text': 'A growing number of studies suggest...</td>\n",
       "      <td>2020</td>\n",
       "      <td>Addiction biology</td>\n",
       "      <td>Cannabidiol inhibits sucrose self-administrati...</td>\n",
       "      <td>[{'last_name': 'Bi', 'first_name': 'Guo-Hua', ...</td>\n",
       "      <td>2021-06-28</td>\n",
       "      <td>2021-07-02</td>\n",
       "      <td>NaN</td>\n",
       "      <td>silver</td>\n",
       "    </tr>\n",
       "    <tr>\n",
       "      <th>31767538</th>\n",
       "      <td>31767538</td>\n",
       "      <td>pubmed_31767538</td>\n",
       "      <td>[{'text': 'To report a case of accidental cann...</td>\n",
       "      <td>2020</td>\n",
       "      <td>Journal of the American Pharmacists Associatio...</td>\n",
       "      <td>Respiratory depression following an accidental...</td>\n",
       "      <td>[{'last_name': 'Herbst', 'first_name': 'Jim', ...</td>\n",
       "      <td>2021-06-25</td>\n",
       "      <td>2021-06-25</td>\n",
       "      <td>NaN</td>\n",
       "      <td>silver</td>\n",
       "    </tr>\n",
       "  </tbody>\n",
       "</table>\n",
       "</div>"
      ],
      "text/plain": [
       "              pmid               id  \\\n",
       "32387338  32387338  pubmed_32387338   \n",
       "32513180  32513180  pubmed_32513180   \n",
       "33220620  33220620  pubmed_33220620   \n",
       "32267192  32267192  pubmed_32267192   \n",
       "32108548  32108548  pubmed_32108548   \n",
       "33127240  33127240  pubmed_33127240   \n",
       "32732454  32732454  pubmed_32732454   \n",
       "31162770  31162770  pubmed_31162770   \n",
       "31215752  31215752  pubmed_31215752   \n",
       "31767538  31767538  pubmed_31767538   \n",
       "\n",
       "                                             abstract_texts  date  \\\n",
       "32387338  [{'text': 'The antioxidant and CB-2 receptor a...  2020   \n",
       "32513180  [{'text': 'In 2016, the Australian federal gov...  2020   \n",
       "33220620  [{'text': 'Evidence suggests that cannabinoids...  2020   \n",
       "32267192  [{'text': 'Cannabinoids may potentiate opioid ...  2020   \n",
       "32108548  [{'text': 'Cannabis use has been associated wi...  2020   \n",
       "33127240  [{'text': 'Cannabis hyperemesis (CH) is an und...  2021   \n",
       "32732454  [{'text': 'Rugby is characterized by frequent ...  2020   \n",
       "31162770  [{'text': 'The administration of cannabidiol h...  2020   \n",
       "31215752  [{'text': 'A growing number of studies suggest...  2020   \n",
       "31767538  [{'text': 'To report a case of accidental cann...  2020   \n",
       "\n",
       "                                              journal_title  \\\n",
       "32387338                            Neurobiology of disease   \n",
       "32513180                             Harm reduction journal   \n",
       "33220620                Complementary therapies in medicine   \n",
       "32267192    Journal of psychopharmacology (Oxford, England)   \n",
       "32108548    Journal of psychopharmacology (Oxford, England)   \n",
       "33127240  The Journal of adolescent health : official pu...   \n",
       "32732454  International journal of sport nutrition and e...   \n",
       "31162770                                  Addiction biology   \n",
       "31215752                                  Addiction biology   \n",
       "31767538  Journal of the American Pharmacists Associatio...   \n",
       "\n",
       "                                                      title  \\\n",
       "32387338  Beneficial effects of the phytocannabinoid Δ-9...   \n",
       "32513180  Medical cannabis use in the Australian communi...   \n",
       "33220620  Perceptions and recommendation behaviors of de...   \n",
       "32267192  Evaluating the co-use of opioids and cannabis ...   \n",
       "32108548  Synthetic cannabinoid use in psychiatric patie...   \n",
       "33127240  Pediatric Cannabinoid Hyperemesis: A Single In...   \n",
       "32732454  High Prevalence of Cannabidiol Use Within Male...   \n",
       "31162770  The pharmacological reduction of hippocampal n...   \n",
       "31215752  Cannabidiol inhibits sucrose self-administrati...   \n",
       "31767538  Respiratory depression following an accidental...   \n",
       "\n",
       "                                                    authors date_completed  \\\n",
       "32387338  [{'last_name': 'Espadas', 'first_name': 'Isabe...     2021-07-14   \n",
       "32513180  [{'last_name': 'Lintzeris', 'first_name': 'Nic...     2021-07-12   \n",
       "33220620  [{'last_name': 'Yeroushalmi', 'first_name': 'S...     2021-07-09   \n",
       "32267192  [{'last_name': 'Bergeria', 'first_name': 'Ceci...     2021-07-08   \n",
       "32108548  [{'last_name': 'Hobbs', 'first_name': 'Melissa...     2021-07-08   \n",
       "33127240  [{'last_name': 'Lonsdale', 'first_name': 'Hann...     2021-07-05   \n",
       "32732454  [{'last_name': 'Kasper', 'first_name': 'Andrea...     2021-06-30   \n",
       "31162770  [{'last_name': 'Luján', 'first_name': 'Miguel ...     2021-06-28   \n",
       "31215752  [{'last_name': 'Bi', 'first_name': 'Guo-Hua', ...     2021-06-28   \n",
       "31767538  [{'last_name': 'Herbst', 'first_name': 'Jim', ...     2021-06-25   \n",
       "\n",
       "         date_revised collective_name is_golden  \n",
       "32387338   2021-07-14             NaN    silver  \n",
       "32513180   2021-07-12             NaN    silver  \n",
       "33220620   2021-07-09             NaN    silver  \n",
       "32267192   2021-07-08             NaN    silver  \n",
       "32108548   2021-07-08             NaN    silver  \n",
       "33127240   2021-07-05             NaN    silver  \n",
       "32732454   2021-06-30             NaN    silver  \n",
       "31162770   2021-06-28             NaN    silver  \n",
       "31215752   2021-07-02             NaN    silver  \n",
       "31767538   2021-06-25             NaN    silver  "
      ]
     },
     "execution_count": 75,
     "metadata": {},
     "output_type": "execute_result"
    }
   ],
   "source": [
    "long_df[long_df.is_golden=='silver'].sort_values('date_completed', ascending=False).head(10)"
   ]
  },
  {
   "cell_type": "code",
   "execution_count": 46,
   "metadata": {},
   "outputs": [
    {
     "data": {
      "text/html": [
       "<div>\n",
       "<style scoped>\n",
       "    .dataframe tbody tr th:only-of-type {\n",
       "        vertical-align: middle;\n",
       "    }\n",
       "\n",
       "    .dataframe tbody tr th {\n",
       "        vertical-align: top;\n",
       "    }\n",
       "\n",
       "    .dataframe thead th {\n",
       "        text-align: right;\n",
       "    }\n",
       "</style>\n",
       "<table border=\"1\" class=\"dataframe\">\n",
       "  <thead>\n",
       "    <tr style=\"text-align: right;\">\n",
       "      <th>is_golden</th>\n",
       "      <th>golden</th>\n",
       "      <th>none</th>\n",
       "      <th>silver</th>\n",
       "    </tr>\n",
       "    <tr>\n",
       "      <th>date</th>\n",
       "      <th></th>\n",
       "      <th></th>\n",
       "      <th></th>\n",
       "    </tr>\n",
       "  </thead>\n",
       "  <tbody>\n",
       "    <tr>\n",
       "      <th>1843</th>\n",
       "      <td>NaN</td>\n",
       "      <td>1.0</td>\n",
       "      <td>NaN</td>\n",
       "    </tr>\n",
       "    <tr>\n",
       "      <th>1845</th>\n",
       "      <td>NaN</td>\n",
       "      <td>1.0</td>\n",
       "      <td>NaN</td>\n",
       "    </tr>\n",
       "    <tr>\n",
       "      <th>1847</th>\n",
       "      <td>NaN</td>\n",
       "      <td>1.0</td>\n",
       "      <td>NaN</td>\n",
       "    </tr>\n",
       "    <tr>\n",
       "      <th>1866</th>\n",
       "      <td>NaN</td>\n",
       "      <td>1.0</td>\n",
       "      <td>NaN</td>\n",
       "    </tr>\n",
       "    <tr>\n",
       "      <th>1870</th>\n",
       "      <td>NaN</td>\n",
       "      <td>1.0</td>\n",
       "      <td>NaN</td>\n",
       "    </tr>\n",
       "    <tr>\n",
       "      <th>1871</th>\n",
       "      <td>NaN</td>\n",
       "      <td>1.0</td>\n",
       "      <td>NaN</td>\n",
       "    </tr>\n",
       "    <tr>\n",
       "      <th>1883</th>\n",
       "      <td>NaN</td>\n",
       "      <td>2.0</td>\n",
       "      <td>NaN</td>\n",
       "    </tr>\n",
       "    <tr>\n",
       "      <th>1885</th>\n",
       "      <td>NaN</td>\n",
       "      <td>1.0</td>\n",
       "      <td>NaN</td>\n",
       "    </tr>\n",
       "    <tr>\n",
       "      <th>1886</th>\n",
       "      <td>NaN</td>\n",
       "      <td>1.0</td>\n",
       "      <td>NaN</td>\n",
       "    </tr>\n",
       "    <tr>\n",
       "      <th>1887</th>\n",
       "      <td>NaN</td>\n",
       "      <td>1.0</td>\n",
       "      <td>NaN</td>\n",
       "    </tr>\n",
       "    <tr>\n",
       "      <th>1889</th>\n",
       "      <td>NaN</td>\n",
       "      <td>1.0</td>\n",
       "      <td>NaN</td>\n",
       "    </tr>\n",
       "    <tr>\n",
       "      <th>1890</th>\n",
       "      <td>NaN</td>\n",
       "      <td>1.0</td>\n",
       "      <td>NaN</td>\n",
       "    </tr>\n",
       "    <tr>\n",
       "      <th>1893</th>\n",
       "      <td>NaN</td>\n",
       "      <td>1.0</td>\n",
       "      <td>NaN</td>\n",
       "    </tr>\n",
       "    <tr>\n",
       "      <th>1939</th>\n",
       "      <td>NaN</td>\n",
       "      <td>1.0</td>\n",
       "      <td>NaN</td>\n",
       "    </tr>\n",
       "    <tr>\n",
       "      <th>1940</th>\n",
       "      <td>NaN</td>\n",
       "      <td>1.0</td>\n",
       "      <td>NaN</td>\n",
       "    </tr>\n",
       "    <tr>\n",
       "      <th>1942</th>\n",
       "      <td>NaN</td>\n",
       "      <td>1.0</td>\n",
       "      <td>NaN</td>\n",
       "    </tr>\n",
       "    <tr>\n",
       "      <th>1945</th>\n",
       "      <td>NaN</td>\n",
       "      <td>8.0</td>\n",
       "      <td>NaN</td>\n",
       "    </tr>\n",
       "    <tr>\n",
       "      <th>1946</th>\n",
       "      <td>NaN</td>\n",
       "      <td>15.0</td>\n",
       "      <td>NaN</td>\n",
       "    </tr>\n",
       "    <tr>\n",
       "      <th>1947</th>\n",
       "      <td>NaN</td>\n",
       "      <td>5.0</td>\n",
       "      <td>NaN</td>\n",
       "    </tr>\n",
       "    <tr>\n",
       "      <th>1948</th>\n",
       "      <td>NaN</td>\n",
       "      <td>6.0</td>\n",
       "      <td>NaN</td>\n",
       "    </tr>\n",
       "    <tr>\n",
       "      <th>1949</th>\n",
       "      <td>NaN</td>\n",
       "      <td>3.0</td>\n",
       "      <td>NaN</td>\n",
       "    </tr>\n",
       "    <tr>\n",
       "      <th>1950</th>\n",
       "      <td>NaN</td>\n",
       "      <td>4.0</td>\n",
       "      <td>NaN</td>\n",
       "    </tr>\n",
       "    <tr>\n",
       "      <th>1951</th>\n",
       "      <td>NaN</td>\n",
       "      <td>4.0</td>\n",
       "      <td>NaN</td>\n",
       "    </tr>\n",
       "    <tr>\n",
       "      <th>1952</th>\n",
       "      <td>NaN</td>\n",
       "      <td>3.0</td>\n",
       "      <td>NaN</td>\n",
       "    </tr>\n",
       "    <tr>\n",
       "      <th>1953</th>\n",
       "      <td>NaN</td>\n",
       "      <td>10.0</td>\n",
       "      <td>NaN</td>\n",
       "    </tr>\n",
       "    <tr>\n",
       "      <th>1954</th>\n",
       "      <td>NaN</td>\n",
       "      <td>7.0</td>\n",
       "      <td>NaN</td>\n",
       "    </tr>\n",
       "    <tr>\n",
       "      <th>1955</th>\n",
       "      <td>NaN</td>\n",
       "      <td>3.0</td>\n",
       "      <td>NaN</td>\n",
       "    </tr>\n",
       "    <tr>\n",
       "      <th>1957</th>\n",
       "      <td>NaN</td>\n",
       "      <td>2.0</td>\n",
       "      <td>NaN</td>\n",
       "    </tr>\n",
       "    <tr>\n",
       "      <th>1958</th>\n",
       "      <td>NaN</td>\n",
       "      <td>4.0</td>\n",
       "      <td>NaN</td>\n",
       "    </tr>\n",
       "    <tr>\n",
       "      <th>1959</th>\n",
       "      <td>NaN</td>\n",
       "      <td>5.0</td>\n",
       "      <td>NaN</td>\n",
       "    </tr>\n",
       "    <tr>\n",
       "      <th>1960</th>\n",
       "      <td>NaN</td>\n",
       "      <td>6.0</td>\n",
       "      <td>NaN</td>\n",
       "    </tr>\n",
       "    <tr>\n",
       "      <th>1961</th>\n",
       "      <td>NaN</td>\n",
       "      <td>8.0</td>\n",
       "      <td>NaN</td>\n",
       "    </tr>\n",
       "    <tr>\n",
       "      <th>1962</th>\n",
       "      <td>NaN</td>\n",
       "      <td>7.0</td>\n",
       "      <td>NaN</td>\n",
       "    </tr>\n",
       "    <tr>\n",
       "      <th>1963</th>\n",
       "      <td>NaN</td>\n",
       "      <td>8.0</td>\n",
       "      <td>NaN</td>\n",
       "    </tr>\n",
       "    <tr>\n",
       "      <th>1964</th>\n",
       "      <td>NaN</td>\n",
       "      <td>11.0</td>\n",
       "      <td>NaN</td>\n",
       "    </tr>\n",
       "    <tr>\n",
       "      <th>1965</th>\n",
       "      <td>NaN</td>\n",
       "      <td>12.0</td>\n",
       "      <td>NaN</td>\n",
       "    </tr>\n",
       "    <tr>\n",
       "      <th>1966</th>\n",
       "      <td>NaN</td>\n",
       "      <td>8.0</td>\n",
       "      <td>NaN</td>\n",
       "    </tr>\n",
       "    <tr>\n",
       "      <th>1967</th>\n",
       "      <td>NaN</td>\n",
       "      <td>29.0</td>\n",
       "      <td>NaN</td>\n",
       "    </tr>\n",
       "    <tr>\n",
       "      <th>1968</th>\n",
       "      <td>NaN</td>\n",
       "      <td>53.0</td>\n",
       "      <td>1.0</td>\n",
       "    </tr>\n",
       "    <tr>\n",
       "      <th>1969</th>\n",
       "      <td>NaN</td>\n",
       "      <td>64.0</td>\n",
       "      <td>1.0</td>\n",
       "    </tr>\n",
       "    <tr>\n",
       "      <th>1970</th>\n",
       "      <td>NaN</td>\n",
       "      <td>68.0</td>\n",
       "      <td>NaN</td>\n",
       "    </tr>\n",
       "    <tr>\n",
       "      <th>1971</th>\n",
       "      <td>NaN</td>\n",
       "      <td>110.0</td>\n",
       "      <td>1.0</td>\n",
       "    </tr>\n",
       "    <tr>\n",
       "      <th>1972</th>\n",
       "      <td>NaN</td>\n",
       "      <td>157.0</td>\n",
       "      <td>3.0</td>\n",
       "    </tr>\n",
       "    <tr>\n",
       "      <th>1973</th>\n",
       "      <td>1.0</td>\n",
       "      <td>206.0</td>\n",
       "      <td>18.0</td>\n",
       "    </tr>\n",
       "    <tr>\n",
       "      <th>1974</th>\n",
       "      <td>1.0</td>\n",
       "      <td>200.0</td>\n",
       "      <td>8.0</td>\n",
       "    </tr>\n",
       "    <tr>\n",
       "      <th>1975</th>\n",
       "      <td>5.0</td>\n",
       "      <td>237.0</td>\n",
       "      <td>27.0</td>\n",
       "    </tr>\n",
       "    <tr>\n",
       "      <th>1976</th>\n",
       "      <td>NaN</td>\n",
       "      <td>316.0</td>\n",
       "      <td>39.0</td>\n",
       "    </tr>\n",
       "    <tr>\n",
       "      <th>1977</th>\n",
       "      <td>2.0</td>\n",
       "      <td>269.0</td>\n",
       "      <td>37.0</td>\n",
       "    </tr>\n",
       "    <tr>\n",
       "      <th>1978</th>\n",
       "      <td>1.0</td>\n",
       "      <td>299.0</td>\n",
       "      <td>20.0</td>\n",
       "    </tr>\n",
       "    <tr>\n",
       "      <th>1979</th>\n",
       "      <td>6.0</td>\n",
       "      <td>254.0</td>\n",
       "      <td>13.0</td>\n",
       "    </tr>\n",
       "    <tr>\n",
       "      <th>1980</th>\n",
       "      <td>4.0</td>\n",
       "      <td>288.0</td>\n",
       "      <td>29.0</td>\n",
       "    </tr>\n",
       "    <tr>\n",
       "      <th>1981</th>\n",
       "      <td>3.0</td>\n",
       "      <td>321.0</td>\n",
       "      <td>31.0</td>\n",
       "    </tr>\n",
       "    <tr>\n",
       "      <th>1982</th>\n",
       "      <td>1.0</td>\n",
       "      <td>297.0</td>\n",
       "      <td>24.0</td>\n",
       "    </tr>\n",
       "    <tr>\n",
       "      <th>1983</th>\n",
       "      <td>NaN</td>\n",
       "      <td>322.0</td>\n",
       "      <td>10.0</td>\n",
       "    </tr>\n",
       "    <tr>\n",
       "      <th>1984</th>\n",
       "      <td>1.0</td>\n",
       "      <td>342.0</td>\n",
       "      <td>22.0</td>\n",
       "    </tr>\n",
       "    <tr>\n",
       "      <th>1985</th>\n",
       "      <td>1.0</td>\n",
       "      <td>403.0</td>\n",
       "      <td>19.0</td>\n",
       "    </tr>\n",
       "    <tr>\n",
       "      <th>1986</th>\n",
       "      <td>1.0</td>\n",
       "      <td>460.0</td>\n",
       "      <td>15.0</td>\n",
       "    </tr>\n",
       "    <tr>\n",
       "      <th>1987</th>\n",
       "      <td>4.0</td>\n",
       "      <td>439.0</td>\n",
       "      <td>13.0</td>\n",
       "    </tr>\n",
       "    <tr>\n",
       "      <th>1988</th>\n",
       "      <td>1.0</td>\n",
       "      <td>439.0</td>\n",
       "      <td>10.0</td>\n",
       "    </tr>\n",
       "    <tr>\n",
       "      <th>1989</th>\n",
       "      <td>1.0</td>\n",
       "      <td>539.0</td>\n",
       "      <td>12.0</td>\n",
       "    </tr>\n",
       "    <tr>\n",
       "      <th>1990</th>\n",
       "      <td>3.0</td>\n",
       "      <td>604.0</td>\n",
       "      <td>8.0</td>\n",
       "    </tr>\n",
       "    <tr>\n",
       "      <th>1991</th>\n",
       "      <td>2.0</td>\n",
       "      <td>616.0</td>\n",
       "      <td>18.0</td>\n",
       "    </tr>\n",
       "    <tr>\n",
       "      <th>1992</th>\n",
       "      <td>2.0</td>\n",
       "      <td>640.0</td>\n",
       "      <td>7.0</td>\n",
       "    </tr>\n",
       "    <tr>\n",
       "      <th>1993</th>\n",
       "      <td>1.0</td>\n",
       "      <td>709.0</td>\n",
       "      <td>15.0</td>\n",
       "    </tr>\n",
       "    <tr>\n",
       "      <th>1994</th>\n",
       "      <td>NaN</td>\n",
       "      <td>747.0</td>\n",
       "      <td>11.0</td>\n",
       "    </tr>\n",
       "    <tr>\n",
       "      <th>1995</th>\n",
       "      <td>NaN</td>\n",
       "      <td>871.0</td>\n",
       "      <td>18.0</td>\n",
       "    </tr>\n",
       "    <tr>\n",
       "      <th>1996</th>\n",
       "      <td>2.0</td>\n",
       "      <td>938.0</td>\n",
       "      <td>12.0</td>\n",
       "    </tr>\n",
       "    <tr>\n",
       "      <th>1997</th>\n",
       "      <td>1.0</td>\n",
       "      <td>1036.0</td>\n",
       "      <td>12.0</td>\n",
       "    </tr>\n",
       "    <tr>\n",
       "      <th>1998</th>\n",
       "      <td>2.0</td>\n",
       "      <td>1079.0</td>\n",
       "      <td>32.0</td>\n",
       "    </tr>\n",
       "    <tr>\n",
       "      <th>1999</th>\n",
       "      <td>2.0</td>\n",
       "      <td>1112.0</td>\n",
       "      <td>19.0</td>\n",
       "    </tr>\n",
       "    <tr>\n",
       "      <th>2000</th>\n",
       "      <td>2.0</td>\n",
       "      <td>1265.0</td>\n",
       "      <td>20.0</td>\n",
       "    </tr>\n",
       "    <tr>\n",
       "      <th>2001</th>\n",
       "      <td>3.0</td>\n",
       "      <td>1314.0</td>\n",
       "      <td>35.0</td>\n",
       "    </tr>\n",
       "    <tr>\n",
       "      <th>2002</th>\n",
       "      <td>3.0</td>\n",
       "      <td>1357.0</td>\n",
       "      <td>26.0</td>\n",
       "    </tr>\n",
       "    <tr>\n",
       "      <th>2003</th>\n",
       "      <td>7.0</td>\n",
       "      <td>1488.0</td>\n",
       "      <td>40.0</td>\n",
       "    </tr>\n",
       "    <tr>\n",
       "      <th>2004</th>\n",
       "      <td>12.0</td>\n",
       "      <td>1587.0</td>\n",
       "      <td>41.0</td>\n",
       "    </tr>\n",
       "    <tr>\n",
       "      <th>2005</th>\n",
       "      <td>7.0</td>\n",
       "      <td>1739.0</td>\n",
       "      <td>43.0</td>\n",
       "    </tr>\n",
       "    <tr>\n",
       "      <th>2006</th>\n",
       "      <td>19.0</td>\n",
       "      <td>1902.0</td>\n",
       "      <td>45.0</td>\n",
       "    </tr>\n",
       "    <tr>\n",
       "      <th>2007</th>\n",
       "      <td>14.0</td>\n",
       "      <td>1997.0</td>\n",
       "      <td>57.0</td>\n",
       "    </tr>\n",
       "    <tr>\n",
       "      <th>2008</th>\n",
       "      <td>14.0</td>\n",
       "      <td>2234.0</td>\n",
       "      <td>53.0</td>\n",
       "    </tr>\n",
       "    <tr>\n",
       "      <th>2009</th>\n",
       "      <td>13.0</td>\n",
       "      <td>2193.0</td>\n",
       "      <td>56.0</td>\n",
       "    </tr>\n",
       "    <tr>\n",
       "      <th>2010</th>\n",
       "      <td>12.0</td>\n",
       "      <td>2523.0</td>\n",
       "      <td>62.0</td>\n",
       "    </tr>\n",
       "    <tr>\n",
       "      <th>2011</th>\n",
       "      <td>18.0</td>\n",
       "      <td>2748.0</td>\n",
       "      <td>84.0</td>\n",
       "    </tr>\n",
       "    <tr>\n",
       "      <th>2012</th>\n",
       "      <td>22.0</td>\n",
       "      <td>3062.0</td>\n",
       "      <td>82.0</td>\n",
       "    </tr>\n",
       "    <tr>\n",
       "      <th>2013</th>\n",
       "      <td>34.0</td>\n",
       "      <td>3353.0</td>\n",
       "      <td>83.0</td>\n",
       "    </tr>\n",
       "    <tr>\n",
       "      <th>2014</th>\n",
       "      <td>23.0</td>\n",
       "      <td>3673.0</td>\n",
       "      <td>99.0</td>\n",
       "    </tr>\n",
       "    <tr>\n",
       "      <th>2015</th>\n",
       "      <td>46.0</td>\n",
       "      <td>3832.0</td>\n",
       "      <td>83.0</td>\n",
       "    </tr>\n",
       "    <tr>\n",
       "      <th>2016</th>\n",
       "      <td>49.0</td>\n",
       "      <td>3995.0</td>\n",
       "      <td>115.0</td>\n",
       "    </tr>\n",
       "    <tr>\n",
       "      <th>2017</th>\n",
       "      <td>39.0</td>\n",
       "      <td>4037.0</td>\n",
       "      <td>122.0</td>\n",
       "    </tr>\n",
       "    <tr>\n",
       "      <th>2018</th>\n",
       "      <td>79.0</td>\n",
       "      <td>4483.0</td>\n",
       "      <td>152.0</td>\n",
       "    </tr>\n",
       "    <tr>\n",
       "      <th>2019</th>\n",
       "      <td>50.0</td>\n",
       "      <td>4842.0</td>\n",
       "      <td>269.0</td>\n",
       "    </tr>\n",
       "    <tr>\n",
       "      <th>2020</th>\n",
       "      <td>4.0</td>\n",
       "      <td>5891.0</td>\n",
       "      <td>349.0</td>\n",
       "    </tr>\n",
       "    <tr>\n",
       "      <th>2021</th>\n",
       "      <td>1.0</td>\n",
       "      <td>4401.0</td>\n",
       "      <td>44.0</td>\n",
       "    </tr>\n",
       "    <tr>\n",
       "      <th>Fall</th>\n",
       "      <td>NaN</td>\n",
       "      <td>5.0</td>\n",
       "      <td>NaN</td>\n",
       "    </tr>\n",
       "    <tr>\n",
       "      <th>Spri</th>\n",
       "      <td>NaN</td>\n",
       "      <td>1.0</td>\n",
       "      <td>NaN</td>\n",
       "    </tr>\n",
       "    <tr>\n",
       "      <th>Summ</th>\n",
       "      <td>NaN</td>\n",
       "      <td>4.0</td>\n",
       "      <td>NaN</td>\n",
       "    </tr>\n",
       "    <tr>\n",
       "      <th>Wint</th>\n",
       "      <td>NaN</td>\n",
       "      <td>1.0</td>\n",
       "      <td>NaN</td>\n",
       "    </tr>\n",
       "  </tbody>\n",
       "</table>\n",
       "</div>"
      ],
      "text/plain": [
       "is_golden  golden    none  silver\n",
       "date                             \n",
       "1843          NaN     1.0     NaN\n",
       "1845          NaN     1.0     NaN\n",
       "1847          NaN     1.0     NaN\n",
       "1866          NaN     1.0     NaN\n",
       "1870          NaN     1.0     NaN\n",
       "1871          NaN     1.0     NaN\n",
       "1883          NaN     2.0     NaN\n",
       "1885          NaN     1.0     NaN\n",
       "1886          NaN     1.0     NaN\n",
       "1887          NaN     1.0     NaN\n",
       "1889          NaN     1.0     NaN\n",
       "1890          NaN     1.0     NaN\n",
       "1893          NaN     1.0     NaN\n",
       "1939          NaN     1.0     NaN\n",
       "1940          NaN     1.0     NaN\n",
       "1942          NaN     1.0     NaN\n",
       "1945          NaN     8.0     NaN\n",
       "1946          NaN    15.0     NaN\n",
       "1947          NaN     5.0     NaN\n",
       "1948          NaN     6.0     NaN\n",
       "1949          NaN     3.0     NaN\n",
       "1950          NaN     4.0     NaN\n",
       "1951          NaN     4.0     NaN\n",
       "1952          NaN     3.0     NaN\n",
       "1953          NaN    10.0     NaN\n",
       "1954          NaN     7.0     NaN\n",
       "1955          NaN     3.0     NaN\n",
       "1957          NaN     2.0     NaN\n",
       "1958          NaN     4.0     NaN\n",
       "1959          NaN     5.0     NaN\n",
       "1960          NaN     6.0     NaN\n",
       "1961          NaN     8.0     NaN\n",
       "1962          NaN     7.0     NaN\n",
       "1963          NaN     8.0     NaN\n",
       "1964          NaN    11.0     NaN\n",
       "1965          NaN    12.0     NaN\n",
       "1966          NaN     8.0     NaN\n",
       "1967          NaN    29.0     NaN\n",
       "1968          NaN    53.0     1.0\n",
       "1969          NaN    64.0     1.0\n",
       "1970          NaN    68.0     NaN\n",
       "1971          NaN   110.0     1.0\n",
       "1972          NaN   157.0     3.0\n",
       "1973          1.0   206.0    18.0\n",
       "1974          1.0   200.0     8.0\n",
       "1975          5.0   237.0    27.0\n",
       "1976          NaN   316.0    39.0\n",
       "1977          2.0   269.0    37.0\n",
       "1978          1.0   299.0    20.0\n",
       "1979          6.0   254.0    13.0\n",
       "1980          4.0   288.0    29.0\n",
       "1981          3.0   321.0    31.0\n",
       "1982          1.0   297.0    24.0\n",
       "1983          NaN   322.0    10.0\n",
       "1984          1.0   342.0    22.0\n",
       "1985          1.0   403.0    19.0\n",
       "1986          1.0   460.0    15.0\n",
       "1987          4.0   439.0    13.0\n",
       "1988          1.0   439.0    10.0\n",
       "1989          1.0   539.0    12.0\n",
       "1990          3.0   604.0     8.0\n",
       "1991          2.0   616.0    18.0\n",
       "1992          2.0   640.0     7.0\n",
       "1993          1.0   709.0    15.0\n",
       "1994          NaN   747.0    11.0\n",
       "1995          NaN   871.0    18.0\n",
       "1996          2.0   938.0    12.0\n",
       "1997          1.0  1036.0    12.0\n",
       "1998          2.0  1079.0    32.0\n",
       "1999          2.0  1112.0    19.0\n",
       "2000          2.0  1265.0    20.0\n",
       "2001          3.0  1314.0    35.0\n",
       "2002          3.0  1357.0    26.0\n",
       "2003          7.0  1488.0    40.0\n",
       "2004         12.0  1587.0    41.0\n",
       "2005          7.0  1739.0    43.0\n",
       "2006         19.0  1902.0    45.0\n",
       "2007         14.0  1997.0    57.0\n",
       "2008         14.0  2234.0    53.0\n",
       "2009         13.0  2193.0    56.0\n",
       "2010         12.0  2523.0    62.0\n",
       "2011         18.0  2748.0    84.0\n",
       "2012         22.0  3062.0    82.0\n",
       "2013         34.0  3353.0    83.0\n",
       "2014         23.0  3673.0    99.0\n",
       "2015         46.0  3832.0    83.0\n",
       "2016         49.0  3995.0   115.0\n",
       "2017         39.0  4037.0   122.0\n",
       "2018         79.0  4483.0   152.0\n",
       "2019         50.0  4842.0   269.0\n",
       "2020          4.0  5891.0   349.0\n",
       "2021          1.0  4401.0    44.0\n",
       "Fall          NaN     5.0     NaN\n",
       "Spri          NaN     1.0     NaN\n",
       "Summ          NaN     4.0     NaN\n",
       "Wint          NaN     1.0     NaN"
      ]
     },
     "execution_count": 46,
     "metadata": {},
     "output_type": "execute_result"
    }
   ],
   "source": [
    "long_df.groupby(['is_golden', 'date']).title.count().unstack().T"
   ]
  },
  {
   "cell_type": "code",
   "execution_count": 47,
   "metadata": {},
   "outputs": [
    {
     "data": {
      "text/plain": [
       "pmid               0.000000\n",
       "id                 0.000000\n",
       "abstract_texts     0.061743\n",
       "date               0.000000\n",
       "journal_title      0.000000\n",
       "title              0.000012\n",
       "authors            0.004452\n",
       "collective_name    0.990679\n",
       "is_golden          0.000000\n",
       "dtype: float64"
      ]
     },
     "execution_count": 47,
     "metadata": {},
     "output_type": "execute_result"
    }
   ],
   "source": [
    "long_df.isnull().mean()"
   ]
  },
  {
   "cell_type": "code",
   "execution_count": 48,
   "metadata": {},
   "outputs": [
    {
     "data": {
      "text/plain": [
       "<class 'list'>     76498\n",
       "<class 'float'>     5034\n",
       "Name: abstract_texts, dtype: int64"
      ]
     },
     "execution_count": 48,
     "metadata": {},
     "output_type": "execute_result"
    }
   ],
   "source": [
    "long_df.abstract_texts.apply(type).value_counts()"
   ]
  },
  {
   "cell_type": "code",
   "execution_count": 64,
   "metadata": {},
   "outputs": [],
   "source": [
    "import numpy as np\n",
    "\n",
    "def get_joint_text(row):\n",
    "    parts = []\n",
    "    if not pd.isnull(row.title):\n",
    "        parts.append(row.title)\n",
    "    if not isinstance(row.abstract_texts, float):\n",
    "        parts.extend([t['text'] for t in row.abstract_texts])\n",
    "    return '\\n\\n'.join(parts)"
   ]
  },
  {
   "cell_type": "code",
   "execution_count": 66,
   "metadata": {},
   "outputs": [],
   "source": [
    "joint_texts = long_df.apply(get_joint_text, axis=1)"
   ]
  },
  {
   "cell_type": "code",
   "execution_count": 67,
   "metadata": {},
   "outputs": [
    {
     "data": {
      "text/plain": [
       "0.17392761394101877"
      ]
     },
     "execution_count": 67,
     "metadata": {},
     "output_type": "execute_result"
    }
   ],
   "source": [
    "(long_df.is_golden == 'golden').sum() / (long_df.is_golden != 'none').sum()"
   ]
  },
  {
   "cell_type": "code",
   "execution_count": 68,
   "metadata": {},
   "outputs": [],
   "source": [
    "X_pos, X_mixed = joint_texts[long_df.is_golden=='golden'], joint_texts[long_df.is_golden=='none'].sample(2000, random_state=1)"
   ]
  },
  {
   "cell_type": "code",
   "execution_count": 69,
   "metadata": {},
   "outputs": [
    {
     "data": {
      "text/plain": [
       "((519,), (2000,))"
      ]
     },
     "execution_count": 69,
     "metadata": {},
     "output_type": "execute_result"
    }
   ],
   "source": [
    "X_pos.shape, X_mixed.shape"
   ]
  },
  {
   "cell_type": "code",
   "execution_count": 70,
   "metadata": {},
   "outputs": [],
   "source": [
    "y_pos, y_mixed = np.ones(len(X_pos)), np.zeros(len(X_mixed))"
   ]
  },
  {
   "cell_type": "code",
   "execution_count": 71,
   "metadata": {},
   "outputs": [],
   "source": [
    "X, y = pd.concat([X_pos, X_mixed]), np.concatenate([y_pos, y_mixed])"
   ]
  },
  {
   "cell_type": "code",
   "execution_count": 72,
   "metadata": {},
   "outputs": [],
   "source": [
    "from sklearn.model_selection import cross_val_score, KFold, cross_val_predict\n",
    "from sklearn.pipeline import make_pipeline\n",
    "from sklearn.feature_extraction.text import CountVectorizer\n",
    "from sklearn.linear_model import LogisticRegression"
   ]
  },
  {
   "cell_type": "code",
   "execution_count": 73,
   "metadata": {},
   "outputs": [],
   "source": [
    "cv = KFold(n_splits=3, random_state=1, shuffle=True)\n",
    "pipe = make_pipeline(CountVectorizer(min_df=5), LogisticRegression(C=0.1, max_iter=3_000))"
   ]
  },
  {
   "cell_type": "markdown",
   "metadata": {},
   "source": [
    "The separation is surprisingly good"
   ]
  },
  {
   "cell_type": "code",
   "execution_count": 74,
   "metadata": {},
   "outputs": [
    {
     "name": "stdout",
     "output_type": "stream",
     "text": [
      "[0.98308325 0.98555621 0.98719663]\n"
     ]
    }
   ],
   "source": [
    "print(cross_val_score(pipe, X, y, cv=cv, scoring='roc_auc'))"
   ]
  },
  {
   "cell_type": "code",
   "execution_count": 75,
   "metadata": {},
   "outputs": [],
   "source": [
    "cannabity = cross_val_predict(pipe, X, y, method='predict_proba', cv=cv)[:, 1]"
   ]
  },
  {
   "cell_type": "code",
   "execution_count": 76,
   "metadata": {},
   "outputs": [
    {
     "data": {
      "text/plain": [
       "Pipeline(steps=[('countvectorizer', CountVectorizer(min_df=5)),\n",
       "                ('logisticregression',\n",
       "                 LogisticRegression(C=0.1, max_iter=3000))])"
      ]
     },
     "execution_count": 76,
     "metadata": {},
     "output_type": "execute_result"
    }
   ],
   "source": [
    "pipe.fit(X, y)"
   ]
  },
  {
   "cell_type": "code",
   "execution_count": 77,
   "metadata": {},
   "outputs": [],
   "source": [
    "long_df['relevance1'] = pipe.predict_proba(joint_texts)[:, 1]"
   ]
  },
  {
   "cell_type": "code",
   "execution_count": 78,
   "metadata": {},
   "outputs": [],
   "source": [
    "long_df.loc[X.index, 'relevance1'] = cannabity"
   ]
  },
  {
   "cell_type": "code",
   "execution_count": 79,
   "metadata": {},
   "outputs": [
    {
     "data": {
      "text/html": [
       "<div>\n",
       "<style scoped>\n",
       "    .dataframe tbody tr th:only-of-type {\n",
       "        vertical-align: middle;\n",
       "    }\n",
       "\n",
       "    .dataframe tbody tr th {\n",
       "        vertical-align: top;\n",
       "    }\n",
       "\n",
       "    .dataframe thead th {\n",
       "        text-align: right;\n",
       "    }\n",
       "</style>\n",
       "<table border=\"1\" class=\"dataframe\">\n",
       "  <thead>\n",
       "    <tr style=\"text-align: right;\">\n",
       "      <th></th>\n",
       "      <th>count</th>\n",
       "      <th>mean</th>\n",
       "      <th>std</th>\n",
       "      <th>min</th>\n",
       "      <th>25%</th>\n",
       "      <th>50%</th>\n",
       "      <th>75%</th>\n",
       "      <th>max</th>\n",
       "    </tr>\n",
       "  </thead>\n",
       "  <tbody>\n",
       "    <tr>\n",
       "      <th>0.0</th>\n",
       "      <td>2000.0</td>\n",
       "      <td>0.039871</td>\n",
       "      <td>0.136229</td>\n",
       "      <td>6.502277e-07</td>\n",
       "      <td>0.000879</td>\n",
       "      <td>0.003845</td>\n",
       "      <td>0.013486</td>\n",
       "      <td>0.999967</td>\n",
       "    </tr>\n",
       "    <tr>\n",
       "      <th>1.0</th>\n",
       "      <td>519.0</td>\n",
       "      <td>0.816411</td>\n",
       "      <td>0.252843</td>\n",
       "      <td>1.838567e-03</td>\n",
       "      <td>0.748137</td>\n",
       "      <td>0.940588</td>\n",
       "      <td>0.993632</td>\n",
       "      <td>1.000000</td>\n",
       "    </tr>\n",
       "  </tbody>\n",
       "</table>\n",
       "</div>"
      ],
      "text/plain": [
       "      count      mean       std           min       25%       50%       75%  \\\n",
       "0.0  2000.0  0.039871  0.136229  6.502277e-07  0.000879  0.003845  0.013486   \n",
       "1.0   519.0  0.816411  0.252843  1.838567e-03  0.748137  0.940588  0.993632   \n",
       "\n",
       "          max  \n",
       "0.0  0.999967  \n",
       "1.0  1.000000  "
      ]
     },
     "execution_count": 79,
     "metadata": {},
     "output_type": "execute_result"
    }
   ],
   "source": [
    "long_df.loc[X.index, 'relevance1'].groupby(y).describe()"
   ]
  },
  {
   "cell_type": "code",
   "execution_count": 80,
   "metadata": {},
   "outputs": [
    {
     "data": {
      "text/html": [
       "<div>\n",
       "<style scoped>\n",
       "    .dataframe tbody tr th:only-of-type {\n",
       "        vertical-align: middle;\n",
       "    }\n",
       "\n",
       "    .dataframe tbody tr th {\n",
       "        vertical-align: top;\n",
       "    }\n",
       "\n",
       "    .dataframe thead th {\n",
       "        text-align: right;\n",
       "    }\n",
       "</style>\n",
       "<table border=\"1\" class=\"dataframe\">\n",
       "  <thead>\n",
       "    <tr style=\"text-align: right;\">\n",
       "      <th></th>\n",
       "      <th>0.0</th>\n",
       "      <th>1.0</th>\n",
       "    </tr>\n",
       "  </thead>\n",
       "  <tbody>\n",
       "    <tr>\n",
       "      <th>0.00</th>\n",
       "      <td>6.502277e-07</td>\n",
       "      <td>0.001839</td>\n",
       "    </tr>\n",
       "    <tr>\n",
       "      <th>0.01</th>\n",
       "      <td>1.908222e-05</td>\n",
       "      <td>0.037408</td>\n",
       "    </tr>\n",
       "    <tr>\n",
       "      <th>0.05</th>\n",
       "      <td>9.809581e-05</td>\n",
       "      <td>0.226178</td>\n",
       "    </tr>\n",
       "    <tr>\n",
       "      <th>0.10</th>\n",
       "      <td>2.333584e-04</td>\n",
       "      <td>0.378788</td>\n",
       "    </tr>\n",
       "    <tr>\n",
       "      <th>0.25</th>\n",
       "      <td>8.794504e-04</td>\n",
       "      <td>0.748137</td>\n",
       "    </tr>\n",
       "    <tr>\n",
       "      <th>0.50</th>\n",
       "      <td>3.845341e-03</td>\n",
       "      <td>0.940588</td>\n",
       "    </tr>\n",
       "    <tr>\n",
       "      <th>0.75</th>\n",
       "      <td>1.348631e-02</td>\n",
       "      <td>0.993632</td>\n",
       "    </tr>\n",
       "    <tr>\n",
       "      <th>0.90</th>\n",
       "      <td>5.432138e-02</td>\n",
       "      <td>0.998785</td>\n",
       "    </tr>\n",
       "    <tr>\n",
       "      <th>0.95</th>\n",
       "      <td>1.993673e-01</td>\n",
       "      <td>0.999794</td>\n",
       "    </tr>\n",
       "    <tr>\n",
       "      <th>0.99</th>\n",
       "      <td>8.844293e-01</td>\n",
       "      <td>0.999996</td>\n",
       "    </tr>\n",
       "    <tr>\n",
       "      <th>1.00</th>\n",
       "      <td>9.999667e-01</td>\n",
       "      <td>1.000000</td>\n",
       "    </tr>\n",
       "  </tbody>\n",
       "</table>\n",
       "</div>"
      ],
      "text/plain": [
       "               0.0       1.0\n",
       "0.00  6.502277e-07  0.001839\n",
       "0.01  1.908222e-05  0.037408\n",
       "0.05  9.809581e-05  0.226178\n",
       "0.10  2.333584e-04  0.378788\n",
       "0.25  8.794504e-04  0.748137\n",
       "0.50  3.845341e-03  0.940588\n",
       "0.75  1.348631e-02  0.993632\n",
       "0.90  5.432138e-02  0.998785\n",
       "0.95  1.993673e-01  0.999794\n",
       "0.99  8.844293e-01  0.999996\n",
       "1.00  9.999667e-01  1.000000"
      ]
     },
     "execution_count": 80,
     "metadata": {},
     "output_type": "execute_result"
    }
   ],
   "source": [
    "pd.Series(cannabity).groupby(y).quantile([0, 0.01, 0.05, 0.1, 0.25, 0.5, 0.75, 0.9, 0.95, 0.99, 1]).unstack().T"
   ]
  },
  {
   "cell_type": "code",
   "execution_count": 81,
   "metadata": {},
   "outputs": [
    {
     "data": {
      "image/png": "[encoded data removed]",
      "text/plain": [
       "<Figure size 432x288 with 1 Axes>"
      ]
     },
     "metadata": {
      "needs_background": "light"
     },
     "output_type": "display_data"
    }
   ],
   "source": [
    "pd.Series(cannabity).hist(bins=50);"
   ]
  },
  {
   "cell_type": "code",
   "execution_count": 82,
   "metadata": {},
   "outputs": [
    {
     "data": {
      "image/png": "[encoded data removed]",
      "text/plain": [
       "<Figure size 432x288 with 1 Axes>"
      ]
     },
     "metadata": {
      "needs_background": "light"
     },
     "output_type": "display_data"
    }
   ],
   "source": [
    "pd.Series(cannabity)[y==1].hist(bins=50);"
   ]
  },
  {
   "cell_type": "code",
   "execution_count": 83,
   "metadata": {},
   "outputs": [
    {
     "data": {
      "image/png": "[encoded data removed]",
      "text/plain": [
       "<Figure size 432x288 with 1 Axes>"
      ]
     },
     "metadata": {
      "needs_background": "light"
     },
     "output_type": "display_data"
    }
   ],
   "source": [
    "pd.Series(cannabity)[y==0].hist(bins=50);"
   ]
  },
  {
   "cell_type": "markdown",
   "metadata": {},
   "source": [
    "\n",
    "* 5-10% - преимущественно мусор\n",
    "* 10-20% - есть некоторое количество релевантных\n",
    "* 20-35% - довольно много релевантных\n",
    "* 35-50% - большинство релевантные"
   ]
  },
  {
   "cell_type": "code",
   "execution_count": 84,
   "metadata": {},
   "outputs": [],
   "source": [
    "long_df.to_pickle('../../data/long_df_june.pkl')"
   ]
  },
  {
   "cell_type": "code",
   "execution_count": 85,
   "metadata": {
    "scrolled": false
   },
   "outputs": [
    {
     "name": "stdout",
     "output_type": "stream",
     "text": [
      "15-Lipoxygenase metabolism of 2-arachidonylglycerol. Generation of a peroxisome proliferator-activated receptor alpha agonist.\n",
      "\n",
      "The recent demonstrations that cyclooxygenase-2 and leukocyte-type 12-lipoxygenase (LOX) efficiently oxygenate 2-arachidonylglycerol (2-AG) prompted an investigation into related oxygenases capable of metabolizing this endogenous cannabinoid receptor ligand. We evaluated the ability of six LOXs to catalyze the hydroperoxidation of 2-AG. Soybean 15-LOX, rabbit reticulocyte 15-LOX, human 15-LOX-1, and human 15-LOX-2 oxygenate 2-AG, providing 15(S)-hydroperoxyeicosatetraenoic acid glyceryl ester. In contrast, potato and human 5-LOXs do not efficiently metabolize this endocannabinoid. Among a series of structurally related arachidonyl esters, arachidonylglycerols serve as the preferred substrates for 15-LOXs. Steady-state kinetic analysis demonstrates that both 15-LOX-1 and 15-LOX-2 oxygenate 2-AG comparably or preferably to arachidonic acid. Furthermore, 2-AG treatment of COS-7 cells transiently transfected with human 15-LOX expression vectors or normal human epidermal keratinocytes results in the production and extracellular release of 15-hydroxyeicosatetraenoic acid glyceryl ester (15-HETE-G), establishing that lipoxygenase metabolism of 2-AG occurs in an eukaryotic cellular environment. Investigations into the potential biological actions of 15-HETE-G indicate that this lipid, in contrast to its free-acid counterpart, acts as a peroxisome proliferator-activated receptor alpha agonist. The results demonstrate that 15-LOXs are capable of acting on 2-AG to provide 15-HETE-G and elucidate a potential role for endocannabinoid oxygenation in the generation of peroxisome proliferator-activated receptor alpha agonists.\n",
      "-------------\n",
      "Characterization of a novel cell wall binding domain-containing Staphylococcus aureus endolysin LysSA97.\n",
      "\n",
      "Endolysin from Staphylococcus aureus phage SA97 (LysSA97) was cloned and investigated. LysSA97 specifically lyse the staphylococcal strains and effectively disrupted staphylococcal biofilms. Bioinformatic analysis of LysSA97 revealed a novel putative cell wall binding domain (CBD) as well as two enzymatically active domains (EADs) containing cysteine, histidine-dependent amidohydrolases/peptidases (CHAP, PF05257) and N-acetylmuramoyl-L-alanine amidase (Amidase-3, PF01520) domains. Comparison of 98 endolysin genes of S. aureus phages deposited in GenBank showed that they can be classified into six groups based on their domain composition. Interestingly, approximately 80.61 % of the staphylococcal endolysins have a src-homology 3 (SH3, PF08460) domain as CBD, but the remaining 19.39 %, including LysSA97, has a putative C-terminal CBD with no homology to the known CBD. The fusion protein containing green fluorescent protein and the putative CBD of LysSA97 showed a specific binding spectrum against staphylococcal cells comparable to SH3 domain (PF08460), suggesting that the C-terminal domain of LysSA97 is a novel CBD of staphylococcal endolysins.\n",
      "-------------\n",
      "CB1 receptor inhibition leads to decreased vascular AT1 receptor expression, inhibition of oxidative stress and improved endothelial function.\n",
      "\n",
      "Inhibition of the cannabinoid receptor CB(1) (CB(1)-R) exerts numerous positive cardiovascular effects such as modulation of blood pressure, insulin sensitivity and serum lipid concentrations. However, direct vascular effects of CB(1)-R inhibition remain unclear. CB(1)-R expression was validated in vascular smooth muscle cells (VSMCs) and aortic tissue of mice. Apolipoprotein E-deficient (ApoE-/-) mice were treated with cholesterol-rich diet and the selective CB(1)-R antagonist rimonabant or vehicle for 7 weeks. CB(1)-R inhibition had no effect on atherosclerotic plaque development, collagen content and macrophage infiltration but led to improved aortic endothelium-dependent vasodilation and decreased aortic reactive oxygen species (ROS) production and NADPH oxidase activity. Treatment of cultured VSMC with rimonabant resulted in reduced angiotensin II-mediated but not basal ROS production and NADPH oxidase activity. CB(1)-R inhibition with rimonabant and AM251 led to down-regulation of angiotensin II type 1 receptor (AT1-R) expression, whereas stimulation with the CB(1)-R agonist CP 55,940 resulted in AT1-R up-regulation, indicating that AT1-R expression is directly regulated by the CB(1)-R. CB(2)-R inhibition had no impact on AT1-R expression in VSMC. Consistently, CB(1)-R inhibition decreased aortic AT1-R expression in vivo. CB(1)-R inhibition leads to decreased vascular AT1-R expression, NADPH oxidase activity and ROS production in vitro and in vivo. This antioxidative effect is associated with improved endothelial function in ApoE-/- mice, indicating beneficial direct vascular effects of CB(1)-R inhibition.\n",
      "-------------\n",
      "A Sequential Multiple Assignment Randomized Trial (SMART) study of medication and CBT sequencing in the treatment of pediatric anxiety disorders.\n",
      "\n",
      "Treatment of a child who has an anxiety disorder usually begins with the question of which treatment to start first, medication or psychotherapy. Both have strong empirical support, but few studies have compared their effectiveness head-to-head, and none has investigated what to do if the treatment tried first isn't working well-whether to optimize the treatment already begun or to add the other treatment.\n",
      "\n",
      "This is a single-blind Sequential Multiple Assignment Randomized Trial (SMART) of 24 weeks duration with two levels of randomization, one in each of two 12-week stages. In Stage 1, children will be randomized to fluoxetine or Coping Cat Cognitive Behavioral Therapy (CBT). In Stage 2, remitters will continue maintenance-level therapy with the single-modality treatment received in Stage 1. Non-remitters during the first 12 weeks of treatment will be randomized to either [1] optimization of their Stage 1 treatment, or [2] optimization of Stage 1 treatment and addition of the other intervention. After the 24-week trial, we will follow participants during open, naturalistic treatment to assess the durability of study treatment effects. Patients, 8-17 years of age who are diagnosed with an anxiety disorder, will be recruited and treated within 9 large clinical sites throughout greater Los Angeles. They will be predominantly underserved, ethnic minorities. The primary outcome measure will be the self-report score on the 41-item youth SCARED (Screen for Child Anxiety Related Disorders). An intent-to-treat analysis will compare youth randomized to fluoxetine first versus those randomized to CBT first (\"Main Effect 1\"). Then, among Stage 1 non-remitters, we will compare non-remitters randomized to optimization of their Stage 1 monotherapy versus non-remitters randomized to combination treatment (\"Main Effect 2\"). The interaction of these main effects will assess whether one of the 4 treatment sequences (CBT➔CBT; CBT➔med; med➔med; med➔CBT) in non-remitters is significantly better or worse than predicted from main effects alone.\n",
      "\n",
      "Findings from this SMART study will identify treatment sequences that optimize outcomes in ethnically diverse pediatric patients from underserved low- and middle-income households who have anxiety disorders.\n",
      "\n",
      "This protocol, version 1.0, was registered in ClinicalTrials.gov on February 17, 2021 with Identifier: NCT04760275 .\n",
      "-------------\n",
      "Δ-9-Tetrahydrocannabinol induces endocannabinoid accumulation in mouse hepatocytes: antagonism by Fabp1 gene ablation.\n",
      "\n",
      "Phytocannabinoids, such as Δ-9-tetrahydrocannabinol (THC), bind and activate cannabinoid (CB) receptors, thereby \"piggy-backing\" on the same pathway's endogenous endocannabinoids (ECs). The recent discovery that liver fatty acid binding protein-1 (FABP1) is the major cytosolic \"chaperone\" protein with high affinity for both Δ-9-THC and ECs suggests that Δ-9-THC may alter hepatic EC levels. Therefore, the impact of Δ-9-THC or EC treatment on the levels of endogenous ECs, such as N-arachidonoylethanolamide (AEA) and 2-arachidonoylglycerol (2-AG), was examined in cultured primary mouse hepatocytes from WT and Fabp1 gene-ablated (LKO) mice. Δ-9-THC alone or 2-AG alone significantly increased AEA and especially 2-AG levels in WT hepatocytes. LKO alone markedly increased AEA and 2-AG levels. However, LKO blocked/diminished the ability of Δ-9-THC to further increase both AEA and 2-AG. In contrast, LKO potentiated the ability of exogenous 2-AG to increase the hepatocyte level of AEA and 2-AG. These and other data suggest that Δ-9-THC increases hepatocyte EC levels, at least in part, by upregulating endogenous AEA and 2-AG levels. This may arise from Δ-9-THC competing with AEA and 2-AG binding to FABP1, thereby decreasing targeting of bound AEA and 2-AG to the degradative enzymes, fatty acid amide hydrolase and monoacylglyceride lipase, to decrease hydrolysis within hepatocytes.\n",
      "-------------\n",
      "Effects of perinatal exposure to delta 9-tetrahydrocannabinol on operant morphine-reinforced behavior.\n",
      "\n",
      "The present study examined the effects of Delta(9)-tetrahydrocannabinol (Delta(9)-THC) when administered during the perinatal period on morphine self-administration in adulthood. To this end, pregnant Wistar rats were daily exposed to Delta(9)-THC from the fifth day of gestation up to pup weaning, when they were separated by gender and left to mature to be used for analyses of operant food- and morphine-reinforced behavior in a progressive ratio (PR) schedule. We also analyzed dopaminergic activity (DOPAC/DA) in reward-related structures during specific phases of the behavioral study. In both reinforcement paradigms, food and morphine, females always reached higher patterns of self-administration than males, but this occurred for the two treatment groups, Delta(9)-THC or vehicle. These higher patterns measured in females corresponded with a higher DOPAC/DA in the nucleus accumbens prior to the onset of morphine self-administration in comparison to males. Interestingly, DOPAC/DA was lower in Delta(9)-THC-exposed females compared to oil-exposed females and similar to oil- and Delta(9)-THC-exposed males. In addition, Delta(9)-THC-exposed females also exhibited a reduction in DOPAC/DA in the ventral tegmental area, which did not exist in males. All these changes, however, disappeared after 15 days of morphine self-administration and they did not reappear after 15 additional days of extinction of this response. Our data suggest that females are more vulnerable than males in a PR schedule for operant food and morphine self-administration; perinatal Delta(9)-THC exposure is not a factor influencing this vulnerability. The neurochemical analysis revealed that the activity of limbic dopaminergic neurons prior to morphine self-administration was higher in females than males, as well as that the perinatal Delta(9)-THC treatment reduced the activity of these neurons only in females, although this had no influence on morphine vulnerability in these animals.\n",
      "-------------\n",
      "Different patterns of treatment response to Cognitive-Behavioural Therapy for Insomnia (CBT-I) in psychosis.\n",
      "\n",
      "People with psychosis benefit enormously from Cognitive Behavioural Therapy for Insomnia (CBTI), although some variability exists in treatment outcomes. While recent efforts have focused on profiling sleep at treatment initiation, an alternative methodological approach involves using treatment response as a starting point to better understand what constitutes an effective treatment. This study used Grade of Membership analysis (GoM) to estimate the occurrence of unique treatment outcomes and associated patient characteristics. Outcome measures included changes in sleep (self-reported latency, efficiency, duration, quality), functional outcomes (daytime dysfunction, negative mood, need for sleep medication) and treatment goal, collected in 50 individuals with a psychotic disorder and insomnia who underwent CBT-I treatment. Three distinct profiles were identified: (1) Strong responders, who met their treatment goals and showed broad improvements in both sleep and functional domains; (2) Partial responders, who showed sleep improvements (particularly in total sleep time), without noticeable gains in function, and who were predominantly female; and (3) Non-responders who showed little treatment response and failed to meet their treatment goals. This group was also more likely to have greater psychopathology (high levels of negative mood and psychotic symptoms, and antipsychotic medication dosage). These findings suggest that (i) CBT-I can serve to improve sleep and daytime function (although sleep can improve independently from function), (ii) client-elicited treatment goals are a key predictor of CBT-I response, (iii) other important variables associated with treatment response include sleep profile, clinical acuity, and sex.\n",
      "-------------\n",
      "Cannabinoid HU210 protects isolated rat stomach against impairment caused by serum of rats with experimental acute pancreatitis.\n",
      "\n",
      "Acute pancreatitis (AP), especially severe acute pancreatitis often causes extra-pancreatic complications, such as acute gastrointestinal mucosal lesion (AGML) which is accompanied by a considerably high mortality, yet the pathogenesis of AP-induced AGML is still not fully understood. In this report, we investigated the alterations of serum components and gastric endocrine and exocrine functions in rats with experimental acute pancreatitis, and studied the possible contributions of these alterations in the pathogenesis of AGML. In addition, we explored the intervention effects of cannabinoid receptor agonist HU210 and antagonist AM251 on isolated and serum-perfused rat stomach. Our results showed that the AGML occurred after 5 h of AP replication, and the body homeostasis was disturbed in AP rat, with increased levels of pancreatic enzymes, lipopolysaccharide (LPS), proinflammtory cytokines and chemokines in the blood, and an imbalance of the gastric secretion function. Perfusing the isolated rat stomach with the AP rat serum caused morphological changes in the stomach, accompanied with a significant increment of pepsin and [H+] release, and increased gastrin and decreased somatostatin secretion. HU210 reversed the AP-serum-induced rat pathological alterations, including the reversal of transformation of the gastric morphology to certain degree. The results from this study prove that the inflammatory responses and the imbalance of the gastric secretion during the development of AP are responsible for the pathogenesis of AGML, and suggest the therapeutic potential of HU210 for AGML associated with acute pancreatitis.\n",
      "-------------\n",
      "Time-Dependent Protection of CB2 Receptor Agonist in Stroke.\n",
      "\n",
      "Recent studies have indicated that type 2 cannabinoid receptor (CB2R) agonists reduce neurodegeneration after brain injury through anti-inflammatory activity. The purpose of this study was to examine the time-dependent interaction of CB2R and inflammation in stroke brain. Adult male rats were subjected to right middle cerebral artery occlusion (MCAo). CB2R mRNA expression was significantly elevated >20 fold on day 2, peaked >40-fold on day 5, and normalized on day 10 post-stroke. Inflammatory markers IBA1 and TLR4 were significantly upregulated 15 fold until day 5 after MCAo. Because of the delayed upregulation of CB2R and IBA1, we next treated animals daily with CB2R agonist AM1241 or anti-inflammatory PPAR-γ agonist pioglitazone from 2 to 5 days after MCAo. Delayed treatment with pioglitazone significantly reduced abnormal neurological scores and body asymmetry as well as brain infarction in stroke animals. No behavioral improvement or reduction in brain infarction was found in animals receiving AM1241. Pioglitazone, but not AM1241, significantly reduced IBA1 expression in the stroke cortex, suggesting that delayed treatment with AM1241 failed to alter ischemia-mediated IBA-1 upregulation. In contrast, pretreatment with AM1241 significantly reduced brain infarction and neurological deficits. In conclusion, our data support a time-dependent neuroprotection of CB2 agonist in an animal model of stroke. Delayed post- treatment with PPAR-γ agonist induced behavioral recovery and microglial suppression; early treatment with CB2R agonist suppressed neurodegeneration in stroke animals.\n",
      "-------------\n",
      "Percutaneous management of residual bile duct stones through T-tube tract after cholecystectomy: A retrospective analysis of 89 patients.\n",
      "\n",
      "The purpose of this study was to analyze the outcome of percutaneous management of residual common bile duct (CBD) stones in patients with surgically inserted T-tube in CBD after cholecystectomy.\n",
      "\n",
      "Between April 2001 and August 2015, 89 patients (52 women, 37 men) with a mean age of 55.7 years±18 (SD) (range, 22-88 years) underwent percutaneous sphincteroplasty and stone expulsion into the duodenum with a Fogarty balloon catheter through the T-tube tract for residual CBD stones. All patients had previously undergone open cholecystectomy with CBD exploration and T-tube insertion 7 to 60 days (mean, 14.4 days) before the procedure. Results of the procedure and complications were evaluated by a review of clinical notes, imaging and laboratory findings.\n",
      "\n",
      "The procedure was successful in 87/89 patients (97.7%). Complete CBD clearance was achieved in a first session in 86 patients (96.6%). One patient (1.1%) needed a second session. The procedure was unsuccessful in 2 patients (2.2%) due to inappropriate position of T-tube and stone impaction into the cystic duct remnant. Two complications (2.2%) including intra-abdominal bile collection and distal CBD stricture were observed after the procedure.\n",
      "\n",
      "Percutaneous CBD expulsion into the duodenum through the T-tube tract is a non-traumatic, effective and safe method for the treatment of residual CBD stones in patients who had cholecystectomy and T-tube insertion.\n",
      "-------------\n"
     ]
    }
   ],
   "source": [
    "for text in X[(cannabity > 0.10) & (cannabity <= 0.20) & (y == 0)].sample(10):\n",
    "    print(text)\n",
    "    print('-------------')"
   ]
  },
  {
   "cell_type": "code",
   "execution_count": 433,
   "metadata": {},
   "outputs": [
    {
     "name": "stdout",
     "output_type": "stream",
     "text": [
      "\n",
      "1. Curr Oncol. 2016 Mar;23(2):S33-6. doi: 10.3747/co.23.2962. Epub 2016 Mar 16.\n",
      "\n",
      "Use of cannabinoids in cancer care: palliative care.\n",
      "\n",
      "Aggarwal SK(1).\n",
      "\n",
      "Author information: \n",
      "(1)Adult Palliative Medicine Services, MultiCare Auburn Medical Center, and\n",
      "MultiCare Institute for Research and Innovation, Auburn, WA, U.S.A.\n",
      "\n",
      "DOI: 10.3747/co.23.2962 \n",
      "PMCID: PMC4791145\n",
      "PMID: 27022312 \n",
      "\n",
      "\n"
     ]
    }
   ],
   "source": [
    "print(efetch(db='pubmed', id=['27022312'], retmode='json', rettype='abstract').read().decode('utf-8'))"
   ]
  },
  {
   "cell_type": "code",
   "execution_count": 436,
   "metadata": {},
   "outputs": [],
   "source": [
    "delta = long_df[long_df.abstract_texts.notnull() & (long_df.is_golden != 'golden') & (long_df.relevance1 > 0.2)].copy()"
   ]
  },
  {
   "cell_type": "code",
   "execution_count": 437,
   "metadata": {},
   "outputs": [
    {
     "data": {
      "text/plain": [
       "(4877, 10)"
      ]
     },
     "execution_count": 437,
     "metadata": {},
     "output_type": "execute_result"
    }
   ],
   "source": [
    "delta.shape"
   ]
  },
  {
   "cell_type": "code",
   "execution_count": 438,
   "metadata": {},
   "outputs": [
    {
     "data": {
      "image/png": "[encoded data removed]",
      "text/plain": [
       "<Figure size 432x288 with 1 Axes>"
      ]
     },
     "metadata": {
      "needs_background": "light"
     },
     "output_type": "display_data"
    }
   ],
   "source": [
    "delta.relevance1.hist();"
   ]
  },
  {
   "cell_type": "code",
   "execution_count": 86,
   "metadata": {},
   "outputs": [],
   "source": [
    "long_df.to_pickle('../../data/long_df_june.pkl')"
   ]
  },
  {
   "cell_type": "code",
   "execution_count": 453,
   "metadata": {},
   "outputs": [],
   "source": []
  },
  {
   "cell_type": "code",
   "execution_count": 442,
   "metadata": {},
   "outputs": [],
   "source": [
    "delta.to_pickle('../../data/long_df_delta_june.pkl')"
   ]
  },
  {
   "cell_type": "code",
   "execution_count": 457,
   "metadata": {},
   "outputs": [],
   "source": [
    "delta.to_csv('../../data/long_df_delta_june.csv', index=None)"
   ]
  },
  {
   "cell_type": "code",
   "execution_count": 458,
   "metadata": {},
   "outputs": [],
   "source": [
    "d2 = pd.read_csv('../../data/long_df_delta_june.csv')"
   ]
  },
  {
   "cell_type": "code",
   "execution_count": 459,
   "metadata": {},
   "outputs": [
    {
     "data": {
      "text/html": [
       "<div>\n",
       "<style scoped>\n",
       "    .dataframe tbody tr th:only-of-type {\n",
       "        vertical-align: middle;\n",
       "    }\n",
       "\n",
       "    .dataframe tbody tr th {\n",
       "        vertical-align: top;\n",
       "    }\n",
       "\n",
       "    .dataframe thead th {\n",
       "        text-align: right;\n",
       "    }\n",
       "</style>\n",
       "<table border=\"1\" class=\"dataframe\">\n",
       "  <thead>\n",
       "    <tr style=\"text-align: right;\">\n",
       "      <th></th>\n",
       "      <th>pmid</th>\n",
       "      <th>id</th>\n",
       "      <th>abstract_texts</th>\n",
       "      <th>date</th>\n",
       "      <th>journal_title</th>\n",
       "      <th>title</th>\n",
       "      <th>authors</th>\n",
       "      <th>collective_name</th>\n",
       "      <th>is_golden</th>\n",
       "      <th>relevance1</th>\n",
       "      <th>abstract</th>\n",
       "    </tr>\n",
       "  </thead>\n",
       "  <tbody>\n",
       "    <tr>\n",
       "      <th>0</th>\n",
       "      <td>1005489</td>\n",
       "      <td>pubmed_1005489</td>\n",
       "      <td>[{'text': 'The pharmacological interaction bet...</td>\n",
       "      <td>1976</td>\n",
       "      <td>Pharmacology, biochemistry, and behavior</td>\n",
       "      <td>Ethanol and delta-9-tetrahydrocannabinol: mech...</td>\n",
       "      <td>[{'last_name': 'Sprague', 'first_name': 'G L',...</td>\n",
       "      <td>NaN</td>\n",
       "      <td>none</td>\n",
       "      <td>0.997469</td>\n",
       "      <td>The pharmacological interaction between equipo...</td>\n",
       "    </tr>\n",
       "    <tr>\n",
       "      <th>1</th>\n",
       "      <td>10065936</td>\n",
       "      <td>pubmed_10065936</td>\n",
       "      <td>[{'text': 'This study compared the effects of ...</td>\n",
       "      <td>1998</td>\n",
       "      <td>Behavioural pharmacology</td>\n",
       "      <td>Effects of delta-9-tetrahydrocannabinol and (R...</td>\n",
       "      <td>[{'last_name': 'Järbe', 'first_name': 'T U', '...</td>\n",
       "      <td>NaN</td>\n",
       "      <td>none</td>\n",
       "      <td>0.721862</td>\n",
       "      <td>This study compared the effects of (R)-methana...</td>\n",
       "    </tr>\n",
       "    <tr>\n",
       "      <th>2</th>\n",
       "      <td>10090646</td>\n",
       "      <td>pubmed_10090646</td>\n",
       "      <td>[{'text': 'Symptoms of dependence and withdraw...</td>\n",
       "      <td>1999</td>\n",
       "      <td>Psychopharmacology</td>\n",
       "      <td>Abstinence symptoms following oral THC adminis...</td>\n",
       "      <td>[{'last_name': 'Haney', 'first_name': 'M', 'in...</td>\n",
       "      <td>NaN</td>\n",
       "      <td>silver</td>\n",
       "      <td>0.892005</td>\n",
       "      <td>Symptoms of dependence and withdrawal after th...</td>\n",
       "    </tr>\n",
       "    <tr>\n",
       "      <th>3</th>\n",
       "      <td>10098887</td>\n",
       "      <td>pubmed_10098887</td>\n",
       "      <td>[{'text': 'The effects of cannabinoids on keto...</td>\n",
       "      <td>1999</td>\n",
       "      <td>Journal of neurochemistry</td>\n",
       "      <td>The stimulation of ketogenesis by cannabinoids...</td>\n",
       "      <td>[{'last_name': 'Blázquez', 'first_name': 'C', ...</td>\n",
       "      <td>NaN</td>\n",
       "      <td>none</td>\n",
       "      <td>0.786678</td>\n",
       "      <td>The effects of cannabinoids on ketogenesis in ...</td>\n",
       "    </tr>\n",
       "    <tr>\n",
       "      <th>4</th>\n",
       "      <td>1012982</td>\n",
       "      <td>pubmed_1012982</td>\n",
       "      <td>[{'text': 'The daily application in rats of d-...</td>\n",
       "      <td>1976</td>\n",
       "      <td>Polish journal of pharmacology and pharmacy</td>\n",
       "      <td>An attempt to correlate the development of tol...</td>\n",
       "      <td>[{'last_name': 'Magour', 'first_name': 'S', 'i...</td>\n",
       "      <td>NaN</td>\n",
       "      <td>none</td>\n",
       "      <td>0.368673</td>\n",
       "      <td>The daily application in rats of d-amphetamine...</td>\n",
       "    </tr>\n",
       "    <tr>\n",
       "      <th>...</th>\n",
       "      <td>...</td>\n",
       "      <td>...</td>\n",
       "      <td>...</td>\n",
       "      <td>...</td>\n",
       "      <td>...</td>\n",
       "      <td>...</td>\n",
       "      <td>...</td>\n",
       "      <td>...</td>\n",
       "      <td>...</td>\n",
       "      <td>...</td>\n",
       "      <td>...</td>\n",
       "    </tr>\n",
       "    <tr>\n",
       "      <th>4872</th>\n",
       "      <td>991940</td>\n",
       "      <td>pubmed_991940</td>\n",
       "      <td>[{'text': 'The effects of delta9-THC and its e...</td>\n",
       "      <td>1976</td>\n",
       "      <td>European journal of pharmacology</td>\n",
       "      <td>The influence of delta9-tetrahydrocannabinol o...</td>\n",
       "      <td>[{'last_name': 'Nagle', 'first_name': 'B', 'in...</td>\n",
       "      <td>NaN</td>\n",
       "      <td>silver</td>\n",
       "      <td>0.279677</td>\n",
       "      <td>The effects of delta9-THC and its ethanol vehi...</td>\n",
       "    </tr>\n",
       "    <tr>\n",
       "      <th>4873</th>\n",
       "      <td>996043</td>\n",
       "      <td>pubmed_996043</td>\n",
       "      <td>[{'text': 'The preoptic region (POR) is a prim...</td>\n",
       "      <td>1976</td>\n",
       "      <td>Pharmacology, biochemistry, and behavior</td>\n",
       "      <td>Hypothermia induced by delta9-tetrahydrocannab...</td>\n",
       "      <td>[{'last_name': 'Schmeling', 'first_name': 'W T...</td>\n",
       "      <td>NaN</td>\n",
       "      <td>silver</td>\n",
       "      <td>0.851555</td>\n",
       "      <td>The preoptic region (POR) is a primary central...</td>\n",
       "    </tr>\n",
       "    <tr>\n",
       "      <th>4874</th>\n",
       "      <td>996059</td>\n",
       "      <td>pubmed_996059</td>\n",
       "      <td>[{'text': \"Albino rats were given extensive tr...</td>\n",
       "      <td>1976</td>\n",
       "      <td>Pharmacology, biochemistry, and behavior</td>\n",
       "      <td>Role of experience in acquisition and loss of ...</td>\n",
       "      <td>[{'last_name': 'Manning', 'first_name': 'F J',...</td>\n",
       "      <td>NaN</td>\n",
       "      <td>none</td>\n",
       "      <td>0.623145</td>\n",
       "      <td>Albino rats were given extensive training in s...</td>\n",
       "    </tr>\n",
       "    <tr>\n",
       "      <th>4875</th>\n",
       "      <td>9988095</td>\n",
       "      <td>pubmed_9988095</td>\n",
       "      <td>[{'text': 'Clinical and basic research studies...</td>\n",
       "      <td>1999</td>\n",
       "      <td>European journal of pharmacology</td>\n",
       "      <td>Chronic-delta9-tetrahydrocannabinol treatment ...</td>\n",
       "      <td>[{'last_name': 'Gorriti', 'first_name': 'M A',...</td>\n",
       "      <td>NaN</td>\n",
       "      <td>silver</td>\n",
       "      <td>0.940650</td>\n",
       "      <td>Clinical and basic research studies have linke...</td>\n",
       "    </tr>\n",
       "    <tr>\n",
       "      <th>4876</th>\n",
       "      <td>999986</td>\n",
       "      <td>pubmed_999986</td>\n",
       "      <td>[{'text': 'EEG correlates of subjective experi...</td>\n",
       "      <td>1976</td>\n",
       "      <td>Biological psychiatry</td>\n",
       "      <td>Human EEG spectra before and during cannabis h...</td>\n",
       "      <td>[{'last_name': 'Koukkou', 'first_name': 'M', '...</td>\n",
       "      <td>NaN</td>\n",
       "      <td>none</td>\n",
       "      <td>0.270955</td>\n",
       "      <td>EEG correlates of subjective experiences induc...</td>\n",
       "    </tr>\n",
       "  </tbody>\n",
       "</table>\n",
       "<p>4877 rows × 11 columns</p>\n",
       "</div>"
      ],
      "text/plain": [
       "          pmid               id  \\\n",
       "0      1005489   pubmed_1005489   \n",
       "1     10065936  pubmed_10065936   \n",
       "2     10090646  pubmed_10090646   \n",
       "3     10098887  pubmed_10098887   \n",
       "4      1012982   pubmed_1012982   \n",
       "...        ...              ...   \n",
       "4872    991940    pubmed_991940   \n",
       "4873    996043    pubmed_996043   \n",
       "4874    996059    pubmed_996059   \n",
       "4875   9988095   pubmed_9988095   \n",
       "4876    999986    pubmed_999986   \n",
       "\n",
       "                                         abstract_texts  date  \\\n",
       "0     [{'text': 'The pharmacological interaction bet...  1976   \n",
       "1     [{'text': 'This study compared the effects of ...  1998   \n",
       "2     [{'text': 'Symptoms of dependence and withdraw...  1999   \n",
       "3     [{'text': 'The effects of cannabinoids on keto...  1999   \n",
       "4     [{'text': 'The daily application in rats of d-...  1976   \n",
       "...                                                 ...   ...   \n",
       "4872  [{'text': 'The effects of delta9-THC and its e...  1976   \n",
       "4873  [{'text': 'The preoptic region (POR) is a prim...  1976   \n",
       "4874  [{'text': \"Albino rats were given extensive tr...  1976   \n",
       "4875  [{'text': 'Clinical and basic research studies...  1999   \n",
       "4876  [{'text': 'EEG correlates of subjective experi...  1976   \n",
       "\n",
       "                                    journal_title  \\\n",
       "0        Pharmacology, biochemistry, and behavior   \n",
       "1                        Behavioural pharmacology   \n",
       "2                              Psychopharmacology   \n",
       "3                       Journal of neurochemistry   \n",
       "4     Polish journal of pharmacology and pharmacy   \n",
       "...                                           ...   \n",
       "4872             European journal of pharmacology   \n",
       "4873     Pharmacology, biochemistry, and behavior   \n",
       "4874     Pharmacology, biochemistry, and behavior   \n",
       "4875             European journal of pharmacology   \n",
       "4876                        Biological psychiatry   \n",
       "\n",
       "                                                  title  \\\n",
       "0     Ethanol and delta-9-tetrahydrocannabinol: mech...   \n",
       "1     Effects of delta-9-tetrahydrocannabinol and (R...   \n",
       "2     Abstinence symptoms following oral THC adminis...   \n",
       "3     The stimulation of ketogenesis by cannabinoids...   \n",
       "4     An attempt to correlate the development of tol...   \n",
       "...                                                 ...   \n",
       "4872  The influence of delta9-tetrahydrocannabinol o...   \n",
       "4873  Hypothermia induced by delta9-tetrahydrocannab...   \n",
       "4874  Role of experience in acquisition and loss of ...   \n",
       "4875  Chronic-delta9-tetrahydrocannabinol treatment ...   \n",
       "4876  Human EEG spectra before and during cannabis h...   \n",
       "\n",
       "                                                authors collective_name  \\\n",
       "0     [{'last_name': 'Sprague', 'first_name': 'G L',...             NaN   \n",
       "1     [{'last_name': 'Järbe', 'first_name': 'T U', '...             NaN   \n",
       "2     [{'last_name': 'Haney', 'first_name': 'M', 'in...             NaN   \n",
       "3     [{'last_name': 'Blázquez', 'first_name': 'C', ...             NaN   \n",
       "4     [{'last_name': 'Magour', 'first_name': 'S', 'i...             NaN   \n",
       "...                                                 ...             ...   \n",
       "4872  [{'last_name': 'Nagle', 'first_name': 'B', 'in...             NaN   \n",
       "4873  [{'last_name': 'Schmeling', 'first_name': 'W T...             NaN   \n",
       "4874  [{'last_name': 'Manning', 'first_name': 'F J',...             NaN   \n",
       "4875  [{'last_name': 'Gorriti', 'first_name': 'M A',...             NaN   \n",
       "4876  [{'last_name': 'Koukkou', 'first_name': 'M', '...             NaN   \n",
       "\n",
       "     is_golden  relevance1                                           abstract  \n",
       "0         none    0.997469  The pharmacological interaction between equipo...  \n",
       "1         none    0.721862  This study compared the effects of (R)-methana...  \n",
       "2       silver    0.892005  Symptoms of dependence and withdrawal after th...  \n",
       "3         none    0.786678  The effects of cannabinoids on ketogenesis in ...  \n",
       "4         none    0.368673  The daily application in rats of d-amphetamine...  \n",
       "...        ...         ...                                                ...  \n",
       "4872    silver    0.279677  The effects of delta9-THC and its ethanol vehi...  \n",
       "4873    silver    0.851555  The preoptic region (POR) is a primary central...  \n",
       "4874      none    0.623145  Albino rats were given extensive training in s...  \n",
       "4875    silver    0.940650  Clinical and basic research studies have linke...  \n",
       "4876      none    0.270955  EEG correlates of subjective experiences induc...  \n",
       "\n",
       "[4877 rows x 11 columns]"
      ]
     },
     "execution_count": 459,
     "metadata": {},
     "output_type": "execute_result"
    }
   ],
   "source": [
    "d2"
   ]
  },
  {
   "cell_type": "code",
   "execution_count": 446,
   "metadata": {},
   "outputs": [
    {
     "data": {
      "text/plain": [
       "1970      1\n",
       "1971      1\n",
       "1972      3\n",
       "1973      7\n",
       "1974      2\n",
       "1975     39\n",
       "1976     43\n",
       "1977     46\n",
       "1978     32\n",
       "1979     30\n",
       "1980     38\n",
       "1981     51\n",
       "1982     35\n",
       "1983     34\n",
       "1984     27\n",
       "1985     32\n",
       "1986     38\n",
       "1987     40\n",
       "1988     34\n",
       "1989     27\n",
       "1990     26\n",
       "1991     43\n",
       "1992     39\n",
       "1993     36\n",
       "1994     31\n",
       "1995     48\n",
       "1996     33\n",
       "1997     39\n",
       "1998     57\n",
       "1999     37\n",
       "2000     57\n",
       "2001     61\n",
       "2002     70\n",
       "2003     79\n",
       "2004     99\n",
       "2005    100\n",
       "2006    107\n",
       "2007    118\n",
       "2008    126\n",
       "2009     89\n",
       "2010    144\n",
       "2011    166\n",
       "2012    180\n",
       "2013    165\n",
       "2014    191\n",
       "2015    163\n",
       "2016    177\n",
       "2017    227\n",
       "2018    251\n",
       "2019    386\n",
       "2020    591\n",
       "2021    381\n",
       "Name: date, dtype: int64"
      ]
     },
     "execution_count": 446,
     "metadata": {},
     "output_type": "execute_result"
    }
   ],
   "source": [
    "delta.date.value_counts().sort_index()"
   ]
  },
  {
   "cell_type": "code",
   "execution_count": 460,
   "metadata": {},
   "outputs": [],
   "source": [
    "ss = delta.sample(10)"
   ]
  },
  {
   "cell_type": "code",
   "execution_count": 461,
   "metadata": {},
   "outputs": [
    {
     "name": "stdout",
     "output_type": "stream",
     "text": [
      "Sensory gating in tobacco-naïve cannabis users is unaffected by acute nicotine administration.\n",
      "0.21379890500709467\n",
      "Long-term cannabis use has been associated with the appearance of psychotic symptoms and schizophrenia-like cognitive impairments; however these studies may be confounded by concomitant use of tobacco by cannabis users. We aimed to determine if previously observed cannabis-associated deficits in sensory gating would be seen in cannabis users with no history of tobacco use, as evidenced by changes in the P50, N100, and P200 event-related potentials. A secondary objective of this study was to examine the effects of acute nicotine administration on cannabis users with no tobacco use history.\n",
      "Three components (P50, N100, P200) of the mid-latency auditory-evoked response (MLAER) were elicited by a paired-stimulus paradigm in 43 healthy, non-tobacco smoking male volunteers between the ages of 18-30. Cannabis users (CU, n = 20) were administered nicotine (6 mg) and placebo gum within a randomized, double-blind design. Non-cannabis users (NU, n = 23) did not receive nicotine.\n",
      "Between-group sensory gating effects were only observed for the N100, with CUs exhibiting a smaller N100 to S-1 of the paired stimulus paradigm, in addition to reduced dN100 (indicating poorer gating). Results revealed no significant sensory gating differences with acute administration of nicotine compared to placebo cannabis conditions.\n",
      "These findings suggest a relationship between gating impairment and cannabis use; however, acute nicotine administration nicotine does not appear to impact sensory gating function.\n",
      "\n",
      "~~~~~~~~~\n",
      "\n",
      "Latency to cannabis dependence mediates the relationship between age at cannabis use initiation and cannabis use outcomes during treatment in men but not women.\n",
      "0.2033406558931651\n",
      "Time from first cannabis use to cannabis dependence (latency) may be an important prognostic indicator of cannabis-related problems and treatment outcomes. Gender differences in latency have been found; however, research in this general area is limited. As cannabis use increases and perceived risk declines, a better understanding of how these factors interact in predicting treatment outcomes is critical.\n",
      "A secondary data analysis of a randomized, double-blind, placebo-controlled pharmacotherapy trial for cannabis dependence (N = 302) examined the associations between age of cannabis use onset, time to cannabis dependence (latency), and gender on cannabis use during the trial. Mediation analysis tested whether the association between age of onset and cannabis use during the trial was mediated by latency to cannabis dependence differentially for men and women.\n",
      "Age of use initiation was inversely correlated with latency to dependence prior to treatment [HR(95% CI) = 1.18 (1.06, 1.30); p = .002] and cannabis use during treatment (β=-1.27; SE = 0.37; p < .001). There was a significant mediation effect between age of onset, latency, and cannabis use that varied by gender. Earlier age of onset predicted longer latency, and subsequently, greater cannabis use during the trial in men (21.4% mediated; p < .05), but not women. Other substance use, race, and past psychiatric diagnosis did not predict latency either independently or in interaction models.\n",
      "Findings support existing evidence that early cannabis use onset is associated with worse outcomes and add new knowledge on the differential associations between age of onset, latency to cannabis dependence, and treatment outcomes for men and women.\n",
      "\n",
      "~~~~~~~~~\n",
      "\n",
      "Cannabis and Its Permissibility Status.\n",
      "0.6990093875452844\n",
      "Cannabis has been used and misused to treat many disorders. Δ-9-Tetrahydrocannabinol (THC) and cannabidiol (CBD) are the most important components of cannabis and could be used for recreational and medical purposes. The permissibility (Halal) status of cannabis is controversial, and its rational use is ambiguous. Global awareness and interest in cannabis use are increasing and its permissibility status, especially for recreational and medical purposes, needs to be addressed. Rationalizing the scientific value and Halal status of cannabis is useful for the rational use and maintenance of the compatible system. It is rare in Muslim countries to discuss the permissibility status of cannabis from the perspective of its value and composition. Using the analogy concept, the CBD component extracted from a cannabis plant in a clean and pure form is permissible to use in industry, particularly in cosmetics and pharmaceuticals. If THC component is present in <1% and CBD is >99%, the mixture is considered permissible as long as THC is not intentionally added or intentionally left, but is mainly present due to the limited capabilities and efficiency of the purification methods. However, any amount of THC prepared with the intention to be used as an intoxicant is considered non-Halal.\n",
      "\n",
      "~~~~~~~~~\n",
      "\n",
      "Activation of brain prostanoid EP3 receptors via arachidonic acid cascade during behavioral suppression induced by Delta8-tetrahydrocannabinol.\n",
      "0.4038565522893685\n",
      "We have previously shown that behavioral changes induced by cannabinoid were due to an elevation of prostaglandin E2 (PGE2) via the arachidonic acid cascade in the brain. In the present study, we investigated the participation of the prostanoid EP3 receptor, the target of PGE2 in the brain, in behavioral suppression induced by Delta8-tetrahydrocannabinol (Delta8-THC), an isomer of the naturally occurring Delta9-THC, using a one-lever operant task in rats. Intraperitoneal administration of Delta8-THC inhibited the lever-pressing behavior, which was significantly antagonized by both the selective cannabinoid CB1 receptor antagonist SR141716A and the cyclooxygenase inhibitor diclofenac. Furthermore, intracerebroventricular (i.c.v.) administration of PGE2 significantly inhibited the lever-pressing performance similar to Delta8-THC. Prostanoid EP3 receptor antisense-oligodeoxynucleotide (AS-ODN; twice a day for 3 days, i.c.v.) significantly decreased prostanoid EP3 receptor mRNA levels as determined by the RT-PCR analysis in the cerebral cortex, hippocampus and midbrain. AS-ODN also antagonized the PGE2-induced suppression of the lever pressing. In the same way, the suppression of lever-pressing behavior by Delta8-THC was significantly improved by AS-ODN. It is concluded that the suppression of lever-pressing behavior by cannabinoid is due to activation of the prostanoid EP3 receptor through an elevation of PGE2 in the brain.\n",
      "\n",
      "~~~~~~~~~\n",
      "\n",
      "Modulation of Recombinant Human T-Type Calcium Channels by Δ-9-Tetrahydrocannabinolic Acid In Vitro.\n",
      "0.8541474727009846\n",
      "Introduction: Low voltage-activated T-type calcium channels (T-type I-Ca), Ca-V3.1, Ca-V3.2, and Ca-V3.3, are opened by small depolarizations from the resting membrane potential in many cells and have been associated with neurological disorders, including absence epilepsy and pain. Δ-9-tetrahydrocannabinol (THC) is the principal psychoactive compound in Cannabis and also directly modulates T-type I-Ca; however, there is no information about functional activity of most phytocannabinoids on T-type calcium channels, including Δ-9-tetrahydrocannabinolic acid (THCA), the natural nonpsychoactive precursor of THC. The aim of this work was to characterize THCA effects on T-type calcium channels. Materials and Methods: We used HEK293 Flp-In-TREx cells stably expressing Ca-V3.1, 3.2, or 3.3. Whole-cell patch clamp recordings were made to investigate cannabinoid modulation of I-Ca. Results: THCA and THC inhibited the peak current amplitude Ca-V3.1 with pEC-50s of 6.0±0.7 and 5.6±0.4, respectively. THC (1 μM) or THC produced a significant negative shift in half activation and inactivation of Ca-V3.1, and both drugs prolonged Ca-V3.1 deactivation kinetics. THCA (10 μM) inhibited Ca-V3.2 by 53%±4%, and both THCA and THC produced a substantial negative shift in the voltage for half inactivation and modest negative shift in half activation of Ca-V3.2. THC prolonged the deactivation time of Ca-V3.2, while THCA did not. THCA inhibited the peak current of Ca-V3.3 by 43%±2% (10 μM) but did not notably affect Ca-V3.3 channel activation or inactivation; however, THC caused significant hyperpolarizing shift in Ca-V3.3 steady-state inactivation. Discussion: THCA modulated T-type I-Ca currents in vitro, with significant modulation of kinetics and voltage dependence at low μM concentrations. This study suggests that THCA may have potential for therapeutic use in pain and epilepsy through T-type calcium channel modulation without the unwanted psychoactive effects associated with THC.\n",
      "\n",
      "~~~~~~~~~\n",
      "\n",
      "Neutron diffraction from cannabinoids in phospholipid membranes.\n",
      "0.34139589093255396\n",
      "Neutron diffraction measurements have been utilized to study the effects of delta 9-tetrahydrocannabinol (delta 9-THC) and delta 8-tetrahydrocannabinol (delta 8-THC) incorporated in phospholipid membranes of dipalmitoylphosphatidylcholine (DPPC). Low-angle diffraction indicated that these cannabinoids induce increases in interlamellar spacing similar to those produced by cholesterol. Wide-angle diffraction indicated significant differences in how the intralamellar structure is affected by the inclusion of either cannabinoids or cholesterol. Similar weight percentages of cholesterol and cannabinoids in membranes yielded different thermal analysis profiles but the profiles for membranes with either delta 8 or delta 9-THC were similar. Since the neutron diffraction results for inclusions of delta 8 and delta 9-THC were also similar, this suggests that the difference in psychoactivity of delta 8 and delta 9-THC is probably due to interactions with membrane proteins rather than with phospholipids.\n",
      "\n",
      "~~~~~~~~~\n",
      "\n",
      "Link between personality and response to THC exposure.\n",
      "0.853791886017955\n",
      "The effects of cannabis reported by users range from experiences of euphoria and anxiolytic effects to paranoia, anxiety, and increased risk of depression. Attempts to reconcile the apparent contradictions in user response have not been conclusive. Here, we utilized selectively-bred stress-resilient socially dominant (Dom) and stress-sensitive socially submissive (Sub) mice to elucidate this contradiction. Following short-term, repeated treatment with delta-9-tetrahydrocannabinol (THC) at two different doses (1.5 mg/kg and 15 mg/kg), Sub mice presented significant place-aversion in a Conditioned Place Preference paradigm at a high dose, whereas Dom mice displayed no place preference or aversion. Forced Swim test conducted after 6-week of washout period, revealed differential impact of the two THC doses depending upon behavioral pattern. Specifically, the low dose alleviated depressive-like behavior in Sub mice, while the high dose produced the opposite effect in Dom mice. Interestingly, corticosterone concentration in serum was elevated at the high dose regardless of the mice-population tested. We conclude here that differences in dominance behavior and stress vulnerability are involved in the regulation of cannabis response among users and should be considered when prescribing THC-containing medications to patients.\n",
      "\n",
      "~~~~~~~~~\n",
      "\n",
      "New polyethylene glycol laxative for treatment of constipation in adults: a randomized, double-blind, placebo-controlled study.\n",
      "0.6328895633112166\n",
      "This study evaluated the safety and effectiveness of a new polyethylene glycol (PEG) laxative (MiraLax, Braintree Laboratories Inc, Braintree, Mass) in 23 patients reporting a history of constipation.\n",
      "After a 7-day placebo control period, patients were randomized into a double crossover trial of placebo versus 17 g of PEG daily for 4 days. Patient maintained a stool diary.\n",
      "Daily ingestion of a 17 g dose of PEG increased mean daily bowel movement frequency to once per day by the last 7 days of the 14-day treatment period. This was a statistically significant improvement over placebo, which provided about 1 bowel movement every 2 days during the last week of therapy. Patient diary ratings of related subjective symptoms were improved with PEG treatment over placebo. Both investigator and patients rated PEG therapy superior to placebo. No clinically significant changes in blood chemistry, complete blood count (CBC), or urinalysis were observed.\n",
      "Daily therapy with 17 g of PEG laxative for 14 days resulted in a significant improvement in bowel movement frequency in constipated patients relative to placebo by the second week of treatment.\n",
      "\n",
      "~~~~~~~~~\n",
      "\n",
      "Perinatal delta(9)-tetrahydrocannabinol exposure alters the responsiveness of hypothalamic dopaminergic neurons to dopamine-acting drugs in adult rats.\n",
      "0.21038892612399987\n",
      "We have recently reported that perinatal cannabinoid exposure altered the normal development of dopaminergic neurons in the medial basal hypothalamus at early postnatal and peripubertal ages. Most of these effects tended to disappear in adulthood, although we suspect the existence of a persistent, but possibly silent, alteration in the adult activity of these neurons. To further explore this possibility, we evaluated the responsiveness of these neurons to pharmacological challenges with a variety of dopaminergic drugs administered to adult male and female rats that had been exposed to delta(9)-tetrahydrocannabinol (delta(9)-THC) or vehicle during the perinatal period. In the first experiment, we evaluated the sensitivity of hypothalamic dopaminergic neurons to amphetamine (AMPH), which causes enhancement of dopaminergic activity by a variety of mechanisms. The most interesting observation was that both adult males and females, when perinatally exposed to delta(9)-THC, showed a more marked AMPH-induced decrease in the production of L-3,4-dihydroxyphenylacetic acid (DOPAC), the main intraneuronal metabolite of dopamine (DA), although this did not affect the prolactin (PRL) release. In the second experiment, we evaluated the in vivo synthesis of DA by analyzing the magnitude of L-3,4-dihydroxyphenylalanine (L-DOPA) accumulation caused by the blockade of L-DOPA decarboxylase with NSD 1015. As expected, NSD 1015 increased L-DOPA accumulation and decreased DOPAC production, with a parallel increase in PRL release, all of similar magnitude in both delta(9)-THC- and oil-exposed adult animals. In the last experiment, we tested the magnitude of the increase in PRL release produced by the administration of either SKF 38393, a specific D1 agonist, or sulpiride, a specific D2 antagonist. Both compounds increased plasma PRL levels in adult animals of both sexes, the effects in females being significantly more marked. The perinatal exposure to delta(9)-THC also modified the degree of increase in plasma PRL levels induced by both compounds, with opposite responses as a function of sex. Thus, delta(9)-THC-exposed females responded more intensely to SKF 38393 and, particularly, to sulpiride than oil-exposed females, whereas delta(9)-THC-exposed males responded to SKF 38393 lesser than oil-exposed males, although both responded equally to sulpiride. In summary, our results are consistent with the possible existence of subtle changes in the activity of hypothalamic dopaminergic neurons in adulthood caused by the exposure to delta(9)-THC during perinatal development. These silent changes could be revealed after the administration of drugs such as: (i) AMPH, whose effect producing a decreased DOPAC accumulation was more marked in delta(9)-THC-exposed males and females; and (ii) SKF 38393 and sulpiride, whose stimulatory effects on PRL secretion were of different magnitude in delta(9)-THC-exposed animals, with an evident sexual dimorphism in the response. The neurochemical basis for these differences remains to be determined.\n",
      "\n",
      "~~~~~~~~~\n",
      "\n",
      "The tumour suppressor protein, p53, is involved in the activation of the apoptotic cascade by Delta9-tetrahydrocannabinol in cultured cortical neurons.\n",
      "0.9259800863117514\n",
      "Cannabis is the most commonly used illegal drug of abuse in Western society. Delta(9)-tetrahydrocannabinol, the psychoactive ingredient of marijuana, regulates a variety of neuronal processes including neurotransmitter release and synaptic transmission. An increasing body of evidence suggests that cannabinoids play a key role in the regulation of neuronal viability. In cortical neurons tetrahydrocannabinol has a neurodegenerative effect, the mechanisms of which are poorly understood, but involve the cannabinoid receptor subtype, CB(1). In this study we report that tetrahydrocannabinol (5 muM) evokes a rapid phosphorylation, and thus activation, of the tumour suppressor protein, p53, in a manner involving the cannabinoid CB(1) receptor, and the stress-activated protein kinase, c-jun N-terminal kinase, in cultured cortical neurons. Tetrahydrocannabinol increased expression of the p53-transcriptional target, Bax and promoted Bcl phosphorylation. These events were abolished by the p53 inhibitor, pifithrin-alpha (100 nM). The tetrahydrocannabinol-induced activation of the pro-apoptotic cysteine protease, caspase-3, and DNA fragmentation was also blocked by pifithrin-alpha. A siRNA knockdown of p53 further verified the role of p53 in tetrahydrocannabinol-induced apoptosis. This study demonstrates a novel cannabinoid signalling pathway involving p53 that culminates in neuronal apoptosis.\n",
      "\n",
      "~~~~~~~~~\n",
      "\n"
     ]
    }
   ],
   "source": [
    "for i, row in ss.iterrows():\n",
    "    print(row.title)\n",
    "    print(row.relevance1)\n",
    "    for a in row.abstract_texts:\n",
    "        print(a['text'])\n",
    "    print('\\n~~~~~~~~~\\n')"
   ]
  },
  {
   "cell_type": "code",
   "execution_count": null,
   "metadata": {},
   "outputs": [],
   "source": []
  }
 ],
 "metadata": {
  "kernelspec": {
   "display_name": "Python 3 (ipykernel)",
   "language": "python",
   "name": "python3"
  },
  "language_info": {
   "codemirror_mode": {
    "name": "ipython",
    "version": 3
   },
   "file_extension": ".py",
   "mimetype": "text/x-python",
   "name": "python",
   "nbconvert_exporter": "python",
   "pygments_lexer": "ipython3",
   "version": "3.9.6"
  }
 },
 "nbformat": 4,
 "nbformat_minor": 4
}
