{
  "nbformat": 4,
  "nbformat_minor": 0,
  "metadata": {
    "kernelspec": {
      "display_name": "Python 3",
      "language": "python",
      "name": "python3"
    },
    "language_info": {
      "codemirror_mode": {
        "name": "ipython",
        "version": 3
      },
      "file_extension": ".py",
      "mimetype": "text/x-python",
      "name": "python",
      "nbconvert_exporter": "python",
      "pygments_lexer": "ipython3",
      "version": "3.7.9"
    },
    "colab": {
      "name": "effect_classification_transformers.ipynb",
      "provenance": [],
      "collapsed_sections": [],
      "machine_shape": "hm",
      "include_colab_link": true
    },
    "widgets": {
      "application/vnd.jupyter.widget-state+json": {
        "f38bd12e33c9462db81ad559db7bc820": {
          "model_module": "@jupyter-widgets/controls",
          "model_name": "HBoxModel",
          "model_module_version": "1.5.0",
          "state": {
            "_view_name": "HBoxView",
            "_dom_classes": [],
            "_model_name": "HBoxModel",
            "_view_module": "@jupyter-widgets/controls",
            "_model_module_version": "1.5.0",
            "_view_count": null,
            "_view_module_version": "1.5.0",
            "box_style": "",
            "layout": "IPY_MODEL_da83dff1372547a2b9f31e394f625579",
            "_model_module": "@jupyter-widgets/controls",
            "children": [
              "IPY_MODEL_8af9b25d98ff4325aa5c4ba0fade5c40",
              "IPY_MODEL_a517125f62be4394ba7da82db867febc",
              "IPY_MODEL_9634819df6bd493c882546116432bc11"
            ]
          }
        },
        "da83dff1372547a2b9f31e394f625579": {
          "model_module": "@jupyter-widgets/base",
          "model_name": "LayoutModel",
          "model_module_version": "1.2.0",
          "state": {
            "_view_name": "LayoutView",
            "grid_template_rows": null,
            "right": null,
            "justify_content": null,
            "_view_module": "@jupyter-widgets/base",
            "overflow": null,
            "_model_module_version": "1.2.0",
            "_view_count": null,
            "flex_flow": null,
            "width": null,
            "min_width": null,
            "border": null,
            "align_items": null,
            "bottom": null,
            "_model_module": "@jupyter-widgets/base",
            "top": null,
            "grid_column": null,
            "overflow_y": null,
            "overflow_x": null,
            "grid_auto_flow": null,
            "grid_area": null,
            "grid_template_columns": null,
            "flex": null,
            "_model_name": "LayoutModel",
            "justify_items": null,
            "grid_row": null,
            "max_height": null,
            "align_content": null,
            "visibility": null,
            "align_self": null,
            "height": null,
            "min_height": null,
            "padding": null,
            "grid_auto_rows": null,
            "grid_gap": null,
            "max_width": null,
            "order": null,
            "_view_module_version": "1.2.0",
            "grid_template_areas": null,
            "object_position": null,
            "object_fit": null,
            "grid_auto_columns": null,
            "margin": null,
            "display": null,
            "left": null
          }
        },
        "8af9b25d98ff4325aa5c4ba0fade5c40": {
          "model_module": "@jupyter-widgets/controls",
          "model_name": "HTMLModel",
          "model_module_version": "1.5.0",
          "state": {
            "_view_name": "HTMLView",
            "style": "IPY_MODEL_fefccbc278694851b2a36d3173f90cdb",
            "_dom_classes": [],
            "description": "",
            "_model_name": "HTMLModel",
            "placeholder": "​",
            "_view_module": "@jupyter-widgets/controls",
            "_model_module_version": "1.5.0",
            "value": "100%",
            "_view_count": null,
            "_view_module_version": "1.5.0",
            "description_tooltip": null,
            "_model_module": "@jupyter-widgets/controls",
            "layout": "IPY_MODEL_e2e148addd47417b90d67cd1f66925e4"
          }
        },
        "a517125f62be4394ba7da82db867febc": {
          "model_module": "@jupyter-widgets/controls",
          "model_name": "FloatProgressModel",
          "model_module_version": "1.5.0",
          "state": {
            "_view_name": "ProgressView",
            "style": "IPY_MODEL_5431a0a0f5fd45f4b2222af0019d7bf5",
            "_dom_classes": [],
            "description": "",
            "_model_name": "FloatProgressModel",
            "bar_style": "success",
            "max": 2,
            "_view_module": "@jupyter-widgets/controls",
            "_model_module_version": "1.5.0",
            "value": 2,
            "_view_count": null,
            "_view_module_version": "1.5.0",
            "orientation": "horizontal",
            "min": 0,
            "description_tooltip": null,
            "_model_module": "@jupyter-widgets/controls",
            "layout": "IPY_MODEL_ed3a59c2af6e4b139825953dcddfa390"
          }
        },
        "9634819df6bd493c882546116432bc11": {
          "model_module": "@jupyter-widgets/controls",
          "model_name": "HTMLModel",
          "model_module_version": "1.5.0",
          "state": {
            "_view_name": "HTMLView",
            "style": "IPY_MODEL_c61df043c1954b40b529e34ec824e8a2",
            "_dom_classes": [],
            "description": "",
            "_model_name": "HTMLModel",
            "placeholder": "​",
            "_view_module": "@jupyter-widgets/controls",
            "_model_module_version": "1.5.0",
            "value": " 2/2 [00:01&lt;00:00,  1.60ba/s]",
            "_view_count": null,
            "_view_module_version": "1.5.0",
            "description_tooltip": null,
            "_model_module": "@jupyter-widgets/controls",
            "layout": "IPY_MODEL_6e2215d087e740cb9dbf23ac86dd44f7"
          }
        },
        "fefccbc278694851b2a36d3173f90cdb": {
          "model_module": "@jupyter-widgets/controls",
          "model_name": "DescriptionStyleModel",
          "model_module_version": "1.5.0",
          "state": {
            "_view_name": "StyleView",
            "_model_name": "DescriptionStyleModel",
            "description_width": "",
            "_view_module": "@jupyter-widgets/base",
            "_model_module_version": "1.5.0",
            "_view_count": null,
            "_view_module_version": "1.2.0",
            "_model_module": "@jupyter-widgets/controls"
          }
        },
        "e2e148addd47417b90d67cd1f66925e4": {
          "model_module": "@jupyter-widgets/base",
          "model_name": "LayoutModel",
          "model_module_version": "1.2.0",
          "state": {
            "_view_name": "LayoutView",
            "grid_template_rows": null,
            "right": null,
            "justify_content": null,
            "_view_module": "@jupyter-widgets/base",
            "overflow": null,
            "_model_module_version": "1.2.0",
            "_view_count": null,
            "flex_flow": null,
            "width": null,
            "min_width": null,
            "border": null,
            "align_items": null,
            "bottom": null,
            "_model_module": "@jupyter-widgets/base",
            "top": null,
            "grid_column": null,
            "overflow_y": null,
            "overflow_x": null,
            "grid_auto_flow": null,
            "grid_area": null,
            "grid_template_columns": null,
            "flex": null,
            "_model_name": "LayoutModel",
            "justify_items": null,
            "grid_row": null,
            "max_height": null,
            "align_content": null,
            "visibility": null,
            "align_self": null,
            "height": null,
            "min_height": null,
            "padding": null,
            "grid_auto_rows": null,
            "grid_gap": null,
            "max_width": null,
            "order": null,
            "_view_module_version": "1.2.0",
            "grid_template_areas": null,
            "object_position": null,
            "object_fit": null,
            "grid_auto_columns": null,
            "margin": null,
            "display": null,
            "left": null
          }
        },
        "5431a0a0f5fd45f4b2222af0019d7bf5": {
          "model_module": "@jupyter-widgets/controls",
          "model_name": "ProgressStyleModel",
          "model_module_version": "1.5.0",
          "state": {
            "_view_name": "StyleView",
            "_model_name": "ProgressStyleModel",
            "description_width": "",
            "_view_module": "@jupyter-widgets/base",
            "_model_module_version": "1.5.0",
            "_view_count": null,
            "_view_module_version": "1.2.0",
            "bar_color": null,
            "_model_module": "@jupyter-widgets/controls"
          }
        },
        "ed3a59c2af6e4b139825953dcddfa390": {
          "model_module": "@jupyter-widgets/base",
          "model_name": "LayoutModel",
          "model_module_version": "1.2.0",
          "state": {
            "_view_name": "LayoutView",
            "grid_template_rows": null,
            "right": null,
            "justify_content": null,
            "_view_module": "@jupyter-widgets/base",
            "overflow": null,
            "_model_module_version": "1.2.0",
            "_view_count": null,
            "flex_flow": null,
            "width": null,
            "min_width": null,
            "border": null,
            "align_items": null,
            "bottom": null,
            "_model_module": "@jupyter-widgets/base",
            "top": null,
            "grid_column": null,
            "overflow_y": null,
            "overflow_x": null,
            "grid_auto_flow": null,
            "grid_area": null,
            "grid_template_columns": null,
            "flex": null,
            "_model_name": "LayoutModel",
            "justify_items": null,
            "grid_row": null,
            "max_height": null,
            "align_content": null,
            "visibility": null,
            "align_self": null,
            "height": null,
            "min_height": null,
            "padding": null,
            "grid_auto_rows": null,
            "grid_gap": null,
            "max_width": null,
            "order": null,
            "_view_module_version": "1.2.0",
            "grid_template_areas": null,
            "object_position": null,
            "object_fit": null,
            "grid_auto_columns": null,
            "margin": null,
            "display": null,
            "left": null
          }
        },
        "c61df043c1954b40b529e34ec824e8a2": {
          "model_module": "@jupyter-widgets/controls",
          "model_name": "DescriptionStyleModel",
          "model_module_version": "1.5.0",
          "state": {
            "_view_name": "StyleView",
            "_model_name": "DescriptionStyleModel",
            "description_width": "",
            "_view_module": "@jupyter-widgets/base",
            "_model_module_version": "1.5.0",
            "_view_count": null,
            "_view_module_version": "1.2.0",
            "_model_module": "@jupyter-widgets/controls"
          }
        },
        "6e2215d087e740cb9dbf23ac86dd44f7": {
          "model_module": "@jupyter-widgets/base",
          "model_name": "LayoutModel",
          "model_module_version": "1.2.0",
          "state": {
            "_view_name": "LayoutView",
            "grid_template_rows": null,
            "right": null,
            "justify_content": null,
            "_view_module": "@jupyter-widgets/base",
            "overflow": null,
            "_model_module_version": "1.2.0",
            "_view_count": null,
            "flex_flow": null,
            "width": null,
            "min_width": null,
            "border": null,
            "align_items": null,
            "bottom": null,
            "_model_module": "@jupyter-widgets/base",
            "top": null,
            "grid_column": null,
            "overflow_y": null,
            "overflow_x": null,
            "grid_auto_flow": null,
            "grid_area": null,
            "grid_template_columns": null,
            "flex": null,
            "_model_name": "LayoutModel",
            "justify_items": null,
            "grid_row": null,
            "max_height": null,
            "align_content": null,
            "visibility": null,
            "align_self": null,
            "height": null,
            "min_height": null,
            "padding": null,
            "grid_auto_rows": null,
            "grid_gap": null,
            "max_width": null,
            "order": null,
            "_view_module_version": "1.2.0",
            "grid_template_areas": null,
            "object_position": null,
            "object_fit": null,
            "grid_auto_columns": null,
            "margin": null,
            "display": null,
            "left": null
          }
        },
        "b98e4b53bd074d5688a872df50ae0ecd": {
          "model_module": "@jupyter-widgets/controls",
          "model_name": "HBoxModel",
          "model_module_version": "1.5.0",
          "state": {
            "_view_name": "HBoxView",
            "_dom_classes": [],
            "_model_name": "HBoxModel",
            "_view_module": "@jupyter-widgets/controls",
            "_model_module_version": "1.5.0",
            "_view_count": null,
            "_view_module_version": "1.5.0",
            "box_style": "",
            "layout": "IPY_MODEL_53acab43c9f04160a53c4ba76fcea875",
            "_model_module": "@jupyter-widgets/controls",
            "children": [
              "IPY_MODEL_bbccb1bc2a884592bcd02fdb0108ae64",
              "IPY_MODEL_64b4a77bcfd941139ffdb3648980887f",
              "IPY_MODEL_3ea0605191cb42938ecf71d5d6ab53e3"
            ]
          }
        },
        "53acab43c9f04160a53c4ba76fcea875": {
          "model_module": "@jupyter-widgets/base",
          "model_name": "LayoutModel",
          "model_module_version": "1.2.0",
          "state": {
            "_view_name": "LayoutView",
            "grid_template_rows": null,
            "right": null,
            "justify_content": null,
            "_view_module": "@jupyter-widgets/base",
            "overflow": null,
            "_model_module_version": "1.2.0",
            "_view_count": null,
            "flex_flow": null,
            "width": null,
            "min_width": null,
            "border": null,
            "align_items": null,
            "bottom": null,
            "_model_module": "@jupyter-widgets/base",
            "top": null,
            "grid_column": null,
            "overflow_y": null,
            "overflow_x": null,
            "grid_auto_flow": null,
            "grid_area": null,
            "grid_template_columns": null,
            "flex": null,
            "_model_name": "LayoutModel",
            "justify_items": null,
            "grid_row": null,
            "max_height": null,
            "align_content": null,
            "visibility": null,
            "align_self": null,
            "height": null,
            "min_height": null,
            "padding": null,
            "grid_auto_rows": null,
            "grid_gap": null,
            "max_width": null,
            "order": null,
            "_view_module_version": "1.2.0",
            "grid_template_areas": null,
            "object_position": null,
            "object_fit": null,
            "grid_auto_columns": null,
            "margin": null,
            "display": null,
            "left": null
          }
        },
        "bbccb1bc2a884592bcd02fdb0108ae64": {
          "model_module": "@jupyter-widgets/controls",
          "model_name": "HTMLModel",
          "model_module_version": "1.5.0",
          "state": {
            "_view_name": "HTMLView",
            "style": "IPY_MODEL_e215842805e64c00ac1e8cead590739a",
            "_dom_classes": [],
            "description": "",
            "_model_name": "HTMLModel",
            "placeholder": "​",
            "_view_module": "@jupyter-widgets/controls",
            "_model_module_version": "1.5.0",
            "value": "100%",
            "_view_count": null,
            "_view_module_version": "1.5.0",
            "description_tooltip": null,
            "_model_module": "@jupyter-widgets/controls",
            "layout": "IPY_MODEL_25e1616039484768a948b2a7210154f8"
          }
        },
        "64b4a77bcfd941139ffdb3648980887f": {
          "model_module": "@jupyter-widgets/controls",
          "model_name": "FloatProgressModel",
          "model_module_version": "1.5.0",
          "state": {
            "_view_name": "ProgressView",
            "style": "IPY_MODEL_7e55e4f69b3c4f5982608060f3210082",
            "_dom_classes": [],
            "description": "",
            "_model_name": "FloatProgressModel",
            "bar_style": "success",
            "max": 11,
            "_view_module": "@jupyter-widgets/controls",
            "_model_module_version": "1.5.0",
            "value": 11,
            "_view_count": null,
            "_view_module_version": "1.5.0",
            "orientation": "horizontal",
            "min": 0,
            "description_tooltip": null,
            "_model_module": "@jupyter-widgets/controls",
            "layout": "IPY_MODEL_3555f46791e74b789568dffefb1ec5ba"
          }
        },
        "3ea0605191cb42938ecf71d5d6ab53e3": {
          "model_module": "@jupyter-widgets/controls",
          "model_name": "HTMLModel",
          "model_module_version": "1.5.0",
          "state": {
            "_view_name": "HTMLView",
            "style": "IPY_MODEL_c1e64c4fa8f9463695d99968b37dff38",
            "_dom_classes": [],
            "description": "",
            "_model_name": "HTMLModel",
            "placeholder": "​",
            "_view_module": "@jupyter-widgets/controls",
            "_model_module_version": "1.5.0",
            "value": " 11/11 [00:09&lt;00:00,  1.43it/s]",
            "_view_count": null,
            "_view_module_version": "1.5.0",
            "description_tooltip": null,
            "_model_module": "@jupyter-widgets/controls",
            "layout": "IPY_MODEL_65178e5fbb924cf2b44719b200aca406"
          }
        },
        "e215842805e64c00ac1e8cead590739a": {
          "model_module": "@jupyter-widgets/controls",
          "model_name": "DescriptionStyleModel",
          "model_module_version": "1.5.0",
          "state": {
            "_view_name": "StyleView",
            "_model_name": "DescriptionStyleModel",
            "description_width": "",
            "_view_module": "@jupyter-widgets/base",
            "_model_module_version": "1.5.0",
            "_view_count": null,
            "_view_module_version": "1.2.0",
            "_model_module": "@jupyter-widgets/controls"
          }
        },
        "25e1616039484768a948b2a7210154f8": {
          "model_module": "@jupyter-widgets/base",
          "model_name": "LayoutModel",
          "model_module_version": "1.2.0",
          "state": {
            "_view_name": "LayoutView",
            "grid_template_rows": null,
            "right": null,
            "justify_content": null,
            "_view_module": "@jupyter-widgets/base",
            "overflow": null,
            "_model_module_version": "1.2.0",
            "_view_count": null,
            "flex_flow": null,
            "width": null,
            "min_width": null,
            "border": null,
            "align_items": null,
            "bottom": null,
            "_model_module": "@jupyter-widgets/base",
            "top": null,
            "grid_column": null,
            "overflow_y": null,
            "overflow_x": null,
            "grid_auto_flow": null,
            "grid_area": null,
            "grid_template_columns": null,
            "flex": null,
            "_model_name": "LayoutModel",
            "justify_items": null,
            "grid_row": null,
            "max_height": null,
            "align_content": null,
            "visibility": null,
            "align_self": null,
            "height": null,
            "min_height": null,
            "padding": null,
            "grid_auto_rows": null,
            "grid_gap": null,
            "max_width": null,
            "order": null,
            "_view_module_version": "1.2.0",
            "grid_template_areas": null,
            "object_position": null,
            "object_fit": null,
            "grid_auto_columns": null,
            "margin": null,
            "display": null,
            "left": null
          }
        },
        "7e55e4f69b3c4f5982608060f3210082": {
          "model_module": "@jupyter-widgets/controls",
          "model_name": "ProgressStyleModel",
          "model_module_version": "1.5.0",
          "state": {
            "_view_name": "StyleView",
            "_model_name": "ProgressStyleModel",
            "description_width": "",
            "_view_module": "@jupyter-widgets/base",
            "_model_module_version": "1.5.0",
            "_view_count": null,
            "_view_module_version": "1.2.0",
            "bar_color": null,
            "_model_module": "@jupyter-widgets/controls"
          }
        },
        "3555f46791e74b789568dffefb1ec5ba": {
          "model_module": "@jupyter-widgets/base",
          "model_name": "LayoutModel",
          "model_module_version": "1.2.0",
          "state": {
            "_view_name": "LayoutView",
            "grid_template_rows": null,
            "right": null,
            "justify_content": null,
            "_view_module": "@jupyter-widgets/base",
            "overflow": null,
            "_model_module_version": "1.2.0",
            "_view_count": null,
            "flex_flow": null,
            "width": null,
            "min_width": null,
            "border": null,
            "align_items": null,
            "bottom": null,
            "_model_module": "@jupyter-widgets/base",
            "top": null,
            "grid_column": null,
            "overflow_y": null,
            "overflow_x": null,
            "grid_auto_flow": null,
            "grid_area": null,
            "grid_template_columns": null,
            "flex": null,
            "_model_name": "LayoutModel",
            "justify_items": null,
            "grid_row": null,
            "max_height": null,
            "align_content": null,
            "visibility": null,
            "align_self": null,
            "height": null,
            "min_height": null,
            "padding": null,
            "grid_auto_rows": null,
            "grid_gap": null,
            "max_width": null,
            "order": null,
            "_view_module_version": "1.2.0",
            "grid_template_areas": null,
            "object_position": null,
            "object_fit": null,
            "grid_auto_columns": null,
            "margin": null,
            "display": null,
            "left": null
          }
        },
        "c1e64c4fa8f9463695d99968b37dff38": {
          "model_module": "@jupyter-widgets/controls",
          "model_name": "DescriptionStyleModel",
          "model_module_version": "1.5.0",
          "state": {
            "_view_name": "StyleView",
            "_model_name": "DescriptionStyleModel",
            "description_width": "",
            "_view_module": "@jupyter-widgets/base",
            "_model_module_version": "1.5.0",
            "_view_count": null,
            "_view_module_version": "1.2.0",
            "_model_module": "@jupyter-widgets/controls"
          }
        },
        "65178e5fbb924cf2b44719b200aca406": {
          "model_module": "@jupyter-widgets/base",
          "model_name": "LayoutModel",
          "model_module_version": "1.2.0",
          "state": {
            "_view_name": "LayoutView",
            "grid_template_rows": null,
            "right": null,
            "justify_content": null,
            "_view_module": "@jupyter-widgets/base",
            "overflow": null,
            "_model_module_version": "1.2.0",
            "_view_count": null,
            "flex_flow": null,
            "width": null,
            "min_width": null,
            "border": null,
            "align_items": null,
            "bottom": null,
            "_model_module": "@jupyter-widgets/base",
            "top": null,
            "grid_column": null,
            "overflow_y": null,
            "overflow_x": null,
            "grid_auto_flow": null,
            "grid_area": null,
            "grid_template_columns": null,
            "flex": null,
            "_model_name": "LayoutModel",
            "justify_items": null,
            "grid_row": null,
            "max_height": null,
            "align_content": null,
            "visibility": null,
            "align_self": null,
            "height": null,
            "min_height": null,
            "padding": null,
            "grid_auto_rows": null,
            "grid_gap": null,
            "max_width": null,
            "order": null,
            "_view_module_version": "1.2.0",
            "grid_template_areas": null,
            "object_position": null,
            "object_fit": null,
            "grid_auto_columns": null,
            "margin": null,
            "display": null,
            "left": null
          }
        },
        "5c8b8b785dc343029ea730a756dda938": {
          "model_module": "@jupyter-widgets/controls",
          "model_name": "HBoxModel",
          "model_module_version": "1.5.0",
          "state": {
            "_view_name": "HBoxView",
            "_dom_classes": [],
            "_model_name": "HBoxModel",
            "_view_module": "@jupyter-widgets/controls",
            "_model_module_version": "1.5.0",
            "_view_count": null,
            "_view_module_version": "1.5.0",
            "box_style": "",
            "layout": "IPY_MODEL_f940db0896fa4228aa79a7059f12c94b",
            "_model_module": "@jupyter-widgets/controls",
            "children": [
              "IPY_MODEL_f9a2908dbc954b2a86a8515c99fc900f",
              "IPY_MODEL_4dc92fb1bf61435084770b5fb5570095",
              "IPY_MODEL_30052c1f4d96435bae400c7195868c63"
            ]
          }
        },
        "f940db0896fa4228aa79a7059f12c94b": {
          "model_module": "@jupyter-widgets/base",
          "model_name": "LayoutModel",
          "model_module_version": "1.2.0",
          "state": {
            "_view_name": "LayoutView",
            "grid_template_rows": null,
            "right": null,
            "justify_content": null,
            "_view_module": "@jupyter-widgets/base",
            "overflow": null,
            "_model_module_version": "1.2.0",
            "_view_count": null,
            "flex_flow": null,
            "width": null,
            "min_width": null,
            "border": null,
            "align_items": null,
            "bottom": null,
            "_model_module": "@jupyter-widgets/base",
            "top": null,
            "grid_column": null,
            "overflow_y": null,
            "overflow_x": null,
            "grid_auto_flow": null,
            "grid_area": null,
            "grid_template_columns": null,
            "flex": null,
            "_model_name": "LayoutModel",
            "justify_items": null,
            "grid_row": null,
            "max_height": null,
            "align_content": null,
            "visibility": null,
            "align_self": null,
            "height": null,
            "min_height": null,
            "padding": null,
            "grid_auto_rows": null,
            "grid_gap": null,
            "max_width": null,
            "order": null,
            "_view_module_version": "1.2.0",
            "grid_template_areas": null,
            "object_position": null,
            "object_fit": null,
            "grid_auto_columns": null,
            "margin": null,
            "display": null,
            "left": null
          }
        },
        "f9a2908dbc954b2a86a8515c99fc900f": {
          "model_module": "@jupyter-widgets/controls",
          "model_name": "HTMLModel",
          "model_module_version": "1.5.0",
          "state": {
            "_view_name": "HTMLView",
            "style": "IPY_MODEL_efc661747dcf4436bac493995f1f50c1",
            "_dom_classes": [],
            "description": "",
            "_model_name": "HTMLModel",
            "placeholder": "​",
            "_view_module": "@jupyter-widgets/controls",
            "_model_module_version": "1.5.0",
            "value": "100%",
            "_view_count": null,
            "_view_module_version": "1.5.0",
            "description_tooltip": null,
            "_model_module": "@jupyter-widgets/controls",
            "layout": "IPY_MODEL_353d4fada5374bffb19808f116b61dd6"
          }
        },
        "4dc92fb1bf61435084770b5fb5570095": {
          "model_module": "@jupyter-widgets/controls",
          "model_name": "FloatProgressModel",
          "model_module_version": "1.5.0",
          "state": {
            "_view_name": "ProgressView",
            "style": "IPY_MODEL_5bc22bd3599947bf88b1ce52d35b532f",
            "_dom_classes": [],
            "description": "",
            "_model_name": "FloatProgressModel",
            "bar_style": "success",
            "max": 139,
            "_view_module": "@jupyter-widgets/controls",
            "_model_module_version": "1.5.0",
            "value": 139,
            "_view_count": null,
            "_view_module_version": "1.5.0",
            "orientation": "horizontal",
            "min": 0,
            "description_tooltip": null,
            "_model_module": "@jupyter-widgets/controls",
            "layout": "IPY_MODEL_7eb84c5d77ba4986b4694344c2f650d3"
          }
        },
        "30052c1f4d96435bae400c7195868c63": {
          "model_module": "@jupyter-widgets/controls",
          "model_name": "HTMLModel",
          "model_module_version": "1.5.0",
          "state": {
            "_view_name": "HTMLView",
            "style": "IPY_MODEL_30875a22b8b941a5ae3cf114e6fb35b4",
            "_dom_classes": [],
            "description": "",
            "_model_name": "HTMLModel",
            "placeholder": "​",
            "_view_module": "@jupyter-widgets/controls",
            "_model_module_version": "1.5.0",
            "value": " 139/139 [01:15&lt;00:00,  2.05it/s]",
            "_view_count": null,
            "_view_module_version": "1.5.0",
            "description_tooltip": null,
            "_model_module": "@jupyter-widgets/controls",
            "layout": "IPY_MODEL_1efdd155144146c4bdf007b7c06a20de"
          }
        },
        "efc661747dcf4436bac493995f1f50c1": {
          "model_module": "@jupyter-widgets/controls",
          "model_name": "DescriptionStyleModel",
          "model_module_version": "1.5.0",
          "state": {
            "_view_name": "StyleView",
            "_model_name": "DescriptionStyleModel",
            "description_width": "",
            "_view_module": "@jupyter-widgets/base",
            "_model_module_version": "1.5.0",
            "_view_count": null,
            "_view_module_version": "1.2.0",
            "_model_module": "@jupyter-widgets/controls"
          }
        },
        "353d4fada5374bffb19808f116b61dd6": {
          "model_module": "@jupyter-widgets/base",
          "model_name": "LayoutModel",
          "model_module_version": "1.2.0",
          "state": {
            "_view_name": "LayoutView",
            "grid_template_rows": null,
            "right": null,
            "justify_content": null,
            "_view_module": "@jupyter-widgets/base",
            "overflow": null,
            "_model_module_version": "1.2.0",
            "_view_count": null,
            "flex_flow": null,
            "width": null,
            "min_width": null,
            "border": null,
            "align_items": null,
            "bottom": null,
            "_model_module": "@jupyter-widgets/base",
            "top": null,
            "grid_column": null,
            "overflow_y": null,
            "overflow_x": null,
            "grid_auto_flow": null,
            "grid_area": null,
            "grid_template_columns": null,
            "flex": null,
            "_model_name": "LayoutModel",
            "justify_items": null,
            "grid_row": null,
            "max_height": null,
            "align_content": null,
            "visibility": null,
            "align_self": null,
            "height": null,
            "min_height": null,
            "padding": null,
            "grid_auto_rows": null,
            "grid_gap": null,
            "max_width": null,
            "order": null,
            "_view_module_version": "1.2.0",
            "grid_template_areas": null,
            "object_position": null,
            "object_fit": null,
            "grid_auto_columns": null,
            "margin": null,
            "display": null,
            "left": null
          }
        },
        "5bc22bd3599947bf88b1ce52d35b532f": {
          "model_module": "@jupyter-widgets/controls",
          "model_name": "ProgressStyleModel",
          "model_module_version": "1.5.0",
          "state": {
            "_view_name": "StyleView",
            "_model_name": "ProgressStyleModel",
            "description_width": "",
            "_view_module": "@jupyter-widgets/base",
            "_model_module_version": "1.5.0",
            "_view_count": null,
            "_view_module_version": "1.2.0",
            "bar_color": null,
            "_model_module": "@jupyter-widgets/controls"
          }
        },
        "7eb84c5d77ba4986b4694344c2f650d3": {
          "model_module": "@jupyter-widgets/base",
          "model_name": "LayoutModel",
          "model_module_version": "1.2.0",
          "state": {
            "_view_name": "LayoutView",
            "grid_template_rows": null,
            "right": null,
            "justify_content": null,
            "_view_module": "@jupyter-widgets/base",
            "overflow": null,
            "_model_module_version": "1.2.0",
            "_view_count": null,
            "flex_flow": null,
            "width": null,
            "min_width": null,
            "border": null,
            "align_items": null,
            "bottom": null,
            "_model_module": "@jupyter-widgets/base",
            "top": null,
            "grid_column": null,
            "overflow_y": null,
            "overflow_x": null,
            "grid_auto_flow": null,
            "grid_area": null,
            "grid_template_columns": null,
            "flex": null,
            "_model_name": "LayoutModel",
            "justify_items": null,
            "grid_row": null,
            "max_height": null,
            "align_content": null,
            "visibility": null,
            "align_self": null,
            "height": null,
            "min_height": null,
            "padding": null,
            "grid_auto_rows": null,
            "grid_gap": null,
            "max_width": null,
            "order": null,
            "_view_module_version": "1.2.0",
            "grid_template_areas": null,
            "object_position": null,
            "object_fit": null,
            "grid_auto_columns": null,
            "margin": null,
            "display": null,
            "left": null
          }
        },
        "30875a22b8b941a5ae3cf114e6fb35b4": {
          "model_module": "@jupyter-widgets/controls",
          "model_name": "DescriptionStyleModel",
          "model_module_version": "1.5.0",
          "state": {
            "_view_name": "StyleView",
            "_model_name": "DescriptionStyleModel",
            "description_width": "",
            "_view_module": "@jupyter-widgets/base",
            "_model_module_version": "1.5.0",
            "_view_count": null,
            "_view_module_version": "1.2.0",
            "_model_module": "@jupyter-widgets/controls"
          }
        },
        "1efdd155144146c4bdf007b7c06a20de": {
          "model_module": "@jupyter-widgets/base",
          "model_name": "LayoutModel",
          "model_module_version": "1.2.0",
          "state": {
            "_view_name": "LayoutView",
            "grid_template_rows": null,
            "right": null,
            "justify_content": null,
            "_view_module": "@jupyter-widgets/base",
            "overflow": null,
            "_model_module_version": "1.2.0",
            "_view_count": null,
            "flex_flow": null,
            "width": null,
            "min_width": null,
            "border": null,
            "align_items": null,
            "bottom": null,
            "_model_module": "@jupyter-widgets/base",
            "top": null,
            "grid_column": null,
            "overflow_y": null,
            "overflow_x": null,
            "grid_auto_flow": null,
            "grid_area": null,
            "grid_template_columns": null,
            "flex": null,
            "_model_name": "LayoutModel",
            "justify_items": null,
            "grid_row": null,
            "max_height": null,
            "align_content": null,
            "visibility": null,
            "align_self": null,
            "height": null,
            "min_height": null,
            "padding": null,
            "grid_auto_rows": null,
            "grid_gap": null,
            "max_width": null,
            "order": null,
            "_view_module_version": "1.2.0",
            "grid_template_areas": null,
            "object_position": null,
            "object_fit": null,
            "grid_auto_columns": null,
            "margin": null,
            "display": null,
            "left": null
          }
        },
        "a70ce1a61c21431a95ae9bb8cfdfc62c": {
          "model_module": "@jupyter-widgets/controls",
          "model_name": "HBoxModel",
          "model_module_version": "1.5.0",
          "state": {
            "_view_name": "HBoxView",
            "_dom_classes": [],
            "_model_name": "HBoxModel",
            "_view_module": "@jupyter-widgets/controls",
            "_model_module_version": "1.5.0",
            "_view_count": null,
            "_view_module_version": "1.5.0",
            "box_style": "",
            "layout": "IPY_MODEL_1fcba83c4ee94d6abc87b2335b61236c",
            "_model_module": "@jupyter-widgets/controls",
            "children": [
              "IPY_MODEL_712c958ad60e4b50bb791d1ab1efd2db",
              "IPY_MODEL_5fa011b7f68f47c8a182c777db970498",
              "IPY_MODEL_60a60b6316d6467e84b6de544e6f546c"
            ]
          }
        },
        "1fcba83c4ee94d6abc87b2335b61236c": {
          "model_module": "@jupyter-widgets/base",
          "model_name": "LayoutModel",
          "model_module_version": "1.2.0",
          "state": {
            "_view_name": "LayoutView",
            "grid_template_rows": null,
            "right": null,
            "justify_content": null,
            "_view_module": "@jupyter-widgets/base",
            "overflow": null,
            "_model_module_version": "1.2.0",
            "_view_count": null,
            "flex_flow": null,
            "width": null,
            "min_width": null,
            "border": null,
            "align_items": null,
            "bottom": null,
            "_model_module": "@jupyter-widgets/base",
            "top": null,
            "grid_column": null,
            "overflow_y": null,
            "overflow_x": null,
            "grid_auto_flow": null,
            "grid_area": null,
            "grid_template_columns": null,
            "flex": null,
            "_model_name": "LayoutModel",
            "justify_items": null,
            "grid_row": null,
            "max_height": null,
            "align_content": null,
            "visibility": null,
            "align_self": null,
            "height": null,
            "min_height": null,
            "padding": null,
            "grid_auto_rows": null,
            "grid_gap": null,
            "max_width": null,
            "order": null,
            "_view_module_version": "1.2.0",
            "grid_template_areas": null,
            "object_position": null,
            "object_fit": null,
            "grid_auto_columns": null,
            "margin": null,
            "display": null,
            "left": null
          }
        },
        "712c958ad60e4b50bb791d1ab1efd2db": {
          "model_module": "@jupyter-widgets/controls",
          "model_name": "HTMLModel",
          "model_module_version": "1.5.0",
          "state": {
            "_view_name": "HTMLView",
            "style": "IPY_MODEL_3999637ec5fd4985beeb976cae98758f",
            "_dom_classes": [],
            "description": "",
            "_model_name": "HTMLModel",
            "placeholder": "​",
            "_view_module": "@jupyter-widgets/controls",
            "_model_module_version": "1.5.0",
            "value": "100%",
            "_view_count": null,
            "_view_module_version": "1.5.0",
            "description_tooltip": null,
            "_model_module": "@jupyter-widgets/controls",
            "layout": "IPY_MODEL_71cd675cb2cd44c4b76ab01e55849dd7"
          }
        },
        "5fa011b7f68f47c8a182c777db970498": {
          "model_module": "@jupyter-widgets/controls",
          "model_name": "FloatProgressModel",
          "model_module_version": "1.5.0",
          "state": {
            "_view_name": "ProgressView",
            "style": "IPY_MODEL_35aaf32c9d6b4b4797c5e64f58451823",
            "_dom_classes": [],
            "description": "",
            "_model_name": "FloatProgressModel",
            "bar_style": "success",
            "max": 16,
            "_view_module": "@jupyter-widgets/controls",
            "_model_module_version": "1.5.0",
            "value": 16,
            "_view_count": null,
            "_view_module_version": "1.5.0",
            "orientation": "horizontal",
            "min": 0,
            "description_tooltip": null,
            "_model_module": "@jupyter-widgets/controls",
            "layout": "IPY_MODEL_3943596221124c858c6d2983b782557a"
          }
        },
        "60a60b6316d6467e84b6de544e6f546c": {
          "model_module": "@jupyter-widgets/controls",
          "model_name": "HTMLModel",
          "model_module_version": "1.5.0",
          "state": {
            "_view_name": "HTMLView",
            "style": "IPY_MODEL_b05a6e89263547e0b63ce38bdcaceb6c",
            "_dom_classes": [],
            "description": "",
            "_model_name": "HTMLModel",
            "placeholder": "​",
            "_view_module": "@jupyter-widgets/controls",
            "_model_module_version": "1.5.0",
            "value": " 16/16 [00:08&lt;00:00,  1.98it/s]",
            "_view_count": null,
            "_view_module_version": "1.5.0",
            "description_tooltip": null,
            "_model_module": "@jupyter-widgets/controls",
            "layout": "IPY_MODEL_2dd2dfa1a06b4a76a1549239a1c12983"
          }
        },
        "3999637ec5fd4985beeb976cae98758f": {
          "model_module": "@jupyter-widgets/controls",
          "model_name": "DescriptionStyleModel",
          "model_module_version": "1.5.0",
          "state": {
            "_view_name": "StyleView",
            "_model_name": "DescriptionStyleModel",
            "description_width": "",
            "_view_module": "@jupyter-widgets/base",
            "_model_module_version": "1.5.0",
            "_view_count": null,
            "_view_module_version": "1.2.0",
            "_model_module": "@jupyter-widgets/controls"
          }
        },
        "71cd675cb2cd44c4b76ab01e55849dd7": {
          "model_module": "@jupyter-widgets/base",
          "model_name": "LayoutModel",
          "model_module_version": "1.2.0",
          "state": {
            "_view_name": "LayoutView",
            "grid_template_rows": null,
            "right": null,
            "justify_content": null,
            "_view_module": "@jupyter-widgets/base",
            "overflow": null,
            "_model_module_version": "1.2.0",
            "_view_count": null,
            "flex_flow": null,
            "width": null,
            "min_width": null,
            "border": null,
            "align_items": null,
            "bottom": null,
            "_model_module": "@jupyter-widgets/base",
            "top": null,
            "grid_column": null,
            "overflow_y": null,
            "overflow_x": null,
            "grid_auto_flow": null,
            "grid_area": null,
            "grid_template_columns": null,
            "flex": null,
            "_model_name": "LayoutModel",
            "justify_items": null,
            "grid_row": null,
            "max_height": null,
            "align_content": null,
            "visibility": null,
            "align_self": null,
            "height": null,
            "min_height": null,
            "padding": null,
            "grid_auto_rows": null,
            "grid_gap": null,
            "max_width": null,
            "order": null,
            "_view_module_version": "1.2.0",
            "grid_template_areas": null,
            "object_position": null,
            "object_fit": null,
            "grid_auto_columns": null,
            "margin": null,
            "display": null,
            "left": null
          }
        },
        "35aaf32c9d6b4b4797c5e64f58451823": {
          "model_module": "@jupyter-widgets/controls",
          "model_name": "ProgressStyleModel",
          "model_module_version": "1.5.0",
          "state": {
            "_view_name": "StyleView",
            "_model_name": "ProgressStyleModel",
            "description_width": "",
            "_view_module": "@jupyter-widgets/base",
            "_model_module_version": "1.5.0",
            "_view_count": null,
            "_view_module_version": "1.2.0",
            "bar_color": null,
            "_model_module": "@jupyter-widgets/controls"
          }
        },
        "3943596221124c858c6d2983b782557a": {
          "model_module": "@jupyter-widgets/base",
          "model_name": "LayoutModel",
          "model_module_version": "1.2.0",
          "state": {
            "_view_name": "LayoutView",
            "grid_template_rows": null,
            "right": null,
            "justify_content": null,
            "_view_module": "@jupyter-widgets/base",
            "overflow": null,
            "_model_module_version": "1.2.0",
            "_view_count": null,
            "flex_flow": null,
            "width": null,
            "min_width": null,
            "border": null,
            "align_items": null,
            "bottom": null,
            "_model_module": "@jupyter-widgets/base",
            "top": null,
            "grid_column": null,
            "overflow_y": null,
            "overflow_x": null,
            "grid_auto_flow": null,
            "grid_area": null,
            "grid_template_columns": null,
            "flex": null,
            "_model_name": "LayoutModel",
            "justify_items": null,
            "grid_row": null,
            "max_height": null,
            "align_content": null,
            "visibility": null,
            "align_self": null,
            "height": null,
            "min_height": null,
            "padding": null,
            "grid_auto_rows": null,
            "grid_gap": null,
            "max_width": null,
            "order": null,
            "_view_module_version": "1.2.0",
            "grid_template_areas": null,
            "object_position": null,
            "object_fit": null,
            "grid_auto_columns": null,
            "margin": null,
            "display": null,
            "left": null
          }
        },
        "b05a6e89263547e0b63ce38bdcaceb6c": {
          "model_module": "@jupyter-widgets/controls",
          "model_name": "DescriptionStyleModel",
          "model_module_version": "1.5.0",
          "state": {
            "_view_name": "StyleView",
            "_model_name": "DescriptionStyleModel",
            "description_width": "",
            "_view_module": "@jupyter-widgets/base",
            "_model_module_version": "1.5.0",
            "_view_count": null,
            "_view_module_version": "1.2.0",
            "_model_module": "@jupyter-widgets/controls"
          }
        },
        "2dd2dfa1a06b4a76a1549239a1c12983": {
          "model_module": "@jupyter-widgets/base",
          "model_name": "LayoutModel",
          "model_module_version": "1.2.0",
          "state": {
            "_view_name": "LayoutView",
            "grid_template_rows": null,
            "right": null,
            "justify_content": null,
            "_view_module": "@jupyter-widgets/base",
            "overflow": null,
            "_model_module_version": "1.2.0",
            "_view_count": null,
            "flex_flow": null,
            "width": null,
            "min_width": null,
            "border": null,
            "align_items": null,
            "bottom": null,
            "_model_module": "@jupyter-widgets/base",
            "top": null,
            "grid_column": null,
            "overflow_y": null,
            "overflow_x": null,
            "grid_auto_flow": null,
            "grid_area": null,
            "grid_template_columns": null,
            "flex": null,
            "_model_name": "LayoutModel",
            "justify_items": null,
            "grid_row": null,
            "max_height": null,
            "align_content": null,
            "visibility": null,
            "align_self": null,
            "height": null,
            "min_height": null,
            "padding": null,
            "grid_auto_rows": null,
            "grid_gap": null,
            "max_width": null,
            "order": null,
            "_view_module_version": "1.2.0",
            "grid_template_areas": null,
            "object_position": null,
            "object_fit": null,
            "grid_auto_columns": null,
            "margin": null,
            "display": null,
            "left": null
          }
        },
        "1232392e94b742c9b25852aeda71c438": {
          "model_module": "@jupyter-widgets/controls",
          "model_name": "HBoxModel",
          "model_module_version": "1.5.0",
          "state": {
            "_view_name": "HBoxView",
            "_dom_classes": [],
            "_model_name": "HBoxModel",
            "_view_module": "@jupyter-widgets/controls",
            "_model_module_version": "1.5.0",
            "_view_count": null,
            "_view_module_version": "1.5.0",
            "box_style": "",
            "layout": "IPY_MODEL_6a60d0e4ca3042cd8cbc9b029c8800e1",
            "_model_module": "@jupyter-widgets/controls",
            "children": [
              "IPY_MODEL_fd804f259f614bdb881704ad30845ce0",
              "IPY_MODEL_ca92a5fdc9de4082a1cf4657617bfb9c",
              "IPY_MODEL_aaad548478db424b93fdf7a08b72ddf0"
            ]
          }
        },
        "6a60d0e4ca3042cd8cbc9b029c8800e1": {
          "model_module": "@jupyter-widgets/base",
          "model_name": "LayoutModel",
          "model_module_version": "1.2.0",
          "state": {
            "_view_name": "LayoutView",
            "grid_template_rows": null,
            "right": null,
            "justify_content": null,
            "_view_module": "@jupyter-widgets/base",
            "overflow": null,
            "_model_module_version": "1.2.0",
            "_view_count": null,
            "flex_flow": null,
            "width": null,
            "min_width": null,
            "border": null,
            "align_items": null,
            "bottom": null,
            "_model_module": "@jupyter-widgets/base",
            "top": null,
            "grid_column": null,
            "overflow_y": null,
            "overflow_x": null,
            "grid_auto_flow": null,
            "grid_area": null,
            "grid_template_columns": null,
            "flex": null,
            "_model_name": "LayoutModel",
            "justify_items": null,
            "grid_row": null,
            "max_height": null,
            "align_content": null,
            "visibility": null,
            "align_self": null,
            "height": null,
            "min_height": null,
            "padding": null,
            "grid_auto_rows": null,
            "grid_gap": null,
            "max_width": null,
            "order": null,
            "_view_module_version": "1.2.0",
            "grid_template_areas": null,
            "object_position": null,
            "object_fit": null,
            "grid_auto_columns": null,
            "margin": null,
            "display": null,
            "left": null
          }
        },
        "fd804f259f614bdb881704ad30845ce0": {
          "model_module": "@jupyter-widgets/controls",
          "model_name": "HTMLModel",
          "model_module_version": "1.5.0",
          "state": {
            "_view_name": "HTMLView",
            "style": "IPY_MODEL_5ad53b08ba9e4cceb7fa665f79aa1f30",
            "_dom_classes": [],
            "description": "",
            "_model_name": "HTMLModel",
            "placeholder": "​",
            "_view_module": "@jupyter-widgets/controls",
            "_model_module_version": "1.5.0",
            "value": "100%",
            "_view_count": null,
            "_view_module_version": "1.5.0",
            "description_tooltip": null,
            "_model_module": "@jupyter-widgets/controls",
            "layout": "IPY_MODEL_0fc16d5d60ef42c9b128182d0058c173"
          }
        },
        "ca92a5fdc9de4082a1cf4657617bfb9c": {
          "model_module": "@jupyter-widgets/controls",
          "model_name": "FloatProgressModel",
          "model_module_version": "1.5.0",
          "state": {
            "_view_name": "ProgressView",
            "style": "IPY_MODEL_c7809cb2b7ab42b9aabf9fee1b016454",
            "_dom_classes": [],
            "description": "",
            "_model_name": "FloatProgressModel",
            "bar_style": "success",
            "max": 139,
            "_view_module": "@jupyter-widgets/controls",
            "_model_module_version": "1.5.0",
            "value": 139,
            "_view_count": null,
            "_view_module_version": "1.5.0",
            "orientation": "horizontal",
            "min": 0,
            "description_tooltip": null,
            "_model_module": "@jupyter-widgets/controls",
            "layout": "IPY_MODEL_79a18b1d3f2441ba872b840bf0c1e4a6"
          }
        },
        "aaad548478db424b93fdf7a08b72ddf0": {
          "model_module": "@jupyter-widgets/controls",
          "model_name": "HTMLModel",
          "model_module_version": "1.5.0",
          "state": {
            "_view_name": "HTMLView",
            "style": "IPY_MODEL_847fb6b5a30246578de44cac5cd4db2f",
            "_dom_classes": [],
            "description": "",
            "_model_name": "HTMLModel",
            "placeholder": "​",
            "_view_module": "@jupyter-widgets/controls",
            "_model_module_version": "1.5.0",
            "value": " 139/139 [01:15&lt;00:00,  2.05it/s]",
            "_view_count": null,
            "_view_module_version": "1.5.0",
            "description_tooltip": null,
            "_model_module": "@jupyter-widgets/controls",
            "layout": "IPY_MODEL_971441fa11d14a38b2bf45bdce629c3e"
          }
        },
        "5ad53b08ba9e4cceb7fa665f79aa1f30": {
          "model_module": "@jupyter-widgets/controls",
          "model_name": "DescriptionStyleModel",
          "model_module_version": "1.5.0",
          "state": {
            "_view_name": "StyleView",
            "_model_name": "DescriptionStyleModel",
            "description_width": "",
            "_view_module": "@jupyter-widgets/base",
            "_model_module_version": "1.5.0",
            "_view_count": null,
            "_view_module_version": "1.2.0",
            "_model_module": "@jupyter-widgets/controls"
          }
        },
        "0fc16d5d60ef42c9b128182d0058c173": {
          "model_module": "@jupyter-widgets/base",
          "model_name": "LayoutModel",
          "model_module_version": "1.2.0",
          "state": {
            "_view_name": "LayoutView",
            "grid_template_rows": null,
            "right": null,
            "justify_content": null,
            "_view_module": "@jupyter-widgets/base",
            "overflow": null,
            "_model_module_version": "1.2.0",
            "_view_count": null,
            "flex_flow": null,
            "width": null,
            "min_width": null,
            "border": null,
            "align_items": null,
            "bottom": null,
            "_model_module": "@jupyter-widgets/base",
            "top": null,
            "grid_column": null,
            "overflow_y": null,
            "overflow_x": null,
            "grid_auto_flow": null,
            "grid_area": null,
            "grid_template_columns": null,
            "flex": null,
            "_model_name": "LayoutModel",
            "justify_items": null,
            "grid_row": null,
            "max_height": null,
            "align_content": null,
            "visibility": null,
            "align_self": null,
            "height": null,
            "min_height": null,
            "padding": null,
            "grid_auto_rows": null,
            "grid_gap": null,
            "max_width": null,
            "order": null,
            "_view_module_version": "1.2.0",
            "grid_template_areas": null,
            "object_position": null,
            "object_fit": null,
            "grid_auto_columns": null,
            "margin": null,
            "display": null,
            "left": null
          }
        },
        "c7809cb2b7ab42b9aabf9fee1b016454": {
          "model_module": "@jupyter-widgets/controls",
          "model_name": "ProgressStyleModel",
          "model_module_version": "1.5.0",
          "state": {
            "_view_name": "StyleView",
            "_model_name": "ProgressStyleModel",
            "description_width": "",
            "_view_module": "@jupyter-widgets/base",
            "_model_module_version": "1.5.0",
            "_view_count": null,
            "_view_module_version": "1.2.0",
            "bar_color": null,
            "_model_module": "@jupyter-widgets/controls"
          }
        },
        "79a18b1d3f2441ba872b840bf0c1e4a6": {
          "model_module": "@jupyter-widgets/base",
          "model_name": "LayoutModel",
          "model_module_version": "1.2.0",
          "state": {
            "_view_name": "LayoutView",
            "grid_template_rows": null,
            "right": null,
            "justify_content": null,
            "_view_module": "@jupyter-widgets/base",
            "overflow": null,
            "_model_module_version": "1.2.0",
            "_view_count": null,
            "flex_flow": null,
            "width": null,
            "min_width": null,
            "border": null,
            "align_items": null,
            "bottom": null,
            "_model_module": "@jupyter-widgets/base",
            "top": null,
            "grid_column": null,
            "overflow_y": null,
            "overflow_x": null,
            "grid_auto_flow": null,
            "grid_area": null,
            "grid_template_columns": null,
            "flex": null,
            "_model_name": "LayoutModel",
            "justify_items": null,
            "grid_row": null,
            "max_height": null,
            "align_content": null,
            "visibility": null,
            "align_self": null,
            "height": null,
            "min_height": null,
            "padding": null,
            "grid_auto_rows": null,
            "grid_gap": null,
            "max_width": null,
            "order": null,
            "_view_module_version": "1.2.0",
            "grid_template_areas": null,
            "object_position": null,
            "object_fit": null,
            "grid_auto_columns": null,
            "margin": null,
            "display": null,
            "left": null
          }
        },
        "847fb6b5a30246578de44cac5cd4db2f": {
          "model_module": "@jupyter-widgets/controls",
          "model_name": "DescriptionStyleModel",
          "model_module_version": "1.5.0",
          "state": {
            "_view_name": "StyleView",
            "_model_name": "DescriptionStyleModel",
            "description_width": "",
            "_view_module": "@jupyter-widgets/base",
            "_model_module_version": "1.5.0",
            "_view_count": null,
            "_view_module_version": "1.2.0",
            "_model_module": "@jupyter-widgets/controls"
          }
        },
        "971441fa11d14a38b2bf45bdce629c3e": {
          "model_module": "@jupyter-widgets/base",
          "model_name": "LayoutModel",
          "model_module_version": "1.2.0",
          "state": {
            "_view_name": "LayoutView",
            "grid_template_rows": null,
            "right": null,
            "justify_content": null,
            "_view_module": "@jupyter-widgets/base",
            "overflow": null,
            "_model_module_version": "1.2.0",
            "_view_count": null,
            "flex_flow": null,
            "width": null,
            "min_width": null,
            "border": null,
            "align_items": null,
            "bottom": null,
            "_model_module": "@jupyter-widgets/base",
            "top": null,
            "grid_column": null,
            "overflow_y": null,
            "overflow_x": null,
            "grid_auto_flow": null,
            "grid_area": null,
            "grid_template_columns": null,
            "flex": null,
            "_model_name": "LayoutModel",
            "justify_items": null,
            "grid_row": null,
            "max_height": null,
            "align_content": null,
            "visibility": null,
            "align_self": null,
            "height": null,
            "min_height": null,
            "padding": null,
            "grid_auto_rows": null,
            "grid_gap": null,
            "max_width": null,
            "order": null,
            "_view_module_version": "1.2.0",
            "grid_template_areas": null,
            "object_position": null,
            "object_fit": null,
            "grid_auto_columns": null,
            "margin": null,
            "display": null,
            "left": null
          }
        },
        "068ed6d91c74469a85c7724b5edcc3f8": {
          "model_module": "@jupyter-widgets/controls",
          "model_name": "HBoxModel",
          "model_module_version": "1.5.0",
          "state": {
            "_view_name": "HBoxView",
            "_dom_classes": [],
            "_model_name": "HBoxModel",
            "_view_module": "@jupyter-widgets/controls",
            "_model_module_version": "1.5.0",
            "_view_count": null,
            "_view_module_version": "1.5.0",
            "box_style": "",
            "layout": "IPY_MODEL_1b669e39ab04490dbcbbacf7d60b1efc",
            "_model_module": "@jupyter-widgets/controls",
            "children": [
              "IPY_MODEL_9a4fa73b18d04251a5e49978fabe719b",
              "IPY_MODEL_11fb653aa8df430a93123309d9855790",
              "IPY_MODEL_3d096aae6bc74a08805b0157674b72f6"
            ]
          }
        },
        "1b669e39ab04490dbcbbacf7d60b1efc": {
          "model_module": "@jupyter-widgets/base",
          "model_name": "LayoutModel",
          "model_module_version": "1.2.0",
          "state": {
            "_view_name": "LayoutView",
            "grid_template_rows": null,
            "right": null,
            "justify_content": null,
            "_view_module": "@jupyter-widgets/base",
            "overflow": null,
            "_model_module_version": "1.2.0",
            "_view_count": null,
            "flex_flow": null,
            "width": null,
            "min_width": null,
            "border": null,
            "align_items": null,
            "bottom": null,
            "_model_module": "@jupyter-widgets/base",
            "top": null,
            "grid_column": null,
            "overflow_y": null,
            "overflow_x": null,
            "grid_auto_flow": null,
            "grid_area": null,
            "grid_template_columns": null,
            "flex": null,
            "_model_name": "LayoutModel",
            "justify_items": null,
            "grid_row": null,
            "max_height": null,
            "align_content": null,
            "visibility": null,
            "align_self": null,
            "height": null,
            "min_height": null,
            "padding": null,
            "grid_auto_rows": null,
            "grid_gap": null,
            "max_width": null,
            "order": null,
            "_view_module_version": "1.2.0",
            "grid_template_areas": null,
            "object_position": null,
            "object_fit": null,
            "grid_auto_columns": null,
            "margin": null,
            "display": null,
            "left": null
          }
        },
        "9a4fa73b18d04251a5e49978fabe719b": {
          "model_module": "@jupyter-widgets/controls",
          "model_name": "HTMLModel",
          "model_module_version": "1.5.0",
          "state": {
            "_view_name": "HTMLView",
            "style": "IPY_MODEL_e08aa5ab058d4c8492379ff75347b089",
            "_dom_classes": [],
            "description": "",
            "_model_name": "HTMLModel",
            "placeholder": "​",
            "_view_module": "@jupyter-widgets/controls",
            "_model_module_version": "1.5.0",
            "value": "100%",
            "_view_count": null,
            "_view_module_version": "1.5.0",
            "description_tooltip": null,
            "_model_module": "@jupyter-widgets/controls",
            "layout": "IPY_MODEL_25a28e41bb42447fb09f4f37eea06640"
          }
        },
        "11fb653aa8df430a93123309d9855790": {
          "model_module": "@jupyter-widgets/controls",
          "model_name": "FloatProgressModel",
          "model_module_version": "1.5.0",
          "state": {
            "_view_name": "ProgressView",
            "style": "IPY_MODEL_984f043aec494fa9bb09f1de1f3d1634",
            "_dom_classes": [],
            "description": "",
            "_model_name": "FloatProgressModel",
            "bar_style": "success",
            "max": 19,
            "_view_module": "@jupyter-widgets/controls",
            "_model_module_version": "1.5.0",
            "value": 19,
            "_view_count": null,
            "_view_module_version": "1.5.0",
            "orientation": "horizontal",
            "min": 0,
            "description_tooltip": null,
            "_model_module": "@jupyter-widgets/controls",
            "layout": "IPY_MODEL_7e278f41f80b4a2e8524218e91851af2"
          }
        },
        "3d096aae6bc74a08805b0157674b72f6": {
          "model_module": "@jupyter-widgets/controls",
          "model_name": "HTMLModel",
          "model_module_version": "1.5.0",
          "state": {
            "_view_name": "HTMLView",
            "style": "IPY_MODEL_3b09352c2061449dbac1eac902534b98",
            "_dom_classes": [],
            "description": "",
            "_model_name": "HTMLModel",
            "placeholder": "​",
            "_view_module": "@jupyter-widgets/controls",
            "_model_module_version": "1.5.0",
            "value": " 19/19 [00:10&lt;00:00,  2.13it/s]",
            "_view_count": null,
            "_view_module_version": "1.5.0",
            "description_tooltip": null,
            "_model_module": "@jupyter-widgets/controls",
            "layout": "IPY_MODEL_6ec830af673b48d798752388807eae10"
          }
        },
        "e08aa5ab058d4c8492379ff75347b089": {
          "model_module": "@jupyter-widgets/controls",
          "model_name": "DescriptionStyleModel",
          "model_module_version": "1.5.0",
          "state": {
            "_view_name": "StyleView",
            "_model_name": "DescriptionStyleModel",
            "description_width": "",
            "_view_module": "@jupyter-widgets/base",
            "_model_module_version": "1.5.0",
            "_view_count": null,
            "_view_module_version": "1.2.0",
            "_model_module": "@jupyter-widgets/controls"
          }
        },
        "25a28e41bb42447fb09f4f37eea06640": {
          "model_module": "@jupyter-widgets/base",
          "model_name": "LayoutModel",
          "model_module_version": "1.2.0",
          "state": {
            "_view_name": "LayoutView",
            "grid_template_rows": null,
            "right": null,
            "justify_content": null,
            "_view_module": "@jupyter-widgets/base",
            "overflow": null,
            "_model_module_version": "1.2.0",
            "_view_count": null,
            "flex_flow": null,
            "width": null,
            "min_width": null,
            "border": null,
            "align_items": null,
            "bottom": null,
            "_model_module": "@jupyter-widgets/base",
            "top": null,
            "grid_column": null,
            "overflow_y": null,
            "overflow_x": null,
            "grid_auto_flow": null,
            "grid_area": null,
            "grid_template_columns": null,
            "flex": null,
            "_model_name": "LayoutModel",
            "justify_items": null,
            "grid_row": null,
            "max_height": null,
            "align_content": null,
            "visibility": null,
            "align_self": null,
            "height": null,
            "min_height": null,
            "padding": null,
            "grid_auto_rows": null,
            "grid_gap": null,
            "max_width": null,
            "order": null,
            "_view_module_version": "1.2.0",
            "grid_template_areas": null,
            "object_position": null,
            "object_fit": null,
            "grid_auto_columns": null,
            "margin": null,
            "display": null,
            "left": null
          }
        },
        "984f043aec494fa9bb09f1de1f3d1634": {
          "model_module": "@jupyter-widgets/controls",
          "model_name": "ProgressStyleModel",
          "model_module_version": "1.5.0",
          "state": {
            "_view_name": "StyleView",
            "_model_name": "ProgressStyleModel",
            "description_width": "",
            "_view_module": "@jupyter-widgets/base",
            "_model_module_version": "1.5.0",
            "_view_count": null,
            "_view_module_version": "1.2.0",
            "bar_color": null,
            "_model_module": "@jupyter-widgets/controls"
          }
        },
        "7e278f41f80b4a2e8524218e91851af2": {
          "model_module": "@jupyter-widgets/base",
          "model_name": "LayoutModel",
          "model_module_version": "1.2.0",
          "state": {
            "_view_name": "LayoutView",
            "grid_template_rows": null,
            "right": null,
            "justify_content": null,
            "_view_module": "@jupyter-widgets/base",
            "overflow": null,
            "_model_module_version": "1.2.0",
            "_view_count": null,
            "flex_flow": null,
            "width": null,
            "min_width": null,
            "border": null,
            "align_items": null,
            "bottom": null,
            "_model_module": "@jupyter-widgets/base",
            "top": null,
            "grid_column": null,
            "overflow_y": null,
            "overflow_x": null,
            "grid_auto_flow": null,
            "grid_area": null,
            "grid_template_columns": null,
            "flex": null,
            "_model_name": "LayoutModel",
            "justify_items": null,
            "grid_row": null,
            "max_height": null,
            "align_content": null,
            "visibility": null,
            "align_self": null,
            "height": null,
            "min_height": null,
            "padding": null,
            "grid_auto_rows": null,
            "grid_gap": null,
            "max_width": null,
            "order": null,
            "_view_module_version": "1.2.0",
            "grid_template_areas": null,
            "object_position": null,
            "object_fit": null,
            "grid_auto_columns": null,
            "margin": null,
            "display": null,
            "left": null
          }
        },
        "3b09352c2061449dbac1eac902534b98": {
          "model_module": "@jupyter-widgets/controls",
          "model_name": "DescriptionStyleModel",
          "model_module_version": "1.5.0",
          "state": {
            "_view_name": "StyleView",
            "_model_name": "DescriptionStyleModel",
            "description_width": "",
            "_view_module": "@jupyter-widgets/base",
            "_model_module_version": "1.5.0",
            "_view_count": null,
            "_view_module_version": "1.2.0",
            "_model_module": "@jupyter-widgets/controls"
          }
        },
        "6ec830af673b48d798752388807eae10": {
          "model_module": "@jupyter-widgets/base",
          "model_name": "LayoutModel",
          "model_module_version": "1.2.0",
          "state": {
            "_view_name": "LayoutView",
            "grid_template_rows": null,
            "right": null,
            "justify_content": null,
            "_view_module": "@jupyter-widgets/base",
            "overflow": null,
            "_model_module_version": "1.2.0",
            "_view_count": null,
            "flex_flow": null,
            "width": null,
            "min_width": null,
            "border": null,
            "align_items": null,
            "bottom": null,
            "_model_module": "@jupyter-widgets/base",
            "top": null,
            "grid_column": null,
            "overflow_y": null,
            "overflow_x": null,
            "grid_auto_flow": null,
            "grid_area": null,
            "grid_template_columns": null,
            "flex": null,
            "_model_name": "LayoutModel",
            "justify_items": null,
            "grid_row": null,
            "max_height": null,
            "align_content": null,
            "visibility": null,
            "align_self": null,
            "height": null,
            "min_height": null,
            "padding": null,
            "grid_auto_rows": null,
            "grid_gap": null,
            "max_width": null,
            "order": null,
            "_view_module_version": "1.2.0",
            "grid_template_areas": null,
            "object_position": null,
            "object_fit": null,
            "grid_auto_columns": null,
            "margin": null,
            "display": null,
            "left": null
          }
        },
        "21ffc74d1e094609b0c3393ddc01efe9": {
          "model_module": "@jupyter-widgets/controls",
          "model_name": "HBoxModel",
          "model_module_version": "1.5.0",
          "state": {
            "_view_name": "HBoxView",
            "_dom_classes": [],
            "_model_name": "HBoxModel",
            "_view_module": "@jupyter-widgets/controls",
            "_model_module_version": "1.5.0",
            "_view_count": null,
            "_view_module_version": "1.5.0",
            "box_style": "",
            "layout": "IPY_MODEL_016244cb7aee4dc186a19a18aa3a5874",
            "_model_module": "@jupyter-widgets/controls",
            "children": [
              "IPY_MODEL_75ae1a31791c48a29beb4fc1ae05e610",
              "IPY_MODEL_f576668e080a4037b1d16e914d251f8f",
              "IPY_MODEL_69a04208d6b448b98a879be2bc4dcbeb"
            ]
          }
        },
        "016244cb7aee4dc186a19a18aa3a5874": {
          "model_module": "@jupyter-widgets/base",
          "model_name": "LayoutModel",
          "model_module_version": "1.2.0",
          "state": {
            "_view_name": "LayoutView",
            "grid_template_rows": null,
            "right": null,
            "justify_content": null,
            "_view_module": "@jupyter-widgets/base",
            "overflow": null,
            "_model_module_version": "1.2.0",
            "_view_count": null,
            "flex_flow": null,
            "width": null,
            "min_width": null,
            "border": null,
            "align_items": null,
            "bottom": null,
            "_model_module": "@jupyter-widgets/base",
            "top": null,
            "grid_column": null,
            "overflow_y": null,
            "overflow_x": null,
            "grid_auto_flow": null,
            "grid_area": null,
            "grid_template_columns": null,
            "flex": null,
            "_model_name": "LayoutModel",
            "justify_items": null,
            "grid_row": null,
            "max_height": null,
            "align_content": null,
            "visibility": null,
            "align_self": null,
            "height": null,
            "min_height": null,
            "padding": null,
            "grid_auto_rows": null,
            "grid_gap": null,
            "max_width": null,
            "order": null,
            "_view_module_version": "1.2.0",
            "grid_template_areas": null,
            "object_position": null,
            "object_fit": null,
            "grid_auto_columns": null,
            "margin": null,
            "display": null,
            "left": null
          }
        },
        "75ae1a31791c48a29beb4fc1ae05e610": {
          "model_module": "@jupyter-widgets/controls",
          "model_name": "HTMLModel",
          "model_module_version": "1.5.0",
          "state": {
            "_view_name": "HTMLView",
            "style": "IPY_MODEL_d2740e5efa5f4f9bb0113f3152c80d19",
            "_dom_classes": [],
            "description": "",
            "_model_name": "HTMLModel",
            "placeholder": "​",
            "_view_module": "@jupyter-widgets/controls",
            "_model_module_version": "1.5.0",
            "value": "100%",
            "_view_count": null,
            "_view_module_version": "1.5.0",
            "description_tooltip": null,
            "_model_module": "@jupyter-widgets/controls",
            "layout": "IPY_MODEL_69d05989e8864c10a565f06aeabe910e"
          }
        },
        "f576668e080a4037b1d16e914d251f8f": {
          "model_module": "@jupyter-widgets/controls",
          "model_name": "FloatProgressModel",
          "model_module_version": "1.5.0",
          "state": {
            "_view_name": "ProgressView",
            "style": "IPY_MODEL_49c28a8e3b60490ea68189c4ea34ac94",
            "_dom_classes": [],
            "description": "",
            "_model_name": "FloatProgressModel",
            "bar_style": "success",
            "max": 5,
            "_view_module": "@jupyter-widgets/controls",
            "_model_module_version": "1.5.0",
            "value": 5,
            "_view_count": null,
            "_view_module_version": "1.5.0",
            "orientation": "horizontal",
            "min": 0,
            "description_tooltip": null,
            "_model_module": "@jupyter-widgets/controls",
            "layout": "IPY_MODEL_6007cafbd3194c5b93e9b72503d6f169"
          }
        },
        "69a04208d6b448b98a879be2bc4dcbeb": {
          "model_module": "@jupyter-widgets/controls",
          "model_name": "HTMLModel",
          "model_module_version": "1.5.0",
          "state": {
            "_view_name": "HTMLView",
            "style": "IPY_MODEL_2345f6c3cb404eaa85519ef9e2047d8b",
            "_dom_classes": [],
            "description": "",
            "_model_name": "HTMLModel",
            "placeholder": "​",
            "_view_module": "@jupyter-widgets/controls",
            "_model_module_version": "1.5.0",
            "value": " 5/5 [00:02&lt;00:00,  1.98it/s]",
            "_view_count": null,
            "_view_module_version": "1.5.0",
            "description_tooltip": null,
            "_model_module": "@jupyter-widgets/controls",
            "layout": "IPY_MODEL_d2bdb790a0b44311b83c73b00444f6c0"
          }
        },
        "d2740e5efa5f4f9bb0113f3152c80d19": {
          "model_module": "@jupyter-widgets/controls",
          "model_name": "DescriptionStyleModel",
          "model_module_version": "1.5.0",
          "state": {
            "_view_name": "StyleView",
            "_model_name": "DescriptionStyleModel",
            "description_width": "",
            "_view_module": "@jupyter-widgets/base",
            "_model_module_version": "1.5.0",
            "_view_count": null,
            "_view_module_version": "1.2.0",
            "_model_module": "@jupyter-widgets/controls"
          }
        },
        "69d05989e8864c10a565f06aeabe910e": {
          "model_module": "@jupyter-widgets/base",
          "model_name": "LayoutModel",
          "model_module_version": "1.2.0",
          "state": {
            "_view_name": "LayoutView",
            "grid_template_rows": null,
            "right": null,
            "justify_content": null,
            "_view_module": "@jupyter-widgets/base",
            "overflow": null,
            "_model_module_version": "1.2.0",
            "_view_count": null,
            "flex_flow": null,
            "width": null,
            "min_width": null,
            "border": null,
            "align_items": null,
            "bottom": null,
            "_model_module": "@jupyter-widgets/base",
            "top": null,
            "grid_column": null,
            "overflow_y": null,
            "overflow_x": null,
            "grid_auto_flow": null,
            "grid_area": null,
            "grid_template_columns": null,
            "flex": null,
            "_model_name": "LayoutModel",
            "justify_items": null,
            "grid_row": null,
            "max_height": null,
            "align_content": null,
            "visibility": null,
            "align_self": null,
            "height": null,
            "min_height": null,
            "padding": null,
            "grid_auto_rows": null,
            "grid_gap": null,
            "max_width": null,
            "order": null,
            "_view_module_version": "1.2.0",
            "grid_template_areas": null,
            "object_position": null,
            "object_fit": null,
            "grid_auto_columns": null,
            "margin": null,
            "display": null,
            "left": null
          }
        },
        "49c28a8e3b60490ea68189c4ea34ac94": {
          "model_module": "@jupyter-widgets/controls",
          "model_name": "ProgressStyleModel",
          "model_module_version": "1.5.0",
          "state": {
            "_view_name": "StyleView",
            "_model_name": "ProgressStyleModel",
            "description_width": "",
            "_view_module": "@jupyter-widgets/base",
            "_model_module_version": "1.5.0",
            "_view_count": null,
            "_view_module_version": "1.2.0",
            "bar_color": null,
            "_model_module": "@jupyter-widgets/controls"
          }
        },
        "6007cafbd3194c5b93e9b72503d6f169": {
          "model_module": "@jupyter-widgets/base",
          "model_name": "LayoutModel",
          "model_module_version": "1.2.0",
          "state": {
            "_view_name": "LayoutView",
            "grid_template_rows": null,
            "right": null,
            "justify_content": null,
            "_view_module": "@jupyter-widgets/base",
            "overflow": null,
            "_model_module_version": "1.2.0",
            "_view_count": null,
            "flex_flow": null,
            "width": null,
            "min_width": null,
            "border": null,
            "align_items": null,
            "bottom": null,
            "_model_module": "@jupyter-widgets/base",
            "top": null,
            "grid_column": null,
            "overflow_y": null,
            "overflow_x": null,
            "grid_auto_flow": null,
            "grid_area": null,
            "grid_template_columns": null,
            "flex": null,
            "_model_name": "LayoutModel",
            "justify_items": null,
            "grid_row": null,
            "max_height": null,
            "align_content": null,
            "visibility": null,
            "align_self": null,
            "height": null,
            "min_height": null,
            "padding": null,
            "grid_auto_rows": null,
            "grid_gap": null,
            "max_width": null,
            "order": null,
            "_view_module_version": "1.2.0",
            "grid_template_areas": null,
            "object_position": null,
            "object_fit": null,
            "grid_auto_columns": null,
            "margin": null,
            "display": null,
            "left": null
          }
        },
        "2345f6c3cb404eaa85519ef9e2047d8b": {
          "model_module": "@jupyter-widgets/controls",
          "model_name": "DescriptionStyleModel",
          "model_module_version": "1.5.0",
          "state": {
            "_view_name": "StyleView",
            "_model_name": "DescriptionStyleModel",
            "description_width": "",
            "_view_module": "@jupyter-widgets/base",
            "_model_module_version": "1.5.0",
            "_view_count": null,
            "_view_module_version": "1.2.0",
            "_model_module": "@jupyter-widgets/controls"
          }
        },
        "d2bdb790a0b44311b83c73b00444f6c0": {
          "model_module": "@jupyter-widgets/base",
          "model_name": "LayoutModel",
          "model_module_version": "1.2.0",
          "state": {
            "_view_name": "LayoutView",
            "grid_template_rows": null,
            "right": null,
            "justify_content": null,
            "_view_module": "@jupyter-widgets/base",
            "overflow": null,
            "_model_module_version": "1.2.0",
            "_view_count": null,
            "flex_flow": null,
            "width": null,
            "min_width": null,
            "border": null,
            "align_items": null,
            "bottom": null,
            "_model_module": "@jupyter-widgets/base",
            "top": null,
            "grid_column": null,
            "overflow_y": null,
            "overflow_x": null,
            "grid_auto_flow": null,
            "grid_area": null,
            "grid_template_columns": null,
            "flex": null,
            "_model_name": "LayoutModel",
            "justify_items": null,
            "grid_row": null,
            "max_height": null,
            "align_content": null,
            "visibility": null,
            "align_self": null,
            "height": null,
            "min_height": null,
            "padding": null,
            "grid_auto_rows": null,
            "grid_gap": null,
            "max_width": null,
            "order": null,
            "_view_module_version": "1.2.0",
            "grid_template_areas": null,
            "object_position": null,
            "object_fit": null,
            "grid_auto_columns": null,
            "margin": null,
            "display": null,
            "left": null
          }
        },
        "880aabd05a684812959e7efc66b8661b": {
          "model_module": "@jupyter-widgets/controls",
          "model_name": "HBoxModel",
          "model_module_version": "1.5.0",
          "state": {
            "_view_name": "HBoxView",
            "_dom_classes": [],
            "_model_name": "HBoxModel",
            "_view_module": "@jupyter-widgets/controls",
            "_model_module_version": "1.5.0",
            "_view_count": null,
            "_view_module_version": "1.5.0",
            "box_style": "",
            "layout": "IPY_MODEL_99649994448d412dab2dad749f2c3c96",
            "_model_module": "@jupyter-widgets/controls",
            "children": [
              "IPY_MODEL_ebc27bf9630e45e298f8bff9493640a8",
              "IPY_MODEL_c22c1c93c7664bd8bee724ec1b6cdaa4",
              "IPY_MODEL_10aa4b125ad447aa96c4e5762eafa9bb"
            ]
          }
        },
        "99649994448d412dab2dad749f2c3c96": {
          "model_module": "@jupyter-widgets/base",
          "model_name": "LayoutModel",
          "model_module_version": "1.2.0",
          "state": {
            "_view_name": "LayoutView",
            "grid_template_rows": null,
            "right": null,
            "justify_content": null,
            "_view_module": "@jupyter-widgets/base",
            "overflow": null,
            "_model_module_version": "1.2.0",
            "_view_count": null,
            "flex_flow": null,
            "width": null,
            "min_width": null,
            "border": null,
            "align_items": null,
            "bottom": null,
            "_model_module": "@jupyter-widgets/base",
            "top": null,
            "grid_column": null,
            "overflow_y": null,
            "overflow_x": null,
            "grid_auto_flow": null,
            "grid_area": null,
            "grid_template_columns": null,
            "flex": null,
            "_model_name": "LayoutModel",
            "justify_items": null,
            "grid_row": null,
            "max_height": null,
            "align_content": null,
            "visibility": null,
            "align_self": null,
            "height": null,
            "min_height": null,
            "padding": null,
            "grid_auto_rows": null,
            "grid_gap": null,
            "max_width": null,
            "order": null,
            "_view_module_version": "1.2.0",
            "grid_template_areas": null,
            "object_position": null,
            "object_fit": null,
            "grid_auto_columns": null,
            "margin": null,
            "display": null,
            "left": null
          }
        },
        "ebc27bf9630e45e298f8bff9493640a8": {
          "model_module": "@jupyter-widgets/controls",
          "model_name": "HTMLModel",
          "model_module_version": "1.5.0",
          "state": {
            "_view_name": "HTMLView",
            "style": "IPY_MODEL_67991496839e4641ac90a926a8f5449d",
            "_dom_classes": [],
            "description": "",
            "_model_name": "HTMLModel",
            "placeholder": "​",
            "_view_module": "@jupyter-widgets/controls",
            "_model_module_version": "1.5.0",
            "value": "100%",
            "_view_count": null,
            "_view_module_version": "1.5.0",
            "description_tooltip": null,
            "_model_module": "@jupyter-widgets/controls",
            "layout": "IPY_MODEL_4a9832c48e1c4160b2f51357e18c6f5e"
          }
        },
        "c22c1c93c7664bd8bee724ec1b6cdaa4": {
          "model_module": "@jupyter-widgets/controls",
          "model_name": "FloatProgressModel",
          "model_module_version": "1.5.0",
          "state": {
            "_view_name": "ProgressView",
            "style": "IPY_MODEL_8b26138e3b9941e9ad089e67f09a8a4b",
            "_dom_classes": [],
            "description": "",
            "_model_name": "FloatProgressModel",
            "bar_style": "success",
            "max": 19,
            "_view_module": "@jupyter-widgets/controls",
            "_model_module_version": "1.5.0",
            "value": 19,
            "_view_count": null,
            "_view_module_version": "1.5.0",
            "orientation": "horizontal",
            "min": 0,
            "description_tooltip": null,
            "_model_module": "@jupyter-widgets/controls",
            "layout": "IPY_MODEL_9f606f1e35cb4c2aa769376091c85945"
          }
        },
        "10aa4b125ad447aa96c4e5762eafa9bb": {
          "model_module": "@jupyter-widgets/controls",
          "model_name": "HTMLModel",
          "model_module_version": "1.5.0",
          "state": {
            "_view_name": "HTMLView",
            "style": "IPY_MODEL_71d2a4012f734b16b93ea9ab7b014cbd",
            "_dom_classes": [],
            "description": "",
            "_model_name": "HTMLModel",
            "placeholder": "​",
            "_view_module": "@jupyter-widgets/controls",
            "_model_module_version": "1.5.0",
            "value": " 19/19 [00:10&lt;00:00,  2.15it/s]",
            "_view_count": null,
            "_view_module_version": "1.5.0",
            "description_tooltip": null,
            "_model_module": "@jupyter-widgets/controls",
            "layout": "IPY_MODEL_d60a2ddb750d446982c87cda0db0feca"
          }
        },
        "67991496839e4641ac90a926a8f5449d": {
          "model_module": "@jupyter-widgets/controls",
          "model_name": "DescriptionStyleModel",
          "model_module_version": "1.5.0",
          "state": {
            "_view_name": "StyleView",
            "_model_name": "DescriptionStyleModel",
            "description_width": "",
            "_view_module": "@jupyter-widgets/base",
            "_model_module_version": "1.5.0",
            "_view_count": null,
            "_view_module_version": "1.2.0",
            "_model_module": "@jupyter-widgets/controls"
          }
        },
        "4a9832c48e1c4160b2f51357e18c6f5e": {
          "model_module": "@jupyter-widgets/base",
          "model_name": "LayoutModel",
          "model_module_version": "1.2.0",
          "state": {
            "_view_name": "LayoutView",
            "grid_template_rows": null,
            "right": null,
            "justify_content": null,
            "_view_module": "@jupyter-widgets/base",
            "overflow": null,
            "_model_module_version": "1.2.0",
            "_view_count": null,
            "flex_flow": null,
            "width": null,
            "min_width": null,
            "border": null,
            "align_items": null,
            "bottom": null,
            "_model_module": "@jupyter-widgets/base",
            "top": null,
            "grid_column": null,
            "overflow_y": null,
            "overflow_x": null,
            "grid_auto_flow": null,
            "grid_area": null,
            "grid_template_columns": null,
            "flex": null,
            "_model_name": "LayoutModel",
            "justify_items": null,
            "grid_row": null,
            "max_height": null,
            "align_content": null,
            "visibility": null,
            "align_self": null,
            "height": null,
            "min_height": null,
            "padding": null,
            "grid_auto_rows": null,
            "grid_gap": null,
            "max_width": null,
            "order": null,
            "_view_module_version": "1.2.0",
            "grid_template_areas": null,
            "object_position": null,
            "object_fit": null,
            "grid_auto_columns": null,
            "margin": null,
            "display": null,
            "left": null
          }
        },
        "8b26138e3b9941e9ad089e67f09a8a4b": {
          "model_module": "@jupyter-widgets/controls",
          "model_name": "ProgressStyleModel",
          "model_module_version": "1.5.0",
          "state": {
            "_view_name": "StyleView",
            "_model_name": "ProgressStyleModel",
            "description_width": "",
            "_view_module": "@jupyter-widgets/base",
            "_model_module_version": "1.5.0",
            "_view_count": null,
            "_view_module_version": "1.2.0",
            "bar_color": null,
            "_model_module": "@jupyter-widgets/controls"
          }
        },
        "9f606f1e35cb4c2aa769376091c85945": {
          "model_module": "@jupyter-widgets/base",
          "model_name": "LayoutModel",
          "model_module_version": "1.2.0",
          "state": {
            "_view_name": "LayoutView",
            "grid_template_rows": null,
            "right": null,
            "justify_content": null,
            "_view_module": "@jupyter-widgets/base",
            "overflow": null,
            "_model_module_version": "1.2.0",
            "_view_count": null,
            "flex_flow": null,
            "width": null,
            "min_width": null,
            "border": null,
            "align_items": null,
            "bottom": null,
            "_model_module": "@jupyter-widgets/base",
            "top": null,
            "grid_column": null,
            "overflow_y": null,
            "overflow_x": null,
            "grid_auto_flow": null,
            "grid_area": null,
            "grid_template_columns": null,
            "flex": null,
            "_model_name": "LayoutModel",
            "justify_items": null,
            "grid_row": null,
            "max_height": null,
            "align_content": null,
            "visibility": null,
            "align_self": null,
            "height": null,
            "min_height": null,
            "padding": null,
            "grid_auto_rows": null,
            "grid_gap": null,
            "max_width": null,
            "order": null,
            "_view_module_version": "1.2.0",
            "grid_template_areas": null,
            "object_position": null,
            "object_fit": null,
            "grid_auto_columns": null,
            "margin": null,
            "display": null,
            "left": null
          }
        },
        "71d2a4012f734b16b93ea9ab7b014cbd": {
          "model_module": "@jupyter-widgets/controls",
          "model_name": "DescriptionStyleModel",
          "model_module_version": "1.5.0",
          "state": {
            "_view_name": "StyleView",
            "_model_name": "DescriptionStyleModel",
            "description_width": "",
            "_view_module": "@jupyter-widgets/base",
            "_model_module_version": "1.5.0",
            "_view_count": null,
            "_view_module_version": "1.2.0",
            "_model_module": "@jupyter-widgets/controls"
          }
        },
        "d60a2ddb750d446982c87cda0db0feca": {
          "model_module": "@jupyter-widgets/base",
          "model_name": "LayoutModel",
          "model_module_version": "1.2.0",
          "state": {
            "_view_name": "LayoutView",
            "grid_template_rows": null,
            "right": null,
            "justify_content": null,
            "_view_module": "@jupyter-widgets/base",
            "overflow": null,
            "_model_module_version": "1.2.0",
            "_view_count": null,
            "flex_flow": null,
            "width": null,
            "min_width": null,
            "border": null,
            "align_items": null,
            "bottom": null,
            "_model_module": "@jupyter-widgets/base",
            "top": null,
            "grid_column": null,
            "overflow_y": null,
            "overflow_x": null,
            "grid_auto_flow": null,
            "grid_area": null,
            "grid_template_columns": null,
            "flex": null,
            "_model_name": "LayoutModel",
            "justify_items": null,
            "grid_row": null,
            "max_height": null,
            "align_content": null,
            "visibility": null,
            "align_self": null,
            "height": null,
            "min_height": null,
            "padding": null,
            "grid_auto_rows": null,
            "grid_gap": null,
            "max_width": null,
            "order": null,
            "_view_module_version": "1.2.0",
            "grid_template_areas": null,
            "object_position": null,
            "object_fit": null,
            "grid_auto_columns": null,
            "margin": null,
            "display": null,
            "left": null
          }
        },
        "f48630f0f3dc4e7ca34f8f3923172495": {
          "model_module": "@jupyter-widgets/controls",
          "model_name": "HBoxModel",
          "model_module_version": "1.5.0",
          "state": {
            "_view_name": "HBoxView",
            "_dom_classes": [],
            "_model_name": "HBoxModel",
            "_view_module": "@jupyter-widgets/controls",
            "_model_module_version": "1.5.0",
            "_view_count": null,
            "_view_module_version": "1.5.0",
            "box_style": "",
            "layout": "IPY_MODEL_d16bb9650c8141c4ad3fe59612cd602d",
            "_model_module": "@jupyter-widgets/controls",
            "children": [
              "IPY_MODEL_1961c47f27104ab5850957f16fb10648",
              "IPY_MODEL_9507902a1f1b4316bafa985e1bb2d74f",
              "IPY_MODEL_f5e64582e20641e095f812afd394140f"
            ]
          }
        },
        "d16bb9650c8141c4ad3fe59612cd602d": {
          "model_module": "@jupyter-widgets/base",
          "model_name": "LayoutModel",
          "model_module_version": "1.2.0",
          "state": {
            "_view_name": "LayoutView",
            "grid_template_rows": null,
            "right": null,
            "justify_content": null,
            "_view_module": "@jupyter-widgets/base",
            "overflow": null,
            "_model_module_version": "1.2.0",
            "_view_count": null,
            "flex_flow": null,
            "width": null,
            "min_width": null,
            "border": null,
            "align_items": null,
            "bottom": null,
            "_model_module": "@jupyter-widgets/base",
            "top": null,
            "grid_column": null,
            "overflow_y": null,
            "overflow_x": null,
            "grid_auto_flow": null,
            "grid_area": null,
            "grid_template_columns": null,
            "flex": null,
            "_model_name": "LayoutModel",
            "justify_items": null,
            "grid_row": null,
            "max_height": null,
            "align_content": null,
            "visibility": null,
            "align_self": null,
            "height": null,
            "min_height": null,
            "padding": null,
            "grid_auto_rows": null,
            "grid_gap": null,
            "max_width": null,
            "order": null,
            "_view_module_version": "1.2.0",
            "grid_template_areas": null,
            "object_position": null,
            "object_fit": null,
            "grid_auto_columns": null,
            "margin": null,
            "display": null,
            "left": null
          }
        },
        "1961c47f27104ab5850957f16fb10648": {
          "model_module": "@jupyter-widgets/controls",
          "model_name": "HTMLModel",
          "model_module_version": "1.5.0",
          "state": {
            "_view_name": "HTMLView",
            "style": "IPY_MODEL_21ba1f6567df4b7294f0bcccd15441b7",
            "_dom_classes": [],
            "description": "",
            "_model_name": "HTMLModel",
            "placeholder": "​",
            "_view_module": "@jupyter-widgets/controls",
            "_model_module_version": "1.5.0",
            "value": "100%",
            "_view_count": null,
            "_view_module_version": "1.5.0",
            "description_tooltip": null,
            "_model_module": "@jupyter-widgets/controls",
            "layout": "IPY_MODEL_91183c6953914ef1863acc9b54350cff"
          }
        },
        "9507902a1f1b4316bafa985e1bb2d74f": {
          "model_module": "@jupyter-widgets/controls",
          "model_name": "FloatProgressModel",
          "model_module_version": "1.5.0",
          "state": {
            "_view_name": "ProgressView",
            "style": "IPY_MODEL_0aa183c696b94ac2b6318b2d1af2762b",
            "_dom_classes": [],
            "description": "",
            "_model_name": "FloatProgressModel",
            "bar_style": "success",
            "max": 5,
            "_view_module": "@jupyter-widgets/controls",
            "_model_module_version": "1.5.0",
            "value": 5,
            "_view_count": null,
            "_view_module_version": "1.5.0",
            "orientation": "horizontal",
            "min": 0,
            "description_tooltip": null,
            "_model_module": "@jupyter-widgets/controls",
            "layout": "IPY_MODEL_ba044482057247adbc7a1f7fef9c5c0b"
          }
        },
        "f5e64582e20641e095f812afd394140f": {
          "model_module": "@jupyter-widgets/controls",
          "model_name": "HTMLModel",
          "model_module_version": "1.5.0",
          "state": {
            "_view_name": "HTMLView",
            "style": "IPY_MODEL_8b621f5ee82348c38b84b6af99a0e3a5",
            "_dom_classes": [],
            "description": "",
            "_model_name": "HTMLModel",
            "placeholder": "​",
            "_view_module": "@jupyter-widgets/controls",
            "_model_module_version": "1.5.0",
            "value": " 5/5 [00:02&lt;00:00,  2.06it/s]",
            "_view_count": null,
            "_view_module_version": "1.5.0",
            "description_tooltip": null,
            "_model_module": "@jupyter-widgets/controls",
            "layout": "IPY_MODEL_d954d708f0e8478cbbead2d31d0df18d"
          }
        },
        "21ba1f6567df4b7294f0bcccd15441b7": {
          "model_module": "@jupyter-widgets/controls",
          "model_name": "DescriptionStyleModel",
          "model_module_version": "1.5.0",
          "state": {
            "_view_name": "StyleView",
            "_model_name": "DescriptionStyleModel",
            "description_width": "",
            "_view_module": "@jupyter-widgets/base",
            "_model_module_version": "1.5.0",
            "_view_count": null,
            "_view_module_version": "1.2.0",
            "_model_module": "@jupyter-widgets/controls"
          }
        },
        "91183c6953914ef1863acc9b54350cff": {
          "model_module": "@jupyter-widgets/base",
          "model_name": "LayoutModel",
          "model_module_version": "1.2.0",
          "state": {
            "_view_name": "LayoutView",
            "grid_template_rows": null,
            "right": null,
            "justify_content": null,
            "_view_module": "@jupyter-widgets/base",
            "overflow": null,
            "_model_module_version": "1.2.0",
            "_view_count": null,
            "flex_flow": null,
            "width": null,
            "min_width": null,
            "border": null,
            "align_items": null,
            "bottom": null,
            "_model_module": "@jupyter-widgets/base",
            "top": null,
            "grid_column": null,
            "overflow_y": null,
            "overflow_x": null,
            "grid_auto_flow": null,
            "grid_area": null,
            "grid_template_columns": null,
            "flex": null,
            "_model_name": "LayoutModel",
            "justify_items": null,
            "grid_row": null,
            "max_height": null,
            "align_content": null,
            "visibility": null,
            "align_self": null,
            "height": null,
            "min_height": null,
            "padding": null,
            "grid_auto_rows": null,
            "grid_gap": null,
            "max_width": null,
            "order": null,
            "_view_module_version": "1.2.0",
            "grid_template_areas": null,
            "object_position": null,
            "object_fit": null,
            "grid_auto_columns": null,
            "margin": null,
            "display": null,
            "left": null
          }
        },
        "0aa183c696b94ac2b6318b2d1af2762b": {
          "model_module": "@jupyter-widgets/controls",
          "model_name": "ProgressStyleModel",
          "model_module_version": "1.5.0",
          "state": {
            "_view_name": "StyleView",
            "_model_name": "ProgressStyleModel",
            "description_width": "",
            "_view_module": "@jupyter-widgets/base",
            "_model_module_version": "1.5.0",
            "_view_count": null,
            "_view_module_version": "1.2.0",
            "bar_color": null,
            "_model_module": "@jupyter-widgets/controls"
          }
        },
        "ba044482057247adbc7a1f7fef9c5c0b": {
          "model_module": "@jupyter-widgets/base",
          "model_name": "LayoutModel",
          "model_module_version": "1.2.0",
          "state": {
            "_view_name": "LayoutView",
            "grid_template_rows": null,
            "right": null,
            "justify_content": null,
            "_view_module": "@jupyter-widgets/base",
            "overflow": null,
            "_model_module_version": "1.2.0",
            "_view_count": null,
            "flex_flow": null,
            "width": null,
            "min_width": null,
            "border": null,
            "align_items": null,
            "bottom": null,
            "_model_module": "@jupyter-widgets/base",
            "top": null,
            "grid_column": null,
            "overflow_y": null,
            "overflow_x": null,
            "grid_auto_flow": null,
            "grid_area": null,
            "grid_template_columns": null,
            "flex": null,
            "_model_name": "LayoutModel",
            "justify_items": null,
            "grid_row": null,
            "max_height": null,
            "align_content": null,
            "visibility": null,
            "align_self": null,
            "height": null,
            "min_height": null,
            "padding": null,
            "grid_auto_rows": null,
            "grid_gap": null,
            "max_width": null,
            "order": null,
            "_view_module_version": "1.2.0",
            "grid_template_areas": null,
            "object_position": null,
            "object_fit": null,
            "grid_auto_columns": null,
            "margin": null,
            "display": null,
            "left": null
          }
        },
        "8b621f5ee82348c38b84b6af99a0e3a5": {
          "model_module": "@jupyter-widgets/controls",
          "model_name": "DescriptionStyleModel",
          "model_module_version": "1.5.0",
          "state": {
            "_view_name": "StyleView",
            "_model_name": "DescriptionStyleModel",
            "description_width": "",
            "_view_module": "@jupyter-widgets/base",
            "_model_module_version": "1.5.0",
            "_view_count": null,
            "_view_module_version": "1.2.0",
            "_model_module": "@jupyter-widgets/controls"
          }
        },
        "d954d708f0e8478cbbead2d31d0df18d": {
          "model_module": "@jupyter-widgets/base",
          "model_name": "LayoutModel",
          "model_module_version": "1.2.0",
          "state": {
            "_view_name": "LayoutView",
            "grid_template_rows": null,
            "right": null,
            "justify_content": null,
            "_view_module": "@jupyter-widgets/base",
            "overflow": null,
            "_model_module_version": "1.2.0",
            "_view_count": null,
            "flex_flow": null,
            "width": null,
            "min_width": null,
            "border": null,
            "align_items": null,
            "bottom": null,
            "_model_module": "@jupyter-widgets/base",
            "top": null,
            "grid_column": null,
            "overflow_y": null,
            "overflow_x": null,
            "grid_auto_flow": null,
            "grid_area": null,
            "grid_template_columns": null,
            "flex": null,
            "_model_name": "LayoutModel",
            "justify_items": null,
            "grid_row": null,
            "max_height": null,
            "align_content": null,
            "visibility": null,
            "align_self": null,
            "height": null,
            "min_height": null,
            "padding": null,
            "grid_auto_rows": null,
            "grid_gap": null,
            "max_width": null,
            "order": null,
            "_view_module_version": "1.2.0",
            "grid_template_areas": null,
            "object_position": null,
            "object_fit": null,
            "grid_auto_columns": null,
            "margin": null,
            "display": null,
            "left": null
          }
        },
        "7c242a1656d04ecf9ae4b4cc2f85f6d6": {
          "model_module": "@jupyter-widgets/controls",
          "model_name": "HBoxModel",
          "model_module_version": "1.5.0",
          "state": {
            "_view_name": "HBoxView",
            "_dom_classes": [],
            "_model_name": "HBoxModel",
            "_view_module": "@jupyter-widgets/controls",
            "_model_module_version": "1.5.0",
            "_view_count": null,
            "_view_module_version": "1.5.0",
            "box_style": "",
            "layout": "IPY_MODEL_c71f8d6d0b2c427782d0a1667ed7ca5c",
            "_model_module": "@jupyter-widgets/controls",
            "children": [
              "IPY_MODEL_a454601e2ced49718c6ba24836e0d9b2",
              "IPY_MODEL_84ca3d3ed9a2499f8c20057fbc410a3d",
              "IPY_MODEL_dc1ba3fdf2ff4fdebe2dabcca81d6bf1"
            ]
          }
        },
        "c71f8d6d0b2c427782d0a1667ed7ca5c": {
          "model_module": "@jupyter-widgets/base",
          "model_name": "LayoutModel",
          "model_module_version": "1.2.0",
          "state": {
            "_view_name": "LayoutView",
            "grid_template_rows": null,
            "right": null,
            "justify_content": null,
            "_view_module": "@jupyter-widgets/base",
            "overflow": null,
            "_model_module_version": "1.2.0",
            "_view_count": null,
            "flex_flow": null,
            "width": null,
            "min_width": null,
            "border": null,
            "align_items": null,
            "bottom": null,
            "_model_module": "@jupyter-widgets/base",
            "top": null,
            "grid_column": null,
            "overflow_y": null,
            "overflow_x": null,
            "grid_auto_flow": null,
            "grid_area": null,
            "grid_template_columns": null,
            "flex": null,
            "_model_name": "LayoutModel",
            "justify_items": null,
            "grid_row": null,
            "max_height": null,
            "align_content": null,
            "visibility": null,
            "align_self": null,
            "height": null,
            "min_height": null,
            "padding": null,
            "grid_auto_rows": null,
            "grid_gap": null,
            "max_width": null,
            "order": null,
            "_view_module_version": "1.2.0",
            "grid_template_areas": null,
            "object_position": null,
            "object_fit": null,
            "grid_auto_columns": null,
            "margin": null,
            "display": null,
            "left": null
          }
        },
        "a454601e2ced49718c6ba24836e0d9b2": {
          "model_module": "@jupyter-widgets/controls",
          "model_name": "HTMLModel",
          "model_module_version": "1.5.0",
          "state": {
            "_view_name": "HTMLView",
            "style": "IPY_MODEL_abd251b1c29c49a5a761520aba1f7ad0",
            "_dom_classes": [],
            "description": "",
            "_model_name": "HTMLModel",
            "placeholder": "​",
            "_view_module": "@jupyter-widgets/controls",
            "_model_module_version": "1.5.0",
            "value": "100%",
            "_view_count": null,
            "_view_module_version": "1.5.0",
            "description_tooltip": null,
            "_model_module": "@jupyter-widgets/controls",
            "layout": "IPY_MODEL_95086a6addae4010b6f14b4494b04281"
          }
        },
        "84ca3d3ed9a2499f8c20057fbc410a3d": {
          "model_module": "@jupyter-widgets/controls",
          "model_name": "FloatProgressModel",
          "model_module_version": "1.5.0",
          "state": {
            "_view_name": "ProgressView",
            "style": "IPY_MODEL_30255642ae30438ea3e9c5b8df9e20cf",
            "_dom_classes": [],
            "description": "",
            "_model_name": "FloatProgressModel",
            "bar_style": "success",
            "max": 5,
            "_view_module": "@jupyter-widgets/controls",
            "_model_module_version": "1.5.0",
            "value": 5,
            "_view_count": null,
            "_view_module_version": "1.5.0",
            "orientation": "horizontal",
            "min": 0,
            "description_tooltip": null,
            "_model_module": "@jupyter-widgets/controls",
            "layout": "IPY_MODEL_cc5d03ad6dc04aefa35ef6a46a76b01d"
          }
        },
        "dc1ba3fdf2ff4fdebe2dabcca81d6bf1": {
          "model_module": "@jupyter-widgets/controls",
          "model_name": "HTMLModel",
          "model_module_version": "1.5.0",
          "state": {
            "_view_name": "HTMLView",
            "style": "IPY_MODEL_448233863f1e45de83fd4bf9fa072a73",
            "_dom_classes": [],
            "description": "",
            "_model_name": "HTMLModel",
            "placeholder": "​",
            "_view_module": "@jupyter-widgets/controls",
            "_model_module_version": "1.5.0",
            "value": " 5/5 [00:02&lt;00:00,  1.93it/s]",
            "_view_count": null,
            "_view_module_version": "1.5.0",
            "description_tooltip": null,
            "_model_module": "@jupyter-widgets/controls",
            "layout": "IPY_MODEL_8483f10f97dc48c59b4bc38b4865e1f2"
          }
        },
        "abd251b1c29c49a5a761520aba1f7ad0": {
          "model_module": "@jupyter-widgets/controls",
          "model_name": "DescriptionStyleModel",
          "model_module_version": "1.5.0",
          "state": {
            "_view_name": "StyleView",
            "_model_name": "DescriptionStyleModel",
            "description_width": "",
            "_view_module": "@jupyter-widgets/base",
            "_model_module_version": "1.5.0",
            "_view_count": null,
            "_view_module_version": "1.2.0",
            "_model_module": "@jupyter-widgets/controls"
          }
        },
        "95086a6addae4010b6f14b4494b04281": {
          "model_module": "@jupyter-widgets/base",
          "model_name": "LayoutModel",
          "model_module_version": "1.2.0",
          "state": {
            "_view_name": "LayoutView",
            "grid_template_rows": null,
            "right": null,
            "justify_content": null,
            "_view_module": "@jupyter-widgets/base",
            "overflow": null,
            "_model_module_version": "1.2.0",
            "_view_count": null,
            "flex_flow": null,
            "width": null,
            "min_width": null,
            "border": null,
            "align_items": null,
            "bottom": null,
            "_model_module": "@jupyter-widgets/base",
            "top": null,
            "grid_column": null,
            "overflow_y": null,
            "overflow_x": null,
            "grid_auto_flow": null,
            "grid_area": null,
            "grid_template_columns": null,
            "flex": null,
            "_model_name": "LayoutModel",
            "justify_items": null,
            "grid_row": null,
            "max_height": null,
            "align_content": null,
            "visibility": null,
            "align_self": null,
            "height": null,
            "min_height": null,
            "padding": null,
            "grid_auto_rows": null,
            "grid_gap": null,
            "max_width": null,
            "order": null,
            "_view_module_version": "1.2.0",
            "grid_template_areas": null,
            "object_position": null,
            "object_fit": null,
            "grid_auto_columns": null,
            "margin": null,
            "display": null,
            "left": null
          }
        },
        "30255642ae30438ea3e9c5b8df9e20cf": {
          "model_module": "@jupyter-widgets/controls",
          "model_name": "ProgressStyleModel",
          "model_module_version": "1.5.0",
          "state": {
            "_view_name": "StyleView",
            "_model_name": "ProgressStyleModel",
            "description_width": "",
            "_view_module": "@jupyter-widgets/base",
            "_model_module_version": "1.5.0",
            "_view_count": null,
            "_view_module_version": "1.2.0",
            "bar_color": null,
            "_model_module": "@jupyter-widgets/controls"
          }
        },
        "cc5d03ad6dc04aefa35ef6a46a76b01d": {
          "model_module": "@jupyter-widgets/base",
          "model_name": "LayoutModel",
          "model_module_version": "1.2.0",
          "state": {
            "_view_name": "LayoutView",
            "grid_template_rows": null,
            "right": null,
            "justify_content": null,
            "_view_module": "@jupyter-widgets/base",
            "overflow": null,
            "_model_module_version": "1.2.0",
            "_view_count": null,
            "flex_flow": null,
            "width": null,
            "min_width": null,
            "border": null,
            "align_items": null,
            "bottom": null,
            "_model_module": "@jupyter-widgets/base",
            "top": null,
            "grid_column": null,
            "overflow_y": null,
            "overflow_x": null,
            "grid_auto_flow": null,
            "grid_area": null,
            "grid_template_columns": null,
            "flex": null,
            "_model_name": "LayoutModel",
            "justify_items": null,
            "grid_row": null,
            "max_height": null,
            "align_content": null,
            "visibility": null,
            "align_self": null,
            "height": null,
            "min_height": null,
            "padding": null,
            "grid_auto_rows": null,
            "grid_gap": null,
            "max_width": null,
            "order": null,
            "_view_module_version": "1.2.0",
            "grid_template_areas": null,
            "object_position": null,
            "object_fit": null,
            "grid_auto_columns": null,
            "margin": null,
            "display": null,
            "left": null
          }
        },
        "448233863f1e45de83fd4bf9fa072a73": {
          "model_module": "@jupyter-widgets/controls",
          "model_name": "DescriptionStyleModel",
          "model_module_version": "1.5.0",
          "state": {
            "_view_name": "StyleView",
            "_model_name": "DescriptionStyleModel",
            "description_width": "",
            "_view_module": "@jupyter-widgets/base",
            "_model_module_version": "1.5.0",
            "_view_count": null,
            "_view_module_version": "1.2.0",
            "_model_module": "@jupyter-widgets/controls"
          }
        },
        "8483f10f97dc48c59b4bc38b4865e1f2": {
          "model_module": "@jupyter-widgets/base",
          "model_name": "LayoutModel",
          "model_module_version": "1.2.0",
          "state": {
            "_view_name": "LayoutView",
            "grid_template_rows": null,
            "right": null,
            "justify_content": null,
            "_view_module": "@jupyter-widgets/base",
            "overflow": null,
            "_model_module_version": "1.2.0",
            "_view_count": null,
            "flex_flow": null,
            "width": null,
            "min_width": null,
            "border": null,
            "align_items": null,
            "bottom": null,
            "_model_module": "@jupyter-widgets/base",
            "top": null,
            "grid_column": null,
            "overflow_y": null,
            "overflow_x": null,
            "grid_auto_flow": null,
            "grid_area": null,
            "grid_template_columns": null,
            "flex": null,
            "_model_name": "LayoutModel",
            "justify_items": null,
            "grid_row": null,
            "max_height": null,
            "align_content": null,
            "visibility": null,
            "align_self": null,
            "height": null,
            "min_height": null,
            "padding": null,
            "grid_auto_rows": null,
            "grid_gap": null,
            "max_width": null,
            "order": null,
            "_view_module_version": "1.2.0",
            "grid_template_areas": null,
            "object_position": null,
            "object_fit": null,
            "grid_auto_columns": null,
            "margin": null,
            "display": null,
            "left": null
          }
        },
        "be0ea0f8c4b2476cb80567cd4bc04686": {
          "model_module": "@jupyter-widgets/controls",
          "model_name": "HBoxModel",
          "model_module_version": "1.5.0",
          "state": {
            "_view_name": "HBoxView",
            "_dom_classes": [],
            "_model_name": "HBoxModel",
            "_view_module": "@jupyter-widgets/controls",
            "_model_module_version": "1.5.0",
            "_view_count": null,
            "_view_module_version": "1.5.0",
            "box_style": "",
            "layout": "IPY_MODEL_f6c4871491fd4976a245fbc6264f41f3",
            "_model_module": "@jupyter-widgets/controls",
            "children": [
              "IPY_MODEL_df879278db3c41e48c36ed1ff27a7e8c",
              "IPY_MODEL_b708bbcb80d24c8eb8d0f43eb8ab1806",
              "IPY_MODEL_2601c614eeb94e159ad8a3003616426d"
            ]
          }
        },
        "f6c4871491fd4976a245fbc6264f41f3": {
          "model_module": "@jupyter-widgets/base",
          "model_name": "LayoutModel",
          "model_module_version": "1.2.0",
          "state": {
            "_view_name": "LayoutView",
            "grid_template_rows": null,
            "right": null,
            "justify_content": null,
            "_view_module": "@jupyter-widgets/base",
            "overflow": null,
            "_model_module_version": "1.2.0",
            "_view_count": null,
            "flex_flow": null,
            "width": null,
            "min_width": null,
            "border": null,
            "align_items": null,
            "bottom": null,
            "_model_module": "@jupyter-widgets/base",
            "top": null,
            "grid_column": null,
            "overflow_y": null,
            "overflow_x": null,
            "grid_auto_flow": null,
            "grid_area": null,
            "grid_template_columns": null,
            "flex": null,
            "_model_name": "LayoutModel",
            "justify_items": null,
            "grid_row": null,
            "max_height": null,
            "align_content": null,
            "visibility": null,
            "align_self": null,
            "height": null,
            "min_height": null,
            "padding": null,
            "grid_auto_rows": null,
            "grid_gap": null,
            "max_width": null,
            "order": null,
            "_view_module_version": "1.2.0",
            "grid_template_areas": null,
            "object_position": null,
            "object_fit": null,
            "grid_auto_columns": null,
            "margin": null,
            "display": null,
            "left": null
          }
        },
        "df879278db3c41e48c36ed1ff27a7e8c": {
          "model_module": "@jupyter-widgets/controls",
          "model_name": "HTMLModel",
          "model_module_version": "1.5.0",
          "state": {
            "_view_name": "HTMLView",
            "style": "IPY_MODEL_10c229093b3a45059797d12bec458a2a",
            "_dom_classes": [],
            "description": "",
            "_model_name": "HTMLModel",
            "placeholder": "​",
            "_view_module": "@jupyter-widgets/controls",
            "_model_module_version": "1.5.0",
            "value": "100%",
            "_view_count": null,
            "_view_module_version": "1.5.0",
            "description_tooltip": null,
            "_model_module": "@jupyter-widgets/controls",
            "layout": "IPY_MODEL_2b5414686d4346ccbc6e731a24d53bc1"
          }
        },
        "b708bbcb80d24c8eb8d0f43eb8ab1806": {
          "model_module": "@jupyter-widgets/controls",
          "model_name": "FloatProgressModel",
          "model_module_version": "1.5.0",
          "state": {
            "_view_name": "ProgressView",
            "style": "IPY_MODEL_5c4d6538f2cb42f39add22bf90c62fe8",
            "_dom_classes": [],
            "description": "",
            "_model_name": "FloatProgressModel",
            "bar_style": "success",
            "max": 6,
            "_view_module": "@jupyter-widgets/controls",
            "_model_module_version": "1.5.0",
            "value": 6,
            "_view_count": null,
            "_view_module_version": "1.5.0",
            "orientation": "horizontal",
            "min": 0,
            "description_tooltip": null,
            "_model_module": "@jupyter-widgets/controls",
            "layout": "IPY_MODEL_6cc547d151d2410a87f798382ff37b5a"
          }
        },
        "2601c614eeb94e159ad8a3003616426d": {
          "model_module": "@jupyter-widgets/controls",
          "model_name": "HTMLModel",
          "model_module_version": "1.5.0",
          "state": {
            "_view_name": "HTMLView",
            "style": "IPY_MODEL_b3321523ffc94f69b64350e9b8677af1",
            "_dom_classes": [],
            "description": "",
            "_model_name": "HTMLModel",
            "placeholder": "​",
            "_view_module": "@jupyter-widgets/controls",
            "_model_module_version": "1.5.0",
            "value": " 6/6 [00:02&lt;00:00,  1.98ba/s]",
            "_view_count": null,
            "_view_module_version": "1.5.0",
            "description_tooltip": null,
            "_model_module": "@jupyter-widgets/controls",
            "layout": "IPY_MODEL_e717798dba4b471c8b91ee9299a1a6e1"
          }
        },
        "10c229093b3a45059797d12bec458a2a": {
          "model_module": "@jupyter-widgets/controls",
          "model_name": "DescriptionStyleModel",
          "model_module_version": "1.5.0",
          "state": {
            "_view_name": "StyleView",
            "_model_name": "DescriptionStyleModel",
            "description_width": "",
            "_view_module": "@jupyter-widgets/base",
            "_model_module_version": "1.5.0",
            "_view_count": null,
            "_view_module_version": "1.2.0",
            "_model_module": "@jupyter-widgets/controls"
          }
        },
        "2b5414686d4346ccbc6e731a24d53bc1": {
          "model_module": "@jupyter-widgets/base",
          "model_name": "LayoutModel",
          "model_module_version": "1.2.0",
          "state": {
            "_view_name": "LayoutView",
            "grid_template_rows": null,
            "right": null,
            "justify_content": null,
            "_view_module": "@jupyter-widgets/base",
            "overflow": null,
            "_model_module_version": "1.2.0",
            "_view_count": null,
            "flex_flow": null,
            "width": null,
            "min_width": null,
            "border": null,
            "align_items": null,
            "bottom": null,
            "_model_module": "@jupyter-widgets/base",
            "top": null,
            "grid_column": null,
            "overflow_y": null,
            "overflow_x": null,
            "grid_auto_flow": null,
            "grid_area": null,
            "grid_template_columns": null,
            "flex": null,
            "_model_name": "LayoutModel",
            "justify_items": null,
            "grid_row": null,
            "max_height": null,
            "align_content": null,
            "visibility": null,
            "align_self": null,
            "height": null,
            "min_height": null,
            "padding": null,
            "grid_auto_rows": null,
            "grid_gap": null,
            "max_width": null,
            "order": null,
            "_view_module_version": "1.2.0",
            "grid_template_areas": null,
            "object_position": null,
            "object_fit": null,
            "grid_auto_columns": null,
            "margin": null,
            "display": null,
            "left": null
          }
        },
        "5c4d6538f2cb42f39add22bf90c62fe8": {
          "model_module": "@jupyter-widgets/controls",
          "model_name": "ProgressStyleModel",
          "model_module_version": "1.5.0",
          "state": {
            "_view_name": "StyleView",
            "_model_name": "ProgressStyleModel",
            "description_width": "",
            "_view_module": "@jupyter-widgets/base",
            "_model_module_version": "1.5.0",
            "_view_count": null,
            "_view_module_version": "1.2.0",
            "bar_color": null,
            "_model_module": "@jupyter-widgets/controls"
          }
        },
        "6cc547d151d2410a87f798382ff37b5a": {
          "model_module": "@jupyter-widgets/base",
          "model_name": "LayoutModel",
          "model_module_version": "1.2.0",
          "state": {
            "_view_name": "LayoutView",
            "grid_template_rows": null,
            "right": null,
            "justify_content": null,
            "_view_module": "@jupyter-widgets/base",
            "overflow": null,
            "_model_module_version": "1.2.0",
            "_view_count": null,
            "flex_flow": null,
            "width": null,
            "min_width": null,
            "border": null,
            "align_items": null,
            "bottom": null,
            "_model_module": "@jupyter-widgets/base",
            "top": null,
            "grid_column": null,
            "overflow_y": null,
            "overflow_x": null,
            "grid_auto_flow": null,
            "grid_area": null,
            "grid_template_columns": null,
            "flex": null,
            "_model_name": "LayoutModel",
            "justify_items": null,
            "grid_row": null,
            "max_height": null,
            "align_content": null,
            "visibility": null,
            "align_self": null,
            "height": null,
            "min_height": null,
            "padding": null,
            "grid_auto_rows": null,
            "grid_gap": null,
            "max_width": null,
            "order": null,
            "_view_module_version": "1.2.0",
            "grid_template_areas": null,
            "object_position": null,
            "object_fit": null,
            "grid_auto_columns": null,
            "margin": null,
            "display": null,
            "left": null
          }
        },
        "b3321523ffc94f69b64350e9b8677af1": {
          "model_module": "@jupyter-widgets/controls",
          "model_name": "DescriptionStyleModel",
          "model_module_version": "1.5.0",
          "state": {
            "_view_name": "StyleView",
            "_model_name": "DescriptionStyleModel",
            "description_width": "",
            "_view_module": "@jupyter-widgets/base",
            "_model_module_version": "1.5.0",
            "_view_count": null,
            "_view_module_version": "1.2.0",
            "_model_module": "@jupyter-widgets/controls"
          }
        },
        "e717798dba4b471c8b91ee9299a1a6e1": {
          "model_module": "@jupyter-widgets/base",
          "model_name": "LayoutModel",
          "model_module_version": "1.2.0",
          "state": {
            "_view_name": "LayoutView",
            "grid_template_rows": null,
            "right": null,
            "justify_content": null,
            "_view_module": "@jupyter-widgets/base",
            "overflow": null,
            "_model_module_version": "1.2.0",
            "_view_count": null,
            "flex_flow": null,
            "width": null,
            "min_width": null,
            "border": null,
            "align_items": null,
            "bottom": null,
            "_model_module": "@jupyter-widgets/base",
            "top": null,
            "grid_column": null,
            "overflow_y": null,
            "overflow_x": null,
            "grid_auto_flow": null,
            "grid_area": null,
            "grid_template_columns": null,
            "flex": null,
            "_model_name": "LayoutModel",
            "justify_items": null,
            "grid_row": null,
            "max_height": null,
            "align_content": null,
            "visibility": null,
            "align_self": null,
            "height": null,
            "min_height": null,
            "padding": null,
            "grid_auto_rows": null,
            "grid_gap": null,
            "max_width": null,
            "order": null,
            "_view_module_version": "1.2.0",
            "grid_template_areas": null,
            "object_position": null,
            "object_fit": null,
            "grid_auto_columns": null,
            "margin": null,
            "display": null,
            "left": null
          }
        },
        "57fe4c47f02a4eb382181a7883e23d72": {
          "model_module": "@jupyter-widgets/controls",
          "model_name": "HBoxModel",
          "model_module_version": "1.5.0",
          "state": {
            "_view_name": "HBoxView",
            "_dom_classes": [],
            "_model_name": "HBoxModel",
            "_view_module": "@jupyter-widgets/controls",
            "_model_module_version": "1.5.0",
            "_view_count": null,
            "_view_module_version": "1.5.0",
            "box_style": "",
            "layout": "IPY_MODEL_2d141da4be454bd1a2157e3a758e2666",
            "_model_module": "@jupyter-widgets/controls",
            "children": [
              "IPY_MODEL_060b78de031447ab9badb3f2c80f1a0d",
              "IPY_MODEL_6be981a2fba040d689d67a68e8d5c03a",
              "IPY_MODEL_3d58127332074c369e5e41032f923805"
            ]
          }
        },
        "2d141da4be454bd1a2157e3a758e2666": {
          "model_module": "@jupyter-widgets/base",
          "model_name": "LayoutModel",
          "model_module_version": "1.2.0",
          "state": {
            "_view_name": "LayoutView",
            "grid_template_rows": null,
            "right": null,
            "justify_content": null,
            "_view_module": "@jupyter-widgets/base",
            "overflow": null,
            "_model_module_version": "1.2.0",
            "_view_count": null,
            "flex_flow": null,
            "width": null,
            "min_width": null,
            "border": null,
            "align_items": null,
            "bottom": null,
            "_model_module": "@jupyter-widgets/base",
            "top": null,
            "grid_column": null,
            "overflow_y": null,
            "overflow_x": null,
            "grid_auto_flow": null,
            "grid_area": null,
            "grid_template_columns": null,
            "flex": null,
            "_model_name": "LayoutModel",
            "justify_items": null,
            "grid_row": null,
            "max_height": null,
            "align_content": null,
            "visibility": null,
            "align_self": null,
            "height": null,
            "min_height": null,
            "padding": null,
            "grid_auto_rows": null,
            "grid_gap": null,
            "max_width": null,
            "order": null,
            "_view_module_version": "1.2.0",
            "grid_template_areas": null,
            "object_position": null,
            "object_fit": null,
            "grid_auto_columns": null,
            "margin": null,
            "display": null,
            "left": null
          }
        },
        "060b78de031447ab9badb3f2c80f1a0d": {
          "model_module": "@jupyter-widgets/controls",
          "model_name": "HTMLModel",
          "model_module_version": "1.5.0",
          "state": {
            "_view_name": "HTMLView",
            "style": "IPY_MODEL_af92016ec30f496a81462f3093782bc9",
            "_dom_classes": [],
            "description": "",
            "_model_name": "HTMLModel",
            "placeholder": "​",
            "_view_module": "@jupyter-widgets/controls",
            "_model_module_version": "1.5.0",
            "value": "100%",
            "_view_count": null,
            "_view_module_version": "1.5.0",
            "description_tooltip": null,
            "_model_module": "@jupyter-widgets/controls",
            "layout": "IPY_MODEL_d2223aca936845969f8ea60563905657"
          }
        },
        "6be981a2fba040d689d67a68e8d5c03a": {
          "model_module": "@jupyter-widgets/controls",
          "model_name": "FloatProgressModel",
          "model_module_version": "1.5.0",
          "state": {
            "_view_name": "ProgressView",
            "style": "IPY_MODEL_22d8580c8c534237a8524bb75821b442",
            "_dom_classes": [],
            "description": "",
            "_model_name": "FloatProgressModel",
            "bar_style": "success",
            "max": 318,
            "_view_module": "@jupyter-widgets/controls",
            "_model_module_version": "1.5.0",
            "value": 318,
            "_view_count": null,
            "_view_module_version": "1.5.0",
            "orientation": "horizontal",
            "min": 0,
            "description_tooltip": null,
            "_model_module": "@jupyter-widgets/controls",
            "layout": "IPY_MODEL_d08fe386cc364f82a73fe733727e88ea"
          }
        },
        "3d58127332074c369e5e41032f923805": {
          "model_module": "@jupyter-widgets/controls",
          "model_name": "HTMLModel",
          "model_module_version": "1.5.0",
          "state": {
            "_view_name": "HTMLView",
            "style": "IPY_MODEL_af53fa316d0047bd9d922c5d2a39654a",
            "_dom_classes": [],
            "description": "",
            "_model_name": "HTMLModel",
            "placeholder": "​",
            "_view_module": "@jupyter-widgets/controls",
            "_model_module_version": "1.5.0",
            "value": " 318/318 [01:32&lt;00:00,  3.45it/s]",
            "_view_count": null,
            "_view_module_version": "1.5.0",
            "description_tooltip": null,
            "_model_module": "@jupyter-widgets/controls",
            "layout": "IPY_MODEL_d0eb119411c1431e935fdd8428737854"
          }
        },
        "af92016ec30f496a81462f3093782bc9": {
          "model_module": "@jupyter-widgets/controls",
          "model_name": "DescriptionStyleModel",
          "model_module_version": "1.5.0",
          "state": {
            "_view_name": "StyleView",
            "_model_name": "DescriptionStyleModel",
            "description_width": "",
            "_view_module": "@jupyter-widgets/base",
            "_model_module_version": "1.5.0",
            "_view_count": null,
            "_view_module_version": "1.2.0",
            "_model_module": "@jupyter-widgets/controls"
          }
        },
        "d2223aca936845969f8ea60563905657": {
          "model_module": "@jupyter-widgets/base",
          "model_name": "LayoutModel",
          "model_module_version": "1.2.0",
          "state": {
            "_view_name": "LayoutView",
            "grid_template_rows": null,
            "right": null,
            "justify_content": null,
            "_view_module": "@jupyter-widgets/base",
            "overflow": null,
            "_model_module_version": "1.2.0",
            "_view_count": null,
            "flex_flow": null,
            "width": null,
            "min_width": null,
            "border": null,
            "align_items": null,
            "bottom": null,
            "_model_module": "@jupyter-widgets/base",
            "top": null,
            "grid_column": null,
            "overflow_y": null,
            "overflow_x": null,
            "grid_auto_flow": null,
            "grid_area": null,
            "grid_template_columns": null,
            "flex": null,
            "_model_name": "LayoutModel",
            "justify_items": null,
            "grid_row": null,
            "max_height": null,
            "align_content": null,
            "visibility": null,
            "align_self": null,
            "height": null,
            "min_height": null,
            "padding": null,
            "grid_auto_rows": null,
            "grid_gap": null,
            "max_width": null,
            "order": null,
            "_view_module_version": "1.2.0",
            "grid_template_areas": null,
            "object_position": null,
            "object_fit": null,
            "grid_auto_columns": null,
            "margin": null,
            "display": null,
            "left": null
          }
        },
        "22d8580c8c534237a8524bb75821b442": {
          "model_module": "@jupyter-widgets/controls",
          "model_name": "ProgressStyleModel",
          "model_module_version": "1.5.0",
          "state": {
            "_view_name": "StyleView",
            "_model_name": "ProgressStyleModel",
            "description_width": "",
            "_view_module": "@jupyter-widgets/base",
            "_model_module_version": "1.5.0",
            "_view_count": null,
            "_view_module_version": "1.2.0",
            "bar_color": null,
            "_model_module": "@jupyter-widgets/controls"
          }
        },
        "d08fe386cc364f82a73fe733727e88ea": {
          "model_module": "@jupyter-widgets/base",
          "model_name": "LayoutModel",
          "model_module_version": "1.2.0",
          "state": {
            "_view_name": "LayoutView",
            "grid_template_rows": null,
            "right": null,
            "justify_content": null,
            "_view_module": "@jupyter-widgets/base",
            "overflow": null,
            "_model_module_version": "1.2.0",
            "_view_count": null,
            "flex_flow": null,
            "width": null,
            "min_width": null,
            "border": null,
            "align_items": null,
            "bottom": null,
            "_model_module": "@jupyter-widgets/base",
            "top": null,
            "grid_column": null,
            "overflow_y": null,
            "overflow_x": null,
            "grid_auto_flow": null,
            "grid_area": null,
            "grid_template_columns": null,
            "flex": null,
            "_model_name": "LayoutModel",
            "justify_items": null,
            "grid_row": null,
            "max_height": null,
            "align_content": null,
            "visibility": null,
            "align_self": null,
            "height": null,
            "min_height": null,
            "padding": null,
            "grid_auto_rows": null,
            "grid_gap": null,
            "max_width": null,
            "order": null,
            "_view_module_version": "1.2.0",
            "grid_template_areas": null,
            "object_position": null,
            "object_fit": null,
            "grid_auto_columns": null,
            "margin": null,
            "display": null,
            "left": null
          }
        },
        "af53fa316d0047bd9d922c5d2a39654a": {
          "model_module": "@jupyter-widgets/controls",
          "model_name": "DescriptionStyleModel",
          "model_module_version": "1.5.0",
          "state": {
            "_view_name": "StyleView",
            "_model_name": "DescriptionStyleModel",
            "description_width": "",
            "_view_module": "@jupyter-widgets/base",
            "_model_module_version": "1.5.0",
            "_view_count": null,
            "_view_module_version": "1.2.0",
            "_model_module": "@jupyter-widgets/controls"
          }
        },
        "d0eb119411c1431e935fdd8428737854": {
          "model_module": "@jupyter-widgets/base",
          "model_name": "LayoutModel",
          "model_module_version": "1.2.0",
          "state": {
            "_view_name": "LayoutView",
            "grid_template_rows": null,
            "right": null,
            "justify_content": null,
            "_view_module": "@jupyter-widgets/base",
            "overflow": null,
            "_model_module_version": "1.2.0",
            "_view_count": null,
            "flex_flow": null,
            "width": null,
            "min_width": null,
            "border": null,
            "align_items": null,
            "bottom": null,
            "_model_module": "@jupyter-widgets/base",
            "top": null,
            "grid_column": null,
            "overflow_y": null,
            "overflow_x": null,
            "grid_auto_flow": null,
            "grid_area": null,
            "grid_template_columns": null,
            "flex": null,
            "_model_name": "LayoutModel",
            "justify_items": null,
            "grid_row": null,
            "max_height": null,
            "align_content": null,
            "visibility": null,
            "align_self": null,
            "height": null,
            "min_height": null,
            "padding": null,
            "grid_auto_rows": null,
            "grid_gap": null,
            "max_width": null,
            "order": null,
            "_view_module_version": "1.2.0",
            "grid_template_areas": null,
            "object_position": null,
            "object_fit": null,
            "grid_auto_columns": null,
            "margin": null,
            "display": null,
            "left": null
          }
        }
      }
    },
    "accelerator": "GPU"
  },
  "cells": [
    {
      "cell_type": "markdown",
      "metadata": {
        "id": "view-in-github",
        "colab_type": "text"
      },
      "source": [
        "<a href=\"https://colab.research.google.com/github/igvasilev/nlp-cannabis/blob/main/effect_classification_transformers.ipynb\" target=\"_parent\"><img src=\"https://colab.research.google.com/assets/colab-badge.svg\" alt=\"Open In Colab\"/></a>"
      ]
    },
    {
      "cell_type": "code",
      "metadata": {
        "colab": {
          "base_uri": "https://localhost:8080/"
        },
        "id": "IX-kg-kd5TPf",
        "outputId": "f4e73264-2bb4-41a4-f153-b9e30a389b87"
      },
      "source": [
        "from google.colab import drive\n",
        "drive.mount('/content/drive')"
      ],
      "execution_count": null,
      "outputs": [
        {
          "output_type": "stream",
          "name": "stdout",
          "text": [
            "Mounted at /content/drive\n"
          ]
        }
      ]
    },
    {
      "cell_type": "code",
      "metadata": {
        "id": "8WT2QezTNXdv",
        "colab": {
          "base_uri": "https://localhost:8080/"
        },
        "outputId": "ddfbac26-c14c-4334-9db8-fb9017336c93"
      },
      "source": [
        "!pip install transformers datasets sentencepiece --quiet"
      ],
      "execution_count": null,
      "outputs": [
        {
          "output_type": "stream",
          "name": "stdout",
          "text": [
            "\u001b[K     |████████████████████████████████| 2.9 MB 2.7 MB/s \n",
            "\u001b[K     |████████████████████████████████| 270 kB 54.1 MB/s \n",
            "\u001b[K     |████████████████████████████████| 1.2 MB 38.1 MB/s \n",
            "\u001b[K     |████████████████████████████████| 56 kB 4.7 MB/s \n",
            "\u001b[K     |████████████████████████████████| 3.3 MB 14.8 MB/s \n",
            "\u001b[K     |████████████████████████████████| 895 kB 37.5 MB/s \n",
            "\u001b[K     |████████████████████████████████| 636 kB 49.3 MB/s \n",
            "\u001b[K     |████████████████████████████████| 1.3 MB 36.0 MB/s \n",
            "\u001b[K     |████████████████████████████████| 243 kB 47.0 MB/s \n",
            "\u001b[K     |████████████████████████████████| 125 kB 53.8 MB/s \n",
            "\u001b[K     |████████████████████████████████| 160 kB 51.4 MB/s \n",
            "\u001b[K     |████████████████████████████████| 271 kB 44.4 MB/s \n",
            "\u001b[?25h"
          ]
        }
      ]
    },
    {
      "cell_type": "code",
      "metadata": {
        "id": "KrsupCJZNB3u",
        "colab": {
          "base_uri": "https://localhost:8080/"
        },
        "outputId": "6fd4dc9d-0ffe-4e99-8f20-747ed449c905"
      },
      "source": [
        "import pandas as pd\n",
        "import torch\n",
        "import re\n",
        "import nltk\n",
        "\n",
        "from nltk.tokenize import RegexpTokenizer\n",
        "from nltk.stem import WordNetLemmatizer\n",
        "\n",
        "nltk.download('wordnet')\n",
        "nltk.download('punkt')"
      ],
      "execution_count": null,
      "outputs": [
        {
          "output_type": "stream",
          "name": "stdout",
          "text": [
            "[nltk_data] Downloading package wordnet to /root/nltk_data...\n",
            "[nltk_data]   Unzipping corpora/wordnet.zip.\n",
            "[nltk_data] Downloading package punkt to /root/nltk_data...\n",
            "[nltk_data]   Unzipping tokenizers/punkt.zip.\n"
          ]
        },
        {
          "output_type": "execute_result",
          "data": {
            "text/plain": [
              "True"
            ]
          },
          "metadata": {},
          "execution_count": 3
        }
      ]
    },
    {
      "cell_type": "code",
      "metadata": {
        "id": "7dwHvq0ZNB3v"
      },
      "source": [
        "import datasets"
      ],
      "execution_count": null,
      "outputs": []
    },
    {
      "cell_type": "code",
      "metadata": {
        "id": "xFuJCZiQNB3v"
      },
      "source": [
        "from transformers import AutoTokenizer, AutoModelForSequenceClassification"
      ],
      "execution_count": null,
      "outputs": []
    },
    {
      "cell_type": "code",
      "metadata": {
        "id": "nV7kSfKnNB3v"
      },
      "source": [
        "from bs4 import BeautifulSoup"
      ],
      "execution_count": null,
      "outputs": []
    },
    {
      "cell_type": "code",
      "metadata": {
        "id": "YGOqCqdpNB3w"
      },
      "source": [
        "from sklearn.model_selection import train_test_split"
      ],
      "execution_count": null,
      "outputs": []
    },
    {
      "cell_type": "markdown",
      "metadata": {
        "id": "wP1WVFuNNB3w"
      },
      "source": [
        "# The data"
      ]
    },
    {
      "cell_type": "code",
      "metadata": {
        "colab": {
          "base_uri": "https://localhost:8080/",
          "height": 197
        },
        "id": "YGB-jyBPKPLK",
        "outputId": "88a0e937-badf-4852-997b-c993b29fdb63"
      },
      "source": [
        "columns = ['PMID', 'Title', 'Abstract', 'Indication', 'Cannabinoid', 'Effect']\n",
        "data = pd.read_csv('annotated_dataset_05.10.21.csv')\n",
        "data = data[columns]\n",
        "data.Abstract = data.Abstract.apply(lambda s: re.sub('[\\$#]', '', s))\n",
        "data.Title = data.Title.apply(lambda s: re.sub('[\\$#]', '', s))\n",
        "data.head()"
      ],
      "execution_count": null,
      "outputs": [
        {
          "output_type": "execute_result",
          "data": {
            "text/html": [
              "<div>\n",
              "<style scoped>\n",
              "    .dataframe tbody tr th:only-of-type {\n",
              "        vertical-align: middle;\n",
              "    }\n",
              "\n",
              "    .dataframe tbody tr th {\n",
              "        vertical-align: top;\n",
              "    }\n",
              "\n",
              "    .dataframe thead th {\n",
              "        text-align: right;\n",
              "    }\n",
              "</style>\n",
              "<table border=\"1\" class=\"dataframe\">\n",
              "  <thead>\n",
              "    <tr style=\"text-align: right;\">\n",
              "      <th></th>\n",
              "      <th>PMID</th>\n",
              "      <th>Title</th>\n",
              "      <th>Abstract</th>\n",
              "      <th>Indication</th>\n",
              "      <th>Cannabinoid</th>\n",
              "      <th>Effect</th>\n",
              "    </tr>\n",
              "  </thead>\n",
              "  <tbody>\n",
              "    <tr>\n",
              "      <th>0</th>\n",
              "      <td>10215664</td>\n",
              "      <td>Enhancement mu opioid antinociception by oral ...</td>\n",
              "      <td>The antinociceptive effects of various mu opio...</td>\n",
              "      <td>Pain</td>\n",
              "      <td>THC</td>\n",
              "      <td>positive</td>\n",
              "    </tr>\n",
              "    <tr>\n",
              "      <th>1</th>\n",
              "      <td>10353438</td>\n",
              "      <td>Local administration of delta9-tetrahydrocanna...</td>\n",
              "      <td>BACKGROUND. Cannabinoids can reduce nociceptiv...</td>\n",
              "      <td>Pain</td>\n",
              "      <td>THC</td>\n",
              "      <td>positive</td>\n",
              "    </tr>\n",
              "    <tr>\n",
              "      <th>2</th>\n",
              "      <td>10357256</td>\n",
              "      <td>Delta9-tetrahydrocannabinol inhibits gastric m...</td>\n",
              "      <td>We investigated involvement of the autonomic n...</td>\n",
              "      <td>Gastrointestinal Diseases</td>\n",
              "      <td>THC</td>\n",
              "      <td>negative</td>\n",
              "    </tr>\n",
              "    <tr>\n",
              "      <th>3</th>\n",
              "      <td>10357256</td>\n",
              "      <td>Delta9-tetrahydrocannabinol inhibits gastric m...</td>\n",
              "      <td>We investigated involvement of the autonomic n...</td>\n",
              "      <td>Hypothension</td>\n",
              "      <td>THC</td>\n",
              "      <td>negative</td>\n",
              "    </tr>\n",
              "    <tr>\n",
              "      <th>4</th>\n",
              "      <td>10357256</td>\n",
              "      <td>Delta9-tetrahydrocannabinol inhibits gastric m...</td>\n",
              "      <td>We investigated involvement of the autonomic n...</td>\n",
              "      <td>Bradycardia</td>\n",
              "      <td>THC</td>\n",
              "      <td>negative</td>\n",
              "    </tr>\n",
              "  </tbody>\n",
              "</table>\n",
              "</div>"
            ],
            "text/plain": [
              "       PMID  ...    Effect\n",
              "0  10215664  ...  positive\n",
              "1  10353438  ...  positive\n",
              "2  10357256  ...  negative\n",
              "3  10357256  ...  negative\n",
              "4  10357256  ...  negative\n",
              "\n",
              "[5 rows x 6 columns]"
            ]
          },
          "metadata": {},
          "execution_count": 8
        }
      ]
    },
    {
      "cell_type": "code",
      "metadata": {
        "colab": {
          "base_uri": "https://localhost:8080/"
        },
        "id": "tKGgGPoQNB3w",
        "outputId": "8727be8c-1118-4297-8b73-fe4e4446fac8"
      },
      "source": [
        "#data = pd.read_excel('least_confident_samples__corrected.xlsx', engine='openpyxl')\n",
        "print(data.shape)"
      ],
      "execution_count": null,
      "outputs": [
        {
          "output_type": "stream",
          "name": "stdout",
          "text": [
            "(859, 6)\n"
          ]
        }
      ]
    },
    {
      "cell_type": "code",
      "metadata": {
        "colab": {
          "base_uri": "https://localhost:8080/"
        },
        "id": "R6yDk6xONB3x",
        "outputId": "5dd8a9d5-4ea1-4201-da72-f18f4cf27554"
      },
      "source": [
        "data.isnull().mean()"
      ],
      "execution_count": null,
      "outputs": [
        {
          "output_type": "execute_result",
          "data": {
            "text/plain": [
              "PMID           0.000000\n",
              "Title          0.000000\n",
              "Abstract       0.000000\n",
              "Indication     0.001164\n",
              "Cannabinoid    0.003492\n",
              "Effect         0.001164\n",
              "dtype: float64"
            ]
          },
          "metadata": {},
          "execution_count": 10
        }
      ]
    },
    {
      "cell_type": "code",
      "metadata": {
        "colab": {
          "base_uri": "https://localhost:8080/"
        },
        "id": "4c5bpCfPxEVO",
        "outputId": "270eee4b-ebfa-4a56-b00e-5f9d08ef0a4d"
      },
      "source": [
        "data.columns"
      ],
      "execution_count": null,
      "outputs": [
        {
          "output_type": "execute_result",
          "data": {
            "text/plain": [
              "Index(['PMID', 'Title', 'Abstract', 'Indication', 'Cannabinoid', 'Effect'], dtype='object')"
            ]
          },
          "metadata": {},
          "execution_count": 11
        }
      ]
    },
    {
      "cell_type": "code",
      "metadata": {
        "colab": {
          "base_uri": "https://localhost:8080/"
        },
        "id": "rB9p6pPbNB3x",
        "outputId": "9a15fbfe-3747-4e9b-cbc0-f6ba4833e076"
      },
      "source": [
        "data.dropna(subset={'Indication', 'Cannabinoid', 'Effect'}, inplace=True)\n",
        "print(data.shape)"
      ],
      "execution_count": null,
      "outputs": [
        {
          "output_type": "stream",
          "name": "stdout",
          "text": [
            "(856, 6)\n"
          ]
        }
      ]
    },
    {
      "cell_type": "code",
      "metadata": {
        "colab": {
          "base_uri": "https://localhost:8080/"
        },
        "id": "Tdi9OF-Cx90-",
        "outputId": "1c1a64bd-7d58-4c79-aa39-c827a207bad5"
      },
      "source": [
        "columns_for_modeling = ['Abstract', 'Title', 'Indication', 'Cannabinoid', 'Effect', 'PMID']\n",
        "data = data[columns_for_modeling]\n",
        "print(data.shape)"
      ],
      "execution_count": null,
      "outputs": [
        {
          "output_type": "stream",
          "name": "stdout",
          "text": [
            "(856, 6)\n"
          ]
        }
      ]
    },
    {
      "cell_type": "code",
      "metadata": {
        "id": "PxSRMafaNB3y"
      },
      "source": [
        "def get_abstact_text(text):\n",
        "    return BeautifulSoup(text).text"
      ],
      "execution_count": null,
      "outputs": []
    },
    {
      "cell_type": "code",
      "metadata": {
        "id": "9kQbJkzj3iHg"
      },
      "source": [
        "class TextPreprocessor:\n",
        "    \n",
        "    @staticmethod\n",
        "    def _fix_slang(text):\n",
        "        # text = re.sub(r\"i'm\", \"i am\", text)\n",
        "        # text = re.sub(r\"he's\", \"he is\", text)\n",
        "        # text = re.sub(r\"she's\", \"she is\", text)\n",
        "        # text = re.sub(r\"it's\", \"it is\", text)\n",
        "        # text = re.sub(r\"that's\", \"that is\", text)\n",
        "        # text = re.sub(r\"what's\", \"that is\", text)\n",
        "        # text = re.sub(r\"where's\", \"where is\", text)\n",
        "        # text = re.sub(r\"how's\", \"how is\", text)\n",
        "        # text = re.sub(r\"\\'ll\", \" will\", text)\n",
        "        # text = re.sub(r\"\\'ve\", \" have\", text)\n",
        "        # text = re.sub(r\"\\'re\", \" are\", text)\n",
        "        # text = re.sub(r\"\\'d\", \" would\", text)\n",
        "        # text = re.sub(r\"\\'re\", \" are\", text)\n",
        "        # text = re.sub(r\"won't\", \"will not\", text)\n",
        "        # text = re.sub(r\"can't\", \"cannot\", text)\n",
        "        # text = re.sub(r\"n't\", \" not\", text)\n",
        "        # text = re.sub(r\"n'\", \"ng\", text)\n",
        "        # text = re.sub(r\"'bout\", \"about\", text)\n",
        "        # text = re.sub(r\"'til\", \"until\", text)\n",
        "        # text = re.sub(r\"[()\\\"#/@;:<>{}`+=~|]\", \"\", text)\n",
        "        #text = re.sub(r'\\d', ' ', text)\n",
        "        text = re.sub(r'[^\\w\\d]', ' ', text)\n",
        "        text = re.sub(r'\\s+', ' ', text)\n",
        "        return text\n",
        "\n",
        "    def cut_abstract_text(self, text, start_sent=2, end_sent_backward=4):\n",
        "        sent_text = nltk.sent_tokenize(text)\n",
        "        sent_text = [self._fix_slang(sent) for sent in sent_text]\n",
        "\n",
        "        text_start = sent_text[:start_sent]\n",
        "        text_end = sent_text[len(sent_text) - end_sent_backward:]\n",
        "        full_text = list(set(text_start + text_end))\n",
        "        return ' '.join(full_text)\n",
        "\n",
        "    def get_the_beggining(self, text, start_sent=5):\n",
        "        sent_text = nltk.sent_tokenize(text)\n",
        "        sent_text = [self._fix_slang(sent) for sent in sent_text]\n",
        "\n",
        "        if start_sent <= len(sent_text):\n",
        "            text_start = sent_text[:start_sent]\n",
        "        else:\n",
        "            text_start = sent_text\n",
        "        full_text = list(set(text_start))\n",
        "        return ' '.join(full_text)\n",
        "\n",
        "    def get_the_end(self, text, end_sent_backward=4):\n",
        "        sent_text = nltk.sent_tokenize(text)\n",
        "        sent_text = [self._fix_slang(sent) for sent in sent_text]\n",
        "\n",
        "        if len(sent_text) - end_sent_backward > 0:\n",
        "            text_end = sent_text[len(sent_text) - end_sent_backward:]\n",
        "        else:\n",
        "            text_end = sent_text\n",
        "        full_text = list(set(text_end))\n",
        "        return ' '.join(full_text)"
      ],
      "execution_count": null,
      "outputs": []
    },
    {
      "cell_type": "code",
      "metadata": {
        "id": "6YwMfiQP2yLV"
      },
      "source": [
        "# Better not to use here\n",
        "#'not' in stopwords.words()"
      ],
      "execution_count": null,
      "outputs": []
    },
    {
      "cell_type": "code",
      "metadata": {
        "id": "x62sM35n3MB-"
      },
      "source": [
        "preprocessor = TextPreprocessor()"
      ],
      "execution_count": null,
      "outputs": []
    },
    {
      "cell_type": "code",
      "metadata": {
        "id": "N_a6zzhrYthK"
      },
      "source": [
        "values = ['positive or negative']\n",
        "def filter_rows_by_values(df, col, values):\n",
        "    return df[df[col].isin(values) == False]\n",
        "\n",
        "data = filter_rows_by_values(data, 'Effect', values)"
      ],
      "execution_count": null,
      "outputs": []
    },
    {
      "cell_type": "code",
      "metadata": {
        "colab": {
          "base_uri": "https://localhost:8080/"
        },
        "id": "uG-Bx5hpYf0z",
        "outputId": "037c9a16-864d-44d4-ea5a-8ce4bd39a5a3"
      },
      "source": [
        "data['Effect'] = data['Effect'].apply(str.lower)\n",
        "data['Effect'] = data['Effect'].apply(lambda effect: re.sub('safe', 'no effect', effect))\n",
        "data['Effect'] = data['Effect'].apply(lambda effect: re.sub('no effect or negative', 'no effect', effect))\n",
        "data['Effect'] = data['Effect'].apply(lambda effect: re.sub('positive in low dose', 'positive', effect))\n",
        "data['Effect'] = data['Effect'].apply(lambda effect: re.sub('no effect', 'none', effect))\n",
        "\n",
        "data['Effect'].value_counts()"
      ],
      "execution_count": null,
      "outputs": [
        {
          "output_type": "execute_result",
          "data": {
            "text/plain": [
              "positive    537\n",
              "negative    210\n",
              "none        108\n",
              "Name: Effect, dtype: int64"
            ]
          },
          "metadata": {},
          "execution_count": 19
        }
      ]
    },
    {
      "cell_type": "code",
      "metadata": {
        "colab": {
          "base_uri": "https://localhost:8080/"
        },
        "id": "80Mr23f36jC0",
        "outputId": "2a90ae6e-ac41-4ae2-d710-a06ca9e84a4e"
      },
      "source": [
        "data['PMID'].value_counts()[125:]"
      ],
      "execution_count": null,
      "outputs": [
        {
          "output_type": "execute_result",
          "data": {
            "text/plain": [
              "18388242    1\n",
              "30760241    1\n",
              "21654828    1\n",
              "6095152     1\n",
              "178475      1\n",
              "           ..\n",
              "29462111    1\n",
              "27821713    1\n",
              "6299864     1\n",
              "27296152    1\n",
              "21470208    1\n",
              "Name: PMID, Length: 524, dtype: int64"
            ]
          },
          "metadata": {},
          "execution_count": 20
        }
      ]
    },
    {
      "cell_type": "code",
      "metadata": {
        "id": "d8WUZIwT99sz"
      },
      "source": [
        "pmid_counts = data['PMID'].value_counts().to_dict()"
      ],
      "execution_count": null,
      "outputs": []
    },
    {
      "cell_type": "code",
      "metadata": {
        "id": "6o8MNY_G7cJv"
      },
      "source": [
        "data['PMID_count'] = data['PMID'].apply(lambda id: pmid_counts[id])"
      ],
      "execution_count": null,
      "outputs": []
    },
    {
      "cell_type": "code",
      "metadata": {
        "colab": {
          "base_uri": "https://localhost:8080/",
          "height": 197
        },
        "id": "KdRC82li-KgE",
        "outputId": "df9bc2cf-9c52-4081-e408-19bd23b7907d"
      },
      "source": [
        "data.head()"
      ],
      "execution_count": null,
      "outputs": [
        {
          "output_type": "execute_result",
          "data": {
            "text/html": [
              "<div>\n",
              "<style scoped>\n",
              "    .dataframe tbody tr th:only-of-type {\n",
              "        vertical-align: middle;\n",
              "    }\n",
              "\n",
              "    .dataframe tbody tr th {\n",
              "        vertical-align: top;\n",
              "    }\n",
              "\n",
              "    .dataframe thead th {\n",
              "        text-align: right;\n",
              "    }\n",
              "</style>\n",
              "<table border=\"1\" class=\"dataframe\">\n",
              "  <thead>\n",
              "    <tr style=\"text-align: right;\">\n",
              "      <th></th>\n",
              "      <th>Abstract</th>\n",
              "      <th>Title</th>\n",
              "      <th>Indication</th>\n",
              "      <th>Cannabinoid</th>\n",
              "      <th>Effect</th>\n",
              "      <th>PMID</th>\n",
              "      <th>PMID_count</th>\n",
              "    </tr>\n",
              "  </thead>\n",
              "  <tbody>\n",
              "    <tr>\n",
              "      <th>0</th>\n",
              "      <td>The antinociceptive effects of various mu opio...</td>\n",
              "      <td>Enhancement mu opioid antinociception by oral ...</td>\n",
              "      <td>Pain</td>\n",
              "      <td>THC</td>\n",
              "      <td>positive</td>\n",
              "      <td>10215664</td>\n",
              "      <td>1</td>\n",
              "    </tr>\n",
              "    <tr>\n",
              "      <th>1</th>\n",
              "      <td>BACKGROUND. Cannabinoids can reduce nociceptiv...</td>\n",
              "      <td>Local administration of delta9-tetrahydrocanna...</td>\n",
              "      <td>Pain</td>\n",
              "      <td>THC</td>\n",
              "      <td>positive</td>\n",
              "      <td>10353438</td>\n",
              "      <td>1</td>\n",
              "    </tr>\n",
              "    <tr>\n",
              "      <th>2</th>\n",
              "      <td>We investigated involvement of the autonomic n...</td>\n",
              "      <td>Delta9-tetrahydrocannabinol inhibits gastric m...</td>\n",
              "      <td>Gastrointestinal Diseases</td>\n",
              "      <td>THC</td>\n",
              "      <td>negative</td>\n",
              "      <td>10357256</td>\n",
              "      <td>3</td>\n",
              "    </tr>\n",
              "    <tr>\n",
              "      <th>3</th>\n",
              "      <td>We investigated involvement of the autonomic n...</td>\n",
              "      <td>Delta9-tetrahydrocannabinol inhibits gastric m...</td>\n",
              "      <td>Hypothension</td>\n",
              "      <td>THC</td>\n",
              "      <td>negative</td>\n",
              "      <td>10357256</td>\n",
              "      <td>3</td>\n",
              "    </tr>\n",
              "    <tr>\n",
              "      <th>4</th>\n",
              "      <td>We investigated involvement of the autonomic n...</td>\n",
              "      <td>Delta9-tetrahydrocannabinol inhibits gastric m...</td>\n",
              "      <td>Bradycardia</td>\n",
              "      <td>THC</td>\n",
              "      <td>negative</td>\n",
              "      <td>10357256</td>\n",
              "      <td>3</td>\n",
              "    </tr>\n",
              "  </tbody>\n",
              "</table>\n",
              "</div>"
            ],
            "text/plain": [
              "                                            Abstract  ... PMID_count\n",
              "0  The antinociceptive effects of various mu opio...  ...          1\n",
              "1  BACKGROUND. Cannabinoids can reduce nociceptiv...  ...          1\n",
              "2  We investigated involvement of the autonomic n...  ...          3\n",
              "3  We investigated involvement of the autonomic n...  ...          3\n",
              "4  We investigated involvement of the autonomic n...  ...          3\n",
              "\n",
              "[5 rows x 7 columns]"
            ]
          },
          "metadata": {},
          "execution_count": 23
        }
      ]
    },
    {
      "cell_type": "code",
      "metadata": {
        "id": "gNk-LSVOfW6O"
      },
      "source": [
        "# aggregation_functions = {\n",
        "#     'Abstract': 'first', \n",
        "#     'Title': 'first', \n",
        "#     'Indication': '; '.join,\n",
        "#     'Cannabinoid': '; '.join,\n",
        "#     'Effect': 'first'\n",
        "#     }\n",
        "# data = data.groupby(data['PMID']).aggregate(aggregation_functions).reset_index()\n",
        "# data.head()"
      ],
      "execution_count": null,
      "outputs": []
    },
    {
      "cell_type": "markdown",
      "metadata": {
        "id": "GGRvxJpkSQZO"
      },
      "source": [
        "#### **Data augmentation**\n",
        "##### Crossover for classes none and no effect\n",
        "##### Franco M. Luque «Atalaya at TASS 2019: Data Augmentation and Robust Embeddings for Sentiment Analysis»."
      ]
    },
    {
      "cell_type": "code",
      "metadata": {
        "colab": {
          "base_uri": "https://localhost:8080/"
        },
        "id": "1KoNNyVA_r-o",
        "outputId": "14e4755e-1fba-47dc-fed4-f6f90029b979"
      },
      "source": [
        "data['Effect'][data['PMID_count'] == 1].value_counts()"
      ],
      "execution_count": null,
      "outputs": [
        {
          "output_type": "execute_result",
          "data": {
            "text/plain": [
              "positive    378\n",
              "negative     95\n",
              "none         52\n",
              "Name: Effect, dtype: int64"
            ]
          },
          "metadata": {},
          "execution_count": 25
        }
      ]
    },
    {
      "cell_type": "code",
      "metadata": {
        "id": "04lLXbQJNB30"
      },
      "source": [
        "data_trainval, data_test = train_test_split(data[data['PMID_count'] == 1], test_size=0.2, random_state=89)"
      ],
      "execution_count": null,
      "outputs": []
    },
    {
      "cell_type": "code",
      "metadata": {
        "id": "6bCN6_YsNB30"
      },
      "source": [
        "data_train, data_val = train_test_split(data_trainval[data_trainval['PMID_count'] == 1], test_size=0.3, random_state=17)"
      ],
      "execution_count": null,
      "outputs": []
    },
    {
      "cell_type": "code",
      "metadata": {
        "id": "Td1l16T4-pNX"
      },
      "source": [
        "data_train = pd.concat([data_train, data[data['PMID_count'] > 1]], ignore_index=True)"
      ],
      "execution_count": null,
      "outputs": []
    },
    {
      "cell_type": "code",
      "metadata": {
        "colab": {
          "base_uri": "https://localhost:8080/"
        },
        "id": "RumKhesVZ_12",
        "outputId": "50576f50-9860-444a-99d1-ef4ff7ca4926"
      },
      "source": [
        "df_augmentet_none_B = data_train[data_train.Effect == 'none']\n",
        "df_augmentet_none_E = data_train[data_train.Effect == 'none']\n",
        "df_augmented_noeffected_B = data_train[data_train.Effect == 'negative']\n",
        "df_augmented_noeffected_E = data_train[data_train.Effect == 'negative']\n",
        "\n",
        "df_augmentet_none_B['Abstract'] = df_augmentet_none_B['Abstract'].apply(preprocessor.get_the_beggining)\n",
        "df_augmentet_none_E['Abstract'] = df_augmentet_none_E['Abstract'].apply(preprocessor.get_the_end)\n",
        "\n",
        "df_augmented_noeffected_B['Abstract'] = df_augmented_noeffected_B['Abstract'].apply(preprocessor.get_the_beggining)\n",
        "df_augmented_noeffected_E['Abstract'] = df_augmented_noeffected_E['Abstract'].apply(preprocessor.get_the_end)\n",
        "\n",
        "df_augmentet_none = pd.concat([df_augmentet_none_B, df_augmentet_none_E], ignore_index=True)\n",
        "df_augmentet_noeffected = pd.concat([df_augmented_noeffected_B, df_augmented_noeffected_E], ignore_index=True)"
      ],
      "execution_count": null,
      "outputs": [
        {
          "output_type": "stream",
          "name": "stderr",
          "text": [
            "/usr/local/lib/python3.7/dist-packages/ipykernel_launcher.py:6: SettingWithCopyWarning: \n",
            "A value is trying to be set on a copy of a slice from a DataFrame.\n",
            "Try using .loc[row_indexer,col_indexer] = value instead\n",
            "\n",
            "See the caveats in the documentation: https://pandas.pydata.org/pandas-docs/stable/user_guide/indexing.html#returning-a-view-versus-a-copy\n",
            "  \n",
            "/usr/local/lib/python3.7/dist-packages/ipykernel_launcher.py:7: SettingWithCopyWarning: \n",
            "A value is trying to be set on a copy of a slice from a DataFrame.\n",
            "Try using .loc[row_indexer,col_indexer] = value instead\n",
            "\n",
            "See the caveats in the documentation: https://pandas.pydata.org/pandas-docs/stable/user_guide/indexing.html#returning-a-view-versus-a-copy\n",
            "  import sys\n",
            "/usr/local/lib/python3.7/dist-packages/ipykernel_launcher.py:9: SettingWithCopyWarning: \n",
            "A value is trying to be set on a copy of a slice from a DataFrame.\n",
            "Try using .loc[row_indexer,col_indexer] = value instead\n",
            "\n",
            "See the caveats in the documentation: https://pandas.pydata.org/pandas-docs/stable/user_guide/indexing.html#returning-a-view-versus-a-copy\n",
            "  if __name__ == '__main__':\n",
            "/usr/local/lib/python3.7/dist-packages/ipykernel_launcher.py:10: SettingWithCopyWarning: \n",
            "A value is trying to be set on a copy of a slice from a DataFrame.\n",
            "Try using .loc[row_indexer,col_indexer] = value instead\n",
            "\n",
            "See the caveats in the documentation: https://pandas.pydata.org/pandas-docs/stable/user_guide/indexing.html#returning-a-view-versus-a-copy\n",
            "  # Remove the CWD from sys.path while we load stuff.\n"
          ]
        }
      ]
    },
    {
      "cell_type": "code",
      "metadata": {
        "id": "74DERKrs2i8O"
      },
      "source": [
        "data_train['Abstract'] = data_train['Abstract'].apply(preprocessor.cut_abstract_text)\n",
        "data_train[\"Title\"] = data_train[\"Title\"].apply(preprocessor.cut_abstract_text)\n",
        "data_train['Effect'] = data_train['Effect'].apply(str.lower)"
      ],
      "execution_count": null,
      "outputs": []
    },
    {
      "cell_type": "code",
      "metadata": {
        "id": "X5XkB5KA05B_"
      },
      "source": [
        "data_val['Abstract'] = data_val['Abstract'].apply(preprocessor.cut_abstract_text)\n",
        "data_val[\"Title\"] = data_val[\"Title\"].apply(preprocessor.cut_abstract_text)\n",
        "data_val['Effect'] = data_val['Effect'].apply(str.lower)"
      ],
      "execution_count": null,
      "outputs": []
    },
    {
      "cell_type": "code",
      "metadata": {
        "id": "ig0QOnONyVSl"
      },
      "source": [
        "data_test['Abstract'] = data_test['Abstract'].apply(preprocessor.cut_abstract_text)\n",
        "data_test[\"Title\"] = data_test[\"Title\"].apply(preprocessor.cut_abstract_text)\n",
        "data_test['Effect'] = data_test['Effect'].apply(str.lower)"
      ],
      "execution_count": null,
      "outputs": []
    },
    {
      "cell_type": "code",
      "metadata": {
        "id": "PL2F0bapeL6F"
      },
      "source": [
        "data_train = pd.concat([data_train, df_augmentet_none, df_augmentet_noeffected], ignore_index=True)\n",
        "data_train = data_train.drop_duplicates()"
      ],
      "execution_count": null,
      "outputs": []
    },
    {
      "cell_type": "code",
      "metadata": {
        "colab": {
          "base_uri": "https://localhost:8080/"
        },
        "id": "Ur-K2IK993Ft",
        "outputId": "5f9ea077-31e6-4608-915a-4089d2e786fa"
      },
      "source": [
        "data_train['Abstract'].head()"
      ],
      "execution_count": null,
      "outputs": [
        {
          "output_type": "execute_result",
          "data": {
            "text/plain": [
              "0    AIMS Olfactory loss impairs the patient s qual...\n",
              "1    METHODS Acute pancreatitis was induced in C57B...\n",
              "2    They also suggest that CB1 and TRPV1 receptors...\n",
              "3    However the study revealed a subtle impact of ...\n",
              "4    Like electrical kindling the kindling effect w...\n",
              "Name: Abstract, dtype: object"
            ]
          },
          "metadata": {},
          "execution_count": 34
        }
      ]
    },
    {
      "cell_type": "code",
      "metadata": {
        "colab": {
          "base_uri": "https://localhost:8080/"
        },
        "id": "Xus_-mq7-P4A",
        "outputId": "8b76a3e9-2f03-44f9-8379-9a166407e807"
      },
      "source": [
        "data_train[\"Title\"].head()"
      ],
      "execution_count": null,
      "outputs": [
        {
          "output_type": "execute_result",
          "data": {
            "text/plain": [
              "0    Effects of 20 mg oral Δ 9 tetrahydrocannabinol...\n",
              "1    Anti inflammatory role of cannabidiol and O 16...\n",
              "2    Cannabidiol increases the nociceptive threshol...\n",
              "3    Long term cannabidiol treatment prevents the d...\n",
              "4                  Pentylenetetrazol kindling in mice \n",
              "Name: Title, dtype: object"
            ]
          },
          "metadata": {},
          "execution_count": 35
        }
      ]
    },
    {
      "cell_type": "code",
      "metadata": {
        "colab": {
          "base_uri": "https://localhost:8080/"
        },
        "id": "qTO9rbFqfmxq",
        "outputId": "3ac2eb3e-bbf1-474b-dd01-e6e304afb14a"
      },
      "source": [
        "data_train.columns"
      ],
      "execution_count": null,
      "outputs": [
        {
          "output_type": "execute_result",
          "data": {
            "text/plain": [
              "Index(['Abstract', 'Title', 'Indication', 'Cannabinoid', 'Effect', 'PMID',\n",
              "       'PMID_count'],\n",
              "      dtype='object')"
            ]
          },
          "metadata": {},
          "execution_count": 36
        }
      ]
    },
    {
      "cell_type": "code",
      "metadata": {
        "id": "oouRTYpcNB3z"
      },
      "source": [
        "data_train['text_lhs'] = data_train.apply(lambda row: f'Cannabinoid: {row.Cannabinoid}; Indication: {row.Indication}', axis=1)\n",
        "data_train['text_rhs'] = data_train.apply(lambda row: f'Title: {row[\"Title\"]}\\n{get_abstact_text(row.Abstract)}', axis=1)"
      ],
      "execution_count": null,
      "outputs": []
    },
    {
      "cell_type": "code",
      "metadata": {
        "id": "7TrxF9zv1crD"
      },
      "source": [
        "data_val['text_lhs'] = data_val.apply(lambda row: f'Cannabinoid: {row.Cannabinoid}; Indication: {row.Indication}', axis=1)\n",
        "data_val['text_rhs'] = data_val.apply(lambda row: f'Title: {row[\"Title\"]}\\n{get_abstact_text(row.Abstract)}', axis=1)"
      ],
      "execution_count": null,
      "outputs": []
    },
    {
      "cell_type": "code",
      "metadata": {
        "id": "wWmgMfVwy2Ad"
      },
      "source": [
        "data_test['text_lhs'] = data_test.apply(lambda row: f'Cannabinoid: {row.Cannabinoid}; Indication: {row.Indication}', axis=1)\n",
        "data_test['text_rhs'] = data_test.apply(lambda row: f'Title: {row[\"Title\"]}\\n{get_abstact_text(row.Abstract)}', axis=1)"
      ],
      "execution_count": null,
      "outputs": []
    },
    {
      "cell_type": "code",
      "metadata": {
        "colab": {
          "base_uri": "https://localhost:8080/"
        },
        "id": "E8Dqs5AyNB3z",
        "outputId": "87aa62a4-15d4-4887-fbb2-94067057454d"
      },
      "source": [
        "data_test.text_lhs.value_counts().head(10)"
      ],
      "execution_count": null,
      "outputs": [
        {
          "output_type": "execute_result",
          "data": {
            "text/plain": [
              "Cannabinoid: THC; Indication: Pain                      6\n",
              "Cannabinoid: THC+CBD; Indication: Multiple sclerosis    5\n",
              "Cannabinoid: CBD; Indication: Fear Anxiety PTSD         4\n",
              "Cannabinoid: CBD; Indication: Epilepsy                  4\n",
              "Cannabinoid: THC; Indication: Fear Anxiety PTSD         3\n",
              "Cannabinoid: THC; Indication: Schizophrenia             3\n",
              "Cannabinoid: THC; Indication: Glioma (cancer)           3\n",
              "Cannabinoid: CBD; Indication: Schizophrenia             2\n",
              "Cannabinoid: CBD; Indication: Inflammation              2\n",
              "Cannabinoid: THC; Indication: Cognitive impairment      2\n",
              "Name: text_lhs, dtype: int64"
            ]
          },
          "metadata": {},
          "execution_count": 40
        }
      ]
    },
    {
      "cell_type": "code",
      "metadata": {
        "colab": {
          "base_uri": "https://localhost:8080/"
        },
        "id": "cKOtRjGLNB3z",
        "outputId": "251ba7d9-4b97-4179-b69a-e04d81a9bb3c"
      },
      "source": [
        "data_test.text_lhs.sample(5)"
      ],
      "execution_count": null,
      "outputs": [
        {
          "output_type": "execute_result",
          "data": {
            "text/plain": [
              "415               Cannabinoid: CBD; Indication: Epilepsy\n",
              "427               Cannabinoid: CBG; Indication: Cachexia\n",
              "798    Cannabinoid: THC; Indication: Ocular hypertens...\n",
              "343    Cannabinoid: THC; Indication: Type 2 diabetes ...\n",
              "76                    Cannabinoid: THC; Indication: Pain\n",
              "Name: text_lhs, dtype: object"
            ]
          },
          "metadata": {},
          "execution_count": 41
        }
      ]
    },
    {
      "cell_type": "code",
      "metadata": {
        "colab": {
          "base_uri": "https://localhost:8080/"
        },
        "id": "IUmrLoP0NB30",
        "outputId": "66298526-b6e6-4a76-dcc3-224893376598"
      },
      "source": [
        "print(data_val.text_rhs.sample(1).iloc[0])"
      ],
      "execution_count": null,
      "outputs": [
        {
          "output_type": "stream",
          "name": "stdout",
          "text": [
            "Title: Low dose oral cannabinoid therapy reduces progression of atherosclerosis in mice \n",
            "All these effects were completely blocked by a specific CB2 receptor antagonist  Thus THC or cannabinoids with activity at the CB2 receptor may be valuable targets for treating atherosclerosis  Our data demonstrate that oral treatment with a low dose of THC inhibits atherosclerosis progression in the apolipoprotein E knockout mouse model through pleiotropic immunomodulatory effects on lymphoid and myeloid cells  Macrophage chemotaxis which is a crucial step for the development of atherosclerosis was also inhibited in vitro by THC  Atherosclerosis is a chronic inflammatory disease and is the primary cause of heart disease and stroke in Western countries  Derivatives of cannabinoids such as delta 9 tetrahydrocannabinol THC modulate immune functions and therefore have potential for the treatment of inflammatory diseases \n"
          ]
        }
      ]
    },
    {
      "cell_type": "code",
      "metadata": {
        "colab": {
          "base_uri": "https://localhost:8080/"
        },
        "id": "HkU1oijBzMwe",
        "outputId": "46b2d67a-3ba5-4cca-ce81-391ddaf2e919"
      },
      "source": [
        "data_train.Effect.value_counts()"
      ],
      "execution_count": null,
      "outputs": [
        {
          "output_type": "execute_result",
          "data": {
            "text/plain": [
              "negative    504\n",
              "positive    371\n",
              "none        234\n",
              "Name: Effect, dtype: int64"
            ]
          },
          "metadata": {},
          "execution_count": 43
        }
      ]
    },
    {
      "cell_type": "code",
      "metadata": {
        "colab": {
          "base_uri": "https://localhost:8080/"
        },
        "id": "NQjmKVU91seg",
        "outputId": "c3192f82-5eab-45bf-b9c9-e63622b0cbe9"
      },
      "source": [
        "data_val.Effect.value_counts()"
      ],
      "execution_count": null,
      "outputs": [
        {
          "output_type": "execute_result",
          "data": {
            "text/plain": [
              "positive    82\n",
              "negative    26\n",
              "none        18\n",
              "Name: Effect, dtype: int64"
            ]
          },
          "metadata": {},
          "execution_count": 44
        }
      ]
    },
    {
      "cell_type": "code",
      "metadata": {
        "colab": {
          "base_uri": "https://localhost:8080/"
        },
        "id": "MZsnLpn1NB30",
        "outputId": "c3202474-de23-41ac-fe1d-245cfa09ee7b"
      },
      "source": [
        "data_test.Effect.value_counts()"
      ],
      "execution_count": null,
      "outputs": [
        {
          "output_type": "execute_result",
          "data": {
            "text/plain": [
              "positive    84\n",
              "negative    11\n",
              "none        10\n",
              "Name: Effect, dtype: int64"
            ]
          },
          "metadata": {},
          "execution_count": 45
        }
      ]
    },
    {
      "cell_type": "markdown",
      "metadata": {
        "id": "Lr4yckYMjBBp"
      },
      "source": [
        "#### Train/val "
      ]
    },
    {
      "cell_type": "code",
      "metadata": {
        "colab": {
          "base_uri": "https://localhost:8080/"
        },
        "id": "nbwTrMpkNB31",
        "outputId": "48fbf8d0-f4a5-4150-b69e-729c378cbdac"
      },
      "source": [
        "data_train.shape, data_val.shape, data_test.shape"
      ],
      "execution_count": null,
      "outputs": [
        {
          "output_type": "execute_result",
          "data": {
            "text/plain": [
              "((1109, 9), (126, 9), (105, 9))"
            ]
          },
          "metadata": {},
          "execution_count": 46
        }
      ]
    },
    {
      "cell_type": "code",
      "metadata": {
        "id": "kB0ivdZ2NoRf"
      },
      "source": [
        "df = data"
      ],
      "execution_count": null,
      "outputs": []
    },
    {
      "cell_type": "code",
      "metadata": {
        "colab": {
          "base_uri": "https://localhost:8080/"
        },
        "id": "1CrFw4-XNB31",
        "outputId": "1509da4c-9f84-4942-a06e-c6e4d03e4fe0"
      },
      "source": [
        "all_labels = sorted(set(df.Effect))\n",
        "all_labels"
      ],
      "execution_count": null,
      "outputs": [
        {
          "output_type": "execute_result",
          "data": {
            "text/plain": [
              "['negative', 'none', 'positive']"
            ]
          },
          "metadata": {},
          "execution_count": 48
        }
      ]
    },
    {
      "cell_type": "code",
      "metadata": {
        "id": "6Asr-3uVNB31"
      },
      "source": [
        "from datasets import Dataset, DatasetDict"
      ],
      "execution_count": null,
      "outputs": []
    },
    {
      "cell_type": "code",
      "metadata": {
        "id": "BESzdXULNB31"
      },
      "source": [
        "dataset_dict = DatasetDict({\n",
        "    k: Dataset.from_dict({\n",
        "        'text1': v.text_lhs,\n",
        "        'text2': v.text_rhs,\n",
        "        'label': v.Effect.apply(lambda x: all_labels.index(x))\n",
        "    })\n",
        "    for k, v in zip(['train', 'val', 'test'], [data_train, data_val, data_test])\n",
        "})"
      ],
      "execution_count": null,
      "outputs": []
    },
    {
      "cell_type": "markdown",
      "metadata": {
        "id": "Zp837BYWNB33"
      },
      "source": [
        "# The model"
      ]
    },
    {
      "cell_type": "code",
      "metadata": {
        "colab": {
          "base_uri": "https://localhost:8080/"
        },
        "id": "OH769j8TBFyU",
        "outputId": "770c71a2-4668-4775-d5a0-9813f8c8b639"
      },
      "source": [
        "!unzip drive/MyDrive/bert-effect-classifier_3_20211010.zip"
      ],
      "execution_count": null,
      "outputs": [
        {
          "output_type": "stream",
          "name": "stdout",
          "text": [
            "Archive:  drive/MyDrive/bert-effect-classifier_3_20211010.zip\n",
            "   creating: bert-effect-classifier_3_20211010/\n",
            "  inflating: bert-effect-classifier_3_20211010/vocab.txt  \n",
            "  inflating: bert-effect-classifier_3_20211010/tokenizer.json  \n",
            "  inflating: bert-effect-classifier_3_20211010/pytorch_model.bin  \n",
            "  inflating: bert-effect-classifier_3_20211010/special_tokens_map.json  \n",
            "  inflating: bert-effect-classifier_3_20211010/tokenizer_config.json  \n",
            "  inflating: bert-effect-classifier_3_20211010/config.json  \n"
          ]
        }
      ]
    },
    {
      "cell_type": "code",
      "metadata": {
        "id": "psbpHALRKu25"
      },
      "source": [
        "PATH = 'bert-effect-classifier_3_20211010/'\n",
        "tokenizer = AutoTokenizer.from_pretrained(PATH, local_files_only=True)\n",
        "model = AutoModelForSequenceClassification.from_pretrained(PATH, num_labels=len(all_labels))\n",
        "if torch.cuda.is_available():\n",
        "    model.cuda()"
      ],
      "execution_count": null,
      "outputs": []
    },
    {
      "cell_type": "code",
      "metadata": {
        "id": "5TkIKka7NB33",
        "colab": {
          "base_uri": "https://localhost:8080/"
        },
        "outputId": "cf8a15e4-e84d-445c-ea0b-23e532214f6a"
      },
      "source": [
        "# # a medical BERT from https://academic.oup.com/bioinformatics/article/36/4/1234/5566506\n",
        "# model_checkpoint = 'dmis-lab/biobert-base-cased-v1.2'\n",
        "# # # a roberta-like model for longer texts, but without token_type_ids\n",
        "# # # model_checkpoint = 'allenai/longformer-base-4096'\n",
        "# tokenizer = AutoTokenizer.from_pretrained(model_checkpoint)\n",
        "# model = AutoModelForSequenceClassification.from_pretrained(model_checkpoint, num_labels=len(all_labels))\n",
        "# if torch.cuda.is_available():\n",
        "#     model.cuda()"
      ],
      "execution_count": null,
      "outputs": [
        {
          "output_type": "stream",
          "name": "stderr",
          "text": [
            "Some weights of the model checkpoint at dmis-lab/biobert-base-cased-v1.2 were not used when initializing BertForSequenceClassification: ['cls.predictions.transform.LayerNorm.weight', 'cls.seq_relationship.bias', 'cls.seq_relationship.weight', 'cls.predictions.transform.LayerNorm.bias', 'cls.predictions.decoder.bias', 'cls.predictions.transform.dense.weight', 'cls.predictions.bias', 'cls.predictions.decoder.weight', 'cls.predictions.transform.dense.bias']\n",
            "- This IS expected if you are initializing BertForSequenceClassification from the checkpoint of a model trained on another task or with another architecture (e.g. initializing a BertForSequenceClassification model from a BertForPreTraining model).\n",
            "- This IS NOT expected if you are initializing BertForSequenceClassification from the checkpoint of a model that you expect to be exactly identical (initializing a BertForSequenceClassification model from a BertForSequenceClassification model).\n",
            "Some weights of BertForSequenceClassification were not initialized from the model checkpoint at dmis-lab/biobert-base-cased-v1.2 and are newly initialized: ['classifier.bias', 'classifier.weight']\n",
            "You should probably TRAIN this model on a down-stream task to be able to use it for predictions and inference.\n"
          ]
        }
      ]
    },
    {
      "cell_type": "code",
      "metadata": {
        "colab": {
          "base_uri": "https://localhost:8080/"
        },
        "id": "h7JKkgnWN_fk",
        "outputId": "b61dfe65-d7f3-4146-871e-ad543c31d4e6"
      },
      "source": [
        "!nvidia-smi"
      ],
      "execution_count": null,
      "outputs": [
        {
          "output_type": "stream",
          "name": "stdout",
          "text": [
            "Sun Oct 10 10:37:56 2021       \n",
            "+-----------------------------------------------------------------------------+\n",
            "| NVIDIA-SMI 470.74       Driver Version: 460.32.03    CUDA Version: 11.2     |\n",
            "|-------------------------------+----------------------+----------------------+\n",
            "| GPU  Name        Persistence-M| Bus-Id        Disp.A | Volatile Uncorr. ECC |\n",
            "| Fan  Temp  Perf  Pwr:Usage/Cap|         Memory-Usage | GPU-Util  Compute M. |\n",
            "|                               |                      |               MIG M. |\n",
            "|===============================+======================+======================|\n",
            "|   0  Tesla K80           Off  | 00000000:00:04.0 Off |                    0 |\n",
            "| N/A   75C    P0    71W / 149W |   1021MiB / 11441MiB |      0%      Default |\n",
            "|                               |                      |                  N/A |\n",
            "+-------------------------------+----------------------+----------------------+\n",
            "                                                                               \n",
            "+-----------------------------------------------------------------------------+\n",
            "| Processes:                                                                  |\n",
            "|  GPU   GI   CI        PID   Type   Process name                  GPU Memory |\n",
            "|        ID   ID                                                   Usage      |\n",
            "|=============================================================================|\n",
            "|  No running processes found                                                 |\n",
            "+-----------------------------------------------------------------------------+\n"
          ]
        }
      ]
    },
    {
      "cell_type": "code",
      "metadata": {
        "id": "qHpnsIxANB34"
      },
      "source": [
        "from transformers import DataCollatorWithPadding\n",
        "data_collator = DataCollatorWithPadding(tokenizer)"
      ],
      "execution_count": null,
      "outputs": []
    },
    {
      "cell_type": "code",
      "metadata": {
        "colab": {
          "base_uri": "https://localhost:8080/"
        },
        "id": "8gyYoZJANB34",
        "outputId": "ee1cd524-372c-4671-f0ff-d7617a73951c"
      },
      "source": [
        "tokenizer('hello', 'world')"
      ],
      "execution_count": null,
      "outputs": [
        {
          "output_type": "execute_result",
          "data": {
            "text/plain": [
              "{'input_ids': [101, 19082, 102, 1362, 102], 'token_type_ids': [0, 0, 0, 1, 1], 'attention_mask': [1, 1, 1, 1, 1]}"
            ]
          },
          "metadata": {},
          "execution_count": 55
        }
      ]
    },
    {
      "cell_type": "code",
      "metadata": {
        "colab": {
          "base_uri": "https://localhost:8080/",
          "height": 264,
          "referenced_widgets": [
            "f38bd12e33c9462db81ad559db7bc820",
            "da83dff1372547a2b9f31e394f625579",
            "8af9b25d98ff4325aa5c4ba0fade5c40",
            "a517125f62be4394ba7da82db867febc",
            "9634819df6bd493c882546116432bc11",
            "fefccbc278694851b2a36d3173f90cdb",
            "e2e148addd47417b90d67cd1f66925e4",
            "5431a0a0f5fd45f4b2222af0019d7bf5",
            "ed3a59c2af6e4b139825953dcddfa390",
            "c61df043c1954b40b529e34ec824e8a2",
            "6e2215d087e740cb9dbf23ac86dd44f7",
            "051872e49e8a477bb749844a7ae2576f",
            "3b97ffaf1c484d4285456f93733c5885"
          ]
        },
        "id": "dlKD60lmNB34",
        "outputId": "bb33401e-d0ea-48ec-e3aa-fe3cfba11fe4"
      },
      "source": [
        "def tokenize(x):\n",
        "    return tokenizer(x[\"text1\"], x['text2'], truncation=True, padding=True)\n",
        "\n",
        "dataset_dict_tokenized = dataset_dict.map(tokenize, batched=True)\n",
        "\n",
        "pd.Series(\n",
        "    [len([tok for tok in text if tok != tokenizer.pad_token_id]) for text in dataset_dict_tokenized['train']['input_ids']]\n",
        ").quantile([0.5, 0.8, 0.9, 0.95, 0.99, 1])"
      ],
      "execution_count": null,
      "outputs": [
        {
          "output_type": "display_data",
          "data": {
            "application/vnd.jupyter.widget-view+json": {
              "model_id": "f38bd12e33c9462db81ad559db7bc820",
              "version_minor": 0,
              "version_major": 2
            },
            "text/plain": [
              "  0%|          | 0/2 [00:00<?, ?ba/s]"
            ]
          },
          "metadata": {}
        },
        {
          "output_type": "stream",
          "name": "stderr",
          "text": [
            "Asking to truncate to max_length but no maximum length is provided and the model has no predefined maximum length. Default to no truncation.\n"
          ]
        },
        {
          "output_type": "display_data",
          "data": {
            "application/vnd.jupyter.widget-view+json": {
              "model_id": "051872e49e8a477bb749844a7ae2576f",
              "version_minor": 0,
              "version_major": 2
            },
            "text/plain": [
              "  0%|          | 0/1 [00:00<?, ?ba/s]"
            ]
          },
          "metadata": {}
        },
        {
          "output_type": "display_data",
          "data": {
            "application/vnd.jupyter.widget-view+json": {
              "model_id": "3b97ffaf1c484d4285456f93733c5885",
              "version_minor": 0,
              "version_major": 2
            },
            "text/plain": [
              "  0%|          | 0/1 [00:00<?, ?ba/s]"
            ]
          },
          "metadata": {}
        },
        {
          "output_type": "execute_result",
          "data": {
            "text/plain": [
              "0.50     230.0\n",
              "0.80     301.4\n",
              "0.90     367.0\n",
              "0.95     578.0\n",
              "0.99    1140.4\n",
              "1.00    1884.0\n",
              "dtype: float64"
            ]
          },
          "metadata": {},
          "execution_count": 56
        }
      ]
    },
    {
      "cell_type": "markdown",
      "metadata": {
        "id": "GP9kGBH0NB34"
      },
      "source": [
        "Most of the texts fit into 512 tokens, but for longer texts we might need to fine tune a longformer instead of a BERT"
      ]
    },
    {
      "cell_type": "code",
      "metadata": {
        "colab": {
          "base_uri": "https://localhost:8080/",
          "height": 113,
          "referenced_widgets": [
            "aca14c0a2d4f4080ba23608cdf7ea0ce",
            "0932c21ab9764aec8f06a01ebc2af817",
            "9f48eac16fb14b72b6901ece3cfec9c3"
          ]
        },
        "id": "SzLFLBI2NB35",
        "outputId": "449431e2-4d2f-40b8-c6fc-6860732c123a"
      },
      "source": [
        "def tokenize(x):\n",
        "    return tokenizer(x[\"text1\"], x['text2'], truncation=True, padding=True, max_length=model.config.max_position_embeddings)\n",
        "\n",
        "dataset_dict_tokenized = dataset_dict.map(tokenize, batched=True)"
      ],
      "execution_count": null,
      "outputs": [
        {
          "output_type": "display_data",
          "data": {
            "application/vnd.jupyter.widget-view+json": {
              "model_id": "aca14c0a2d4f4080ba23608cdf7ea0ce",
              "version_minor": 0,
              "version_major": 2
            },
            "text/plain": [
              "  0%|          | 0/2 [00:00<?, ?ba/s]"
            ]
          },
          "metadata": {}
        },
        {
          "output_type": "display_data",
          "data": {
            "application/vnd.jupyter.widget-view+json": {
              "model_id": "0932c21ab9764aec8f06a01ebc2af817",
              "version_minor": 0,
              "version_major": 2
            },
            "text/plain": [
              "  0%|          | 0/1 [00:00<?, ?ba/s]"
            ]
          },
          "metadata": {}
        },
        {
          "output_type": "display_data",
          "data": {
            "application/vnd.jupyter.widget-view+json": {
              "model_id": "9f48eac16fb14b72b6901ece3cfec9c3",
              "version_minor": 0,
              "version_major": 2
            },
            "text/plain": [
              "  0%|          | 0/1 [00:00<?, ?ba/s]"
            ]
          },
          "metadata": {}
        }
      ]
    },
    {
      "cell_type": "code",
      "metadata": {
        "id": "lpWmTNb1NB35"
      },
      "source": [
        "from torch.utils.data import DataLoader"
      ],
      "execution_count": null,
      "outputs": []
    },
    {
      "cell_type": "code",
      "metadata": {
        "id": "Ln3YLrS7NB35"
      },
      "source": [
        "batch_size = 8  # maximum size for colab \n",
        "\n",
        "loaders = {\n",
        "    k : DataLoader(\n",
        "        v.remove_columns(['text1', 'text2']), \n",
        "        batch_size=batch_size, \n",
        "        drop_last=False, \n",
        "        shuffle=True, \n",
        "        num_workers=1, \n",
        "        collate_fn=data_collator\n",
        "    )\n",
        "    for k, v in dataset_dict_tokenized.items()\n",
        "}"
      ],
      "execution_count": null,
      "outputs": []
    },
    {
      "cell_type": "code",
      "metadata": {
        "id": "nkz25uQRNB35"
      },
      "source": [
        "from tqdm.auto import tqdm, trange\n",
        "import numpy as np\n",
        "from sklearn.metrics import precision_recall_fscore_support, roc_auc_score"
      ],
      "execution_count": null,
      "outputs": []
    },
    {
      "cell_type": "code",
      "metadata": {
        "id": "87_22eYKaoYp"
      },
      "source": [
        "def batched_predict(model, dev_dataloader):\n",
        "    preds = []\n",
        "    facts = []\n",
        "\n",
        "    for batch in tqdm(dev_dataloader):\n",
        "        facts.append(batch.labels.cpu().numpy())\n",
        "        batch = batch.to(model.device)\n",
        "        with torch.no_grad():\n",
        "            pr = model(input_ids=batch.input_ids, attention_mask=batch.attention_mask, token_type_ids=batch.token_type_ids)\n",
        "        preds.append(torch.softmax(pr.logits, -1).cpu().numpy())\n",
        "    facts = np.concatenate(facts)\n",
        "    preds = np.concatenate(preds)\n",
        "    return facts, preds"
      ],
      "execution_count": null,
      "outputs": []
    },
    {
      "cell_type": "code",
      "metadata": {
        "colab": {
          "base_uri": "https://localhost:8080/",
          "height": 87,
          "referenced_widgets": [
            "b98e4b53bd074d5688a872df50ae0ecd",
            "53acab43c9f04160a53c4ba76fcea875",
            "bbccb1bc2a884592bcd02fdb0108ae64",
            "64b4a77bcfd941139ffdb3648980887f",
            "3ea0605191cb42938ecf71d5d6ab53e3",
            "e215842805e64c00ac1e8cead590739a",
            "25e1616039484768a948b2a7210154f8",
            "7e55e4f69b3c4f5982608060f3210082",
            "3555f46791e74b789568dffefb1ec5ba",
            "c1e64c4fa8f9463695d99968b37dff38",
            "65178e5fbb924cf2b44719b200aca406"
          ]
        },
        "id": "uaFff6zqNB35",
        "outputId": "44e7f6f6-c447-446f-f0f3-80ba3e6b1aa5"
      },
      "source": [
        "def evaluate_model(model, dev_dataloader):\n",
        "    facts, preds = batched_predict(model, dev_dataloader)\n",
        "\n",
        "    p, r, f, s = precision_recall_fscore_support(facts, preds.argmax(axis=1), zero_division=0)\n",
        "    results = {f'recall_{k}': v for k, v in zip(all_labels, r)}\n",
        "    results['macro_recall'] = r.mean()\n",
        "    results['macro_f'] = f.mean()\n",
        "    results['accuracy'] = (facts == preds.argmax(axis=1)).mean()\n",
        "\n",
        "    return results\n",
        "\n",
        "model.eval()\n",
        "print(evaluate_model(model, loaders['val']))"
      ],
      "execution_count": null,
      "outputs": [
        {
          "output_type": "display_data",
          "data": {
            "application/vnd.jupyter.widget-view+json": {
              "model_id": "b98e4b53bd074d5688a872df50ae0ecd",
              "version_minor": 0,
              "version_major": 2
            },
            "text/plain": [
              "  0%|          | 0/11 [00:00<?, ?it/s]"
            ]
          },
          "metadata": {}
        },
        {
          "output_type": "stream",
          "name": "stdout",
          "text": [
            "{'recall_negative': 0.5384615384615384, 'recall_none': 0.2777777777777778, 'recall_positive': 0.9512195121951219, 'macro_recall': 0.5891529428114793, 'macro_f': 0.6304493017607772, 'accuracy': 0.7698412698412699}\n"
          ]
        }
      ]
    },
    {
      "cell_type": "code",
      "metadata": {
        "id": "vbHxZIJfNB36"
      },
      "source": [
        "import gc\n",
        "\n",
        "def cleanup():\n",
        "    gc.collect()\n",
        "    torch.cuda.empty_cache()\n",
        "    \n",
        "cleanup()"
      ],
      "execution_count": null,
      "outputs": []
    },
    {
      "cell_type": "markdown",
      "metadata": {
        "id": "hssDQg5vSUBT"
      },
      "source": [
        "Замораживаем трансформерные слои, кроме последних трёх. Вроде как это может помочь меньше переобучаться. "
      ]
    },
    {
      "cell_type": "code",
      "metadata": {
        "colab": {
          "base_uri": "https://localhost:8080/"
        },
        "id": "kA8V9buER22t",
        "outputId": "7ac5a433-1106-47d5-c212-06d15d755651"
      },
      "source": [
        "model.requires_grad_(True)\n",
        "print(len([p for p in model.parameters() if p.requires_grad]))\n",
        "model.bert.requires_grad_(False);\n",
        "print(len([p for p in model.parameters() if p.requires_grad]))\n",
        "model.bert.pooler.requires_grad_(True);\n",
        "print(len([p for p in model.parameters() if p.requires_grad]))\n",
        "model.bert.embeddings.requires_grad_(True)\n",
        "print(len([p for p in model.parameters() if p.requires_grad]))\n",
        "for layer in model.bert.encoder.layer[-3:]:\n",
        "    layer.requires_grad_(True);\n",
        "print(len([p for p in model.parameters() if p.requires_grad]))"
      ],
      "execution_count": null,
      "outputs": [
        {
          "output_type": "stream",
          "name": "stdout",
          "text": [
            "201\n",
            "2\n",
            "4\n",
            "9\n",
            "57\n"
          ]
        }
      ]
    },
    {
      "cell_type": "code",
      "metadata": {
        "id": "ZDfSC58iNB36"
      },
      "source": [
        "optimizer = torch.optim.Adam(params=[p for p in model.parameters() if p.requires_grad], lr=1e-5)"
      ],
      "execution_count": null,
      "outputs": []
    },
    {
      "cell_type": "code",
      "metadata": {
        "colab": {
          "base_uri": "https://localhost:8080/"
        },
        "id": "ZsiGhkLlNB36",
        "outputId": "d229c5f0-7f00-4490-dc99-a7b415e9dcb0"
      },
      "source": [
        "gradient_accumulation_steps = max(1, int(128 / batch_size))\n",
        "print(gradient_accumulation_steps)\n",
        "window = 100\n",
        "cleanup_step = 50\n",
        "report_step = 500"
      ],
      "execution_count": null,
      "outputs": [
        {
          "output_type": "stream",
          "name": "stdout",
          "text": [
            "16\n"
          ]
        }
      ]
    },
    {
      "cell_type": "code",
      "metadata": {
        "colab": {
          "base_uri": "https://localhost:8080/"
        },
        "id": "rmPHIJXqNB37",
        "outputId": "2e9bb477-d6e0-48e1-e966-2fc4d3389bbf"
      },
      "source": [
        "for batch in loaders['train']:\n",
        "    break\n",
        "print(batch.keys())"
      ],
      "execution_count": null,
      "outputs": [
        {
          "output_type": "stream",
          "name": "stdout",
          "text": [
            "dict_keys(['attention_mask', 'input_ids', 'token_type_ids', 'labels'])\n"
          ]
        }
      ]
    },
    {
      "cell_type": "code",
      "metadata": {
        "colab": {
          "base_uri": "https://localhost:8080/",
          "height": 152,
          "referenced_widgets": [
            "32f07ce664e44b26bb017de6dee3a807",
            "7e4c6f3c01cc4c46ad666f10d768dce6",
            "4f5af00baf3d4b16970bac64d501797c"
          ]
        },
        "id": "DSEKPZ_tNB37",
        "outputId": "62a05a06-09da-445c-d2b9-f6ec8df8313f"
      },
      "source": [
        "ewm_loss = 0\n",
        "model.train()\n",
        "cleanup()\n",
        "\n",
        "for epoch in trange(1):\n",
        "    tq = tqdm(loaders['train'])\n",
        "    \n",
        "    for i, batch in enumerate(tq):\n",
        "        \n",
        "        if i % report_step == 0:\n",
        "            model.eval()\n",
        "            eval_loss = evaluate_model(model, loaders['val'])\n",
        "            model.train()\n",
        "            print(f'epoch {epoch}, step {i}: train loss: {ewm_loss:4.4f}  val auc: {eval_loss}')\n",
        "            cleanup()\n",
        "        \n",
        "        try:\n",
        "            batch = batch.to(model.device)\n",
        "            output = model(**batch)\n",
        "            loss = output.loss\n",
        "            loss.backward()\n",
        "        except RuntimeError as e:\n",
        "            print('error on step', i, e)\n",
        "            loss = None\n",
        "            cleanup()\n",
        "            continue\n",
        "\n",
        "        if i and i % gradient_accumulation_steps == 0:\n",
        "            optimizer.step()\n",
        "            optimizer.zero_grad()\n",
        "            \n",
        "        if i % cleanup_step == 0:\n",
        "            cleanup()\n",
        "\n",
        "        w = 1 / min(i+1, window)\n",
        "        ewm_loss = ewm_loss * (1-w) + loss.item() * w\n",
        "        tq.set_description(f'loss: {ewm_loss:4.4f}')\n"
      ],
      "execution_count": null,
      "outputs": [
        {
          "output_type": "display_data",
          "data": {
            "application/vnd.jupyter.widget-view+json": {
              "model_id": "32f07ce664e44b26bb017de6dee3a807",
              "version_minor": 0,
              "version_major": 2
            },
            "text/plain": [
              "  0%|          | 0/1 [00:00<?, ?it/s]"
            ]
          },
          "metadata": {}
        },
        {
          "output_type": "display_data",
          "data": {
            "application/vnd.jupyter.widget-view+json": {
              "model_id": "7e4c6f3c01cc4c46ad666f10d768dce6",
              "version_minor": 0,
              "version_major": 2
            },
            "text/plain": [
              "  0%|          | 0/139 [00:00<?, ?it/s]"
            ]
          },
          "metadata": {}
        },
        {
          "output_type": "display_data",
          "data": {
            "application/vnd.jupyter.widget-view+json": {
              "model_id": "4f5af00baf3d4b16970bac64d501797c",
              "version_minor": 0,
              "version_major": 2
            },
            "text/plain": [
              "  0%|          | 0/16 [00:00<?, ?it/s]"
            ]
          },
          "metadata": {}
        },
        {
          "output_type": "stream",
          "name": "stdout",
          "text": [
            "epoch 0, step 0: train loss: 0.0000  val auc: {'recall_negative': 0.5384615384615384, 'recall_none': 0.16666666666666666, 'recall_positive': 0.9634146341463414, 'macro_recall': 0.5561809464248488, 'macro_f': 0.5896032831737346, 'accuracy': 0.7619047619047619}\n"
          ]
        }
      ]
    },
    {
      "cell_type": "markdown",
      "metadata": {
        "id": "jrvu6qjANB37"
      },
      "source": [
        "Полная модель за 15 эпох c шагом 1e-5 не успевает запомнить обучающую выборку,  \n",
        "\n",
        "train data:\n",
        "```\n",
        "{'recall_NONE': 0.0, 'recall_SAFE': 0.875, 'recall_negative': 0.9622641509433962, 'recall_positive': 0.9863481228668942, 'macro_recall': 0.7059030684525727, 'macro_f': 0.6412634519138137, 'accuracy': 0.887468030690537}\n",
        "```\n",
        "\n",
        "validation data:\n",
        "```\n",
        "{'recall_NONE': 0.0, 'recall_SAFE': 0.3333333333333333, 'recall_negative': 0.5294117647058824, 'recall_positive': 0.8857142857142857, 'macro_recall': 0.43711484593837535, 'macro_f': 0.4322141560798548, 'accuracy': 0.7346938775510204}\n",
        "```\n",
        "\n",
        "Если увеличить скорость обучения до 1e-4, мы только оверфитимся:\n",
        "\n",
        "```\n",
        "train\n",
        "{'recall_NONE': 0.9459459459459459, 'recall_SAFE': 0.75, 'recall_negative': 0.9433962264150944, 'recall_positive': 0.9897610921501706, 'macro_recall': 0.9072758161278027, 'macro_f': 0.9287041804696744, 'accuracy': 0.9744245524296675}\n",
        "val\n",
        "'recall_NONE': 0.125, 'recall_SAFE': 0.0, 'recall_negative': 0.47058823529411764, 'recall_positive': 0.8428571428571429, 'macro_recall': 0.3596113445378151, 'macro_f': 0.35904095904095906, 'accuracy': 0.6938775510204082}\n",
        "```"
      ]
    },
    {
      "cell_type": "code",
      "metadata": {
        "id": "JSmE-am5NB38",
        "colab": {
          "base_uri": "https://localhost:8080/",
          "height": 87,
          "referenced_widgets": [
            "5c8b8b785dc343029ea730a756dda938",
            "f940db0896fa4228aa79a7059f12c94b",
            "f9a2908dbc954b2a86a8515c99fc900f",
            "4dc92fb1bf61435084770b5fb5570095",
            "30052c1f4d96435bae400c7195868c63",
            "efc661747dcf4436bac493995f1f50c1",
            "353d4fada5374bffb19808f116b61dd6",
            "5bc22bd3599947bf88b1ce52d35b532f",
            "7eb84c5d77ba4986b4694344c2f650d3",
            "30875a22b8b941a5ae3cf114e6fb35b4",
            "1efdd155144146c4bdf007b7c06a20de"
          ]
        },
        "outputId": "8275e566-8680-48c2-e529-70937c7034a2"
      },
      "source": [
        "model.eval()\n",
        "train_loss = evaluate_model(model, loaders['train'])\n",
        "print(train_loss)"
      ],
      "execution_count": null,
      "outputs": [
        {
          "output_type": "display_data",
          "data": {
            "application/vnd.jupyter.widget-view+json": {
              "model_id": "5c8b8b785dc343029ea730a756dda938",
              "version_minor": 0,
              "version_major": 2
            },
            "text/plain": [
              "  0%|          | 0/139 [00:00<?, ?it/s]"
            ]
          },
          "metadata": {}
        },
        {
          "output_type": "stream",
          "name": "stdout",
          "text": [
            "{'recall_negative': 0.9880952380952381, 'recall_none': 0.9829059829059829, 'recall_positive': 0.9730458221024259, 'macro_recall': 0.9813490143678824, 'macro_f': 0.9794985632439718, 'accuracy': 0.981965734896303}\n"
          ]
        }
      ]
    },
    {
      "cell_type": "code",
      "metadata": {
        "id": "931H_8z1NB38",
        "colab": {
          "base_uri": "https://localhost:8080/",
          "height": 87,
          "referenced_widgets": [
            "a70ce1a61c21431a95ae9bb8cfdfc62c",
            "1fcba83c4ee94d6abc87b2335b61236c",
            "712c958ad60e4b50bb791d1ab1efd2db",
            "5fa011b7f68f47c8a182c777db970498",
            "60a60b6316d6467e84b6de544e6f546c",
            "3999637ec5fd4985beeb976cae98758f",
            "71cd675cb2cd44c4b76ab01e55849dd7",
            "35aaf32c9d6b4b4797c5e64f58451823",
            "3943596221124c858c6d2983b782557a",
            "b05a6e89263547e0b63ce38bdcaceb6c",
            "2dd2dfa1a06b4a76a1549239a1c12983"
          ]
        },
        "outputId": "22370b9c-ae37-487f-b9a8-91a3c2a505e6"
      },
      "source": [
        "model.eval()\n",
        "eval_loss = evaluate_model(model, loaders['val'])\n",
        "print(eval_loss)"
      ],
      "execution_count": null,
      "outputs": [
        {
          "output_type": "display_data",
          "data": {
            "application/vnd.jupyter.widget-view+json": {
              "model_id": "a70ce1a61c21431a95ae9bb8cfdfc62c",
              "version_minor": 0,
              "version_major": 2
            },
            "text/plain": [
              "  0%|          | 0/16 [00:00<?, ?it/s]"
            ]
          },
          "metadata": {}
        },
        {
          "output_type": "stream",
          "name": "stdout",
          "text": [
            "{'recall_negative': 0.6153846153846154, 'recall_none': 0.2777777777777778, 'recall_positive': 0.926829268292683, 'macro_recall': 0.6066638871516921, 'macro_f': 0.6386095592799504, 'accuracy': 0.7698412698412699}\n"
          ]
        }
      ]
    },
    {
      "cell_type": "markdown",
      "metadata": {
        "id": "eQ0DtrqqXINV"
      },
      "source": [
        "Поучим ещё 15 эпох, разморозив модель и уменьшив скорость обучения"
      ]
    },
    {
      "cell_type": "code",
      "metadata": {
        "id": "breNFnke9NeL"
      },
      "source": [
        "model.requires_grad_(True);"
      ],
      "execution_count": null,
      "outputs": []
    },
    {
      "cell_type": "code",
      "metadata": {
        "id": "Rgm-k3fy9OqF"
      },
      "source": [
        "optimizer = torch.optim.Adam(params=[p for p in model.parameters() if p.requires_grad], lr=1e-5)"
      ],
      "execution_count": null,
      "outputs": []
    },
    {
      "cell_type": "code",
      "metadata": {
        "colab": {
          "base_uri": "https://localhost:8080/",
          "height": 565,
          "referenced_widgets": [
            "ca30e267389c43dbbe5e329a005f7e56",
            "b296def42b4140b9b0d5979da5f409cb",
            "320afccf3b054183933aa1dbaeea3678",
            "1ae676c4afb540f6946a3ba94e21883f",
            "650406486cd749999ab09bd6aefea026",
            "4f874c1ae54747c394d1157f9c59d7e7",
            "b12b8707b24e43df9df915408f6133d6",
            "f61f2e35e0da45458b404281e51fa6fa",
            "ee05bf8081bf4ae1a87ef51bc7760cc8",
            "bd3089561b6342969a27ba425ce58479",
            "467888f4fc494d95bd475ab690cdb024",
            "bed02ea8e7eb47b78d969ab923fc92d5",
            "0f0adc5dce094ed79202cdb3e226f551"
          ]
        },
        "id": "zOYIojH8NB38",
        "outputId": "e59d044e-79b7-4cf8-a64b-8787b29bcd2a"
      },
      "source": [
        "ewm_loss = 0\n",
        "model.train()\n",
        "cleanup()\n",
        "\n",
        "for epoch in trange(10):\n",
        "    tq = tqdm(loaders['train'])\n",
        "    \n",
        "    for i, batch in enumerate(tq):\n",
        "        \n",
        "        if i % report_step == 0:\n",
        "            model.eval()\n",
        "            eval_loss = evaluate_model(model, loaders['val'])\n",
        "            model.train()\n",
        "            print(f'epoch {epoch}, step {i}: train loss: {ewm_loss:4.4f}  val auc: {eval_loss}')\n",
        "            cleanup()\n",
        "        \n",
        "        try:\n",
        "            batch = batch.to(model.device)\n",
        "            output = model(**batch)\n",
        "            loss = output.loss\n",
        "            loss.backward()\n",
        "        except RuntimeError as e:\n",
        "            print('error on step', i, e)\n",
        "            loss = None\n",
        "            cleanup()\n",
        "            continue\n",
        "\n",
        "        if i and i % gradient_accumulation_steps == 0:\n",
        "            optimizer.step()\n",
        "            optimizer.zero_grad()\n",
        "            \n",
        "        if i % cleanup_step == 0:\n",
        "            cleanup()\n",
        "\n",
        "        w = 1 / min(i+1, window)\n",
        "        ewm_loss = ewm_loss * (1-w) + loss.item() * w\n",
        "        tq.set_description(f'loss: {ewm_loss:4.4f}')\n"
      ],
      "execution_count": null,
      "outputs": [
        {
          "output_type": "display_data",
          "data": {
            "application/vnd.jupyter.widget-view+json": {
              "model_id": "ca30e267389c43dbbe5e329a005f7e56",
              "version_minor": 0,
              "version_major": 2
            },
            "text/plain": [
              "  0%|          | 0/10 [00:00<?, ?it/s]"
            ]
          },
          "metadata": {}
        },
        {
          "output_type": "display_data",
          "data": {
            "application/vnd.jupyter.widget-view+json": {
              "model_id": "b296def42b4140b9b0d5979da5f409cb",
              "version_minor": 0,
              "version_major": 2
            },
            "text/plain": [
              "  0%|          | 0/139 [00:00<?, ?it/s]"
            ]
          },
          "metadata": {}
        },
        {
          "output_type": "display_data",
          "data": {
            "application/vnd.jupyter.widget-view+json": {
              "model_id": "320afccf3b054183933aa1dbaeea3678",
              "version_minor": 0,
              "version_major": 2
            },
            "text/plain": [
              "  0%|          | 0/16 [00:00<?, ?it/s]"
            ]
          },
          "metadata": {}
        },
        {
          "output_type": "stream",
          "name": "stdout",
          "text": [
            "epoch 0, step 0: train loss: 0.0000  val auc: {'recall_negative': 0.5, 'recall_none': 0.2777777777777778, 'recall_positive': 0.9634146341463414, 'macro_recall': 0.580397470641373, 'macro_f': 0.6251239611704728, 'accuracy': 0.7698412698412699}\n"
          ]
        },
        {
          "output_type": "display_data",
          "data": {
            "application/vnd.jupyter.widget-view+json": {
              "model_id": "1ae676c4afb540f6946a3ba94e21883f",
              "version_minor": 0,
              "version_major": 2
            },
            "text/plain": [
              "  0%|          | 0/139 [00:00<?, ?it/s]"
            ]
          },
          "metadata": {}
        },
        {
          "output_type": "display_data",
          "data": {
            "application/vnd.jupyter.widget-view+json": {
              "model_id": "650406486cd749999ab09bd6aefea026",
              "version_minor": 0,
              "version_major": 2
            },
            "text/plain": [
              "  0%|          | 0/16 [00:00<?, ?it/s]"
            ]
          },
          "metadata": {}
        },
        {
          "output_type": "stream",
          "name": "stdout",
          "text": [
            "epoch 1, step 0: train loss: 0.0512  val auc: {'recall_negative': 0.6538461538461539, 'recall_none': 0.2777777777777778, 'recall_positive': 0.9146341463414634, 'macro_recall': 0.6154193593217984, 'macro_f': 0.6396464646464647, 'accuracy': 0.7698412698412699}\n"
          ]
        },
        {
          "output_type": "display_data",
          "data": {
            "application/vnd.jupyter.widget-view+json": {
              "model_id": "4f874c1ae54747c394d1157f9c59d7e7",
              "version_minor": 0,
              "version_major": 2
            },
            "text/plain": [
              "  0%|          | 0/139 [00:00<?, ?it/s]"
            ]
          },
          "metadata": {}
        },
        {
          "output_type": "display_data",
          "data": {
            "application/vnd.jupyter.widget-view+json": {
              "model_id": "b12b8707b24e43df9df915408f6133d6",
              "version_minor": 0,
              "version_major": 2
            },
            "text/plain": [
              "  0%|          | 0/16 [00:00<?, ?it/s]"
            ]
          },
          "metadata": {}
        },
        {
          "output_type": "stream",
          "name": "stdout",
          "text": [
            "epoch 2, step 0: train loss: 0.0447  val auc: {'recall_negative': 0.5, 'recall_none': 0.2222222222222222, 'recall_positive': 0.9634146341463414, 'macro_recall': 0.5618789521228545, 'macro_f': 0.6006465384462057, 'accuracy': 0.7619047619047619}\n"
          ]
        },
        {
          "output_type": "display_data",
          "data": {
            "application/vnd.jupyter.widget-view+json": {
              "model_id": "f61f2e35e0da45458b404281e51fa6fa",
              "version_minor": 0,
              "version_major": 2
            },
            "text/plain": [
              "  0%|          | 0/139 [00:00<?, ?it/s]"
            ]
          },
          "metadata": {}
        },
        {
          "output_type": "display_data",
          "data": {
            "application/vnd.jupyter.widget-view+json": {
              "model_id": "ee05bf8081bf4ae1a87ef51bc7760cc8",
              "version_minor": 0,
              "version_major": 2
            },
            "text/plain": [
              "  0%|          | 0/16 [00:00<?, ?it/s]"
            ]
          },
          "metadata": {}
        },
        {
          "output_type": "stream",
          "name": "stdout",
          "text": [
            "epoch 3, step 0: train loss: 0.0390  val auc: {'recall_negative': 0.6538461538461539, 'recall_none': 0.3333333333333333, 'recall_positive': 0.9146341463414634, 'macro_recall': 0.6339378778403169, 'macro_f': 0.6577266922094509, 'accuracy': 0.7777777777777778}\n"
          ]
        },
        {
          "output_type": "display_data",
          "data": {
            "application/vnd.jupyter.widget-view+json": {
              "model_id": "bd3089561b6342969a27ba425ce58479",
              "version_minor": 0,
              "version_major": 2
            },
            "text/plain": [
              "  0%|          | 0/139 [00:00<?, ?it/s]"
            ]
          },
          "metadata": {}
        },
        {
          "output_type": "display_data",
          "data": {
            "application/vnd.jupyter.widget-view+json": {
              "model_id": "467888f4fc494d95bd475ab690cdb024",
              "version_minor": 0,
              "version_major": 2
            },
            "text/plain": [
              "  0%|          | 0/16 [00:00<?, ?it/s]"
            ]
          },
          "metadata": {}
        },
        {
          "output_type": "stream",
          "name": "stdout",
          "text": [
            "epoch 4, step 0: train loss: 0.0371  val auc: {'recall_negative': 0.5, 'recall_none': 0.16666666666666666, 'recall_positive': 0.9634146341463414, 'macro_recall': 0.543360433604336, 'macro_f': 0.5740994072047423, 'accuracy': 0.753968253968254}\n"
          ]
        },
        {
          "output_type": "display_data",
          "data": {
            "application/vnd.jupyter.widget-view+json": {
              "model_id": "bed02ea8e7eb47b78d969ab923fc92d5",
              "version_minor": 0,
              "version_major": 2
            },
            "text/plain": [
              "  0%|          | 0/139 [00:00<?, ?it/s]"
            ]
          },
          "metadata": {}
        },
        {
          "output_type": "display_data",
          "data": {
            "application/vnd.jupyter.widget-view+json": {
              "model_id": "0f0adc5dce094ed79202cdb3e226f551",
              "version_minor": 0,
              "version_major": 2
            },
            "text/plain": [
              "  0%|          | 0/16 [00:00<?, ?it/s]"
            ]
          },
          "metadata": {}
        },
        {
          "output_type": "stream",
          "name": "stdout",
          "text": [
            "epoch 5, step 0: train loss: 0.0479  val auc: {'recall_negative': 0.5769230769230769, 'recall_none': 0.3333333333333333, 'recall_positive': 0.926829268292683, 'macro_recall': 0.6123618928496977, 'macro_f': 0.6427338355304456, 'accuracy': 0.7698412698412699}\n"
          ]
        }
      ]
    },
    {
      "cell_type": "markdown",
      "metadata": {
        "id": "VcQ48hVLaY0d"
      },
      "source": [
        "После ещё 15 эпох можешь уже неплохо выучивает обучающую выборку, но всё ещё очень плоха на валидационной\n",
        "\n",
        "```\n",
        "{'recall_NONE': 0.9459459459459459, 'recall_SAFE': 1.0, 'recall_negative': 0.9056603773584906, 'recall_positive': 1.0, 'macro_recall': 0.9629015808261092, 'macro_f': 0.9478770967414829, 'accuracy': 0.9820971867007673}\n",
        "\n",
        "{'recall_NONE': 0.25, 'recall_SAFE': 0.3333333333333333, 'recall_negative': 0.5882352941176471, 'recall_positive': 0.9571428571428572, 'macro_recall': 0.5321778711484594, 'macro_f': 0.5709750072653298, 'accuracy': 0.8163265306122449}\n",
        "```\n",
        "\n",
        "Если я размораживаю все слои и уменьшаю LR до 1e-5 на втором шаге, получаю модель чуть менее переобученную после 15 эпох. \n",
        "```\n",
        "{'recall_NONE': 0.8648648648648649, 'recall_SAFE': 0.875, 'recall_negative': 0.9811320754716981, 'recall_positive': 0.9863481228668942, 'macro_recall': 0.9268362658008642, 'macro_f': 0.9144525563227006, 'accuracy': 0.9718670076726342}\n",
        "\n",
        "{'recall_NONE': 0.25, 'recall_SAFE': 0.3333333333333333, 'recall_negative': 0.5882352941176471, 'recall_positive': 0.9285714285714286, 'macro_recall': 0.5250350140056022, 'macro_f': 0.5525761594727112, 'accuracy': 0.7959183673469388}\n",
        "```\n",
        "\n",
        "Если в таком режиме пофайнтюнить целых 45 эпох (всего 45: 15 с замороженными слоями + 30 полностью), на обучающей выборке качество растёт, а на тестовой уже кажется оверфит. \n",
        "\n",
        "```\n",
        "{'recall_NONE': 1.0, 'recall_SAFE': 1.0, 'recall_negative': 0.9433962264150944, 'recall_positive': 0.9897610921501706, 'macro_recall': 0.9832893296413163, 'macro_f': 0.9615717708115045, 'accuracy': 0.9846547314578005}\n",
        "\n",
        "{'recall_NONE': 0.125, 'recall_SAFE': 0.3333333333333333, 'recall_negative': 0.5294117647058824, 'recall_positive': 0.9285714285714286, 'macro_recall': 0.4790791316526611, 'macro_f': 0.506422551583842, 'accuracy': 0.7755102040816326}\n",
        "```"
      ]
    },
    {
      "cell_type": "code",
      "metadata": {
        "id": "crfdnicnKTXT"
      },
      "source": [
        "cleanup()"
      ],
      "execution_count": null,
      "outputs": []
    },
    {
      "cell_type": "code",
      "metadata": {
        "colab": {
          "base_uri": "https://localhost:8080/",
          "height": 138,
          "referenced_widgets": [
            "1232392e94b742c9b25852aeda71c438",
            "6a60d0e4ca3042cd8cbc9b029c8800e1",
            "fd804f259f614bdb881704ad30845ce0",
            "ca92a5fdc9de4082a1cf4657617bfb9c",
            "aaad548478db424b93fdf7a08b72ddf0",
            "5ad53b08ba9e4cceb7fa665f79aa1f30",
            "0fc16d5d60ef42c9b128182d0058c173",
            "c7809cb2b7ab42b9aabf9fee1b016454",
            "79a18b1d3f2441ba872b840bf0c1e4a6",
            "847fb6b5a30246578de44cac5cd4db2f",
            "971441fa11d14a38b2bf45bdce629c3e",
            "81e8db8a938f4df8a1827fa05601cf37"
          ]
        },
        "id": "dlTqzonNC1Yv",
        "outputId": "029f0ef0-b66d-4563-b74d-4c6eeeabd344"
      },
      "source": [
        "model.eval()\n",
        "train_loss = evaluate_model(model, loaders['train'])\n",
        "print(train_loss)\n",
        "\n",
        "model.eval()\n",
        "eval_loss = evaluate_model(model, loaders['val'])\n",
        "print(eval_loss)"
      ],
      "execution_count": null,
      "outputs": [
        {
          "output_type": "display_data",
          "data": {
            "application/vnd.jupyter.widget-view+json": {
              "model_id": "1232392e94b742c9b25852aeda71c438",
              "version_minor": 0,
              "version_major": 2
            },
            "text/plain": [
              "  0%|          | 0/139 [00:00<?, ?it/s]"
            ]
          },
          "metadata": {}
        },
        {
          "output_type": "stream",
          "name": "stdout",
          "text": [
            "{'recall_negative': 0.9781746031746031, 'recall_none': 0.9914529914529915, 'recall_positive': 0.9784366576819407, 'macro_recall': 0.9826880841031785, 'macro_f': 0.9786874380018267, 'accuracy': 0.9810640216411182}\n"
          ]
        },
        {
          "output_type": "display_data",
          "data": {
            "application/vnd.jupyter.widget-view+json": {
              "model_id": "81e8db8a938f4df8a1827fa05601cf37",
              "version_minor": 0,
              "version_major": 2
            },
            "text/plain": [
              "  0%|          | 0/16 [00:00<?, ?it/s]"
            ]
          },
          "metadata": {}
        },
        {
          "output_type": "stream",
          "name": "stdout",
          "text": [
            "{'recall_negative': 0.5, 'recall_none': 0.2777777777777778, 'recall_positive': 0.9634146341463414, 'macro_recall': 0.580397470641373, 'macro_f': 0.6251239611704728, 'accuracy': 0.7698412698412699}\n"
          ]
        }
      ]
    },
    {
      "cell_type": "code",
      "metadata": {
        "id": "JYccuW-aWeMD",
        "colab": {
          "base_uri": "https://localhost:8080/",
          "height": 138,
          "referenced_widgets": [
            "068ed6d91c74469a85c7724b5edcc3f8",
            "1b669e39ab04490dbcbbacf7d60b1efc",
            "9a4fa73b18d04251a5e49978fabe719b",
            "11fb653aa8df430a93123309d9855790",
            "3d096aae6bc74a08805b0157674b72f6",
            "e08aa5ab058d4c8492379ff75347b089",
            "25a28e41bb42447fb09f4f37eea06640",
            "984f043aec494fa9bb09f1de1f3d1634",
            "7e278f41f80b4a2e8524218e91851af2",
            "3b09352c2061449dbac1eac902534b98",
            "6ec830af673b48d798752388807eae10",
            "21ffc74d1e094609b0c3393ddc01efe9",
            "016244cb7aee4dc186a19a18aa3a5874",
            "75ae1a31791c48a29beb4fc1ae05e610",
            "f576668e080a4037b1d16e914d251f8f",
            "69a04208d6b448b98a879be2bc4dcbeb",
            "d2740e5efa5f4f9bb0113f3152c80d19",
            "69d05989e8864c10a565f06aeabe910e",
            "49c28a8e3b60490ea68189c4ea34ac94",
            "6007cafbd3194c5b93e9b72503d6f169",
            "2345f6c3cb404eaa85519ef9e2047d8b",
            "d2bdb790a0b44311b83c73b00444f6c0"
          ]
        },
        "outputId": "b8faa87d-15aa-40b1-8031-537f797a600c"
      },
      "source": [
        "# Current best\n",
        "model.eval()\n",
        "train_loss = evaluate_model(model, loaders['train'])\n",
        "print(train_loss)\n",
        "\n",
        "model.eval()\n",
        "eval_loss = evaluate_model(model, loaders['val'])\n",
        "print(eval_loss)"
      ],
      "execution_count": null,
      "outputs": [
        {
          "output_type": "display_data",
          "data": {
            "application/vnd.jupyter.widget-view+json": {
              "model_id": "068ed6d91c74469a85c7724b5edcc3f8",
              "version_minor": 0,
              "version_major": 2
            },
            "text/plain": [
              "  0%|          | 0/19 [00:00<?, ?it/s]"
            ]
          },
          "metadata": {}
        },
        {
          "output_type": "stream",
          "name": "stdout",
          "text": [
            "{'recall_negative': 1.0, 'recall_none': 1.0, 'recall_positive': 1.0, 'macro_recall': 1.0, 'macro_f': 1.0, 'accuracy': 1.0}\n"
          ]
        },
        {
          "output_type": "display_data",
          "data": {
            "application/vnd.jupyter.widget-view+json": {
              "model_id": "21ffc74d1e094609b0c3393ddc01efe9",
              "version_minor": 0,
              "version_major": 2
            },
            "text/plain": [
              "  0%|          | 0/5 [00:00<?, ?it/s]"
            ]
          },
          "metadata": {}
        },
        {
          "output_type": "stream",
          "name": "stdout",
          "text": [
            "{'recall_negative': 0.8571428571428571, 'recall_none': 0.7272727272727273, 'recall_positive': 0.5384615384615384, 'macro_recall': 0.7076257076257075, 'macro_f': 0.701010101010101, 'accuracy': 0.7105263157894737}\n"
          ]
        }
      ]
    },
    {
      "cell_type": "code",
      "metadata": {
        "colab": {
          "base_uri": "https://localhost:8080/"
        },
        "id": "6HQeaJEqKXwa",
        "outputId": "6b06dbc0-a451-4a4a-b994-65aa713daa07"
      },
      "source": [
        "model_name = 'bert-effect-classifier_3_20211010'\n",
        "\n",
        "model.save_pretrained(model_name)\n",
        "tokenizer.save_pretrained(model_name)"
      ],
      "execution_count": null,
      "outputs": [
        {
          "output_type": "execute_result",
          "data": {
            "text/plain": [
              "('bert-effect-classifier_3_20211010/tokenizer_config.json',\n",
              " 'bert-effect-classifier_3_20211010/special_tokens_map.json',\n",
              " 'bert-effect-classifier_3_20211010/vocab.txt',\n",
              " 'bert-effect-classifier_3_20211010/added_tokens.json',\n",
              " 'bert-effect-classifier_3_20211010/tokenizer.json')"
            ]
          },
          "metadata": {},
          "execution_count": 74
        }
      ]
    },
    {
      "cell_type": "code",
      "metadata": {
        "id": "VUa1JQH6g39K",
        "colab": {
          "base_uri": "https://localhost:8080/"
        },
        "outputId": "2a1caa3a-056b-4030-eb3b-a43634307911"
      },
      "source": [
        "!zip -r 'drive/MyDrive/bert-effect-classifier_3_20211010.zip' 'bert-effect-classifier_3_20211010/'"
      ],
      "execution_count": null,
      "outputs": [
        {
          "output_type": "stream",
          "name": "stdout",
          "text": [
            "  adding: bert-effect-classifier_3_20211010/ (stored 0%)\n",
            "  adding: bert-effect-classifier_3_20211010/vocab.txt (deflated 49%)\n",
            "  adding: bert-effect-classifier_3_20211010/tokenizer.json (deflated 57%)\n",
            "  adding: bert-effect-classifier_3_20211010/pytorch_model.bin (deflated 7%)\n",
            "  adding: bert-effect-classifier_3_20211010/special_tokens_map.json (deflated 40%)\n",
            "  adding: bert-effect-classifier_3_20211010/tokenizer_config.json (deflated 42%)\n",
            "  adding: bert-effect-classifier_3_20211010/config.json (deflated 51%)\n"
          ]
        }
      ]
    },
    {
      "cell_type": "code",
      "metadata": {
        "colab": {
          "base_uri": "https://localhost:8080/",
          "height": 138,
          "referenced_widgets": [
            "880aabd05a684812959e7efc66b8661b",
            "99649994448d412dab2dad749f2c3c96",
            "ebc27bf9630e45e298f8bff9493640a8",
            "c22c1c93c7664bd8bee724ec1b6cdaa4",
            "10aa4b125ad447aa96c4e5762eafa9bb",
            "67991496839e4641ac90a926a8f5449d",
            "4a9832c48e1c4160b2f51357e18c6f5e",
            "8b26138e3b9941e9ad089e67f09a8a4b",
            "9f606f1e35cb4c2aa769376091c85945",
            "71d2a4012f734b16b93ea9ab7b014cbd",
            "d60a2ddb750d446982c87cda0db0feca",
            "f48630f0f3dc4e7ca34f8f3923172495",
            "d16bb9650c8141c4ad3fe59612cd602d",
            "1961c47f27104ab5850957f16fb10648",
            "9507902a1f1b4316bafa985e1bb2d74f",
            "f5e64582e20641e095f812afd394140f",
            "21ba1f6567df4b7294f0bcccd15441b7",
            "91183c6953914ef1863acc9b54350cff",
            "0aa183c696b94ac2b6318b2d1af2762b",
            "ba044482057247adbc7a1f7fef9c5c0b",
            "8b621f5ee82348c38b84b6af99a0e3a5",
            "d954d708f0e8478cbbead2d31d0df18d"
          ]
        },
        "id": "-I_ZugtjXHf4",
        "outputId": "ea4b4969-eb4b-41b0-bfe2-da678e5ffe0a"
      },
      "source": [
        "model.eval()\n",
        "train_loss = evaluate_model(model, loaders['train'])\n",
        "print(train_loss)\n",
        "eval_loss = evaluate_model(model, loaders['val'])\n",
        "print(eval_loss)"
      ],
      "execution_count": null,
      "outputs": [
        {
          "output_type": "display_data",
          "data": {
            "application/vnd.jupyter.widget-view+json": {
              "model_id": "880aabd05a684812959e7efc66b8661b",
              "version_minor": 0,
              "version_major": 2
            },
            "text/plain": [
              "  0%|          | 0/19 [00:00<?, ?it/s]"
            ]
          },
          "metadata": {}
        },
        {
          "output_type": "stream",
          "name": "stdout",
          "text": [
            "{'recall_negative': 1.0, 'recall_none': 1.0, 'recall_positive': 1.0, 'macro_recall': 1.0, 'macro_f': 1.0, 'accuracy': 1.0}\n"
          ]
        },
        {
          "output_type": "display_data",
          "data": {
            "application/vnd.jupyter.widget-view+json": {
              "model_id": "f48630f0f3dc4e7ca34f8f3923172495",
              "version_minor": 0,
              "version_major": 2
            },
            "text/plain": [
              "  0%|          | 0/5 [00:00<?, ?it/s]"
            ]
          },
          "metadata": {}
        },
        {
          "output_type": "stream",
          "name": "stdout",
          "text": [
            "{'recall_negative': 0.8571428571428571, 'recall_none': 0.7272727272727273, 'recall_positive': 0.5384615384615384, 'macro_recall': 0.7076257076257075, 'macro_f': 0.701010101010101, 'accuracy': 0.7105263157894737}\n"
          ]
        }
      ]
    },
    {
      "cell_type": "code",
      "metadata": {
        "id": "GApJrQgGKQ5c"
      },
      "source": [
        "cleanup()"
      ],
      "execution_count": null,
      "outputs": []
    },
    {
      "cell_type": "code",
      "metadata": {
        "colab": {
          "base_uri": "https://localhost:8080/",
          "height": 48,
          "referenced_widgets": [
            "7c242a1656d04ecf9ae4b4cc2f85f6d6",
            "c71f8d6d0b2c427782d0a1667ed7ca5c",
            "a454601e2ced49718c6ba24836e0d9b2",
            "84ca3d3ed9a2499f8c20057fbc410a3d",
            "dc1ba3fdf2ff4fdebe2dabcca81d6bf1",
            "abd251b1c29c49a5a761520aba1f7ad0",
            "95086a6addae4010b6f14b4494b04281",
            "30255642ae30438ea3e9c5b8df9e20cf",
            "cc5d03ad6dc04aefa35ef6a46a76b01d",
            "448233863f1e45de83fd4bf9fa072a73",
            "8483f10f97dc48c59b4bc38b4865e1f2"
          ]
        },
        "id": "o1oTgNW_aRd_",
        "outputId": "9671e13b-2ec5-4eb9-8b6d-1eab7201ffed"
      },
      "source": [
        "facts, preds = batched_predict(model, loaders['val'])"
      ],
      "execution_count": null,
      "outputs": [
        {
          "output_type": "display_data",
          "data": {
            "application/vnd.jupyter.widget-view+json": {
              "model_id": "7c242a1656d04ecf9ae4b4cc2f85f6d6",
              "version_minor": 0,
              "version_major": 2
            },
            "text/plain": [
              "  0%|          | 0/5 [00:00<?, ?it/s]"
            ]
          },
          "metadata": {}
        }
      ]
    },
    {
      "cell_type": "code",
      "metadata": {
        "colab": {
          "base_uri": "https://localhost:8080/",
          "height": 287
        },
        "id": "JR5zcNPta30i",
        "outputId": "b441f8f6-e51b-474e-dc24-aff9ef89c751"
      },
      "source": [
        "pd.DataFrame(preds).describe()"
      ],
      "execution_count": null,
      "outputs": [
        {
          "output_type": "execute_result",
          "data": {
            "text/html": [
              "<div>\n",
              "<style scoped>\n",
              "    .dataframe tbody tr th:only-of-type {\n",
              "        vertical-align: middle;\n",
              "    }\n",
              "\n",
              "    .dataframe tbody tr th {\n",
              "        vertical-align: top;\n",
              "    }\n",
              "\n",
              "    .dataframe thead th {\n",
              "        text-align: right;\n",
              "    }\n",
              "</style>\n",
              "<table border=\"1\" class=\"dataframe\">\n",
              "  <thead>\n",
              "    <tr style=\"text-align: right;\">\n",
              "      <th></th>\n",
              "      <th>0</th>\n",
              "      <th>1</th>\n",
              "      <th>2</th>\n",
              "    </tr>\n",
              "  </thead>\n",
              "  <tbody>\n",
              "    <tr>\n",
              "      <th>count</th>\n",
              "      <td>38.000000</td>\n",
              "      <td>38.000000</td>\n",
              "      <td>38.000000</td>\n",
              "    </tr>\n",
              "    <tr>\n",
              "      <th>mean</th>\n",
              "      <td>0.384114</td>\n",
              "      <td>0.324940</td>\n",
              "      <td>0.290946</td>\n",
              "    </tr>\n",
              "    <tr>\n",
              "      <th>std</th>\n",
              "      <td>0.401966</td>\n",
              "      <td>0.326484</td>\n",
              "      <td>0.332773</td>\n",
              "    </tr>\n",
              "    <tr>\n",
              "      <th>min</th>\n",
              "      <td>0.010637</td>\n",
              "      <td>0.014188</td>\n",
              "      <td>0.009193</td>\n",
              "    </tr>\n",
              "    <tr>\n",
              "      <th>25%</th>\n",
              "      <td>0.020725</td>\n",
              "      <td>0.044246</td>\n",
              "      <td>0.062238</td>\n",
              "    </tr>\n",
              "    <tr>\n",
              "      <th>50%</th>\n",
              "      <td>0.129437</td>\n",
              "      <td>0.144005</td>\n",
              "      <td>0.132419</td>\n",
              "    </tr>\n",
              "    <tr>\n",
              "      <th>75%</th>\n",
              "      <td>0.770173</td>\n",
              "      <td>0.618868</td>\n",
              "      <td>0.394548</td>\n",
              "    </tr>\n",
              "    <tr>\n",
              "      <th>max</th>\n",
              "      <td>0.976221</td>\n",
              "      <td>0.934185</td>\n",
              "      <td>0.947159</td>\n",
              "    </tr>\n",
              "  </tbody>\n",
              "</table>\n",
              "</div>"
            ],
            "text/plain": [
              "               0          1          2\n",
              "count  38.000000  38.000000  38.000000\n",
              "mean    0.384114   0.324940   0.290946\n",
              "std     0.401966   0.326484   0.332773\n",
              "min     0.010637   0.014188   0.009193\n",
              "25%     0.020725   0.044246   0.062238\n",
              "50%     0.129437   0.144005   0.132419\n",
              "75%     0.770173   0.618868   0.394548\n",
              "max     0.976221   0.934185   0.947159"
            ]
          },
          "metadata": {},
          "execution_count": 88
        }
      ]
    },
    {
      "cell_type": "markdown",
      "metadata": {
        "id": "UplcGb7o-jdv"
      },
      "source": [
        "ROC AUC by class was in the first setting:\n",
        "\n",
        "```\n",
        "0.7694444444444444\n",
        "0.7894736842105263\n",
        "0.860566448801743\n",
        "0.8525510204081633\n",
        "```\n",
        "\n",
        "with longer and slower fine-tuning it is\n",
        "```\n",
        "0.7555555555555556\n",
        "0.8035087719298246\n",
        "0.8765432098765432\n",
        "0.8785714285714286\n",
        "```"
      ]
    },
    {
      "cell_type": "code",
      "metadata": {
        "colab": {
          "base_uri": "https://localhost:8080/"
        },
        "id": "otd-EKITa0_b",
        "outputId": "00b508e8-6037-4430-e2ea-b3f1bee6b4ef"
      },
      "source": [
        "for i in range(3):\n",
        "    print(roc_auc_score(facts==i, preds[:, i]))    "
      ],
      "execution_count": null,
      "outputs": [
        {
          "output_type": "stream",
          "name": "stdout",
          "text": [
            "0.8988095238095238\n",
            "0.8080808080808081\n",
            "0.8492307692307692\n"
          ]
        }
      ]
    },
    {
      "cell_type": "markdown",
      "metadata": {
        "id": "-FKNxAxYbbpt"
      },
      "source": [
        "Previous results are (on another train/test split) the following:\n",
        "\n",
        "so the current model is not so bad (although it can be much, much better)."
      ]
    },
    {
      "cell_type": "code",
      "metadata": {
        "colab": {
          "base_uri": "https://localhost:8080/"
        },
        "id": "rwJYlxfRb3qB",
        "outputId": "eaa57989-e3d1-46e4-a652-688bb9d7fb4e"
      },
      "source": [
        "print('positive recall', 80 / (80+3+7))\n",
        "print('negative recall', 19 / (12+19+7))\n",
        "print('none     recall', 19 / (7 +4+19))\n",
        "\n",
        "print('accuracy', (80 + 19 + 19) / ((80+3+7) + (12+19+7) + (7 +4+19)))"
      ],
      "execution_count": null,
      "outputs": [
        {
          "output_type": "stream",
          "text": [
            "positive recall 0.8888888888888888\n",
            "negative recall 0.5\n",
            "none     recall 0.6333333333333333\n",
            "accuracy 0.7468354430379747\n"
          ],
          "name": "stdout"
        }
      ]
    },
    {
      "cell_type": "markdown",
      "metadata": {
        "id": "Ju6j9XrdXp-l"
      },
      "source": [
        "Энтропия предсказанного распределения - мера неопределённости. Чем больше она, тем модель чаще ошибается. "
      ]
    },
    {
      "cell_type": "code",
      "metadata": {
        "colab": {
          "base_uri": "https://localhost:8080/",
          "height": 264
        },
        "id": "6v0i6iC7XljX",
        "outputId": "8810cb54-cf8b-4499-a1bb-9f5cb0dec74e"
      },
      "source": [
        "entropy = pd.Series(-(np.log(preds) * preds).sum(1))\n",
        "entropy.hist();"
      ],
      "execution_count": null,
      "outputs": [
        {
          "output_type": "display_data",
          "data": {
            "image/png": "[encoded data removed]",
            "text/plain": [
              "<Figure size 432x288 with 1 Axes>"
            ]
          },
          "metadata": {
            "tags": [],
            "needs_background": "light"
          }
        }
      ]
    },
    {
      "cell_type": "code",
      "metadata": {
        "colab": {
          "base_uri": "https://localhost:8080/",
          "height": 197
        },
        "id": "U3M1wbKCXvZ_",
        "outputId": "4f775494-5556-43c5-c252-ea30c36b5416"
      },
      "source": [
        "pd.Series(preds.argmax(1)==facts).groupby(pd.qcut(entropy, 5)).aggregate([len, np.mean])"
      ],
      "execution_count": null,
      "outputs": [
        {
          "output_type": "execute_result",
          "data": {
            "text/html": [
              "<div>\n",
              "<style scoped>\n",
              "    .dataframe tbody tr th:only-of-type {\n",
              "        vertical-align: middle;\n",
              "    }\n",
              "\n",
              "    .dataframe tbody tr th {\n",
              "        vertical-align: top;\n",
              "    }\n",
              "\n",
              "    .dataframe thead th {\n",
              "        text-align: right;\n",
              "    }\n",
              "</style>\n",
              "<table border=\"1\" class=\"dataframe\">\n",
              "  <thead>\n",
              "    <tr style=\"text-align: right;\">\n",
              "      <th></th>\n",
              "      <th>len</th>\n",
              "      <th>mean</th>\n",
              "    </tr>\n",
              "  </thead>\n",
              "  <tbody>\n",
              "    <tr>\n",
              "      <th>(0.006979999999999999, 0.0127]</th>\n",
              "      <td>20</td>\n",
              "      <td>0.950000</td>\n",
              "    </tr>\n",
              "    <tr>\n",
              "      <th>(0.0127, 0.0169]</th>\n",
              "      <td>19</td>\n",
              "      <td>0.947368</td>\n",
              "    </tr>\n",
              "    <tr>\n",
              "      <th>(0.0169, 0.0353]</th>\n",
              "      <td>20</td>\n",
              "      <td>0.900000</td>\n",
              "    </tr>\n",
              "    <tr>\n",
              "      <th>(0.0353, 0.21]</th>\n",
              "      <td>19</td>\n",
              "      <td>0.684211</td>\n",
              "    </tr>\n",
              "    <tr>\n",
              "      <th>(0.21, 0.965]</th>\n",
              "      <td>20</td>\n",
              "      <td>0.400000</td>\n",
              "    </tr>\n",
              "  </tbody>\n",
              "</table>\n",
              "</div>"
            ],
            "text/plain": [
              "                                len      mean\n",
              "(0.006979999999999999, 0.0127]   20  0.950000\n",
              "(0.0127, 0.0169]                 19  0.947368\n",
              "(0.0169, 0.0353]                 20  0.900000\n",
              "(0.0353, 0.21]                   19  0.684211\n",
              "(0.21, 0.965]                    20  0.400000"
            ]
          },
          "metadata": {
            "tags": []
          },
          "execution_count": 169
        }
      ]
    },
    {
      "cell_type": "code",
      "metadata": {
        "colab": {
          "base_uri": "https://localhost:8080/"
        },
        "id": "jC-wn4HcaC7q",
        "outputId": "329c2aaf-e2f7-4c23-a558-4409b77180da"
      },
      "source": [
        "!zip -r bert-effect-classifier-20210731.zip bert-effect-classifier-20210731"
      ],
      "execution_count": null,
      "outputs": [
        {
          "output_type": "stream",
          "text": [
            "  adding: bert-effect-classifier-20210731/ (stored 0%)\n",
            "  adding: bert-effect-classifier-20210731/vocab.txt (deflated 49%)\n",
            "  adding: bert-effect-classifier-20210731/special_tokens_map.json (deflated 40%)\n",
            "  adding: bert-effect-classifier-20210731/pytorch_model.bin (deflated 7%)\n",
            "  adding: bert-effect-classifier-20210731/config.json (deflated 51%)\n",
            "  adding: bert-effect-classifier-20210731/tokenizer_config.json (deflated 42%)\n",
            "  adding: bert-effect-classifier-20210731/tokenizer.json (deflated 57%)\n"
          ],
          "name": "stdout"
        }
      ]
    },
    {
      "cell_type": "markdown",
      "metadata": {
        "id": "SoLv5o5Ub5a2"
      },
      "source": [
        "# Сбор выборки на разметку\n",
        "\n",
        "Задача - разметить 1000 новых наблюдений, с соблюдением следующих критериев:\n",
        "\n",
        "1. Должно быть размечено довольно много статей с каждым из 4 эффектов (хотя бы по 150 с каждым эффектом)\n",
        "2. В выборку должны попасть в основном статьи, для которых текущая модель не очень уверена. "
      ]
    },
    {
      "cell_type": "code",
      "metadata": {
        "colab": {
          "base_uri": "https://localhost:8080/"
        },
        "id": "K_SVU38QTA2B",
        "outputId": "e063d5df-ef4f-46c0-f168-e0430238022b"
      },
      "source": [
        "unlabeled = pd.read_csv('export-2.csv')\n",
        "print(unlabeled.shape)\n",
        "already = set(data.PMID)\n",
        "unlabeled = unlabeled[unlabeled.PMID.apply(lambda x: x not in already)]\n",
        "print(unlabeled.shape)\n",
        "unlabeled.dropna(subset=['Abstract'], inplace=True)\n",
        "print(unlabeled.shape)"
      ],
      "execution_count": null,
      "outputs": [
        {
          "output_type": "stream",
          "text": [
            "(6773, 26)\n",
            "(6159, 26)\n",
            "(6044, 26)\n"
          ],
          "name": "stdout"
        }
      ]
    },
    {
      "cell_type": "code",
      "metadata": {
        "id": "miNoPOVXY_Mb"
      },
      "source": [
        "drugs_full_confident_list ={'delta-9-cis-tetrahydrocannabinol', 'cannabichromanon', 'cbc-v', 'cbf', 'cbem', 'cbla', 'delta-9-tetrahydrocannabinolic acid-c4', 'cannabidiolic acid', 'delta-9-tetrahydrocannabinolic acid a', 'cannabitriol', 'thcv', '8,9-dihydroxy-delta-6a-tetrahydrocannabinol', 'cannabivarin', 'cbnm-c5', 'cannabidivarinic acid', 'cbdv', 'cbe', 'cbr', 'cannabinol-c2', 'cbga', 'cannabichromevarinic acid', 'cannabidivarin', 'cbcf', 'cannabielsoin monomethylether', 'cbda', 'cannabicyclol', 'cbna', 'cbca', 'cbd-c4', 'cannabiorcool', 'delta-9-tetrahydrocannabinol-c4', 'cbgam', 'othc', 'oh-iso-hhcv', 'cannabigerolic acid', 'cbn-c1', 'cannabicyclolic acid', 'dcbf', 'cannabielsoic acid b', 'cannabielsoin', 'cbdm', 'delta-9-tetrahydrocannabinolic acid b', 'cannabicyclovarin', 'δ8-thc', 'delta-9-tetrahydrocannabiorcolic acid', 'cbv', 'cbgva', 'cbd-c1', 'cannabinol methylether', 'cbea-b', 'cbn-c3', 'cbg', 'cbtv', 'cannabigerolic acid monomethylether', 'cannabinolic acid-c5 a', 'thc-a', 'cbnv', 'cannabinol methylether-c5', 'delta-8-tetrahydrocannabinolic acid', 'cannabichromenic acid', 'thca-b', 'delta-9-tetrahydrocannabivarinic acid', 'cbgv', 'thc', 'delta-9-tetrahydrocannabiorcol', 'cblv', 'cannabidiol-c4', 'tetrahydrocannabinol', 'cbnd-c3', 'cis-thc', 'cbd-v', 'δ8-thca', 'cannabidiol', 'cbd-c5', 'tetrahydrocannabivarin', 'trioh-thc', '10-oxo-delta-6a-tetrahydrocannabinol', 'cbea-a', 'cannabichromevarin', 'cbdva', 'cannabinolic acid', 'cannabigerovarin', 'cannabinodiol-c3', 'thca', 'cbn', 'cbcv', 'cannabigerol monomethylether', 'cbl', 'thc-c1', 'cbvd', 'cannabichromene', 'cbna-c5 a', 'd9-thcv', 'cbnd', 'delta-9-tetrahydrocannabivarin', 'tetrahydrocannabinolic acid', 'cbt', 'cbc', 'delta-8-tetrahydrocannabinol', 'cbg-v', 'dehydrocannabifuran', 'cbd', 'thc-v', 'cannabiglendol', 'cannabinol-c3', 'cannabinol-c4', 'cbnm', 'cannabigerol', 'cannabitriolvarin', 'tryhydroxy-delta-9-tetrahydrocannabinol', 'd9-thcva', 'cannabidiol monomethyl', 'thca-a', 'cbcva', 'cbgm', 'cannabielsoin acid a', 'cannabinodivarin', 'thcva', 'cannabinovarin', 'thc-c4', 'cannabinodiol i', 'cannabidiol-c5', 'cannabinol', 'cannabigerovarinic acid', '10-ethoxy-9-hydroxy-delta-6a-tetrahydrocannabinol', 'thca-c1', 'cannabifuran', 'cannabiripsol', 'cbn-c2', 'cannabidiorcol', 'thca-c4', 'cbn-c4'}\n"
      ],
      "execution_count": null,
      "outputs": []
    },
    {
      "cell_type": "code",
      "metadata": {
        "id": "PpWbT1jBTDpz"
      },
      "source": [
        "unlabeled['text_lhs'] = unlabeled.apply(lambda row: f'Compound: {row.Compound}; Indication: {row.Indication}', axis=1)\n",
        "unlabeled['text_rhs'] = unlabeled.apply(lambda row: f'Title: {row[\"Article Name\"]}\\n{get_abstact_text(row.Abstract)}', axis=1)"
      ],
      "execution_count": null,
      "outputs": []
    },
    {
      "cell_type": "code",
      "metadata": {
        "colab": {
          "base_uri": "https://localhost:8080/"
        },
        "id": "xLTMvObzZMqd",
        "outputId": "f6afef6a-179b-4fc6-edad-479ae0ddd214"
      },
      "source": [
        "filter1 = unlabeled.text_rhs.str.lower().str.contains('canna')\n",
        "filter2 = unlabeled.text_rhs.apply(lambda x: any(drug in x.lower() for drug in drugs_full_confident_list))\n",
        "\n",
        "print(filter1.sum(), filter2.sum(), (filter1 & filter2).sum())"
      ],
      "execution_count": null,
      "outputs": [
        {
          "output_type": "stream",
          "text": [
            "6043 5088 5088\n"
          ],
          "name": "stdout"
        }
      ]
    },
    {
      "cell_type": "code",
      "metadata": {
        "id": "-xZsRTqWZjsv"
      },
      "source": [
        "unlabeled_filtered = unlabeled[filter1 & filter2].copy()"
      ],
      "execution_count": null,
      "outputs": []
    },
    {
      "cell_type": "code",
      "metadata": {
        "colab": {
          "base_uri": "https://localhost:8080/",
          "height": 49,
          "referenced_widgets": [
            "be0ea0f8c4b2476cb80567cd4bc04686",
            "f6c4871491fd4976a245fbc6264f41f3",
            "df879278db3c41e48c36ed1ff27a7e8c",
            "b708bbcb80d24c8eb8d0f43eb8ab1806",
            "2601c614eeb94e159ad8a3003616426d",
            "10c229093b3a45059797d12bec458a2a",
            "2b5414686d4346ccbc6e731a24d53bc1",
            "5c4d6538f2cb42f39add22bf90c62fe8",
            "6cc547d151d2410a87f798382ff37b5a",
            "b3321523ffc94f69b64350e9b8677af1",
            "e717798dba4b471c8b91ee9299a1a6e1"
          ]
        },
        "id": "lwqZDJ2vT1FX",
        "outputId": "da145a95-e1a0-4722-ebc6-06406864ca77"
      },
      "source": [
        "un_dataset = Dataset.from_dict({\n",
        "    'text1': unlabeled_filtered.text_lhs,\n",
        "    'text2': unlabeled_filtered.text_rhs,\n",
        "    'label': unlabeled_filtered.Effect.apply(lambda x: all_labels.index(x))\n",
        "}).map(tokenize, batched=True)"
      ],
      "execution_count": null,
      "outputs": [
        {
          "output_type": "display_data",
          "data": {
            "application/vnd.jupyter.widget-view+json": {
              "model_id": "be0ea0f8c4b2476cb80567cd4bc04686",
              "version_minor": 0,
              "version_major": 2
            },
            "text/plain": [
              "  0%|          | 0/6 [00:00<?, ?ba/s]"
            ]
          },
          "metadata": {
            "tags": []
          }
        }
      ]
    },
    {
      "cell_type": "code",
      "metadata": {
        "id": "miW_kIZkUDrG"
      },
      "source": [
        "un_dataloader = DataLoader(\n",
        "    un_dataset.remove_columns(['text1', 'text2']), \n",
        "    batch_size=batch_size, \n",
        "    drop_last=False, \n",
        "    shuffle=True, \n",
        "    num_workers=1, \n",
        "    collate_fn=data_collator\n",
        ")"
      ],
      "execution_count": null,
      "outputs": []
    },
    {
      "cell_type": "code",
      "metadata": {
        "colab": {
          "base_uri": "https://localhost:8080/",
          "height": 49,
          "referenced_widgets": [
            "57fe4c47f02a4eb382181a7883e23d72",
            "2d141da4be454bd1a2157e3a758e2666",
            "060b78de031447ab9badb3f2c80f1a0d",
            "6be981a2fba040d689d67a68e8d5c03a",
            "3d58127332074c369e5e41032f923805",
            "af92016ec30f496a81462f3093782bc9",
            "d2223aca936845969f8ea60563905657",
            "22d8580c8c534237a8524bb75821b442",
            "d08fe386cc364f82a73fe733727e88ea",
            "af53fa316d0047bd9d922c5d2a39654a",
            "d0eb119411c1431e935fdd8428737854"
          ]
        },
        "id": "qKwWzK3HTvNs",
        "outputId": "f6200d9a-8598-4934-9efe-0f782c7cb91c"
      },
      "source": [
        "new_labels, new_pred = batched_predict(model, un_dataloader)"
      ],
      "execution_count": null,
      "outputs": [
        {
          "output_type": "display_data",
          "data": {
            "application/vnd.jupyter.widget-view+json": {
              "model_id": "57fe4c47f02a4eb382181a7883e23d72",
              "version_minor": 0,
              "version_major": 2
            },
            "text/plain": [
              "  0%|          | 0/318 [00:00<?, ?it/s]"
            ]
          },
          "metadata": {
            "tags": []
          }
        }
      ]
    },
    {
      "cell_type": "code",
      "metadata": {
        "colab": {
          "base_uri": "https://localhost:8080/"
        },
        "id": "SchMqIiRU3GN",
        "outputId": "dce6782c-0f71-460d-d05f-e03500821648"
      },
      "source": [
        "pd.Series(new_pred.argmax(1)).value_counts()"
      ],
      "execution_count": null,
      "outputs": [
        {
          "output_type": "execute_result",
          "data": {
            "text/plain": [
              "3    3465\n",
              "2    1519\n",
              "0     104\n",
              "dtype: int64"
            ]
          },
          "metadata": {
            "tags": []
          },
          "execution_count": 205
        }
      ]
    },
    {
      "cell_type": "code",
      "metadata": {
        "colab": {
          "base_uri": "https://localhost:8080/"
        },
        "id": "ve8GEpWYU84J",
        "outputId": "d5c26b16-9ad9-4014-b224-5a6e63a24fde"
      },
      "source": [
        "\n",
        "class_count = data_train.Effect.apply(lambda x: all_labels.index(x)).value_counts().sort_index().values\n",
        "print(class_count)"
      ],
      "execution_count": null,
      "outputs": [
        {
          "output_type": "stream",
          "text": [
            "[ 37   8  53 293]\n"
          ],
          "name": "stdout"
        }
      ]
    },
    {
      "cell_type": "code",
      "metadata": {
        "colab": {
          "base_uri": "https://localhost:8080/"
        },
        "id": "Lgx7WWnAU9yX",
        "outputId": "93bd0aca-1611-4b97-fdd7-c6b0257291e9"
      },
      "source": [
        "pd.Series((new_pred / class_count).argmax(1)).value_counts()"
      ],
      "execution_count": null,
      "outputs": [
        {
          "output_type": "execute_result",
          "data": {
            "text/plain": [
              "3    2915\n",
              "2    1986\n",
              "0     184\n",
              "1       3\n",
              "dtype: int64"
            ]
          },
          "metadata": {
            "tags": []
          },
          "execution_count": 207
        }
      ]
    },
    {
      "cell_type": "code",
      "metadata": {
        "colab": {
          "base_uri": "https://localhost:8080/"
        },
        "id": "1QuL87k9XAR_",
        "outputId": "d54644c6-eb85-450c-ab5f-01de890a1213"
      },
      "source": [
        "pd.Series((new_pred / class_count ** 2).argmax(1)).value_counts()"
      ],
      "execution_count": null,
      "outputs": [
        {
          "output_type": "execute_result",
          "data": {
            "text/plain": [
              "3    2357\n",
              "2    2297\n",
              "0     275\n",
              "1     159\n",
              "dtype: int64"
            ]
          },
          "metadata": {
            "tags": []
          },
          "execution_count": 208
        }
      ]
    },
    {
      "cell_type": "code",
      "metadata": {
        "colab": {
          "base_uri": "https://localhost:8080/"
        },
        "id": "M19mvcnZVLY3",
        "outputId": "8ac99265-5d8a-4f0f-8fdb-6968798e2d49"
      },
      "source": [
        "all_labels"
      ],
      "execution_count": null,
      "outputs": [
        {
          "output_type": "execute_result",
          "data": {
            "text/plain": [
              "['NONE', 'SAFE', 'negative', 'positive']"
            ]
          },
          "metadata": {
            "tags": []
          },
          "execution_count": 209
        }
      ]
    },
    {
      "cell_type": "code",
      "metadata": {
        "colab": {
          "base_uri": "https://localhost:8080/"
        },
        "id": "KiWgw62aVChQ",
        "outputId": "a56b1967-f02e-485c-ea2d-6ea45bb18eb2"
      },
      "source": [
        "(new_pred > 0.2).sum(0)"
      ],
      "execution_count": null,
      "outputs": [
        {
          "output_type": "execute_result",
          "data": {
            "text/plain": [
              "array([ 219,    1, 1963, 3952])"
            ]
          },
          "metadata": {
            "tags": []
          },
          "execution_count": 210
        }
      ]
    },
    {
      "cell_type": "code",
      "metadata": {
        "id": "jmrTHmKaVlEw"
      },
      "source": [
        "soft_pred = (new_pred / class_count).argmax(1)\n",
        "soft_pred2 = (new_pred / class_count).argmax(1)"
      ],
      "execution_count": null,
      "outputs": []
    },
    {
      "cell_type": "code",
      "metadata": {
        "colab": {
          "base_uri": "https://localhost:8080/"
        },
        "id": "DisLmH7AWK5v",
        "outputId": "7621e0ef-1e84-440b-d8fd-5d6d72563a99"
      },
      "source": [
        "len(set(\n",
        "    np.where(new_pred[:, 0] > 0.5)[0]\n",
        "))"
      ],
      "execution_count": null,
      "outputs": [
        {
          "output_type": "execute_result",
          "data": {
            "text/plain": [
              "92"
            ]
          },
          "metadata": {
            "tags": []
          },
          "execution_count": 212
        }
      ]
    },
    {
      "cell_type": "markdown",
      "metadata": {
        "id": "aKvnlAE5Xgoa"
      },
      "source": [
        "Эвристика: чем больше модель неуверена в своих предсказаниях, тем чаще она ошибается"
      ]
    },
    {
      "cell_type": "code",
      "metadata": {
        "id": "9VUaPn0xWeU2"
      },
      "source": [
        "entropy = -(np.log(new_pred) * new_pred).sum(1)"
      ],
      "execution_count": null,
      "outputs": []
    },
    {
      "cell_type": "code",
      "metadata": {
        "colab": {
          "base_uri": "https://localhost:8080/",
          "height": 283
        },
        "id": "vxoKWm1ZWksH",
        "outputId": "a5d48ed0-a7d7-4ffe-ad96-25da4628115c"
      },
      "source": [
        "pd.Series(entropy).hist()"
      ],
      "execution_count": null,
      "outputs": [
        {
          "output_type": "execute_result",
          "data": {
            "text/plain": [
              "<matplotlib.axes._subplots.AxesSubplot at 0x7ff54d8669d0>"
            ]
          },
          "metadata": {
            "tags": []
          },
          "execution_count": 214
        },
        {
          "output_type": "display_data",
          "data": {
            "image/png": "[encoded data removed]",
            "text/plain": [
              "<Figure size 432x288 with 1 Axes>"
            ]
          },
          "metadata": {
            "tags": [],
            "needs_background": "light"
          }
        }
      ]
    },
    {
      "cell_type": "code",
      "metadata": {
        "colab": {
          "base_uri": "https://localhost:8080/"
        },
        "id": "yFN7tutRWox3",
        "outputId": "eb6f8ce0-053f-4238-95b4-7e8c778d243f"
      },
      "source": [
        "print(sum(entropy>1))\n",
        "print(sum(entropy>0.8))"
      ],
      "execution_count": null,
      "outputs": [
        {
          "output_type": "stream",
          "text": [
            "56\n",
            "265\n"
          ],
          "name": "stdout"
        }
      ]
    },
    {
      "cell_type": "code",
      "metadata": {
        "colab": {
          "base_uri": "https://localhost:8080/"
        },
        "id": "UAgAdbYYVmk3",
        "outputId": "477c0a4b-f651-475a-f792-cdd4c32d5fb6"
      },
      "source": [
        "sampled_indices = set(\n",
        "    pd.Series(soft_pred2).groupby(soft_pred2).apply(lambda x: x.index.to_series().sample(300, replace=True, random_state=1)).values\n",
        ").union(set(\n",
        "    np.where(new_pred[:, 1] > 0.01)[0]\n",
        ")).union(set(\n",
        "    np.where(new_pred[:, 0] > 0.4)[0]\n",
        ")).union(set(\n",
        "    np.where(entropy >= 0.75)[0]\n",
        "))\n",
        "print(len(sampled_indices))"
      ],
      "execution_count": null,
      "outputs": [
        {
          "output_type": "stream",
          "text": [
            "1049\n"
          ],
          "name": "stdout"
        }
      ]
    },
    {
      "cell_type": "code",
      "metadata": {
        "colab": {
          "base_uri": "https://localhost:8080/"
        },
        "id": "vZBQC6jpaU9j",
        "outputId": "06edb940-be2c-4c2e-fa7f-70f1538a89a7"
      },
      "source": [
        "max(sampled_indices), unlabeled_filtered.shape"
      ],
      "execution_count": null,
      "outputs": [
        {
          "output_type": "execute_result",
          "data": {
            "text/plain": [
              "(5087, (5088, 28))"
            ]
          },
          "metadata": {
            "tags": []
          },
          "execution_count": 222
        }
      ]
    },
    {
      "cell_type": "code",
      "metadata": {
        "id": "iAsPoq7WSwvc"
      },
      "source": [
        "unlabeled_filtered.iloc[sorted(sampled_indices)].to_csv('least_confident_samples_20210731.csv')"
      ],
      "execution_count": null,
      "outputs": []
    },
    {
      "cell_type": "code",
      "metadata": {
        "id": "xDmjN6tnYgKL"
      },
      "source": [
        ""
      ],
      "execution_count": null,
      "outputs": []
    }
  ]
}